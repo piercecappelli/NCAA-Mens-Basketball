{
 "cells": [
  {
   "cell_type": "markdown",
   "id": "4dc34d4d",
   "metadata": {},
   "source": [
    "## This code takes the college basketball data and models it. It goes through the process of optimizing each model and then creates a function that outputs predicted basketball scores for a set of two schools playing each other"
   ]
  },
  {
   "cell_type": "code",
   "execution_count": 32,
   "id": "481a4dce",
   "metadata": {},
   "outputs": [],
   "source": [
    "#import packages\n",
    "from bs4 import BeautifulSoup\n",
    "import requests\n",
    "import pandas as pd\n",
    "import numpy as np\n",
    "import time\n",
    "from sklearn.ensemble import RandomForestRegressor\n",
    "from sklearn import linear_model\n",
    "from sklearn.ensemble import GradientBoostingRegressor\n",
    "from sklearn.multioutput import MultiOutputRegressor\n",
    "from sklearn.model_selection import train_test_split\n",
    "from pprint import pprint\n",
    "from sklearn.model_selection import RandomizedSearchCV\n",
    "from sklearn.model_selection import GridSearchCV\n",
    "from matplotlib import pyplot as plt"
   ]
  },
  {
   "cell_type": "code",
   "execution_count": 2,
   "id": "87c60685",
   "metadata": {},
   "outputs": [],
   "source": [
    "#create function for evaluating training models\n",
    "def evaluate(model, test_features, test_labels):\n",
    "    predictions = model.predict(test_features)\n",
    "    errors = abs(predictions - test_labels)\n",
    "    mape = 100 * np.mean(errors / test_labels)\n",
    "    accuracy = 100 - mape\n",
    "    r2 = model.score(test_features,test_labels)\n",
    "    print('Model Performance')\n",
    "    print('Average Error: {:0.4f} degrees.'.format(np.mean(errors)))\n",
    "    print('Accuracy = {:0.2f}%.'.format(accuracy))\n",
    "    print('R^2 = {:0.2f}%.'.format(r2))\n",
    "    \n",
    "    return(accuracy)\n",
    "    "
   ]
  },
  {
   "cell_type": "code",
   "execution_count": 3,
   "id": "f376fd5e",
   "metadata": {},
   "outputs": [],
   "source": [
    "#import data\n",
    "full_data = pd.read_csv(\"College Data/All Teams Data.csv\")"
   ]
  },
  {
   "cell_type": "code",
   "execution_count": 4,
   "id": "60c2f8b6",
   "metadata": {},
   "outputs": [
    {
     "data": {
      "text/plain": [
       "Index(['G', 'Date', 'Opp', 'W/L', 'Tm', 'Opp.1', 'FG', 'FGA', 'FG%', '3P',\n",
       "       '3PA', '3P%', 'FT', 'FTA', 'FT%', 'ORB', 'TRB', 'AST', 'STL', 'BLK',\n",
       "       'TOV', 'PF', 'FG.1', 'FGA.1', 'FG%.1', '3P.1', '3PA.1', '3P%.1', 'FT.1',\n",
       "       'FTA.1', 'FT%.1', 'ORB.1', 'TRB.1', 'AST.1', 'STL.1', 'BLK.1', 'TOV.1',\n",
       "       'PF.1'],\n",
       "      dtype='object')"
      ]
     },
     "execution_count": 4,
     "metadata": {},
     "output_type": "execute_result"
    }
   ],
   "source": [
    "#inspect data columns\n",
    "full_data.columns"
   ]
  },
  {
   "cell_type": "code",
   "execution_count": 5,
   "id": "20b32299",
   "metadata": {},
   "outputs": [],
   "source": [
    "full_data['eFG'] = (full_data[\"FG\"] + (0.5 * full_data['3P'])) / full_data['FGA']\n",
    "full_data['eFG.1'] = (full_data[\"FG.1\"] + (0.5 * full_data['3P.1'])) / full_data['FGA.1']\n",
    "\n",
    "full_data['TOV%'] = (full_data['TOV'] / (full_data['FGA'] + (0.44 * full_data['FTA']) + full_data['TOV'])) * 100\n",
    "full_data['TOV%.1'] = (full_data['TOV.1'] / (full_data['FGA.1'] + (0.44 * full_data['FTA.1']) + full_data['TOV.1'])) * 100\n",
    "\n",
    "full_data['ORB%'] = (full_data['ORB'])/((full_data['ORB']) + (full_data['TRB.1'] - full_data['ORB.1']))\n",
    "full_data['ORB%.1'] = (full_data['ORB.1'])/((full_data['ORB.1']) + (full_data['TRB'] - full_data['ORB']))\n",
    "\n",
    "full_data['FT/FGA'] = full_data['FT']/full_data['FGA']\n",
    "full_data['FT/FGA.1'] = full_data['FT.1']/full_data['FGA.1']\n",
    "\n",
    "full_data['DRB%'] = (full_data['TRB'] - full_data['ORB'])/((full_data['TRB'] - full_data['ORB']) + (full_data['ORB.1']))\n",
    "full_data['DRB%.1'] = (full_data['TRB'] - full_data['ORB'])/((full_data['TRB'] - full_data['ORB']) + (full_data['ORB.1']))\n",
    "\n",
    "full_data['AST%'] = full_data['AST'] / full_data['FG']\n",
    "full_data['AST%.1'] = full_data['AST.1'] / full_data['FG.1']\n",
    "\n",
    "full_data['TS%'] = 0.5 * (full_data['Tm'])/((full_data['FGA']) + 0.44 * (full_data['FTA']))\n",
    "full_data['TS%.1'] = 0.5 * (full_data['Opp.1'])/((full_data['FGA.1']) + 0.44 * (full_data['FTA.1']))\n",
    "\n",
    "full_data['3PAr'] = full_data['3PA'] / full_data['FGA']\n",
    "full_data['3PAr.1'] = full_data['3PA.1'] / full_data['FGA.1']\n",
    "\n",
    "full_data['DRB'] = full_data['TRB'] - full_data['ORB']\n",
    "full_data['DRB.1'] = full_data['TRB.1'] - full_data['ORB.1']\n",
    "\n",
    "\n",
    "\n",
    "\n",
    "full_data['POSS'] = (full_data['FGA'] - full_data['ORB']) + full_data['TOV'] + (0.44 * full_data['FTA'])\n",
    "full_data['POSS.1'] = (full_data['FGA.1'] - full_data['ORB.1']) + full_data['TOV.1'] + (0.44 * full_data['FTA.1'])\n",
    "\n",
    "\n",
    "full_data['3PAr'] = full_data['3PA'] / full_data['FGA']                           \n",
    "full_data['3PAr.1'] = full_data['3PA.1'] / full_data['FGA.1']\n",
    "\n",
    "\n",
    "full_data['OffRt'] = (full_data['Tm'] / full_data['POSS']) * 100\n",
    "full_data['OffRt.1'] = (full_data['Opp.1'] / full_data['POSS.1']) * 100\n",
    "\n",
    "full_data['DefRt'] = (full_data['Opp.1'] / full_data['POSS']) * 100\n",
    "full_data['DefRt.1'] = (full_data['Tm'] / full_data['POSS.1']) * 100"
   ]
  },
  {
   "cell_type": "code",
   "execution_count": 6,
   "id": "5cb38d1d",
   "metadata": {},
   "outputs": [
    {
     "data": {
      "text/html": [
       "<div>\n",
       "<style scoped>\n",
       "    .dataframe tbody tr th:only-of-type {\n",
       "        vertical-align: middle;\n",
       "    }\n",
       "\n",
       "    .dataframe tbody tr th {\n",
       "        vertical-align: top;\n",
       "    }\n",
       "\n",
       "    .dataframe thead th {\n",
       "        text-align: right;\n",
       "    }\n",
       "</style>\n",
       "<table border=\"1\" class=\"dataframe\">\n",
       "  <thead>\n",
       "    <tr style=\"text-align: right;\">\n",
       "      <th></th>\n",
       "      <th>G</th>\n",
       "      <th>Date</th>\n",
       "      <th>Opp</th>\n",
       "      <th>W/L</th>\n",
       "      <th>Tm</th>\n",
       "      <th>Opp.1</th>\n",
       "      <th>FG</th>\n",
       "      <th>FGA</th>\n",
       "      <th>FG%</th>\n",
       "      <th>3P</th>\n",
       "      <th>...</th>\n",
       "      <th>3PAr</th>\n",
       "      <th>3PAr.1</th>\n",
       "      <th>DRB</th>\n",
       "      <th>DRB.1</th>\n",
       "      <th>POSS</th>\n",
       "      <th>POSS.1</th>\n",
       "      <th>OffRt</th>\n",
       "      <th>OffRt.1</th>\n",
       "      <th>DefRt</th>\n",
       "      <th>DefRt.1</th>\n",
       "    </tr>\n",
       "  </thead>\n",
       "  <tbody>\n",
       "    <tr>\n",
       "      <th>0</th>\n",
       "      <td>1</td>\n",
       "      <td>2022-11-07</td>\n",
       "      <td>Jackson State</td>\n",
       "      <td>W</td>\n",
       "      <td>65</td>\n",
       "      <td>56</td>\n",
       "      <td>23</td>\n",
       "      <td>57</td>\n",
       "      <td>0.404</td>\n",
       "      <td>8</td>\n",
       "      <td>...</td>\n",
       "      <td>0.491228</td>\n",
       "      <td>0.345455</td>\n",
       "      <td>28</td>\n",
       "      <td>33</td>\n",
       "      <td>76.80</td>\n",
       "      <td>75.16</td>\n",
       "      <td>84.635417</td>\n",
       "      <td>74.507717</td>\n",
       "      <td>72.916667</td>\n",
       "      <td>86.482171</td>\n",
       "    </tr>\n",
       "    <tr>\n",
       "      <th>1</th>\n",
       "      <td>2</td>\n",
       "      <td>2022-11-11</td>\n",
       "      <td>Texas A&amp;M</td>\n",
       "      <td>L</td>\n",
       "      <td>58</td>\n",
       "      <td>77</td>\n",
       "      <td>20</td>\n",
       "      <td>52</td>\n",
       "      <td>0.385</td>\n",
       "      <td>8</td>\n",
       "      <td>...</td>\n",
       "      <td>0.346154</td>\n",
       "      <td>0.363636</td>\n",
       "      <td>15</td>\n",
       "      <td>23</td>\n",
       "      <td>68.28</td>\n",
       "      <td>68.40</td>\n",
       "      <td>84.944347</td>\n",
       "      <td>112.573099</td>\n",
       "      <td>112.770943</td>\n",
       "      <td>84.795322</td>\n",
       "    </tr>\n",
       "    <tr>\n",
       "      <th>2</th>\n",
       "      <td>3</td>\n",
       "      <td>2022-11-15</td>\n",
       "      <td>McMurry</td>\n",
       "      <td>W</td>\n",
       "      <td>104</td>\n",
       "      <td>46</td>\n",
       "      <td>41</td>\n",
       "      <td>68</td>\n",
       "      <td>0.603</td>\n",
       "      <td>5</td>\n",
       "      <td>...</td>\n",
       "      <td>0.250000</td>\n",
       "      <td>0.448980</td>\n",
       "      <td>29</td>\n",
       "      <td>13</td>\n",
       "      <td>80.68</td>\n",
       "      <td>78.60</td>\n",
       "      <td>128.904313</td>\n",
       "      <td>58.524173</td>\n",
       "      <td>57.015369</td>\n",
       "      <td>132.315522</td>\n",
       "    </tr>\n",
       "    <tr>\n",
       "      <th>3</th>\n",
       "      <td>4</td>\n",
       "      <td>2022-11-21</td>\n",
       "      <td>Wright State</td>\n",
       "      <td>L</td>\n",
       "      <td>61</td>\n",
       "      <td>77</td>\n",
       "      <td>25</td>\n",
       "      <td>58</td>\n",
       "      <td>0.431</td>\n",
       "      <td>7</td>\n",
       "      <td>...</td>\n",
       "      <td>0.379310</td>\n",
       "      <td>0.220000</td>\n",
       "      <td>20</td>\n",
       "      <td>23</td>\n",
       "      <td>79.40</td>\n",
       "      <td>75.36</td>\n",
       "      <td>76.826196</td>\n",
       "      <td>102.176221</td>\n",
       "      <td>96.977330</td>\n",
       "      <td>80.944798</td>\n",
       "    </tr>\n",
       "    <tr>\n",
       "      <th>4</th>\n",
       "      <td>5</td>\n",
       "      <td>2022-11-22</td>\n",
       "      <td>Weber State</td>\n",
       "      <td>L</td>\n",
       "      <td>67</td>\n",
       "      <td>77</td>\n",
       "      <td>26</td>\n",
       "      <td>53</td>\n",
       "      <td>0.491</td>\n",
       "      <td>9</td>\n",
       "      <td>...</td>\n",
       "      <td>0.320755</td>\n",
       "      <td>0.411765</td>\n",
       "      <td>20</td>\n",
       "      <td>21</td>\n",
       "      <td>70.84</td>\n",
       "      <td>72.00</td>\n",
       "      <td>94.579334</td>\n",
       "      <td>106.944444</td>\n",
       "      <td>108.695652</td>\n",
       "      <td>93.055556</td>\n",
       "    </tr>\n",
       "  </tbody>\n",
       "</table>\n",
       "<p>5 rows × 62 columns</p>\n",
       "</div>"
      ],
      "text/plain": [
       "   G        Date            Opp W/L   Tm  Opp.1  FG  FGA    FG%  3P  ...  \\\n",
       "0  1  2022-11-07  Jackson State   W   65     56  23   57  0.404   8  ...   \n",
       "1  2  2022-11-11      Texas A&M   L   58     77  20   52  0.385   8  ...   \n",
       "2  3  2022-11-15        McMurry   W  104     46  41   68  0.603   5  ...   \n",
       "3  4  2022-11-21   Wright State   L   61     77  25   58  0.431   7  ...   \n",
       "4  5  2022-11-22    Weber State   L   67     77  26   53  0.491   9  ...   \n",
       "\n",
       "       3PAr    3PAr.1  DRB  DRB.1   POSS  POSS.1       OffRt     OffRt.1  \\\n",
       "0  0.491228  0.345455   28     33  76.80   75.16   84.635417   74.507717   \n",
       "1  0.346154  0.363636   15     23  68.28   68.40   84.944347  112.573099   \n",
       "2  0.250000  0.448980   29     13  80.68   78.60  128.904313   58.524173   \n",
       "3  0.379310  0.220000   20     23  79.40   75.36   76.826196  102.176221   \n",
       "4  0.320755  0.411765   20     21  70.84   72.00   94.579334  106.944444   \n",
       "\n",
       "        DefRt     DefRt.1  \n",
       "0   72.916667   86.482171  \n",
       "1  112.770943   84.795322  \n",
       "2   57.015369  132.315522  \n",
       "3   96.977330   80.944798  \n",
       "4  108.695652   93.055556  \n",
       "\n",
       "[5 rows x 62 columns]"
      ]
     },
     "execution_count": 6,
     "metadata": {},
     "output_type": "execute_result"
    }
   ],
   "source": [
    "full_data.head()"
   ]
  },
  {
   "cell_type": "code",
   "execution_count": 7,
   "id": "c63eaa0a",
   "metadata": {},
   "outputs": [],
   "source": [
    "#drop unneeded columns\n",
    "fields_to_drop = ['G', 'Date', 'Opp', 'W/L', 'Tm', 'Opp.1',\n",
    "                  'FG','FGA','3P','3PA','FT','FTA',\n",
    "                  'FG.1','FGA.1','3P.1','3PA.1','FT.1','FTA.1']\n",
    "\n"
   ]
  },
  {
   "cell_type": "code",
   "execution_count": 8,
   "id": "e57cb27d",
   "metadata": {},
   "outputs": [
    {
     "name": "stderr",
     "output_type": "stream",
     "text": [
      "/var/folders/9y/pc8nlck558b1pf4sh_3_bh1h0000gn/T/ipykernel_1290/2481144508.py:2: FutureWarning: In a future version of pandas all arguments of DataFrame.drop except for the argument 'labels' will be keyword-only.\n",
      "  X = full_data.drop(fields_to_drop, 1).dropna().drop_duplicates()\n"
     ]
    }
   ],
   "source": [
    "#Create training and test data\n",
    "X = full_data.drop(fields_to_drop, 1).dropna().drop_duplicates()\n",
    "X = pd.get_dummies(X)\n",
    "y = full_data[['Tm', 'Opp.1']].values\n",
    "y = np.delete(y, 10081, axis = 0)\n",
    "y = np.delete(y, 10244, axis = 0)\n",
    "X_train, X_test, y_train, y_test = train_test_split(X, y, test_size = )"
   ]
  },
  {
   "cell_type": "code",
   "execution_count": 9,
   "id": "a91aa5e4",
   "metadata": {},
   "outputs": [],
   "source": [
    "#run a linear regression model on training data\n",
    "reg = linear_model.LinearRegression()"
   ]
  },
  {
   "cell_type": "code",
   "execution_count": 10,
   "id": "f8f5224a",
   "metadata": {},
   "outputs": [
    {
     "data": {
      "text/html": [
       "<style>#sk-container-id-1 {color: black;background-color: white;}#sk-container-id-1 pre{padding: 0;}#sk-container-id-1 div.sk-toggleable {background-color: white;}#sk-container-id-1 label.sk-toggleable__label {cursor: pointer;display: block;width: 100%;margin-bottom: 0;padding: 0.3em;box-sizing: border-box;text-align: center;}#sk-container-id-1 label.sk-toggleable__label-arrow:before {content: \"▸\";float: left;margin-right: 0.25em;color: #696969;}#sk-container-id-1 label.sk-toggleable__label-arrow:hover:before {color: black;}#sk-container-id-1 div.sk-estimator:hover label.sk-toggleable__label-arrow:before {color: black;}#sk-container-id-1 div.sk-toggleable__content {max-height: 0;max-width: 0;overflow: hidden;text-align: left;background-color: #f0f8ff;}#sk-container-id-1 div.sk-toggleable__content pre {margin: 0.2em;color: black;border-radius: 0.25em;background-color: #f0f8ff;}#sk-container-id-1 input.sk-toggleable__control:checked~div.sk-toggleable__content {max-height: 200px;max-width: 100%;overflow: auto;}#sk-container-id-1 input.sk-toggleable__control:checked~label.sk-toggleable__label-arrow:before {content: \"▾\";}#sk-container-id-1 div.sk-estimator input.sk-toggleable__control:checked~label.sk-toggleable__label {background-color: #d4ebff;}#sk-container-id-1 div.sk-label input.sk-toggleable__control:checked~label.sk-toggleable__label {background-color: #d4ebff;}#sk-container-id-1 input.sk-hidden--visually {border: 0;clip: rect(1px 1px 1px 1px);clip: rect(1px, 1px, 1px, 1px);height: 1px;margin: -1px;overflow: hidden;padding: 0;position: absolute;width: 1px;}#sk-container-id-1 div.sk-estimator {font-family: monospace;background-color: #f0f8ff;border: 1px dotted black;border-radius: 0.25em;box-sizing: border-box;margin-bottom: 0.5em;}#sk-container-id-1 div.sk-estimator:hover {background-color: #d4ebff;}#sk-container-id-1 div.sk-parallel-item::after {content: \"\";width: 100%;border-bottom: 1px solid gray;flex-grow: 1;}#sk-container-id-1 div.sk-label:hover label.sk-toggleable__label {background-color: #d4ebff;}#sk-container-id-1 div.sk-serial::before {content: \"\";position: absolute;border-left: 1px solid gray;box-sizing: border-box;top: 0;bottom: 0;left: 50%;z-index: 0;}#sk-container-id-1 div.sk-serial {display: flex;flex-direction: column;align-items: center;background-color: white;padding-right: 0.2em;padding-left: 0.2em;position: relative;}#sk-container-id-1 div.sk-item {position: relative;z-index: 1;}#sk-container-id-1 div.sk-parallel {display: flex;align-items: stretch;justify-content: center;background-color: white;position: relative;}#sk-container-id-1 div.sk-item::before, #sk-container-id-1 div.sk-parallel-item::before {content: \"\";position: absolute;border-left: 1px solid gray;box-sizing: border-box;top: 0;bottom: 0;left: 50%;z-index: -1;}#sk-container-id-1 div.sk-parallel-item {display: flex;flex-direction: column;z-index: 1;position: relative;background-color: white;}#sk-container-id-1 div.sk-parallel-item:first-child::after {align-self: flex-end;width: 50%;}#sk-container-id-1 div.sk-parallel-item:last-child::after {align-self: flex-start;width: 50%;}#sk-container-id-1 div.sk-parallel-item:only-child::after {width: 0;}#sk-container-id-1 div.sk-dashed-wrapped {border: 1px dashed gray;margin: 0 0.4em 0.5em 0.4em;box-sizing: border-box;padding-bottom: 0.4em;background-color: white;}#sk-container-id-1 div.sk-label label {font-family: monospace;font-weight: bold;display: inline-block;line-height: 1.2em;}#sk-container-id-1 div.sk-label-container {text-align: center;}#sk-container-id-1 div.sk-container {/* jupyter's `normalize.less` sets `[hidden] { display: none; }` but bootstrap.min.css set `[hidden] { display: none !important; }` so we also need the `!important` here to be able to override the default hidden behavior on the sphinx rendered scikit-learn.org. See: https://github.com/scikit-learn/scikit-learn/issues/21755 */display: inline-block !important;position: relative;}#sk-container-id-1 div.sk-text-repr-fallback {display: none;}</style><div id=\"sk-container-id-1\" class=\"sk-top-container\"><div class=\"sk-text-repr-fallback\"><pre>LinearRegression()</pre><b>In a Jupyter environment, please rerun this cell to show the HTML representation or trust the notebook. <br />On GitHub, the HTML representation is unable to render, please try loading this page with nbviewer.org.</b></div><div class=\"sk-container\" hidden><div class=\"sk-item\"><div class=\"sk-estimator sk-toggleable\"><input class=\"sk-toggleable__control sk-hidden--visually\" id=\"sk-estimator-id-1\" type=\"checkbox\" checked><label for=\"sk-estimator-id-1\" class=\"sk-toggleable__label sk-toggleable__label-arrow\">LinearRegression</label><div class=\"sk-toggleable__content\"><pre>LinearRegression()</pre></div></div></div></div></div>"
      ],
      "text/plain": [
       "LinearRegression()"
      ]
     },
     "execution_count": 10,
     "metadata": {},
     "output_type": "execute_result"
    }
   ],
   "source": [
    "reg.fit(X_train,y_train)"
   ]
  },
  {
   "cell_type": "code",
   "execution_count": 11,
   "id": "a271815a",
   "metadata": {},
   "outputs": [
    {
     "name": "stdout",
     "output_type": "stream",
     "text": [
      "Model Performance\n",
      "Average Error: 0.5563 degrees.\n",
      "Accuracy = 99.18%.\n",
      "R^2 = 1.00%.\n"
     ]
    },
    {
     "data": {
      "text/plain": [
       "99.17528991629443"
      ]
     },
     "execution_count": 11,
     "metadata": {},
     "output_type": "execute_result"
    }
   ],
   "source": [
    "#evalute the model\n",
    "evaluate(reg, X_train,y_train)"
   ]
  },
  {
   "cell_type": "code",
   "execution_count": 12,
   "id": "39d73707",
   "metadata": {},
   "outputs": [
    {
     "data": {
      "text/html": [
       "<style>#sk-container-id-2 {color: black;background-color: white;}#sk-container-id-2 pre{padding: 0;}#sk-container-id-2 div.sk-toggleable {background-color: white;}#sk-container-id-2 label.sk-toggleable__label {cursor: pointer;display: block;width: 100%;margin-bottom: 0;padding: 0.3em;box-sizing: border-box;text-align: center;}#sk-container-id-2 label.sk-toggleable__label-arrow:before {content: \"▸\";float: left;margin-right: 0.25em;color: #696969;}#sk-container-id-2 label.sk-toggleable__label-arrow:hover:before {color: black;}#sk-container-id-2 div.sk-estimator:hover label.sk-toggleable__label-arrow:before {color: black;}#sk-container-id-2 div.sk-toggleable__content {max-height: 0;max-width: 0;overflow: hidden;text-align: left;background-color: #f0f8ff;}#sk-container-id-2 div.sk-toggleable__content pre {margin: 0.2em;color: black;border-radius: 0.25em;background-color: #f0f8ff;}#sk-container-id-2 input.sk-toggleable__control:checked~div.sk-toggleable__content {max-height: 200px;max-width: 100%;overflow: auto;}#sk-container-id-2 input.sk-toggleable__control:checked~label.sk-toggleable__label-arrow:before {content: \"▾\";}#sk-container-id-2 div.sk-estimator input.sk-toggleable__control:checked~label.sk-toggleable__label {background-color: #d4ebff;}#sk-container-id-2 div.sk-label input.sk-toggleable__control:checked~label.sk-toggleable__label {background-color: #d4ebff;}#sk-container-id-2 input.sk-hidden--visually {border: 0;clip: rect(1px 1px 1px 1px);clip: rect(1px, 1px, 1px, 1px);height: 1px;margin: -1px;overflow: hidden;padding: 0;position: absolute;width: 1px;}#sk-container-id-2 div.sk-estimator {font-family: monospace;background-color: #f0f8ff;border: 1px dotted black;border-radius: 0.25em;box-sizing: border-box;margin-bottom: 0.5em;}#sk-container-id-2 div.sk-estimator:hover {background-color: #d4ebff;}#sk-container-id-2 div.sk-parallel-item::after {content: \"\";width: 100%;border-bottom: 1px solid gray;flex-grow: 1;}#sk-container-id-2 div.sk-label:hover label.sk-toggleable__label {background-color: #d4ebff;}#sk-container-id-2 div.sk-serial::before {content: \"\";position: absolute;border-left: 1px solid gray;box-sizing: border-box;top: 0;bottom: 0;left: 50%;z-index: 0;}#sk-container-id-2 div.sk-serial {display: flex;flex-direction: column;align-items: center;background-color: white;padding-right: 0.2em;padding-left: 0.2em;position: relative;}#sk-container-id-2 div.sk-item {position: relative;z-index: 1;}#sk-container-id-2 div.sk-parallel {display: flex;align-items: stretch;justify-content: center;background-color: white;position: relative;}#sk-container-id-2 div.sk-item::before, #sk-container-id-2 div.sk-parallel-item::before {content: \"\";position: absolute;border-left: 1px solid gray;box-sizing: border-box;top: 0;bottom: 0;left: 50%;z-index: -1;}#sk-container-id-2 div.sk-parallel-item {display: flex;flex-direction: column;z-index: 1;position: relative;background-color: white;}#sk-container-id-2 div.sk-parallel-item:first-child::after {align-self: flex-end;width: 50%;}#sk-container-id-2 div.sk-parallel-item:last-child::after {align-self: flex-start;width: 50%;}#sk-container-id-2 div.sk-parallel-item:only-child::after {width: 0;}#sk-container-id-2 div.sk-dashed-wrapped {border: 1px dashed gray;margin: 0 0.4em 0.5em 0.4em;box-sizing: border-box;padding-bottom: 0.4em;background-color: white;}#sk-container-id-2 div.sk-label label {font-family: monospace;font-weight: bold;display: inline-block;line-height: 1.2em;}#sk-container-id-2 div.sk-label-container {text-align: center;}#sk-container-id-2 div.sk-container {/* jupyter's `normalize.less` sets `[hidden] { display: none; }` but bootstrap.min.css set `[hidden] { display: none !important; }` so we also need the `!important` here to be able to override the default hidden behavior on the sphinx rendered scikit-learn.org. See: https://github.com/scikit-learn/scikit-learn/issues/21755 */display: inline-block !important;position: relative;}#sk-container-id-2 div.sk-text-repr-fallback {display: none;}</style><div id=\"sk-container-id-2\" class=\"sk-top-container\"><div class=\"sk-text-repr-fallback\"><pre>RandomForestRegressor(random_state=42)</pre><b>In a Jupyter environment, please rerun this cell to show the HTML representation or trust the notebook. <br />On GitHub, the HTML representation is unable to render, please try loading this page with nbviewer.org.</b></div><div class=\"sk-container\" hidden><div class=\"sk-item\"><div class=\"sk-estimator sk-toggleable\"><input class=\"sk-toggleable__control sk-hidden--visually\" id=\"sk-estimator-id-2\" type=\"checkbox\" checked><label for=\"sk-estimator-id-2\" class=\"sk-toggleable__label sk-toggleable__label-arrow\">RandomForestRegressor</label><div class=\"sk-toggleable__content\"><pre>RandomForestRegressor(random_state=42)</pre></div></div></div></div></div>"
      ],
      "text/plain": [
       "RandomForestRegressor(random_state=42)"
      ]
     },
     "execution_count": 12,
     "metadata": {},
     "output_type": "execute_result"
    }
   ],
   "source": [
    "#create and fit a random forest regression model on training data\n",
    "rf = RandomForestRegressor(random_state = 42)\n",
    "rf.fit(X_train, y_train)"
   ]
  },
  {
   "cell_type": "code",
   "execution_count": 33,
   "id": "edfaeee7",
   "metadata": {},
   "outputs": [
    {
     "name": "stdout",
     "output_type": "stream",
     "text": [
      "Feature: 0, Score: 0.00051\n",
      "Feature: 1, Score: 0.00043\n",
      "Feature: 2, Score: 0.00039\n",
      "Feature: 3, Score: 0.00027\n",
      "Feature: 4, Score: 0.00034\n",
      "Feature: 5, Score: 0.00051\n",
      "Feature: 6, Score: 0.00030\n",
      "Feature: 7, Score: 0.00030\n",
      "Feature: 8, Score: 0.00029\n",
      "Feature: 9, Score: 0.00035\n",
      "Feature: 10, Score: 0.00058\n",
      "Feature: 11, Score: 0.00042\n",
      "Feature: 12, Score: 0.00041\n",
      "Feature: 13, Score: 0.00023\n",
      "Feature: 14, Score: 0.00035\n",
      "Feature: 15, Score: 0.00038\n",
      "Feature: 16, Score: 0.00026\n",
      "Feature: 17, Score: 0.00025\n",
      "Feature: 18, Score: 0.00028\n",
      "Feature: 19, Score: 0.00031\n",
      "Feature: 20, Score: 0.00042\n",
      "Feature: 21, Score: 0.00050\n",
      "Feature: 22, Score: 0.00039\n",
      "Feature: 23, Score: 0.00038\n",
      "Feature: 24, Score: 0.00035\n",
      "Feature: 25, Score: 0.00026\n",
      "Feature: 26, Score: 0.00039\n",
      "Feature: 27, Score: 0.00043\n",
      "Feature: 28, Score: 0.00029\n",
      "Feature: 29, Score: 0.00027\n",
      "Feature: 30, Score: 0.00038\n",
      "Feature: 31, Score: 0.00038\n",
      "Feature: 32, Score: 0.00060\n",
      "Feature: 33, Score: 0.00075\n",
      "Feature: 34, Score: 0.00042\n",
      "Feature: 35, Score: 0.00042\n",
      "Feature: 36, Score: 0.00031\n",
      "Feature: 37, Score: 0.00034\n",
      "Feature: 38, Score: 0.12029\n",
      "Feature: 39, Score: 0.08960\n",
      "Feature: 40, Score: 0.22197\n",
      "Feature: 41, Score: 0.13364\n",
      "Feature: 42, Score: 0.23535\n",
      "Feature: 43, Score: 0.18471\n"
     ]
    },
    {
     "data": {
      "text/plain": [
       "<BarContainer object of 44 artists>"
      ]
     },
     "execution_count": 33,
     "metadata": {},
     "output_type": "execute_result"
    },
    {
     "data": {
      "image/png": "[encoded data removed]",
      "text/plain": [
       "<Figure size 640x480 with 1 Axes>"
      ]
     },
     "metadata": {},
     "output_type": "display_data"
    }
   ],
   "source": [
    "# get importance\n",
    "importance = rf.feature_importances_\n",
    "# summarize feature importance\n",
    "for i,v in enumerate(importance):\n",
    " print('Feature: %0d, Score: %.5f' % (i,v))\n",
    "# plot feature importance\n",
    "plt.barh(X.columns, rf.feature_importances_)"
   ]
  },
  {
   "cell_type": "code",
   "execution_count": 29,
   "id": "24b9131b",
   "metadata": {},
   "outputs": [
    {
     "data": {
      "text/plain": [
       "Index(['FG%', '3P%', 'FT%', 'ORB', 'TRB', 'AST', 'STL', 'BLK', 'TOV', 'PF',\n",
       "       'FG%.1', '3P%.1', 'FT%.1', 'ORB.1', 'TRB.1', 'AST.1', 'STL.1', 'BLK.1',\n",
       "       'TOV.1', 'PF.1', 'eFG', 'eFG.1', 'TOV%', 'TOV%.1', 'ORB%', 'ORB%.1',\n",
       "       'FT/FGA', 'FT/FGA.1', 'DRB%', 'DRB%.1', 'AST%', 'AST%.1', 'TS%',\n",
       "       'TS%.1', '3PAr', '3PAr.1', 'DRB', 'DRB.1', 'POSS', 'POSS.1', 'OffRt',\n",
       "       'OffRt.1', 'DefRt', 'DefRt.1'],\n",
       "      dtype='object')"
      ]
     },
     "execution_count": 29,
     "metadata": {},
     "output_type": "execute_result"
    }
   ],
   "source": [
    "X.columns"
   ]
  },
  {
   "cell_type": "code",
   "execution_count": 13,
   "id": "de3125fd",
   "metadata": {},
   "outputs": [
    {
     "name": "stdout",
     "output_type": "stream",
     "text": [
      "Parameters currently in use:\n",
      "\n",
      "{'bootstrap': True,\n",
      " 'ccp_alpha': 0.0,\n",
      " 'criterion': 'squared_error',\n",
      " 'max_depth': None,\n",
      " 'max_features': 1.0,\n",
      " 'max_leaf_nodes': None,\n",
      " 'max_samples': None,\n",
      " 'min_impurity_decrease': 0.0,\n",
      " 'min_samples_leaf': 1,\n",
      " 'min_samples_split': 2,\n",
      " 'min_weight_fraction_leaf': 0.0,\n",
      " 'n_estimators': 100,\n",
      " 'n_jobs': None,\n",
      " 'oob_score': False,\n",
      " 'random_state': 42,\n",
      " 'verbose': 0,\n",
      " 'warm_start': False}\n"
     ]
    }
   ],
   "source": [
    "#investigate random forest regressor function base arguments/hyperparamters\n",
    "print('Parameters currently in use:\\n')\n",
    "pprint(rf.get_params())"
   ]
  },
  {
   "cell_type": "code",
   "execution_count": 14,
   "id": "8246c377",
   "metadata": {},
   "outputs": [
    {
     "name": "stdout",
     "output_type": "stream",
     "text": [
      "{'bootstrap': [True, False],\n",
      " 'max_depth': [10, 20, 30, 40, 50, 60, 70, 80, 90, 100, 110, None],\n",
      " 'max_features': ['log2', 'sqrt', 1.0],\n",
      " 'min_samples_leaf': [1, 2, 4],\n",
      " 'min_samples_split': [2, 5, 10],\n",
      " 'n_estimators': [100, 200, 300, 400, 500, 600, 700, 800, 900, 1000]}\n"
     ]
    }
   ],
   "source": [
    "#create a grid of randomly sampled values for hyperparameters\n",
    "# Number of trees in random forest\n",
    "n_estimators = [int(x) for x in np.linspace(start = 100,\n",
    "                                            stop = 1000,\n",
    "                                            num = 10)]\n",
    "# Number of features to consider at every split\n",
    "max_features = ['log2','sqrt',1.0]\n",
    "# Maximum number of levels in tree\n",
    "max_depth = [int(x) for x in np.linspace(10,\n",
    "                                         110,\n",
    "                                         num = 11)]\n",
    "max_depth.append(None)\n",
    "# Minimum number of samples required to split a node\n",
    "min_samples_split = [2, 5, 10]\n",
    "# Minimum number of samples required at each leaf node\n",
    "min_samples_leaf = [1, 2, 4]\n",
    "# Method of selecting samples for training each tree\n",
    "bootstrap = [True, False]\n",
    "# Create the random grid\n",
    "random_grid = {'n_estimators': n_estimators,\n",
    "               'max_features': max_features,\n",
    "               'max_depth': max_depth,\n",
    "               'min_samples_split': min_samples_split,\n",
    "               'min_samples_leaf': min_samples_leaf,\n",
    "               'bootstrap': bootstrap}\n",
    "pprint(random_grid)"
   ]
  },
  {
   "cell_type": "code",
   "execution_count": 15,
   "id": "e859192e",
   "metadata": {},
   "outputs": [],
   "source": [
    "#create a model for each of the randomly selected sets of model hyperparameters\n",
    "rf_random = RandomizedSearchCV(estimator = rf, param_distributions = random_grid,\n",
    "                               n_iter = 100, cv = 5, verbose=3,\n",
    "                               random_state=42, n_jobs = -1)"
   ]
  },
  {
   "cell_type": "code",
   "execution_count": 16,
   "id": "a3e1acca",
   "metadata": {},
   "outputs": [
    {
     "name": "stdout",
     "output_type": "stream",
     "text": [
      "Fitting 5 folds for each of 100 candidates, totalling 500 fits\n",
      "[CV 3/5] END bootstrap=False, max_depth=20, max_features=log2, min_samples_leaf=2, min_samples_split=5, n_estimators=900;, score=0.953 total time=  32.1s\n",
      "[CV 4/5] END bootstrap=True, max_depth=80, max_features=1.0, min_samples_leaf=4, min_samples_split=2, n_estimators=200;, score=0.986 total time=  28.7s\n",
      "[CV 2/5] END bootstrap=False, max_depth=10, max_features=sqrt, min_samples_leaf=2, min_samples_split=2, n_estimators=200;, score=0.953 total time=   6.5s\n",
      "[CV 4/5] END bootstrap=False, max_depth=10, max_features=sqrt, min_samples_leaf=2, min_samples_split=2, n_estimators=200;, score=0.951 total time=   6.4s\n",
      "[CV 3/5] END bootstrap=True, max_depth=None, max_features=log2, min_samples_leaf=2, min_samples_split=10, n_estimators=600;, score=0.941 total time=  12.0s\n",
      "[CV 1/5] END bootstrap=True, max_depth=60, max_features=log2, min_samples_leaf=1, min_samples_split=2, n_estimators=800;, score=0.952 total time=  21.5s\n"
     ]
    },
    {
     "name": "stderr",
     "output_type": "stream",
     "text": [
      "/Users/piercecappelli/opt/anaconda3/lib/python3.8/site-packages/joblib/externals/loky/process_executor.py:700: UserWarning: A worker stopped while some jobs were given to the executor. This can be caused by a too short worker timeout or by a memory leak.\n",
      "  warnings.warn(\n"
     ]
    },
    {
     "name": "stdout",
     "output_type": "stream",
     "text": [
      "[CV 4/5] END bootstrap=False, max_depth=20, max_features=log2, min_samples_leaf=2, min_samples_split=5, n_estimators=900;, score=0.956 total time=  32.1s\n",
      "[CV 5/5] END bootstrap=True, max_depth=80, max_features=1.0, min_samples_leaf=4, min_samples_split=2, n_estimators=200;, score=0.985 total time=  28.9s\n",
      "[CV 3/5] END bootstrap=False, max_depth=10, max_features=sqrt, min_samples_leaf=2, min_samples_split=2, n_estimators=200;, score=0.948 total time=   6.6s\n",
      "[CV 1/5] END bootstrap=True, max_depth=None, max_features=log2, min_samples_leaf=2, min_samples_split=10, n_estimators=600;, score=0.945 total time=  11.6s\n",
      "[CV 4/5] END bootstrap=True, max_depth=None, max_features=log2, min_samples_leaf=2, min_samples_split=10, n_estimators=600;, score=0.942 total time=  12.4s\n",
      "[CV 2/5] END bootstrap=True, max_depth=60, max_features=log2, min_samples_leaf=1, min_samples_split=2, n_estimators=800;, score=0.953 total time=  21.5s\n",
      "[CV 2/5] END bootstrap=False, max_depth=20, max_features=log2, min_samples_leaf=2, min_samples_split=5, n_estimators=900;, score=0.959 total time=  31.9s\n",
      "[CV 3/5] END bootstrap=True, max_depth=80, max_features=1.0, min_samples_leaf=4, min_samples_split=2, n_estimators=200;, score=0.984 total time=  28.8s\n",
      "[CV 1/5] END bootstrap=False, max_depth=10, max_features=sqrt, min_samples_leaf=2, min_samples_split=2, n_estimators=200;, score=0.951 total time=   6.6s\n",
      "[CV 5/5] END bootstrap=False, max_depth=10, max_features=sqrt, min_samples_leaf=2, min_samples_split=2, n_estimators=200;, score=0.949 total time=   6.3s\n",
      "[CV 2/5] END bootstrap=True, max_depth=None, max_features=log2, min_samples_leaf=2, min_samples_split=10, n_estimators=600;, score=0.947 total time=  11.9s\n",
      "[CV 5/5] END bootstrap=True, max_depth=None, max_features=log2, min_samples_leaf=2, min_samples_split=10, n_estimators=600;, score=0.942 total time=  12.2s\n",
      "[CV 3/5] END bootstrap=True, max_depth=60, max_features=log2, min_samples_leaf=1, min_samples_split=2, n_estimators=800;, score=0.948 total time=  21.5s\n",
      "[CV 2/5] END bootstrap=False, max_depth=30, max_features=sqrt, min_samples_leaf=2, min_samples_split=2, n_estimators=400;, score=0.966 total time=  16.3s\n",
      "[CV 4/5] END bootstrap=False, max_depth=30, max_features=sqrt, min_samples_leaf=2, min_samples_split=2, n_estimators=400;, score=0.964 total time=  17.2s\n",
      "[CV 2/5] END bootstrap=True, max_depth=20, max_features=log2, min_samples_leaf=4, min_samples_split=10, n_estimators=200;, score=0.942 total time=   4.3s\n",
      "[CV 1/5] END bootstrap=False, max_depth=10, max_features=1.0, min_samples_leaf=1, min_samples_split=2, n_estimators=300;, score=0.957 total time= 1.1min\n",
      "[CV 4/5] END bootstrap=True, max_depth=60, max_features=log2, min_samples_leaf=1, min_samples_split=2, n_estimators=800;, score=0.950 total time=  21.0s\n",
      "[CV 1/5] END bootstrap=False, max_depth=20, max_features=log2, min_samples_leaf=2, min_samples_split=5, n_estimators=900;, score=0.958 total time=  32.4s\n",
      "[CV 1/5] END bootstrap=True, max_depth=20, max_features=log2, min_samples_leaf=4, min_samples_split=10, n_estimators=200;, score=0.941 total time=   4.1s\n",
      "[CV 4/5] END bootstrap=True, max_depth=20, max_features=log2, min_samples_leaf=4, min_samples_split=10, n_estimators=200;, score=0.938 total time=   4.9s\n",
      "[CV 2/5] END bootstrap=False, max_depth=10, max_features=1.0, min_samples_leaf=1, min_samples_split=2, n_estimators=300;, score=0.962 total time= 1.1min\n",
      "[CV 5/5] END bootstrap=True, max_depth=60, max_features=log2, min_samples_leaf=1, min_samples_split=2, n_estimators=800;, score=0.949 total time=  21.2s\n",
      "[CV 5/5] END bootstrap=False, max_depth=20, max_features=log2, min_samples_leaf=2, min_samples_split=5, n_estimators=900;, score=0.955 total time=  31.9s\n",
      "[CV 2/5] END bootstrap=True, max_depth=80, max_features=1.0, min_samples_leaf=4, min_samples_split=2, n_estimators=200;, score=0.990 total time=  28.6s\n",
      "[CV 5/5] END bootstrap=False, max_depth=10, max_features=1.0, min_samples_leaf=1, min_samples_split=2, n_estimators=300;, score=0.956 total time= 1.0min\n",
      "[CV 1/5] END bootstrap=True, max_depth=90, max_features=sqrt, min_samples_leaf=1, min_samples_split=2, n_estimators=1000;, score=0.960 total time=  29.3s\n",
      "[CV 1/5] END bootstrap=False, max_depth=30, max_features=sqrt, min_samples_leaf=2, min_samples_split=2, n_estimators=400;, score=0.966 total time=  16.5s\n",
      "[CV 5/5] END bootstrap=False, max_depth=30, max_features=sqrt, min_samples_leaf=2, min_samples_split=2, n_estimators=400;, score=0.963 total time=  17.2s\n",
      "[CV 3/5] END bootstrap=True, max_depth=20, max_features=log2, min_samples_leaf=4, min_samples_split=10, n_estimators=200;, score=0.936 total time=   4.2s\n",
      "[CV 5/5] END bootstrap=True, max_depth=20, max_features=log2, min_samples_leaf=4, min_samples_split=10, n_estimators=200;, score=0.936 total time=   4.5s\n",
      "[CV 3/5] END bootstrap=False, max_depth=10, max_features=1.0, min_samples_leaf=1, min_samples_split=2, n_estimators=300;, score=0.954 total time= 1.0min\n",
      "[CV 1/5] END bootstrap=False, max_depth=20, max_features=1.0, min_samples_leaf=2, min_samples_split=2, n_estimators=100;, score=0.963 total time=  24.3s\n",
      "[CV 4/5] END bootstrap=True, max_depth=90, max_features=sqrt, min_samples_leaf=1, min_samples_split=2, n_estimators=1000;, score=0.957 total time=  30.3s\n",
      "[CV 3/5] END bootstrap=False, max_depth=30, max_features=sqrt, min_samples_leaf=2, min_samples_split=2, n_estimators=400;, score=0.961 total time=  16.8s\n",
      "[CV 1/5] END bootstrap=True, max_depth=80, max_features=1.0, min_samples_leaf=4, min_samples_split=2, n_estimators=200;, score=0.988 total time=  28.4s\n",
      "[CV 4/5] END bootstrap=False, max_depth=10, max_features=1.0, min_samples_leaf=1, min_samples_split=2, n_estimators=300;, score=0.957 total time= 1.0min\n",
      "[CV 3/5] END bootstrap=False, max_depth=20, max_features=1.0, min_samples_leaf=2, min_samples_split=2, n_estimators=100;, score=0.959 total time=  23.8s\n",
      "[CV 5/5] END bootstrap=True, max_depth=90, max_features=sqrt, min_samples_leaf=1, min_samples_split=2, n_estimators=1000;, score=0.957 total time=  30.6s\n",
      "[CV 2/5] END bootstrap=False, max_depth=20, max_features=1.0, min_samples_leaf=2, min_samples_split=2, n_estimators=100;, score=0.967 total time=  24.0s\n",
      "[CV 1/5] END bootstrap=False, max_depth=20, max_features=1.0, min_samples_leaf=1, min_samples_split=2, n_estimators=400;, score=0.962 total time= 1.8min\n",
      "[CV 4/5] END bootstrap=False, max_depth=20, max_features=1.0, min_samples_leaf=2, min_samples_split=2, n_estimators=100;, score=0.965 total time=  23.4s\n",
      "[CV 2/5] END bootstrap=False, max_depth=20, max_features=1.0, min_samples_leaf=1, min_samples_split=2, n_estimators=400;, score=0.967 total time= 1.8min\n",
      "[CV 5/5] END bootstrap=False, max_depth=20, max_features=1.0, min_samples_leaf=2, min_samples_split=2, n_estimators=100;, score=0.961 total time=  22.8s\n",
      "[CV 3/5] END bootstrap=False, max_depth=20, max_features=1.0, min_samples_leaf=1, min_samples_split=2, n_estimators=400;, score=0.959 total time= 1.7min\n",
      "[CV 1/5] END bootstrap=True, max_depth=20, max_features=sqrt, min_samples_leaf=1, min_samples_split=10, n_estimators=200;, score=0.954 total time=   4.2s\n",
      "[CV 2/5] END bootstrap=True, max_depth=20, max_features=sqrt, min_samples_leaf=1, min_samples_split=10, n_estimators=200;, score=0.957 total time=   4.3s\n",
      "[CV 5/5] END bootstrap=True, max_depth=20, max_features=sqrt, min_samples_leaf=1, min_samples_split=10, n_estimators=200;, score=0.951 total time=   4.2s\n",
      "[CV 5/5] END bootstrap=True, max_depth=40, max_features=sqrt, min_samples_leaf=2, min_samples_split=10, n_estimators=800;, score=0.951 total time=  16.7s\n",
      "[CV 1/5] END bootstrap=False, max_depth=40, max_features=log2, min_samples_leaf=1, min_samples_split=2, n_estimators=500;, score=0.959 total time=  19.0s\n",
      "[CV 4/5] END bootstrap=True, max_depth=40, max_features=1.0, min_samples_leaf=2, min_samples_split=10, n_estimators=800;, score=0.986 total time= 1.6min\n",
      "[CV 4/5] END bootstrap=False, max_depth=40, max_features=log2, min_samples_leaf=1, min_samples_split=2, n_estimators=500;, score=0.958 total time=  19.0s\n",
      "[CV 3/5] END bootstrap=True, max_depth=60, max_features=1.0, min_samples_leaf=4, min_samples_split=5, n_estimators=100;, score=0.984 total time=  12.1s\n",
      "[CV 3/5] END bootstrap=False, max_depth=40, max_features=sqrt, min_samples_leaf=2, min_samples_split=10, n_estimators=100;, score=0.957 total time=   3.4s\n",
      "[CV 1/5] END bootstrap=False, max_depth=10, max_features=1.0, min_samples_leaf=1, min_samples_split=5, n_estimators=500;, score=0.957 total time= 1.6min\n",
      "[CV 4/5] END bootstrap=False, max_depth=80, max_features=1.0, min_samples_leaf=1, min_samples_split=10, n_estimators=600;, score=0.960 total time= 2.1min\n",
      "[CV 3/5] END bootstrap=False, max_depth=80, max_features=sqrt, min_samples_leaf=2, min_samples_split=5, n_estimators=600;, score=0.961 total time=  22.1s\n",
      "[CV 4/5] END bootstrap=False, max_depth=30, max_features=sqrt, min_samples_leaf=4, min_samples_split=2, n_estimators=200;, score=0.958 total time=   6.6s\n",
      "[CV 1/5] END bootstrap=True, max_depth=50, max_features=log2, min_samples_leaf=4, min_samples_split=2, n_estimators=1000;, score=0.943 total time=  17.7s\n",
      "[CV 2/5] END bootstrap=False, max_depth=70, max_features=sqrt, min_samples_leaf=1, min_samples_split=10, n_estimators=100;, score=0.964 total time=   3.5s\n",
      "[CV 3/5] END bootstrap=False, max_depth=None, max_features=log2, min_samples_leaf=4, min_samples_split=5, n_estimators=600;, score=0.949 total time=  17.0s\n",
      "[CV 1/5] END bootstrap=True, max_depth=40, max_features=1.0, min_samples_leaf=2, min_samples_split=10, n_estimators=1000;, score=0.989 total time= 2.1min\n",
      "[CV 4/5] END bootstrap=True, max_depth=20, max_features=1.0, min_samples_leaf=1, min_samples_split=5, n_estimators=1000;, score=0.988 total time= 2.3min\n"
     ]
    },
    {
     "name": "stdout",
     "output_type": "stream",
     "text": [
      "[CV 5/5] END bootstrap=True, max_depth=40, max_features=1.0, min_samples_leaf=2, min_samples_split=10, n_estimators=800;, score=0.986 total time= 1.6min\n",
      "[CV 1/5] END bootstrap=True, max_depth=60, max_features=1.0, min_samples_leaf=4, min_samples_split=5, n_estimators=100;, score=0.988 total time=  12.2s\n",
      "[CV 2/5] END bootstrap=True, max_depth=60, max_features=1.0, min_samples_leaf=4, min_samples_split=5, n_estimators=100;, score=0.989 total time=  12.3s\n",
      "[CV 1/5] END bootstrap=False, max_depth=40, max_features=sqrt, min_samples_leaf=2, min_samples_split=10, n_estimators=100;, score=0.962 total time=   3.3s\n",
      "[CV 4/5] END bootstrap=False, max_depth=40, max_features=sqrt, min_samples_leaf=2, min_samples_split=10, n_estimators=100;, score=0.959 total time=   3.3s\n",
      "[CV 2/5] END bootstrap=False, max_depth=10, max_features=1.0, min_samples_leaf=1, min_samples_split=5, n_estimators=500;, score=0.962 total time= 1.6min\n",
      "[CV 5/5] END bootstrap=False, max_depth=80, max_features=1.0, min_samples_leaf=1, min_samples_split=10, n_estimators=600;, score=0.959 total time= 2.1min\n",
      "[CV 2/5] END bootstrap=False, max_depth=80, max_features=sqrt, min_samples_leaf=2, min_samples_split=5, n_estimators=600;, score=0.966 total time=  22.1s\n",
      "[CV 2/5] END bootstrap=False, max_depth=30, max_features=sqrt, min_samples_leaf=4, min_samples_split=2, n_estimators=200;, score=0.961 total time=   6.5s\n",
      "[CV 4/5] END bootstrap=False, max_depth=40, max_features=sqrt, min_samples_leaf=2, min_samples_split=2, n_estimators=500;, score=0.964 total time=  18.7s\n",
      "[CV 4/5] END bootstrap=False, max_depth=70, max_features=sqrt, min_samples_leaf=1, min_samples_split=10, n_estimators=100;, score=0.962 total time=   3.5s\n",
      "[CV 5/5] END bootstrap=False, max_depth=None, max_features=log2, min_samples_leaf=4, min_samples_split=5, n_estimators=600;, score=0.950 total time=  16.7s\n",
      "[CV 2/5] END bootstrap=True, max_depth=40, max_features=1.0, min_samples_leaf=2, min_samples_split=10, n_estimators=1000;, score=0.990 total time= 2.1min\n",
      "[CV 5/5] END bootstrap=True, max_depth=20, max_features=1.0, min_samples_leaf=1, min_samples_split=5, n_estimators=1000;, score=0.987 total time= 2.3min\n",
      "[CV 3/5] END bootstrap=False, max_depth=100, max_features=log2, min_samples_leaf=4, min_samples_split=5, n_estimators=900;, score=0.949 total time=  27.9s\n",
      "[CV 5/5] END bootstrap=False, max_depth=30, max_features=sqrt, min_samples_leaf=4, min_samples_split=2, n_estimators=900;, score=0.958 total time=  30.2s\n",
      "[CV 1/5] END bootstrap=True, max_depth=100, max_features=log2, min_samples_leaf=1, min_samples_split=5, n_estimators=800;, score=0.951 total time=  16.6s\n",
      "[CV 5/5] END bootstrap=True, max_depth=100, max_features=log2, min_samples_leaf=1, min_samples_split=5, n_estimators=800;, score=0.948 total time=  16.9s\n",
      "[CV 3/5] END bootstrap=False, max_depth=90, max_features=1.0, min_samples_leaf=4, min_samples_split=2, n_estimators=200;, score=0.957 total time=  40.9s\n",
      "[CV 5/5] END bootstrap=False, max_depth=90, max_features=1.0, min_samples_leaf=4, min_samples_split=2, n_estimators=200;, score=0.957 total time=  40.5s\n",
      "[CV 1/5] END bootstrap=False, max_depth=None, max_features=1.0, min_samples_leaf=2, min_samples_split=10, n_estimators=500;, score=0.960 total time= 1.7min\n",
      "[CV 5/5] END bootstrap=False, max_depth=None, max_features=1.0, min_samples_leaf=2, min_samples_split=10, n_estimators=500;, score=0.959 total time= 1.7min\n",
      "[CV 3/5] END bootstrap=False, max_depth=30, max_features=log2, min_samples_leaf=4, min_samples_split=5, n_estimators=900;, score=0.949 total time=  25.1s\n",
      "[CV 1/5] END bootstrap=True, max_depth=110, max_features=1.0, min_samples_leaf=2, min_samples_split=10, n_estimators=300;, score=0.989 total time=  36.7s\n",
      "[CV 3/5] END bootstrap=False, max_depth=70, max_features=1.0, min_samples_leaf=1, min_samples_split=2, n_estimators=400;, score=0.959 total time= 1.7min\n",
      "[CV 3/5] END bootstrap=True, max_depth=40, max_features=1.0, min_samples_leaf=2, min_samples_split=10, n_estimators=800;, score=0.985 total time= 1.7min\n",
      "[CV 1/5] END bootstrap=False, max_depth=80, max_features=1.0, min_samples_leaf=4, min_samples_split=10, n_estimators=500;, score=0.959 total time= 1.7min\n",
      "[CV 5/5] END bootstrap=True, max_depth=60, max_features=1.0, min_samples_leaf=4, min_samples_split=5, n_estimators=100;, score=0.985 total time=  12.2s\n",
      "[CV 2/5] END bootstrap=False, max_depth=80, max_features=1.0, min_samples_leaf=1, min_samples_split=10, n_estimators=600;, score=0.965 total time= 2.1min\n",
      "[CV 1/5] END bootstrap=False, max_depth=110, max_features=log2, min_samples_leaf=2, min_samples_split=2, n_estimators=300;, score=0.958 total time=   9.8s\n",
      "[CV 2/5] END bootstrap=False, max_depth=110, max_features=log2, min_samples_leaf=2, min_samples_split=2, n_estimators=300;, score=0.958 total time=   9.7s\n",
      "[CV 3/5] END bootstrap=False, max_depth=110, max_features=log2, min_samples_leaf=2, min_samples_split=2, n_estimators=300;, score=0.954 total time=   9.8s\n",
      "[CV 4/5] END bootstrap=False, max_depth=110, max_features=log2, min_samples_leaf=2, min_samples_split=2, n_estimators=300;, score=0.956 total time=   9.7s\n",
      "[CV 5/5] END bootstrap=False, max_depth=110, max_features=log2, min_samples_leaf=2, min_samples_split=2, n_estimators=300;, score=0.954 total time=   9.8s\n",
      "[CV 1/5] END bootstrap=True, max_depth=100, max_features=log2, min_samples_leaf=1, min_samples_split=5, n_estimators=700;, score=0.951 total time=  14.7s\n",
      "[CV 2/5] END bootstrap=True, max_depth=100, max_features=log2, min_samples_leaf=1, min_samples_split=5, n_estimators=700;, score=0.951 total time=  14.5s\n",
      "[CV 1/5] END bootstrap=True, max_depth=80, max_features=sqrt, min_samples_leaf=1, min_samples_split=10, n_estimators=300;, score=0.954 total time=   6.5s\n",
      "[CV 5/5] END bootstrap=True, max_depth=80, max_features=sqrt, min_samples_leaf=1, min_samples_split=10, n_estimators=300;, score=0.951 total time=   6.5s\n",
      "[CV 1/5] END bootstrap=True, max_depth=80, max_features=sqrt, min_samples_leaf=2, min_samples_split=5, n_estimators=500;, score=0.958 total time=  11.7s\n",
      "[CV 4/5] END bootstrap=True, max_depth=80, max_features=sqrt, min_samples_leaf=2, min_samples_split=5, n_estimators=500;, score=0.955 total time=  11.5s\n",
      "[CV 2/5] END bootstrap=False, max_depth=40, max_features=sqrt, min_samples_leaf=2, min_samples_split=2, n_estimators=500;, score=0.966 total time=  19.0s\n",
      "[CV 5/5] END bootstrap=True, max_depth=50, max_features=log2, min_samples_leaf=4, min_samples_split=2, n_estimators=1000;, score=0.940 total time=  17.7s\n",
      "[CV 3/5] END bootstrap=True, max_depth=50, max_features=1.0, min_samples_leaf=4, min_samples_split=5, n_estimators=600;, score=0.984 total time= 1.2min\n",
      "[CV 1/5] END bootstrap=True, max_depth=50, max_features=sqrt, min_samples_leaf=2, min_samples_split=10, n_estimators=200;, score=0.954 total time=   4.4s\n",
      "[CV 4/5] END bootstrap=True, max_depth=50, max_features=sqrt, min_samples_leaf=2, min_samples_split=10, n_estimators=200;, score=0.950 total time=   4.2s\n",
      "[CV 2/5] END bootstrap=True, max_depth=20, max_features=1.0, min_samples_leaf=1, min_samples_split=5, n_estimators=1000;, score=0.991 total time= 2.4min\n",
      "[CV 4/5] END bootstrap=False, max_depth=90, max_features=sqrt, min_samples_leaf=4, min_samples_split=2, n_estimators=400;, score=0.959 total time=  13.5s\n",
      "[CV 5/5] END bootstrap=False, max_depth=20, max_features=1.0, min_samples_leaf=4, min_samples_split=10, n_estimators=100;, score=0.958 total time=  20.9s\n",
      "[CV 1/5] END bootstrap=False, max_depth=100, max_features=log2, min_samples_leaf=4, min_samples_split=5, n_estimators=900;, score=0.953 total time=  27.0s\n",
      "[CV 4/5] END bootstrap=False, max_depth=30, max_features=sqrt, min_samples_leaf=4, min_samples_split=2, n_estimators=900;, score=0.959 total time=  32.1s\n",
      "[CV 2/5] END bootstrap=True, max_depth=40, max_features=sqrt, min_samples_leaf=2, min_samples_split=2, n_estimators=300;, score=0.959 total time=   7.2s\n",
      "[CV 4/5] END bootstrap=True, max_depth=None, max_features=1.0, min_samples_leaf=1, min_samples_split=5, n_estimators=700;, score=0.987 total time= 1.6min\n",
      "[CV 2/5] END bootstrap=False, max_depth=70, max_features=sqrt, min_samples_leaf=2, min_samples_split=10, n_estimators=400;, score=0.964 total time=  13.4s\n",
      "[CV 4/5] END bootstrap=True, max_depth=60, max_features=1.0, min_samples_leaf=4, min_samples_split=5, n_estimators=900;, score=0.986 total time= 1.8min\n",
      "[CV 5/5] END bootstrap=True, max_depth=10, max_features=sqrt, min_samples_leaf=2, min_samples_split=5, n_estimators=300;, score=0.944 total time=   5.7s\n",
      "[CV 1/5] END bootstrap=False, max_depth=10, max_features=sqrt, min_samples_leaf=1, min_samples_split=5, n_estimators=700;, score=0.952 total time=  20.1s\n",
      "[CV 2/5] END bootstrap=False, max_depth=60, max_features=1.0, min_samples_leaf=1, min_samples_split=10, n_estimators=100;, score=0.965 total time=  21.1s\n",
      "[CV 3/5] END bootstrap=True, max_depth=70, max_features=sqrt, min_samples_leaf=1, min_samples_split=10, n_estimators=800;, score=0.951 total time=  17.5s\n",
      "[CV 4/5] END bootstrap=False, max_depth=20, max_features=log2, min_samples_leaf=4, min_samples_split=5, n_estimators=600;, score=0.950 total time=  16.9s\n",
      "[CV 5/5] END bootstrap=True, max_depth=20, max_features=1.0, min_samples_leaf=1, min_samples_split=10, n_estimators=700;, score=0.986 total time= 1.5min\n",
      "[CV 4/5] END bootstrap=False, max_depth=70, max_features=1.0, min_samples_leaf=1, min_samples_split=2, n_estimators=400;, score=0.963 total time= 1.7min\n"
     ]
    },
    {
     "name": "stdout",
     "output_type": "stream",
     "text": [
      "[CV 4/5] END bootstrap=False, max_depth=100, max_features=log2, min_samples_leaf=4, min_samples_split=5, n_estimators=900;, score=0.950 total time=  27.8s\n",
      "[CV 2/5] END bootstrap=False, max_depth=10, max_features=sqrt, min_samples_leaf=4, min_samples_split=10, n_estimators=400;, score=0.952 total time=  11.1s\n",
      "[CV 5/5] END bootstrap=False, max_depth=10, max_features=sqrt, min_samples_leaf=4, min_samples_split=10, n_estimators=400;, score=0.948 total time=  11.8s\n",
      "[CV 2/5] END bootstrap=True, max_depth=None, max_features=1.0, min_samples_leaf=1, min_samples_split=5, n_estimators=700;, score=0.991 total time= 1.6min\n",
      "[CV 3/5] END bootstrap=True, max_depth=20, max_features=log2, min_samples_leaf=4, min_samples_split=5, n_estimators=700;, score=0.940 total time=  12.3s\n",
      "[CV 5/5] END bootstrap=False, max_depth=70, max_features=sqrt, min_samples_leaf=2, min_samples_split=10, n_estimators=400;, score=0.959 total time=  13.3s\n",
      "[CV 3/5] END bootstrap=False, max_depth=None, max_features=1.0, min_samples_leaf=2, min_samples_split=10, n_estimators=500;, score=0.956 total time= 1.7min\n",
      "[CV 2/5] END bootstrap=True, max_depth=10, max_features=sqrt, min_samples_leaf=2, min_samples_split=5, n_estimators=300;, score=0.948 total time=   5.6s\n",
      "[CV 3/5] END bootstrap=False, max_depth=60, max_features=sqrt, min_samples_leaf=2, min_samples_split=2, n_estimators=300;, score=0.961 total time=  11.0s\n",
      "[CV 4/5] END bootstrap=False, max_depth=10, max_features=sqrt, min_samples_leaf=1, min_samples_split=5, n_estimators=700;, score=0.951 total time=  19.9s\n",
      "[CV 1/5] END bootstrap=True, max_depth=70, max_features=sqrt, min_samples_leaf=1, min_samples_split=10, n_estimators=800;, score=0.955 total time=  17.1s\n",
      "[CV 4/5] END bootstrap=True, max_depth=70, max_features=sqrt, min_samples_leaf=1, min_samples_split=10, n_estimators=800;, score=0.952 total time=  16.8s\n",
      "[CV 5/5] END bootstrap=False, max_depth=20, max_features=log2, min_samples_leaf=4, min_samples_split=5, n_estimators=600;, score=0.950 total time=  16.7s\n",
      "[CV 1/5] END bootstrap=False, max_depth=30, max_features=log2, min_samples_leaf=4, min_samples_split=5, n_estimators=900;, score=0.953 total time=  25.0s\n",
      "[CV 4/5] END bootstrap=False, max_depth=30, max_features=log2, min_samples_leaf=4, min_samples_split=5, n_estimators=900;, score=0.950 total time=  24.9s\n",
      "[CV 2/5] END bootstrap=True, max_depth=110, max_features=1.0, min_samples_leaf=2, min_samples_split=10, n_estimators=300;, score=0.990 total time=  37.7s\n",
      "[CV 5/5] END bootstrap=False, max_depth=70, max_features=1.0, min_samples_leaf=1, min_samples_split=2, n_estimators=400;, score=0.961 total time= 1.7min\n",
      "[CV 3/5] END bootstrap=False, max_depth=90, max_features=log2, min_samples_leaf=2, min_samples_split=10, n_estimators=200;, score=0.949 total time=   5.7s\n",
      "[CV 1/5] END bootstrap=False, max_depth=None, max_features=1.0, min_samples_leaf=1, min_samples_split=2, n_estimators=800;, score=0.962 total time= 3.3min\n",
      "[CV 1/5] END bootstrap=False, max_depth=90, max_features=log2, min_samples_leaf=2, min_samples_split=10, n_estimators=200;, score=0.953 total time=   5.7s\n",
      "[CV 2/5] END bootstrap=False, max_depth=90, max_features=log2, min_samples_leaf=2, min_samples_split=10, n_estimators=200;, score=0.955 total time=   5.7s\n",
      "[CV 5/5] END bootstrap=False, max_depth=90, max_features=log2, min_samples_leaf=2, min_samples_split=10, n_estimators=200;, score=0.950 total time=   5.6s\n",
      "[CV 2/5] END bootstrap=False, max_depth=None, max_features=1.0, min_samples_leaf=1, min_samples_split=2, n_estimators=800;, score=0.967 total time= 3.4min\n",
      "[CV 4/5] END bootstrap=False, max_depth=90, max_features=log2, min_samples_leaf=2, min_samples_split=10, n_estimators=200;, score=0.952 total time=   5.8s\n",
      "[CV 3/5] END bootstrap=False, max_depth=None, max_features=1.0, min_samples_leaf=1, min_samples_split=2, n_estimators=800;, score=0.959 total time= 3.4min\n",
      "[CV 2/5] END bootstrap=True, max_depth=40, max_features=1.0, min_samples_leaf=2, min_samples_split=10, n_estimators=800;, score=0.990 total time= 1.7min\n",
      "[CV 2/5] END bootstrap=True, max_depth=40, max_features=sqrt, min_samples_leaf=2, min_samples_split=10, n_estimators=800;, score=0.956 total time=  16.8s\n",
      "[CV 3/5] END bootstrap=False, max_depth=80, max_features=1.0, min_samples_leaf=4, min_samples_split=10, n_estimators=500;, score=0.956 total time= 1.6min\n",
      "[CV 3/5] END bootstrap=False, max_depth=10, max_features=1.0, min_samples_leaf=1, min_samples_split=5, n_estimators=500;, score=0.954 total time= 1.6min\n",
      "[CV 1/5] END bootstrap=False, max_depth=80, max_features=1.0, min_samples_leaf=4, min_samples_split=5, n_estimators=500;, score=0.960 total time= 1.7min\n",
      "[CV 3/5] END bootstrap=True, max_depth=100, max_features=log2, min_samples_leaf=1, min_samples_split=5, n_estimators=700;, score=0.947 total time=  14.5s\n",
      "[CV 2/5] END bootstrap=True, max_depth=80, max_features=sqrt, min_samples_leaf=1, min_samples_split=10, n_estimators=300;, score=0.957 total time=   6.3s\n",
      "[CV 1/5] END bootstrap=False, max_depth=80, max_features=sqrt, min_samples_leaf=2, min_samples_split=5, n_estimators=600;, score=0.965 total time=  21.9s\n",
      "[CV 1/5] END bootstrap=False, max_depth=30, max_features=sqrt, min_samples_leaf=4, min_samples_split=2, n_estimators=200;, score=0.961 total time=   6.5s\n",
      "[CV 3/5] END bootstrap=False, max_depth=40, max_features=sqrt, min_samples_leaf=2, min_samples_split=2, n_estimators=500;, score=0.961 total time=  18.7s\n",
      "[CV 1/5] END bootstrap=False, max_depth=70, max_features=sqrt, min_samples_leaf=1, min_samples_split=10, n_estimators=100;, score=0.963 total time=   3.4s\n",
      "[CV 1/5] END bootstrap=False, max_depth=None, max_features=log2, min_samples_leaf=4, min_samples_split=5, n_estimators=600;, score=0.953 total time=  16.6s\n",
      "[CV 4/5] END bootstrap=True, max_depth=50, max_features=1.0, min_samples_leaf=4, min_samples_split=5, n_estimators=600;, score=0.986 total time= 1.2min\n",
      "[CV 2/5] END bootstrap=True, max_depth=50, max_features=sqrt, min_samples_leaf=2, min_samples_split=10, n_estimators=200;, score=0.955 total time=   4.4s\n",
      "[CV 5/5] END bootstrap=True, max_depth=50, max_features=sqrt, min_samples_leaf=2, min_samples_split=10, n_estimators=200;, score=0.950 total time=   4.2s\n",
      "[CV 3/5] END bootstrap=True, max_depth=20, max_features=1.0, min_samples_leaf=1, min_samples_split=5, n_estimators=1000;, score=0.986 total time= 2.3min\n",
      "[CV 3/5] END bootstrap=False, max_depth=90, max_features=sqrt, min_samples_leaf=4, min_samples_split=2, n_estimators=400;, score=0.957 total time=  13.3s\n",
      "[CV 3/5] END bootstrap=False, max_depth=20, max_features=1.0, min_samples_leaf=4, min_samples_split=10, n_estimators=100;, score=0.956 total time=  20.6s\n",
      "[CV 4/5] END bootstrap=False, max_depth=10, max_features=log2, min_samples_leaf=4, min_samples_split=5, n_estimators=1000;, score=0.940 total time=  24.8s\n",
      "[CV 2/5] END bootstrap=False, max_depth=30, max_features=sqrt, min_samples_leaf=4, min_samples_split=2, n_estimators=900;, score=0.963 total time=  31.4s\n",
      "[CV 2/5] END bootstrap=True, max_depth=10, max_features=log2, min_samples_leaf=2, min_samples_split=2, n_estimators=200;, score=0.935 total time=   3.5s\n",
      "[CV 5/5] END bootstrap=True, max_depth=10, max_features=log2, min_samples_leaf=2, min_samples_split=2, n_estimators=200;, score=0.932 total time=   3.5s\n",
      "[CV 1/5] END bootstrap=True, max_depth=None, max_features=1.0, min_samples_leaf=1, min_samples_split=5, n_estimators=700;, score=0.990 total time= 1.6min\n",
      "[CV 2/5] END bootstrap=True, max_depth=20, max_features=log2, min_samples_leaf=4, min_samples_split=5, n_estimators=700;, score=0.945 total time=  12.3s\n",
      "[CV 4/5] END bootstrap=False, max_depth=70, max_features=sqrt, min_samples_leaf=2, min_samples_split=10, n_estimators=400;, score=0.960 total time=  13.3s\n",
      "[CV 2/5] END bootstrap=False, max_depth=None, max_features=1.0, min_samples_leaf=2, min_samples_split=10, n_estimators=500;, score=0.966 total time= 1.7min\n",
      "[CV 1/5] END bootstrap=True, max_depth=10, max_features=sqrt, min_samples_leaf=2, min_samples_split=5, n_estimators=300;, score=0.947 total time=   5.6s\n",
      "[CV 2/5] END bootstrap=False, max_depth=60, max_features=sqrt, min_samples_leaf=2, min_samples_split=2, n_estimators=300;, score=0.966 total time=  11.1s\n",
      "[CV 3/5] END bootstrap=False, max_depth=10, max_features=sqrt, min_samples_leaf=1, min_samples_split=5, n_estimators=700;, score=0.949 total time=  19.9s\n",
      "[CV 4/5] END bootstrap=False, max_depth=60, max_features=1.0, min_samples_leaf=1, min_samples_split=10, n_estimators=100;, score=0.960 total time=  20.6s\n",
      "[CV 2/5] END bootstrap=False, max_depth=20, max_features=log2, min_samples_leaf=4, min_samples_split=5, n_estimators=600;, score=0.954 total time=  16.7s\n",
      "[CV 2/5] END bootstrap=True, max_depth=20, max_features=1.0, min_samples_leaf=1, min_samples_split=10, n_estimators=700;, score=0.990 total time= 1.4min\n",
      "[CV 4/5] END bootstrap=True, max_depth=110, max_features=1.0, min_samples_leaf=2, min_samples_split=10, n_estimators=300;, score=0.986 total time=  37.5s\n",
      "[CV 4/5] END bootstrap=True, max_depth=30, max_features=log2, min_samples_leaf=1, min_samples_split=10, n_estimators=200;, score=0.942 total time=   3.6s\n",
      "[CV 2/5] END bootstrap=True, max_depth=10, max_features=1.0, min_samples_leaf=2, min_samples_split=10, n_estimators=1000;, score=0.989 total time= 1.9min\n",
      "[CV 5/5] END bootstrap=False, max_depth=None, max_features=1.0, min_samples_leaf=1, min_samples_split=2, n_estimators=800;, score=0.961 total time= 3.3min\n"
     ]
    },
    {
     "name": "stdout",
     "output_type": "stream",
     "text": [
      "[CV 4/5] END bootstrap=False, max_depth=80, max_features=1.0, min_samples_leaf=4, min_samples_split=2, n_estimators=900;, score=0.963 total time= 3.1min\n",
      "[CV 2/5] END bootstrap=False, max_depth=None, max_features=sqrt, min_samples_leaf=2, min_samples_split=2, n_estimators=700;, score=0.967 total time=  27.3s\n",
      "[CV 5/5] END bootstrap=False, max_depth=None, max_features=sqrt, min_samples_leaf=2, min_samples_split=2, n_estimators=700;, score=0.963 total time=  26.1s\n",
      "[CV 3/5] END bootstrap=True, max_depth=10, max_features=sqrt, min_samples_leaf=1, min_samples_split=2, n_estimators=700;, score=0.944 total time=  13.4s\n",
      "[CV 1/5] END bootstrap=False, max_depth=None, max_features=log2, min_samples_leaf=1, min_samples_split=2, n_estimators=500;, score=0.959 total time=  18.8s\n",
      "[CV 2/5] END bootstrap=False, max_depth=40, max_features=log2, min_samples_leaf=1, min_samples_split=2, n_estimators=500;, score=0.961 total time=  19.2s\n",
      "[CV 3/5] END bootstrap=False, max_depth=40, max_features=log2, min_samples_leaf=1, min_samples_split=2, n_estimators=500;, score=0.955 total time=  19.1s\n",
      "[CV 5/5] END bootstrap=False, max_depth=40, max_features=log2, min_samples_leaf=1, min_samples_split=2, n_estimators=500;, score=0.957 total time=  18.9s\n",
      "[CV 4/5] END bootstrap=True, max_depth=60, max_features=1.0, min_samples_leaf=4, min_samples_split=5, n_estimators=100;, score=0.986 total time=  12.2s\n",
      "[CV 2/5] END bootstrap=False, max_depth=40, max_features=sqrt, min_samples_leaf=2, min_samples_split=10, n_estimators=100;, score=0.963 total time=   3.4s\n",
      "[CV 5/5] END bootstrap=False, max_depth=40, max_features=sqrt, min_samples_leaf=2, min_samples_split=10, n_estimators=100;, score=0.958 total time=   3.3s\n",
      "[CV 5/5] END bootstrap=False, max_depth=10, max_features=1.0, min_samples_leaf=1, min_samples_split=5, n_estimators=500;, score=0.956 total time= 1.6min\n",
      "[CV 2/5] END bootstrap=False, max_depth=80, max_features=1.0, min_samples_leaf=4, min_samples_split=5, n_estimators=500;, score=0.964 total time= 1.7min\n",
      "[CV 5/5] END bootstrap=True, max_depth=100, max_features=log2, min_samples_leaf=1, min_samples_split=5, n_estimators=700;, score=0.948 total time=  14.5s\n",
      "[CV 4/5] END bootstrap=True, max_depth=80, max_features=sqrt, min_samples_leaf=1, min_samples_split=10, n_estimators=300;, score=0.953 total time=   6.4s\n",
      "[CV 5/5] END bootstrap=False, max_depth=80, max_features=sqrt, min_samples_leaf=2, min_samples_split=5, n_estimators=600;, score=0.963 total time=  21.8s\n",
      "[CV 1/5] END bootstrap=False, max_depth=40, max_features=sqrt, min_samples_leaf=2, min_samples_split=2, n_estimators=500;, score=0.966 total time=  18.7s\n",
      "[CV 4/5] END bootstrap=True, max_depth=50, max_features=log2, min_samples_leaf=4, min_samples_split=2, n_estimators=1000;, score=0.941 total time=  17.6s\n",
      "[CV 2/5] END bootstrap=True, max_depth=50, max_features=1.0, min_samples_leaf=4, min_samples_split=5, n_estimators=600;, score=0.990 total time= 1.2min\n",
      "[CV 5/5] END bootstrap=True, max_depth=40, max_features=1.0, min_samples_leaf=2, min_samples_split=10, n_estimators=1000;, score=0.986 total time= 2.1min\n",
      "[CV 4/5] END bootstrap=True, max_depth=60, max_features=1.0, min_samples_leaf=4, min_samples_split=10, n_estimators=300;, score=0.985 total time=  36.1s\n",
      "[CV 5/5] END bootstrap=False, max_depth=90, max_features=sqrt, min_samples_leaf=4, min_samples_split=2, n_estimators=400;, score=0.958 total time=  13.3s\n",
      "[CV 1/5] END bootstrap=False, max_depth=10, max_features=log2, min_samples_leaf=4, min_samples_split=5, n_estimators=1000;, score=0.940 total time=  24.6s\n",
      "[CV 2/5] END bootstrap=False, max_depth=100, max_features=log2, min_samples_leaf=4, min_samples_split=5, n_estimators=900;, score=0.954 total time=  28.2s\n",
      "[CV 1/5] END bootstrap=False, max_depth=10, max_features=sqrt, min_samples_leaf=4, min_samples_split=10, n_estimators=400;, score=0.951 total time=  11.2s\n",
      "[CV 4/5] END bootstrap=False, max_depth=10, max_features=sqrt, min_samples_leaf=4, min_samples_split=10, n_estimators=400;, score=0.950 total time=  11.9s\n",
      "[CV 5/5] END bootstrap=True, max_depth=40, max_features=sqrt, min_samples_leaf=2, min_samples_split=2, n_estimators=300;, score=0.955 total time=   6.9s\n",
      "[CV 2/5] END bootstrap=True, max_depth=100, max_features=log2, min_samples_leaf=1, min_samples_split=5, n_estimators=800;, score=0.952 total time=  16.5s\n",
      "[CV 4/5] END bootstrap=True, max_depth=100, max_features=log2, min_samples_leaf=1, min_samples_split=5, n_estimators=800;, score=0.948 total time=  16.9s\n",
      "[CV 2/5] END bootstrap=False, max_depth=90, max_features=1.0, min_samples_leaf=4, min_samples_split=2, n_estimators=200;, score=0.964 total time=  41.1s\n",
      "[CV 1/5] END bootstrap=True, max_depth=70, max_features=sqrt, min_samples_leaf=2, min_samples_split=10, n_estimators=100;, score=0.953 total time=   2.0s\n",
      "[CV 2/5] END bootstrap=True, max_depth=70, max_features=sqrt, min_samples_leaf=2, min_samples_split=10, n_estimators=100;, score=0.955 total time=   2.2s\n",
      "[CV 3/5] END bootstrap=True, max_depth=70, max_features=sqrt, min_samples_leaf=2, min_samples_split=10, n_estimators=100;, score=0.949 total time=   2.1s\n",
      "[CV 4/5] END bootstrap=True, max_depth=70, max_features=sqrt, min_samples_leaf=2, min_samples_split=10, n_estimators=100;, score=0.950 total time=   2.1s\n",
      "[CV 5/5] END bootstrap=True, max_depth=70, max_features=sqrt, min_samples_leaf=2, min_samples_split=10, n_estimators=100;, score=0.950 total time=   2.0s\n",
      "[CV 1/5] END bootstrap=True, max_depth=20, max_features=log2, min_samples_leaf=4, min_samples_split=5, n_estimators=700;, score=0.944 total time=  12.1s\n",
      "[CV 1/5] END bootstrap=False, max_depth=70, max_features=sqrt, min_samples_leaf=2, min_samples_split=10, n_estimators=400;, score=0.962 total time=  13.2s\n",
      "[CV 3/5] END bootstrap=True, max_depth=60, max_features=1.0, min_samples_leaf=4, min_samples_split=5, n_estimators=900;, score=0.984 total time= 1.8min\n",
      "[CV 4/5] END bootstrap=True, max_depth=10, max_features=sqrt, min_samples_leaf=2, min_samples_split=5, n_estimators=300;, score=0.945 total time=   5.6s\n",
      "[CV 5/5] END bootstrap=False, max_depth=60, max_features=sqrt, min_samples_leaf=2, min_samples_split=2, n_estimators=300;, score=0.962 total time=  11.0s\n",
      "[CV 1/5] END bootstrap=False, max_depth=60, max_features=1.0, min_samples_leaf=1, min_samples_split=10, n_estimators=100;, score=0.960 total time=  20.7s\n",
      "[CV 2/5] END bootstrap=True, max_depth=70, max_features=sqrt, min_samples_leaf=1, min_samples_split=10, n_estimators=800;, score=0.957 total time=  17.1s\n",
      "[CV 5/5] END bootstrap=True, max_depth=70, max_features=sqrt, min_samples_leaf=1, min_samples_split=10, n_estimators=800;, score=0.951 total time=  17.0s\n",
      "[CV 1/5] END bootstrap=True, max_depth=20, max_features=1.0, min_samples_leaf=1, min_samples_split=10, n_estimators=700;, score=0.989 total time= 1.4min\n",
      "[CV 5/5] END bootstrap=True, max_depth=110, max_features=1.0, min_samples_leaf=2, min_samples_split=10, n_estimators=300;, score=0.985 total time=  38.0s\n",
      "[CV 1/5] END bootstrap=True, max_depth=10, max_features=1.0, min_samples_leaf=2, min_samples_split=10, n_estimators=1000;, score=0.988 total time= 1.9min\n",
      "[CV 4/5] END bootstrap=False, max_depth=None, max_features=1.0, min_samples_leaf=1, min_samples_split=2, n_estimators=800;, score=0.963 total time= 3.3min\n",
      "[CV 3/5] END bootstrap=True, max_depth=100, max_features=1.0, min_samples_leaf=2, min_samples_split=2, n_estimators=100;, score=0.985 total time=  13.6s\n",
      "[CV 1/5] END bootstrap=False, max_depth=70, max_features=1.0, min_samples_leaf=1, min_samples_split=5, n_estimators=100;, score=0.962 total time=  22.5s\n",
      "[CV 4/5] END bootstrap=False, max_depth=70, max_features=1.0, min_samples_leaf=1, min_samples_split=5, n_estimators=100;, score=0.962 total time=  22.6s\n",
      "[CV 3/5] END bootstrap=False, max_depth=80, max_features=sqrt, min_samples_leaf=1, min_samples_split=10, n_estimators=500;, score=0.959 total time=  17.0s\n",
      "[CV 1/5] END bootstrap=False, max_depth=None, max_features=log2, min_samples_leaf=2, min_samples_split=2, n_estimators=500;, score=0.958 total time=  15.8s\n",
      "[CV 4/5] END bootstrap=False, max_depth=None, max_features=log2, min_samples_leaf=2, min_samples_split=2, n_estimators=500;, score=0.956 total time=  16.9s\n",
      "[CV 5/5] END bootstrap=True, max_depth=10, max_features=1.0, min_samples_leaf=2, min_samples_split=2, n_estimators=800;, score=0.986 total time= 1.7min\n",
      "[CV 1/5] END bootstrap=True, max_depth=10, max_features=sqrt, min_samples_leaf=1, min_samples_split=2, n_estimators=700;, score=0.947 total time=  13.4s\n",
      "[CV 4/5] END bootstrap=True, max_depth=10, max_features=sqrt, min_samples_leaf=1, min_samples_split=2, n_estimators=700;, score=0.946 total time=  13.4s\n",
      "[CV 2/5] END bootstrap=False, max_depth=None, max_features=log2, min_samples_leaf=1, min_samples_split=2, n_estimators=500;, score=0.961 total time=  19.0s\n",
      "[CV 5/5] END bootstrap=False, max_depth=None, max_features=log2, min_samples_leaf=1, min_samples_split=2, n_estimators=500;, score=0.957 total time=  18.9s\n"
     ]
    },
    {
     "name": "stdout",
     "output_type": "stream",
     "text": [
      "[CV 4/5] END bootstrap=False, max_depth=20, max_features=1.0, min_samples_leaf=1, min_samples_split=2, n_estimators=400;, score=0.963 total time= 1.7min\n",
      "[CV 4/5] END bootstrap=True, max_depth=20, max_features=sqrt, min_samples_leaf=1, min_samples_split=10, n_estimators=200;, score=0.952 total time=   4.2s\n",
      "[CV 4/5] END bootstrap=True, max_depth=40, max_features=sqrt, min_samples_leaf=2, min_samples_split=10, n_estimators=800;, score=0.951 total time=  16.6s\n",
      "[CV 5/5] END bootstrap=False, max_depth=80, max_features=1.0, min_samples_leaf=4, min_samples_split=10, n_estimators=500;, score=0.958 total time= 1.7min\n",
      "[CV 3/5] END bootstrap=False, max_depth=80, max_features=1.0, min_samples_leaf=1, min_samples_split=10, n_estimators=600;, score=0.956 total time= 2.1min\n",
      "[CV 5/5] END bootstrap=False, max_depth=80, max_features=1.0, min_samples_leaf=4, min_samples_split=5, n_estimators=500;, score=0.958 total time= 1.7min\n",
      "[CV 3/5] END bootstrap=True, max_depth=80, max_features=sqrt, min_samples_leaf=2, min_samples_split=5, n_estimators=500;, score=0.953 total time=  11.7s\n",
      "[CV 3/5] END bootstrap=False, max_depth=30, max_features=sqrt, min_samples_leaf=4, min_samples_split=2, n_estimators=200;, score=0.956 total time=   6.6s\n",
      "[CV 5/5] END bootstrap=False, max_depth=40, max_features=sqrt, min_samples_leaf=2, min_samples_split=2, n_estimators=500;, score=0.963 total time=  18.7s\n",
      "[CV 5/5] END bootstrap=False, max_depth=70, max_features=sqrt, min_samples_leaf=1, min_samples_split=10, n_estimators=100;, score=0.960 total time=   3.5s\n",
      "[CV 1/5] END bootstrap=True, max_depth=50, max_features=1.0, min_samples_leaf=4, min_samples_split=5, n_estimators=600;, score=0.988 total time= 1.2min\n",
      "[CV 4/5] END bootstrap=True, max_depth=40, max_features=1.0, min_samples_leaf=2, min_samples_split=10, n_estimators=1000;, score=0.986 total time= 2.1min\n",
      "[CV 3/5] END bootstrap=True, max_depth=60, max_features=1.0, min_samples_leaf=4, min_samples_split=10, n_estimators=300;, score=0.984 total time=  36.1s\n",
      "[CV 2/5] END bootstrap=False, max_depth=90, max_features=sqrt, min_samples_leaf=4, min_samples_split=2, n_estimators=400;, score=0.962 total time=  13.3s\n",
      "[CV 2/5] END bootstrap=False, max_depth=20, max_features=1.0, min_samples_leaf=4, min_samples_split=10, n_estimators=100;, score=0.964 total time=  21.0s\n",
      "[CV 3/5] END bootstrap=False, max_depth=10, max_features=log2, min_samples_leaf=4, min_samples_split=5, n_estimators=1000;, score=0.936 total time=  24.9s\n",
      "[CV 1/5] END bootstrap=False, max_depth=30, max_features=sqrt, min_samples_leaf=4, min_samples_split=2, n_estimators=900;, score=0.961 total time=  31.4s\n",
      "[CV 1/5] END bootstrap=True, max_depth=10, max_features=log2, min_samples_leaf=2, min_samples_split=2, n_estimators=200;, score=0.935 total time=   3.5s\n",
      "[CV 3/5] END bootstrap=True, max_depth=10, max_features=log2, min_samples_leaf=2, min_samples_split=2, n_estimators=200;, score=0.931 total time=   3.6s\n",
      "[CV 3/5] END bootstrap=True, max_depth=40, max_features=sqrt, min_samples_leaf=2, min_samples_split=2, n_estimators=300;, score=0.953 total time=   7.0s\n",
      "[CV 5/5] END bootstrap=True, max_depth=None, max_features=1.0, min_samples_leaf=1, min_samples_split=5, n_estimators=700;, score=0.987 total time= 1.6min\n",
      "[CV 5/5] END bootstrap=True, max_depth=20, max_features=log2, min_samples_leaf=4, min_samples_split=5, n_estimators=700;, score=0.940 total time=  12.4s\n",
      "[CV 2/5] END bootstrap=True, max_depth=60, max_features=1.0, min_samples_leaf=4, min_samples_split=5, n_estimators=900;, score=0.990 total time= 1.8min\n",
      "[CV 3/5] END bootstrap=True, max_depth=10, max_features=sqrt, min_samples_leaf=2, min_samples_split=5, n_estimators=300;, score=0.943 total time=   5.6s\n",
      "[CV 4/5] END bootstrap=False, max_depth=60, max_features=sqrt, min_samples_leaf=2, min_samples_split=2, n_estimators=300;, score=0.964 total time=  11.1s\n",
      "[CV 5/5] END bootstrap=False, max_depth=10, max_features=sqrt, min_samples_leaf=1, min_samples_split=5, n_estimators=700;, score=0.950 total time=  19.8s\n",
      "[CV 5/5] END bootstrap=False, max_depth=60, max_features=1.0, min_samples_leaf=1, min_samples_split=10, n_estimators=100;, score=0.959 total time=  20.7s\n",
      "[CV 3/5] END bootstrap=False, max_depth=20, max_features=log2, min_samples_leaf=4, min_samples_split=5, n_estimators=600;, score=0.949 total time=  16.9s\n",
      "[CV 4/5] END bootstrap=True, max_depth=20, max_features=1.0, min_samples_leaf=1, min_samples_split=10, n_estimators=700;, score=0.986 total time= 1.4min\n",
      "[CV 2/5] END bootstrap=False, max_depth=70, max_features=1.0, min_samples_leaf=1, min_samples_split=2, n_estimators=400;, score=0.967 total time= 1.7min\n",
      "[CV 5/5] END bootstrap=True, max_depth=10, max_features=1.0, min_samples_leaf=2, min_samples_split=10, n_estimators=1000;, score=0.985 total time= 1.9min\n",
      "[CV 2/5] END bootstrap=False, max_depth=50, max_features=log2, min_samples_leaf=1, min_samples_split=2, n_estimators=400;, score=0.961 total time=  15.1s\n",
      "[CV 5/5] END bootstrap=False, max_depth=50, max_features=log2, min_samples_leaf=1, min_samples_split=2, n_estimators=400;, score=0.957 total time=  15.0s\n",
      "[CV 3/5] END bootstrap=True, max_depth=40, max_features=sqrt, min_samples_leaf=1, min_samples_split=10, n_estimators=700;, score=0.951 total time=  16.0s\n",
      "[CV 1/5] END bootstrap=False, max_depth=80, max_features=1.0, min_samples_leaf=4, min_samples_split=2, n_estimators=900;, score=0.960 total time= 3.0min\n",
      "[CV 5/5] END bootstrap=False, max_depth=None, max_features=log2, min_samples_leaf=2, min_samples_split=2, n_estimators=500;, score=0.955 total time=  16.7s\n",
      "[CV 1/5] END bootstrap=True, max_depth=90, max_features=sqrt, min_samples_leaf=4, min_samples_split=5, n_estimators=400;, score=0.953 total time=   9.2s\n",
      "[CV 2/5] END bootstrap=True, max_depth=90, max_features=sqrt, min_samples_leaf=4, min_samples_split=5, n_estimators=400;, score=0.954 total time=  10.6s\n",
      "[CV 3/5] END bootstrap=True, max_depth=90, max_features=sqrt, min_samples_leaf=4, min_samples_split=5, n_estimators=400;, score=0.948 total time=  10.1s\n",
      "[CV 4/5] END bootstrap=True, max_depth=90, max_features=sqrt, min_samples_leaf=4, min_samples_split=5, n_estimators=400;, score=0.950 total time=   8.2s\n",
      "[CV 5/5] END bootstrap=True, max_depth=90, max_features=sqrt, min_samples_leaf=4, min_samples_split=5, n_estimators=400;, score=0.949 total time=   8.2s\n",
      "[CV 1/5] END bootstrap=False, max_depth=None, max_features=sqrt, min_samples_leaf=2, min_samples_split=2, n_estimators=700;, score=0.966 total time=  27.5s\n",
      "[CV 4/5] END bootstrap=False, max_depth=None, max_features=sqrt, min_samples_leaf=2, min_samples_split=2, n_estimators=700;, score=0.964 total time=  26.0s\n",
      "[CV 2/5] END bootstrap=True, max_depth=10, max_features=sqrt, min_samples_leaf=1, min_samples_split=2, n_estimators=700;, score=0.950 total time=  13.2s\n",
      "[CV 5/5] END bootstrap=True, max_depth=10, max_features=sqrt, min_samples_leaf=1, min_samples_split=2, n_estimators=700;, score=0.944 total time=  13.4s\n",
      "[CV 3/5] END bootstrap=False, max_depth=None, max_features=log2, min_samples_leaf=1, min_samples_split=2, n_estimators=500;, score=0.955 total time=  18.9s\n",
      "[CV 1/5] END bootstrap=True, max_depth=60, max_features=sqrt, min_samples_leaf=2, min_samples_split=5, n_estimators=800;, score=0.958 total time=  18.2s\n",
      "[CV 3/5] END bootstrap=True, max_depth=60, max_features=sqrt, min_samples_leaf=2, min_samples_split=5, n_estimators=800;, score=0.953 total time=  18.1s\n",
      "[CV 3/5] END bootstrap=True, max_depth=40, max_features=sqrt, min_samples_leaf=4, min_samples_split=10, n_estimators=300;, score=0.947 total time=   5.9s\n",
      "[CV 3/5] END bootstrap=True, max_depth=60, max_features=log2, min_samples_leaf=1, min_samples_split=10, n_estimators=600;, score=0.942 total time=  11.1s\n",
      "[CV 1/5] END bootstrap=True, max_depth=110, max_features=sqrt, min_samples_leaf=1, min_samples_split=2, n_estimators=600;, score=0.960 total time=  16.6s\n",
      "[CV 5/5] END bootstrap=False, max_depth=80, max_features=1.0, min_samples_leaf=4, min_samples_split=2, n_estimators=900;, score=0.957 total time= 3.1min\n",
      "[CV 3/5] END bootstrap=False, max_depth=None, max_features=sqrt, min_samples_leaf=2, min_samples_split=2, n_estimators=700;, score=0.961 total time=  27.7s\n",
      "[CV 1/5] END bootstrap=True, max_depth=30, max_features=1.0, min_samples_leaf=2, min_samples_split=2, n_estimators=700;, score=0.990 total time= 1.6min\n",
      "[CV 1/5] END bootstrap=True, max_depth=40, max_features=sqrt, min_samples_leaf=4, min_samples_split=10, n_estimators=300;, score=0.951 total time=   6.0s\n",
      "[CV 4/5] END bootstrap=True, max_depth=40, max_features=sqrt, min_samples_leaf=4, min_samples_split=10, n_estimators=300;, score=0.948 total time=   5.9s\n",
      "[CV 4/5] END bootstrap=True, max_depth=60, max_features=log2, min_samples_leaf=1, min_samples_split=10, n_estimators=600;, score=0.943 total time=  11.0s\n",
      "[CV 2/5] END bootstrap=True, max_depth=110, max_features=sqrt, min_samples_leaf=1, min_samples_split=2, n_estimators=600;, score=0.961 total time=  16.7s\n"
     ]
    },
    {
     "name": "stdout",
     "output_type": "stream",
     "text": [
      "[CV 1/5] END bootstrap=True, max_depth=100, max_features=1.0, min_samples_leaf=2, min_samples_split=2, n_estimators=100;, score=0.990 total time=  13.5s\n",
      "[CV 2/5] END bootstrap=True, max_depth=100, max_features=1.0, min_samples_leaf=2, min_samples_split=2, n_estimators=100;, score=0.991 total time=  13.4s\n",
      "[CV 5/5] END bootstrap=True, max_depth=100, max_features=1.0, min_samples_leaf=2, min_samples_split=2, n_estimators=100;, score=0.987 total time=  13.5s\n",
      "[CV 3/5] END bootstrap=False, max_depth=70, max_features=1.0, min_samples_leaf=1, min_samples_split=5, n_estimators=100;, score=0.959 total time=  22.4s\n",
      "[CV 1/5] END bootstrap=False, max_depth=80, max_features=sqrt, min_samples_leaf=1, min_samples_split=10, n_estimators=500;, score=0.964 total time=  17.2s\n",
      "[CV 2/5] END bootstrap=False, max_depth=80, max_features=sqrt, min_samples_leaf=1, min_samples_split=10, n_estimators=500;, score=0.964 total time=  17.0s\n",
      "[CV 5/5] END bootstrap=False, max_depth=80, max_features=sqrt, min_samples_leaf=1, min_samples_split=10, n_estimators=500;, score=0.960 total time=  16.9s\n",
      "[CV 3/5] END bootstrap=False, max_depth=None, max_features=log2, min_samples_leaf=2, min_samples_split=2, n_estimators=500;, score=0.954 total time=  16.8s\n",
      "[CV 4/5] END bootstrap=True, max_depth=10, max_features=1.0, min_samples_leaf=2, min_samples_split=2, n_estimators=800;, score=0.987 total time= 1.7min\n",
      "[CV 5/5] END bootstrap=True, max_depth=30, max_features=1.0, min_samples_leaf=2, min_samples_split=2, n_estimators=700;, score=0.987 total time= 1.6min\n",
      "[CV 2/5] END bootstrap=False, max_depth=None, max_features=log2, min_samples_leaf=1, min_samples_split=5, n_estimators=500;, score=0.960 total time=  16.4s\n",
      "[CV 5/5] END bootstrap=True, max_depth=110, max_features=sqrt, min_samples_leaf=1, min_samples_split=2, n_estimators=600;, score=0.957 total time=  16.8s\n"
     ]
    },
    {
     "data": {
      "text/html": [
       "<style>#sk-container-id-3 {color: black;background-color: white;}#sk-container-id-3 pre{padding: 0;}#sk-container-id-3 div.sk-toggleable {background-color: white;}#sk-container-id-3 label.sk-toggleable__label {cursor: pointer;display: block;width: 100%;margin-bottom: 0;padding: 0.3em;box-sizing: border-box;text-align: center;}#sk-container-id-3 label.sk-toggleable__label-arrow:before {content: \"▸\";float: left;margin-right: 0.25em;color: #696969;}#sk-container-id-3 label.sk-toggleable__label-arrow:hover:before {color: black;}#sk-container-id-3 div.sk-estimator:hover label.sk-toggleable__label-arrow:before {color: black;}#sk-container-id-3 div.sk-toggleable__content {max-height: 0;max-width: 0;overflow: hidden;text-align: left;background-color: #f0f8ff;}#sk-container-id-3 div.sk-toggleable__content pre {margin: 0.2em;color: black;border-radius: 0.25em;background-color: #f0f8ff;}#sk-container-id-3 input.sk-toggleable__control:checked~div.sk-toggleable__content {max-height: 200px;max-width: 100%;overflow: auto;}#sk-container-id-3 input.sk-toggleable__control:checked~label.sk-toggleable__label-arrow:before {content: \"▾\";}#sk-container-id-3 div.sk-estimator input.sk-toggleable__control:checked~label.sk-toggleable__label {background-color: #d4ebff;}#sk-container-id-3 div.sk-label input.sk-toggleable__control:checked~label.sk-toggleable__label {background-color: #d4ebff;}#sk-container-id-3 input.sk-hidden--visually {border: 0;clip: rect(1px 1px 1px 1px);clip: rect(1px, 1px, 1px, 1px);height: 1px;margin: -1px;overflow: hidden;padding: 0;position: absolute;width: 1px;}#sk-container-id-3 div.sk-estimator {font-family: monospace;background-color: #f0f8ff;border: 1px dotted black;border-radius: 0.25em;box-sizing: border-box;margin-bottom: 0.5em;}#sk-container-id-3 div.sk-estimator:hover {background-color: #d4ebff;}#sk-container-id-3 div.sk-parallel-item::after {content: \"\";width: 100%;border-bottom: 1px solid gray;flex-grow: 1;}#sk-container-id-3 div.sk-label:hover label.sk-toggleable__label {background-color: #d4ebff;}#sk-container-id-3 div.sk-serial::before {content: \"\";position: absolute;border-left: 1px solid gray;box-sizing: border-box;top: 0;bottom: 0;left: 50%;z-index: 0;}#sk-container-id-3 div.sk-serial {display: flex;flex-direction: column;align-items: center;background-color: white;padding-right: 0.2em;padding-left: 0.2em;position: relative;}#sk-container-id-3 div.sk-item {position: relative;z-index: 1;}#sk-container-id-3 div.sk-parallel {display: flex;align-items: stretch;justify-content: center;background-color: white;position: relative;}#sk-container-id-3 div.sk-item::before, #sk-container-id-3 div.sk-parallel-item::before {content: \"\";position: absolute;border-left: 1px solid gray;box-sizing: border-box;top: 0;bottom: 0;left: 50%;z-index: -1;}#sk-container-id-3 div.sk-parallel-item {display: flex;flex-direction: column;z-index: 1;position: relative;background-color: white;}#sk-container-id-3 div.sk-parallel-item:first-child::after {align-self: flex-end;width: 50%;}#sk-container-id-3 div.sk-parallel-item:last-child::after {align-self: flex-start;width: 50%;}#sk-container-id-3 div.sk-parallel-item:only-child::after {width: 0;}#sk-container-id-3 div.sk-dashed-wrapped {border: 1px dashed gray;margin: 0 0.4em 0.5em 0.4em;box-sizing: border-box;padding-bottom: 0.4em;background-color: white;}#sk-container-id-3 div.sk-label label {font-family: monospace;font-weight: bold;display: inline-block;line-height: 1.2em;}#sk-container-id-3 div.sk-label-container {text-align: center;}#sk-container-id-3 div.sk-container {/* jupyter's `normalize.less` sets `[hidden] { display: none; }` but bootstrap.min.css set `[hidden] { display: none !important; }` so we also need the `!important` here to be able to override the default hidden behavior on the sphinx rendered scikit-learn.org. See: https://github.com/scikit-learn/scikit-learn/issues/21755 */display: inline-block !important;position: relative;}#sk-container-id-3 div.sk-text-repr-fallback {display: none;}</style><div id=\"sk-container-id-3\" class=\"sk-top-container\"><div class=\"sk-text-repr-fallback\"><pre>RandomizedSearchCV(cv=5, estimator=RandomForestRegressor(random_state=42),\n",
       "                   n_iter=100, n_jobs=-1,\n",
       "                   param_distributions={&#x27;bootstrap&#x27;: [True, False],\n",
       "                                        &#x27;max_depth&#x27;: [10, 20, 30, 40, 50, 60,\n",
       "                                                      70, 80, 90, 100, 110,\n",
       "                                                      None],\n",
       "                                        &#x27;max_features&#x27;: [&#x27;log2&#x27;, &#x27;sqrt&#x27;, 1.0],\n",
       "                                        &#x27;min_samples_leaf&#x27;: [1, 2, 4],\n",
       "                                        &#x27;min_samples_split&#x27;: [2, 5, 10],\n",
       "                                        &#x27;n_estimators&#x27;: [100, 200, 300, 400,\n",
       "                                                         500, 600, 700, 800,\n",
       "                                                         900, 1000]},\n",
       "                   random_state=42, verbose=3)</pre><b>In a Jupyter environment, please rerun this cell to show the HTML representation or trust the notebook. <br />On GitHub, the HTML representation is unable to render, please try loading this page with nbviewer.org.</b></div><div class=\"sk-container\" hidden><div class=\"sk-item sk-dashed-wrapped\"><div class=\"sk-label-container\"><div class=\"sk-label sk-toggleable\"><input class=\"sk-toggleable__control sk-hidden--visually\" id=\"sk-estimator-id-3\" type=\"checkbox\" ><label for=\"sk-estimator-id-3\" class=\"sk-toggleable__label sk-toggleable__label-arrow\">RandomizedSearchCV</label><div class=\"sk-toggleable__content\"><pre>RandomizedSearchCV(cv=5, estimator=RandomForestRegressor(random_state=42),\n",
       "                   n_iter=100, n_jobs=-1,\n",
       "                   param_distributions={&#x27;bootstrap&#x27;: [True, False],\n",
       "                                        &#x27;max_depth&#x27;: [10, 20, 30, 40, 50, 60,\n",
       "                                                      70, 80, 90, 100, 110,\n",
       "                                                      None],\n",
       "                                        &#x27;max_features&#x27;: [&#x27;log2&#x27;, &#x27;sqrt&#x27;, 1.0],\n",
       "                                        &#x27;min_samples_leaf&#x27;: [1, 2, 4],\n",
       "                                        &#x27;min_samples_split&#x27;: [2, 5, 10],\n",
       "                                        &#x27;n_estimators&#x27;: [100, 200, 300, 400,\n",
       "                                                         500, 600, 700, 800,\n",
       "                                                         900, 1000]},\n",
       "                   random_state=42, verbose=3)</pre></div></div></div><div class=\"sk-parallel\"><div class=\"sk-parallel-item\"><div class=\"sk-item\"><div class=\"sk-label-container\"><div class=\"sk-label sk-toggleable\"><input class=\"sk-toggleable__control sk-hidden--visually\" id=\"sk-estimator-id-4\" type=\"checkbox\" ><label for=\"sk-estimator-id-4\" class=\"sk-toggleable__label sk-toggleable__label-arrow\">estimator: RandomForestRegressor</label><div class=\"sk-toggleable__content\"><pre>RandomForestRegressor(random_state=42)</pre></div></div></div><div class=\"sk-serial\"><div class=\"sk-item\"><div class=\"sk-estimator sk-toggleable\"><input class=\"sk-toggleable__control sk-hidden--visually\" id=\"sk-estimator-id-5\" type=\"checkbox\" ><label for=\"sk-estimator-id-5\" class=\"sk-toggleable__label sk-toggleable__label-arrow\">RandomForestRegressor</label><div class=\"sk-toggleable__content\"><pre>RandomForestRegressor(random_state=42)</pre></div></div></div></div></div></div></div></div></div></div>"
      ],
      "text/plain": [
       "RandomizedSearchCV(cv=5, estimator=RandomForestRegressor(random_state=42),\n",
       "                   n_iter=100, n_jobs=-1,\n",
       "                   param_distributions={'bootstrap': [True, False],\n",
       "                                        'max_depth': [10, 20, 30, 40, 50, 60,\n",
       "                                                      70, 80, 90, 100, 110,\n",
       "                                                      None],\n",
       "                                        'max_features': ['log2', 'sqrt', 1.0],\n",
       "                                        'min_samples_leaf': [1, 2, 4],\n",
       "                                        'min_samples_split': [2, 5, 10],\n",
       "                                        'n_estimators': [100, 200, 300, 400,\n",
       "                                                         500, 600, 700, 800,\n",
       "                                                         900, 1000]},\n",
       "                   random_state=42, verbose=3)"
      ]
     },
     "execution_count": 16,
     "metadata": {},
     "output_type": "execute_result"
    }
   ],
   "source": [
    "#fit each of the models and use cross validation to determine best fitting model\n",
    "rf_random.fit(X_train, y_train)"
   ]
  },
  {
   "cell_type": "code",
   "execution_count": 17,
   "id": "5eb1d6c9",
   "metadata": {},
   "outputs": [
    {
     "data": {
      "text/plain": [
       "{'n_estimators': 400,\n",
       " 'min_samples_split': 2,\n",
       " 'min_samples_leaf': 1,\n",
       " 'max_features': 1.0,\n",
       " 'max_depth': 110,\n",
       " 'bootstrap': True}"
      ]
     },
     "execution_count": 17,
     "metadata": {},
     "output_type": "execute_result"
    }
   ],
   "source": [
    "#obtain hyperparameters from best fitting model\n",
    "best_random_params = rf_random.best_params_\n",
    "best_random_params"
   ]
  },
  {
   "cell_type": "code",
   "execution_count": 18,
   "id": "f159d48a",
   "metadata": {},
   "outputs": [
    {
     "name": "stdout",
     "output_type": "stream",
     "text": [
      "Model Performance\n",
      "Average Error: 0.2281 degrees.\n",
      "Accuracy = 99.67%.\n",
      "R^2 = 1.00%.\n"
     ]
    }
   ],
   "source": [
    "best_random = rf_random.best_estimator_\n",
    "random_accuracy = evaluate(best_random, X_train, y_train)"
   ]
  },
  {
   "cell_type": "code",
   "execution_count": 19,
   "id": "ed229f2b",
   "metadata": {},
   "outputs": [
    {
     "name": "stdout",
     "output_type": "stream",
     "text": [
      "Model Performance\n",
      "Average Error: 0.2555 degrees.\n",
      "Accuracy = 99.63%.\n",
      "R^2 = 1.00%.\n",
      "Model Performance\n",
      "Average Error: 0.2281 degrees.\n",
      "Accuracy = 99.67%.\n",
      "R^2 = 1.00%.\n"
     ]
    }
   ],
   "source": [
    "#compare model performance from default hyperparameter random forest and\n",
    " #best fitting randomly selected hyperparamter random forest\n",
    "base_accuracy = evaluate(rf, X_train, y_train)\n",
    "random_accuracy = evaluate(best_random, X_train, y_train)"
   ]
  },
  {
   "cell_type": "code",
   "execution_count": 20,
   "id": "bbd4bd3a",
   "metadata": {},
   "outputs": [
    {
     "name": "stdout",
     "output_type": "stream",
     "text": [
      "Improvement of 0.04%.\n"
     ]
    }
   ],
   "source": [
    "#determine amount of improvement from base random forest\n",
    "print('Improvement of {:0.2f}%.'.format( 100 * (random_accuracy - base_accuracy) / base_accuracy))"
   ]
  },
  {
   "cell_type": "code",
   "execution_count": 48,
   "id": "bc820ed5",
   "metadata": {},
   "outputs": [],
   "source": [
    "#Create a narrowed down version hyperparameter values using the random search as a base for the values\n",
    "# Create the parameter grid based on the results of random search \n",
    "param_grid = {\n",
    "    'bootstrap': [True],\n",
    "    'max_depth': [17,18,19],\n",
    "    'max_features': [0.9,1.0],\n",
    "    'min_samples_leaf': [1],\n",
    "    'min_samples_split': [2],\n",
    "    'n_estimators': [598,599,600]\n",
    "}\n",
    "\n",
    "# create models from every combination of hyperparameter listed above\n",
    "grid_search = GridSearchCV(estimator = rf, param_grid = param_grid,\n",
    "                          cv = 5, n_jobs = -1, verbose = 3)"
   ]
  },
  {
   "cell_type": "code",
   "execution_count": 49,
   "id": "0f21dad9",
   "metadata": {},
   "outputs": [
    {
     "name": "stdout",
     "output_type": "stream",
     "text": [
      "Fitting 5 folds for each of 36 candidates, totalling 180 fits\n"
     ]
    },
    {
     "data": {
      "text/html": [
       "<style>#sk-container-id-8 {color: black;background-color: white;}#sk-container-id-8 pre{padding: 0;}#sk-container-id-8 div.sk-toggleable {background-color: white;}#sk-container-id-8 label.sk-toggleable__label {cursor: pointer;display: block;width: 100%;margin-bottom: 0;padding: 0.3em;box-sizing: border-box;text-align: center;}#sk-container-id-8 label.sk-toggleable__label-arrow:before {content: \"▸\";float: left;margin-right: 0.25em;color: #696969;}#sk-container-id-8 label.sk-toggleable__label-arrow:hover:before {color: black;}#sk-container-id-8 div.sk-estimator:hover label.sk-toggleable__label-arrow:before {color: black;}#sk-container-id-8 div.sk-toggleable__content {max-height: 0;max-width: 0;overflow: hidden;text-align: left;background-color: #f0f8ff;}#sk-container-id-8 div.sk-toggleable__content pre {margin: 0.2em;color: black;border-radius: 0.25em;background-color: #f0f8ff;}#sk-container-id-8 input.sk-toggleable__control:checked~div.sk-toggleable__content {max-height: 200px;max-width: 100%;overflow: auto;}#sk-container-id-8 input.sk-toggleable__control:checked~label.sk-toggleable__label-arrow:before {content: \"▾\";}#sk-container-id-8 div.sk-estimator input.sk-toggleable__control:checked~label.sk-toggleable__label {background-color: #d4ebff;}#sk-container-id-8 div.sk-label input.sk-toggleable__control:checked~label.sk-toggleable__label {background-color: #d4ebff;}#sk-container-id-8 input.sk-hidden--visually {border: 0;clip: rect(1px 1px 1px 1px);clip: rect(1px, 1px, 1px, 1px);height: 1px;margin: -1px;overflow: hidden;padding: 0;position: absolute;width: 1px;}#sk-container-id-8 div.sk-estimator {font-family: monospace;background-color: #f0f8ff;border: 1px dotted black;border-radius: 0.25em;box-sizing: border-box;margin-bottom: 0.5em;}#sk-container-id-8 div.sk-estimator:hover {background-color: #d4ebff;}#sk-container-id-8 div.sk-parallel-item::after {content: \"\";width: 100%;border-bottom: 1px solid gray;flex-grow: 1;}#sk-container-id-8 div.sk-label:hover label.sk-toggleable__label {background-color: #d4ebff;}#sk-container-id-8 div.sk-serial::before {content: \"\";position: absolute;border-left: 1px solid gray;box-sizing: border-box;top: 0;bottom: 0;left: 50%;z-index: 0;}#sk-container-id-8 div.sk-serial {display: flex;flex-direction: column;align-items: center;background-color: white;padding-right: 0.2em;padding-left: 0.2em;position: relative;}#sk-container-id-8 div.sk-item {position: relative;z-index: 1;}#sk-container-id-8 div.sk-parallel {display: flex;align-items: stretch;justify-content: center;background-color: white;position: relative;}#sk-container-id-8 div.sk-item::before, #sk-container-id-8 div.sk-parallel-item::before {content: \"\";position: absolute;border-left: 1px solid gray;box-sizing: border-box;top: 0;bottom: 0;left: 50%;z-index: -1;}#sk-container-id-8 div.sk-parallel-item {display: flex;flex-direction: column;z-index: 1;position: relative;background-color: white;}#sk-container-id-8 div.sk-parallel-item:first-child::after {align-self: flex-end;width: 50%;}#sk-container-id-8 div.sk-parallel-item:last-child::after {align-self: flex-start;width: 50%;}#sk-container-id-8 div.sk-parallel-item:only-child::after {width: 0;}#sk-container-id-8 div.sk-dashed-wrapped {border: 1px dashed gray;margin: 0 0.4em 0.5em 0.4em;box-sizing: border-box;padding-bottom: 0.4em;background-color: white;}#sk-container-id-8 div.sk-label label {font-family: monospace;font-weight: bold;display: inline-block;line-height: 1.2em;}#sk-container-id-8 div.sk-label-container {text-align: center;}#sk-container-id-8 div.sk-container {/* jupyter's `normalize.less` sets `[hidden] { display: none; }` but bootstrap.min.css set `[hidden] { display: none !important; }` so we also need the `!important` here to be able to override the default hidden behavior on the sphinx rendered scikit-learn.org. See: https://github.com/scikit-learn/scikit-learn/issues/21755 */display: inline-block !important;position: relative;}#sk-container-id-8 div.sk-text-repr-fallback {display: none;}</style><div id=\"sk-container-id-8\" class=\"sk-top-container\"><div class=\"sk-text-repr-fallback\"><pre>GridSearchCV(cv=5, estimator=RandomForestRegressor(random_state=42), n_jobs=-1,\n",
       "             param_grid={&#x27;bootstrap&#x27;: [True],\n",
       "                         &#x27;max_depth&#x27;: [15, 16, 17, 18, 19, 10],\n",
       "                         &#x27;max_features&#x27;: [0.9, 1.0], &#x27;min_samples_leaf&#x27;: [1],\n",
       "                         &#x27;min_samples_split&#x27;: [2],\n",
       "                         &#x27;n_estimators&#x27;: [598, 599, 600]},\n",
       "             verbose=3)</pre><b>In a Jupyter environment, please rerun this cell to show the HTML representation or trust the notebook. <br />On GitHub, the HTML representation is unable to render, please try loading this page with nbviewer.org.</b></div><div class=\"sk-container\" hidden><div class=\"sk-item sk-dashed-wrapped\"><div class=\"sk-label-container\"><div class=\"sk-label sk-toggleable\"><input class=\"sk-toggleable__control sk-hidden--visually\" id=\"sk-estimator-id-18\" type=\"checkbox\" ><label for=\"sk-estimator-id-18\" class=\"sk-toggleable__label sk-toggleable__label-arrow\">GridSearchCV</label><div class=\"sk-toggleable__content\"><pre>GridSearchCV(cv=5, estimator=RandomForestRegressor(random_state=42), n_jobs=-1,\n",
       "             param_grid={&#x27;bootstrap&#x27;: [True],\n",
       "                         &#x27;max_depth&#x27;: [15, 16, 17, 18, 19, 10],\n",
       "                         &#x27;max_features&#x27;: [0.9, 1.0], &#x27;min_samples_leaf&#x27;: [1],\n",
       "                         &#x27;min_samples_split&#x27;: [2],\n",
       "                         &#x27;n_estimators&#x27;: [598, 599, 600]},\n",
       "             verbose=3)</pre></div></div></div><div class=\"sk-parallel\"><div class=\"sk-parallel-item\"><div class=\"sk-item\"><div class=\"sk-label-container\"><div class=\"sk-label sk-toggleable\"><input class=\"sk-toggleable__control sk-hidden--visually\" id=\"sk-estimator-id-19\" type=\"checkbox\" ><label for=\"sk-estimator-id-19\" class=\"sk-toggleable__label sk-toggleable__label-arrow\">estimator: RandomForestRegressor</label><div class=\"sk-toggleable__content\"><pre>RandomForestRegressor(random_state=42)</pre></div></div></div><div class=\"sk-serial\"><div class=\"sk-item\"><div class=\"sk-estimator sk-toggleable\"><input class=\"sk-toggleable__control sk-hidden--visually\" id=\"sk-estimator-id-20\" type=\"checkbox\" ><label for=\"sk-estimator-id-20\" class=\"sk-toggleable__label sk-toggleable__label-arrow\">RandomForestRegressor</label><div class=\"sk-toggleable__content\"><pre>RandomForestRegressor(random_state=42)</pre></div></div></div></div></div></div></div></div></div></div>"
      ],
      "text/plain": [
       "GridSearchCV(cv=5, estimator=RandomForestRegressor(random_state=42), n_jobs=-1,\n",
       "             param_grid={'bootstrap': [True],\n",
       "                         'max_depth': [15, 16, 17, 18, 19, 10],\n",
       "                         'max_features': [0.9, 1.0], 'min_samples_leaf': [1],\n",
       "                         'min_samples_split': [2],\n",
       "                         'n_estimators': [598, 599, 600]},\n",
       "             verbose=3)"
      ]
     },
     "execution_count": 49,
     "metadata": {},
     "output_type": "execute_result"
    }
   ],
   "source": [
    "#fit models\n",
    "grid_search.fit(X_train, y_train)"
   ]
  },
  {
   "cell_type": "code",
   "execution_count": 50,
   "id": "8f85d583",
   "metadata": {},
   "outputs": [
    {
     "data": {
      "text/plain": [
       "{'bootstrap': True,\n",
       " 'max_depth': 18,\n",
       " 'max_features': 1.0,\n",
       " 'min_samples_leaf': 1,\n",
       " 'min_samples_split': 2,\n",
       " 'n_estimators': 599}"
      ]
     },
     "execution_count": 50,
     "metadata": {},
     "output_type": "execute_result"
    }
   ],
   "source": [
    "#investigate best fitting model hyperparamters\n",
    "best_grid_params = grid_search.best_params_\n",
    "best_grid_params"
   ]
  },
  {
   "cell_type": "code",
   "execution_count": 51,
   "id": "9d2d806d",
   "metadata": {},
   "outputs": [
    {
     "name": "stdout",
     "output_type": "stream",
     "text": [
      "Model Performance\n",
      "Average Error: 0.2236 degrees.\n",
      "Accuracy = 99.67%.\n",
      "R^2 = 1.00%.\n"
     ]
    }
   ],
   "source": [
    "#investigate new model fit\n",
    "best_grid = grid_search.best_estimator_\n",
    "grid_accuracy = evaluate(best_grid, X_train, y_train)"
   ]
  },
  {
   "cell_type": "code",
   "execution_count": null,
   "id": "58fa70f9",
   "metadata": {},
   "outputs": [],
   "source": []
  },
  {
   "cell_type": "code",
   "execution_count": 53,
   "id": "2afc4245",
   "metadata": {},
   "outputs": [
    {
     "name": "stdout",
     "output_type": "stream",
     "text": [
      "Improvement of 0.01%.\n"
     ]
    }
   ],
   "source": [
    "#display improvement from best random search hyper parameter values to specific hyper parameter values models\n",
    "print('Improvement of {:0.2f}%.'.format( 100 * (grid_accuracy - random_accuracy) / random_accuracy))"
   ]
  },
  {
   "cell_type": "code",
   "execution_count": 54,
   "id": "1e9e1694",
   "metadata": {},
   "outputs": [
    {
     "name": "stdout",
     "output_type": "stream",
     "text": [
      "Improvement of 0.05%.\n",
      "[CV 1/5] END bootstrap=True, max_depth=15, max_features=0.9, min_samples_leaf=1, min_samples_split=2, n_estimators=599;, score=0.990 total time= 1.3min\n",
      "[CV 3/5] END bootstrap=True, max_depth=15, max_features=0.9, min_samples_leaf=1, min_samples_split=2, n_estimators=600;, score=0.986 total time= 1.3min\n",
      "[CV 2/5] END bootstrap=True, max_depth=15, max_features=1.0, min_samples_leaf=1, min_samples_split=2, n_estimators=599;, score=0.991 total time= 1.4min\n",
      "[CV 5/5] END bootstrap=True, max_depth=15, max_features=1.0, min_samples_leaf=1, min_samples_split=2, n_estimators=600;, score=0.987 total time= 1.4min\n",
      "[CV 4/5] END bootstrap=True, max_depth=16, max_features=0.9, min_samples_leaf=1, min_samples_split=2, n_estimators=599;, score=0.988 total time= 1.3min\n",
      "[CV 2/5] END bootstrap=True, max_depth=16, max_features=1.0, min_samples_leaf=1, min_samples_split=2, n_estimators=598;, score=0.991 total time= 1.4min\n",
      "[CV 5/5] END bootstrap=True, max_depth=16, max_features=1.0, min_samples_leaf=1, min_samples_split=2, n_estimators=599;, score=0.987 total time= 1.4min\n",
      "[CV 2/5] END bootstrap=True, max_depth=17, max_features=0.9, min_samples_leaf=1, min_samples_split=2, n_estimators=598;, score=0.991 total time= 1.3min\n",
      "[CV 5/5] END bootstrap=True, max_depth=17, max_features=0.9, min_samples_leaf=1, min_samples_split=2, n_estimators=599;, score=0.987 total time= 1.3min\n",
      "[CV 3/5] END bootstrap=True, max_depth=17, max_features=1.0, min_samples_leaf=1, min_samples_split=2, n_estimators=598;, score=0.986 total time= 1.4min\n",
      "[CV 1/5] END bootstrap=True, max_depth=17, max_features=1.0, min_samples_leaf=1, min_samples_split=2, n_estimators=600;, score=0.990 total time= 1.5min\n",
      "[CV 4/5] END bootstrap=True, max_depth=18, max_features=0.9, min_samples_leaf=1, min_samples_split=2, n_estimators=598;, score=0.988 total time= 1.3min\n",
      "[CV 2/5] END bootstrap=True, max_depth=18, max_features=0.9, min_samples_leaf=1, min_samples_split=2, n_estimators=600;, score=0.991 total time= 1.3min\n",
      "[CV 1/5] END bootstrap=True, max_depth=18, max_features=1.0, min_samples_leaf=1, min_samples_split=2, n_estimators=599;, score=0.990 total time= 1.4min\n",
      "[CV 4/5] END bootstrap=True, max_depth=18, max_features=1.0, min_samples_leaf=1, min_samples_split=2, n_estimators=600;, score=0.988 total time= 1.5min\n",
      "[CV 5/5] END bootstrap=True, max_depth=19, max_features=0.9, min_samples_leaf=1, min_samples_split=2, n_estimators=598;, score=0.987 total time= 1.3min\n",
      "[CV 3/5] END bootstrap=True, max_depth=19, max_features=0.9, min_samples_leaf=1, min_samples_split=2, n_estimators=600;, score=0.986 total time= 1.3min\n",
      "[CV 1/5] END bootstrap=True, max_depth=19, max_features=1.0, min_samples_leaf=1, min_samples_split=2, n_estimators=599;, score=0.990 total time= 1.5min\n",
      "[CV 4/5] END bootstrap=True, max_depth=19, max_features=1.0, min_samples_leaf=1, min_samples_split=2, n_estimators=600;, score=0.988 total time= 1.5min\n",
      "[CV 3/5] END bootstrap=True, max_depth=10, max_features=0.9, min_samples_leaf=1, min_samples_split=2, n_estimators=599;, score=0.985 total time= 1.0min\n",
      "[CV 1/5] END bootstrap=True, max_depth=10, max_features=1.0, min_samples_leaf=1, min_samples_split=2, n_estimators=598;, score=0.989 total time= 1.1min\n",
      "[CV 4/5] END bootstrap=True, max_depth=10, max_features=1.0, min_samples_leaf=1, min_samples_split=2, n_estimators=599;, score=0.987 total time= 1.1min\n",
      "[CV 2/5] END bootstrap=True, max_depth=15, max_features=0.9, min_samples_leaf=1, min_samples_split=2, n_estimators=598;, score=0.991 total time= 1.3min\n",
      "[CV 4/5] END bootstrap=True, max_depth=15, max_features=0.9, min_samples_leaf=1, min_samples_split=2, n_estimators=600;, score=0.988 total time= 1.3min\n",
      "[CV 1/5] END bootstrap=True, max_depth=15, max_features=1.0, min_samples_leaf=1, min_samples_split=2, n_estimators=599;, score=0.990 total time= 1.4min\n",
      "[CV 4/5] END bootstrap=True, max_depth=15, max_features=1.0, min_samples_leaf=1, min_samples_split=2, n_estimators=600;, score=0.988 total time= 1.4min\n",
      "[CV 3/5] END bootstrap=True, max_depth=16, max_features=0.9, min_samples_leaf=1, min_samples_split=2, n_estimators=599;, score=0.986 total time= 1.3min\n",
      "[CV 1/5] END bootstrap=True, max_depth=16, max_features=1.0, min_samples_leaf=1, min_samples_split=2, n_estimators=598;, score=0.990 total time= 1.4min\n",
      "[CV 4/5] END bootstrap=True, max_depth=16, max_features=1.0, min_samples_leaf=1, min_samples_split=2, n_estimators=599;, score=0.988 total time= 1.4min\n",
      "[CV 3/5] END bootstrap=True, max_depth=17, max_features=0.9, min_samples_leaf=1, min_samples_split=2, n_estimators=598;, score=0.986 total time= 1.3min\n",
      "[CV 1/5] END bootstrap=True, max_depth=17, max_features=0.9, min_samples_leaf=1, min_samples_split=2, n_estimators=600;, score=0.990 total time= 1.3min\n",
      "[CV 4/5] END bootstrap=True, max_depth=17, max_features=1.0, min_samples_leaf=1, min_samples_split=2, n_estimators=598;, score=0.988 total time= 1.4min\n",
      "[CV 2/5] END bootstrap=True, max_depth=17, max_features=1.0, min_samples_leaf=1, min_samples_split=2, n_estimators=600;, score=0.991 total time= 1.5min\n",
      "[CV 5/5] END bootstrap=True, max_depth=18, max_features=0.9, min_samples_leaf=1, min_samples_split=2, n_estimators=598;, score=0.987 total time= 1.3min\n",
      "[CV 3/5] END bootstrap=True, max_depth=18, max_features=0.9, min_samples_leaf=1, min_samples_split=2, n_estimators=600;, score=0.986 total time= 1.3min\n",
      "[CV 5/5] END bootstrap=True, max_depth=18, max_features=1.0, min_samples_leaf=1, min_samples_split=2, n_estimators=598;, score=0.987 total time= 1.4min\n",
      "[CV 3/5] END bootstrap=True, max_depth=18, max_features=1.0, min_samples_leaf=1, min_samples_split=2, n_estimators=600;, score=0.986 total time= 1.5min\n",
      "[CV 2/5] END bootstrap=True, max_depth=19, max_features=0.9, min_samples_leaf=1, min_samples_split=2, n_estimators=599;, score=0.991 total time= 1.4min\n",
      "[CV 5/5] END bootstrap=True, max_depth=19, max_features=0.9, min_samples_leaf=1, min_samples_split=2, n_estimators=600;, score=0.987 total time= 1.3min\n",
      "[CV 2/5] END bootstrap=True, max_depth=19, max_features=1.0, min_samples_leaf=1, min_samples_split=2, n_estimators=599;, score=0.991 total time= 1.5min\n",
      "[CV 5/5] END bootstrap=True, max_depth=19, max_features=1.0, min_samples_leaf=1, min_samples_split=2, n_estimators=600;, score=0.987 total time= 1.5min\n",
      "[CV 5/5] END bootstrap=True, max_depth=10, max_features=0.9, min_samples_leaf=1, min_samples_split=2, n_estimators=599;, score=0.986 total time= 1.0min\n",
      "[CV 3/5] END bootstrap=True, max_depth=10, max_features=1.0, min_samples_leaf=1, min_samples_split=2, n_estimators=598;, score=0.985 total time= 1.1min\n",
      "[CV 1/5] END bootstrap=True, max_depth=10, max_features=1.0, min_samples_leaf=1, min_samples_split=2, n_estimators=600;, score=0.989 total time= 1.1min\n",
      "[CV 4/5] END bootstrap=True, max_depth=15, max_features=0.9, min_samples_leaf=1, min_samples_split=2, n_estimators=598;, score=0.988 total time= 1.3min\n",
      "[CV 1/5] END bootstrap=True, max_depth=15, max_features=1.0, min_samples_leaf=1, min_samples_split=2, n_estimators=598;, score=0.990 total time= 1.4min\n",
      "[CV 4/5] END bootstrap=True, max_depth=15, max_features=1.0, min_samples_leaf=1, min_samples_split=2, n_estimators=599;, score=0.988 total time= 1.4min\n",
      "[CV 2/5] END bootstrap=True, max_depth=16, max_features=0.9, min_samples_leaf=1, min_samples_split=2, n_estimators=598;, score=0.991 total time= 1.3min\n",
      "[CV 5/5] END bootstrap=True, max_depth=16, max_features=0.9, min_samples_leaf=1, min_samples_split=2, n_estimators=599;, score=0.987 total time= 1.3min\n",
      "[CV 3/5] END bootstrap=True, max_depth=16, max_features=1.0, min_samples_leaf=1, min_samples_split=2, n_estimators=598;, score=0.986 total time= 1.4min\n",
      "[CV 1/5] END bootstrap=True, max_depth=16, max_features=1.0, min_samples_leaf=1, min_samples_split=2, n_estimators=600;, score=0.990 total time= 1.4min\n",
      "[CV 4/5] END bootstrap=True, max_depth=17, max_features=0.9, min_samples_leaf=1, min_samples_split=2, n_estimators=598;, score=0.988 total time= 1.3min\n",
      "[CV 2/5] END bootstrap=True, max_depth=17, max_features=0.9, min_samples_leaf=1, min_samples_split=2, n_estimators=600;, score=0.991 total time= 1.3min\n",
      "[CV 5/5] END bootstrap=True, max_depth=17, max_features=1.0, min_samples_leaf=1, min_samples_split=2, n_estimators=598;, score=0.987 total time= 1.4min\n",
      "[CV 3/5] END bootstrap=True, max_depth=17, max_features=1.0, min_samples_leaf=1, min_samples_split=2, n_estimators=600;, score=0.986 total time= 1.5min\n",
      "[CV 1/5] END bootstrap=True, max_depth=18, max_features=0.9, min_samples_leaf=1, min_samples_split=2, n_estimators=599;, score=0.990 total time= 1.3min\n",
      "[CV 4/5] END bootstrap=True, max_depth=18, max_features=0.9, min_samples_leaf=1, min_samples_split=2, n_estimators=600;, score=0.988 total time= 1.3min\n",
      "[CV 2/5] END bootstrap=True, max_depth=18, max_features=1.0, min_samples_leaf=1, min_samples_split=2, n_estimators=599;, score=0.991 total time= 1.4min\n",
      "[CV 5/5] END bootstrap=True, max_depth=18, max_features=1.0, min_samples_leaf=1, min_samples_split=2, n_estimators=600;, score=0.987 total time= 1.5min\n",
      "[CV 3/5] END bootstrap=True, max_depth=19, max_features=0.9, min_samples_leaf=1, min_samples_split=2, n_estimators=599;, score=0.986 total time= 1.3min\n",
      "[CV 1/5] END bootstrap=True, max_depth=19, max_features=1.0, min_samples_leaf=1, min_samples_split=2, n_estimators=598;, score=0.990 total time= 1.5min\n",
      "[CV 4/5] END bootstrap=True, max_depth=19, max_features=1.0, min_samples_leaf=1, min_samples_split=2, n_estimators=599;, score=0.988 total time= 1.5min\n",
      "[CV 2/5] END bootstrap=True, max_depth=10, max_features=0.9, min_samples_leaf=1, min_samples_split=2, n_estimators=598;, score=0.990 total time= 1.0min\n",
      "[CV 4/5] END bootstrap=True, max_depth=10, max_features=0.9, min_samples_leaf=1, min_samples_split=2, n_estimators=599;, score=0.987 total time= 1.0min\n",
      "[CV 2/5] END bootstrap=True, max_depth=10, max_features=1.0, min_samples_leaf=1, min_samples_split=2, n_estimators=598;, score=0.990 total time= 1.2min\n",
      "[CV 5/5] END bootstrap=True, max_depth=10, max_features=1.0, min_samples_leaf=1, min_samples_split=2, n_estimators=599;, score=0.986 total time= 1.1min\n"
     ]
    },
    {
     "name": "stdout",
     "output_type": "stream",
     "text": [
      "[CV 1/5] END bootstrap=True, max_depth=15, max_features=0.9, min_samples_leaf=1, min_samples_split=2, n_estimators=598;, score=0.990 total time= 1.3min\n",
      "[CV 5/5] END bootstrap=True, max_depth=15, max_features=0.9, min_samples_leaf=1, min_samples_split=2, n_estimators=599;, score=0.987 total time= 1.3min\n",
      "[CV 3/5] END bootstrap=True, max_depth=15, max_features=1.0, min_samples_leaf=1, min_samples_split=2, n_estimators=598;, score=0.986 total time= 1.4min\n",
      "[CV 1/5] END bootstrap=True, max_depth=15, max_features=1.0, min_samples_leaf=1, min_samples_split=2, n_estimators=600;, score=0.990 total time= 1.4min\n",
      "[CV 5/5] END bootstrap=True, max_depth=16, max_features=0.9, min_samples_leaf=1, min_samples_split=2, n_estimators=598;, score=0.987 total time= 1.3min\n",
      "[CV 3/5] END bootstrap=True, max_depth=16, max_features=0.9, min_samples_leaf=1, min_samples_split=2, n_estimators=600;, score=0.986 total time= 1.3min\n",
      "[CV 1/5] END bootstrap=True, max_depth=16, max_features=1.0, min_samples_leaf=1, min_samples_split=2, n_estimators=599;, score=0.990 total time= 1.4min\n",
      "[CV 3/5] END bootstrap=True, max_depth=16, max_features=1.0, min_samples_leaf=1, min_samples_split=2, n_estimators=600;, score=0.986 total time= 1.4min\n",
      "[CV 2/5] END bootstrap=True, max_depth=17, max_features=0.9, min_samples_leaf=1, min_samples_split=2, n_estimators=599;, score=0.991 total time= 1.3min\n",
      "[CV 5/5] END bootstrap=True, max_depth=17, max_features=0.9, min_samples_leaf=1, min_samples_split=2, n_estimators=600;, score=0.987 total time= 1.3min\n",
      "[CV 3/5] END bootstrap=True, max_depth=17, max_features=1.0, min_samples_leaf=1, min_samples_split=2, n_estimators=599;, score=0.986 total time= 1.4min\n",
      "[CV 1/5] END bootstrap=True, max_depth=18, max_features=0.9, min_samples_leaf=1, min_samples_split=2, n_estimators=598;, score=0.990 total time= 1.3min\n",
      "[CV 2/5] END bootstrap=True, max_depth=18, max_features=0.9, min_samples_leaf=1, min_samples_split=2, n_estimators=599;, score=0.991 total time= 1.3min\n",
      "[CV 5/5] END bootstrap=True, max_depth=18, max_features=0.9, min_samples_leaf=1, min_samples_split=2, n_estimators=600;, score=0.987 total time= 1.3min\n",
      "[CV 3/5] END bootstrap=True, max_depth=18, max_features=1.0, min_samples_leaf=1, min_samples_split=2, n_estimators=599;, score=0.986 total time= 1.4min\n",
      "[CV 1/5] END bootstrap=True, max_depth=19, max_features=0.9, min_samples_leaf=1, min_samples_split=2, n_estimators=598;, score=0.990 total time= 1.3min\n",
      "[CV 4/5] END bootstrap=True, max_depth=19, max_features=0.9, min_samples_leaf=1, min_samples_split=2, n_estimators=599;, score=0.988 total time= 1.3min\n",
      "[CV 2/5] END bootstrap=True, max_depth=19, max_features=1.0, min_samples_leaf=1, min_samples_split=2, n_estimators=598;, score=0.991 total time= 1.5min\n",
      "[CV 5/5] END bootstrap=True, max_depth=19, max_features=1.0, min_samples_leaf=1, min_samples_split=2, n_estimators=599;, score=0.987 total time= 1.5min\n",
      "[CV 3/5] END bootstrap=True, max_depth=10, max_features=0.9, min_samples_leaf=1, min_samples_split=2, n_estimators=598;, score=0.985 total time= 1.0min\n",
      "[CV 1/5] END bootstrap=True, max_depth=10, max_features=0.9, min_samples_leaf=1, min_samples_split=2, n_estimators=600;, score=0.989 total time= 1.0min\n",
      "[CV 4/5] END bootstrap=True, max_depth=10, max_features=1.0, min_samples_leaf=1, min_samples_split=2, n_estimators=598;, score=0.987 total time= 1.1min\n",
      "[CV 2/5] END bootstrap=True, max_depth=10, max_features=1.0, min_samples_leaf=1, min_samples_split=2, n_estimators=600;, score=0.990 total time=  59.4s\n",
      "[CV 3/5] END bootstrap=True, max_depth=15, max_features=0.9, min_samples_leaf=1, min_samples_split=2, n_estimators=599;, score=0.986 total time= 1.3min\n",
      "[CV 5/5] END bootstrap=True, max_depth=15, max_features=0.9, min_samples_leaf=1, min_samples_split=2, n_estimators=600;, score=0.987 total time= 1.3min\n",
      "[CV 3/5] END bootstrap=True, max_depth=15, max_features=1.0, min_samples_leaf=1, min_samples_split=2, n_estimators=599;, score=0.986 total time= 1.4min\n",
      "[CV 1/5] END bootstrap=True, max_depth=16, max_features=0.9, min_samples_leaf=1, min_samples_split=2, n_estimators=598;, score=0.990 total time= 1.3min\n",
      "[CV 3/5] END bootstrap=True, max_depth=16, max_features=0.9, min_samples_leaf=1, min_samples_split=2, n_estimators=598;, score=0.986 total time= 1.3min\n",
      "[CV 1/5] END bootstrap=True, max_depth=16, max_features=0.9, min_samples_leaf=1, min_samples_split=2, n_estimators=600;, score=0.990 total time= 1.3min\n",
      "[CV 5/5] END bootstrap=True, max_depth=16, max_features=1.0, min_samples_leaf=1, min_samples_split=2, n_estimators=598;, score=0.987 total time= 1.4min\n",
      "[CV 4/5] END bootstrap=True, max_depth=16, max_features=1.0, min_samples_leaf=1, min_samples_split=2, n_estimators=600;, score=0.988 total time= 1.4min\n",
      "[CV 4/5] END bootstrap=True, max_depth=17, max_features=0.9, min_samples_leaf=1, min_samples_split=2, n_estimators=599;, score=0.988 total time= 1.3min\n",
      "[CV 2/5] END bootstrap=True, max_depth=17, max_features=1.0, min_samples_leaf=1, min_samples_split=2, n_estimators=598;, score=0.991 total time= 1.4min\n",
      "[CV 5/5] END bootstrap=True, max_depth=17, max_features=1.0, min_samples_leaf=1, min_samples_split=2, n_estimators=599;, score=0.987 total time= 1.5min\n",
      "[CV 3/5] END bootstrap=True, max_depth=18, max_features=0.9, min_samples_leaf=1, min_samples_split=2, n_estimators=598;, score=0.986 total time= 1.3min\n",
      "[CV 1/5] END bootstrap=True, max_depth=18, max_features=0.9, min_samples_leaf=1, min_samples_split=2, n_estimators=600;, score=0.990 total time= 1.3min\n",
      "[CV 4/5] END bootstrap=True, max_depth=18, max_features=1.0, min_samples_leaf=1, min_samples_split=2, n_estimators=598;, score=0.988 total time= 1.4min\n",
      "[CV 2/5] END bootstrap=True, max_depth=18, max_features=1.0, min_samples_leaf=1, min_samples_split=2, n_estimators=600;, score=0.991 total time= 1.5min\n",
      "[CV 1/5] END bootstrap=True, max_depth=19, max_features=0.9, min_samples_leaf=1, min_samples_split=2, n_estimators=599;, score=0.990 total time= 1.3min\n",
      "[CV 4/5] END bootstrap=True, max_depth=19, max_features=0.9, min_samples_leaf=1, min_samples_split=2, n_estimators=600;, score=0.988 total time= 1.3min\n",
      "[CV 3/5] END bootstrap=True, max_depth=19, max_features=1.0, min_samples_leaf=1, min_samples_split=2, n_estimators=599;, score=0.986 total time= 1.5min\n",
      "[CV 1/5] END bootstrap=True, max_depth=10, max_features=0.9, min_samples_leaf=1, min_samples_split=2, n_estimators=598;, score=0.989 total time= 1.0min\n",
      "[CV 4/5] END bootstrap=True, max_depth=10, max_features=0.9, min_samples_leaf=1, min_samples_split=2, n_estimators=598;, score=0.987 total time= 1.0min\n",
      "[CV 2/5] END bootstrap=True, max_depth=10, max_features=0.9, min_samples_leaf=1, min_samples_split=2, n_estimators=600;, score=0.990 total time= 1.0min\n",
      "[CV 5/5] END bootstrap=True, max_depth=10, max_features=1.0, min_samples_leaf=1, min_samples_split=2, n_estimators=598;, score=0.986 total time= 1.2min\n",
      "[CV 3/5] END bootstrap=True, max_depth=10, max_features=1.0, min_samples_leaf=1, min_samples_split=2, n_estimators=600;, score=0.985 total time=  57.4s\n",
      "[CV 5/5] END bootstrap=True, max_depth=15, max_features=0.9, min_samples_leaf=1, min_samples_split=2, n_estimators=598;, score=0.987 total time= 1.3min\n",
      "[CV 1/5] END bootstrap=True, max_depth=15, max_features=0.9, min_samples_leaf=1, min_samples_split=2, n_estimators=600;, score=0.990 total time= 1.3min\n",
      "[CV 5/5] END bootstrap=True, max_depth=15, max_features=1.0, min_samples_leaf=1, min_samples_split=2, n_estimators=598;, score=0.987 total time= 1.4min\n",
      "[CV 3/5] END bootstrap=True, max_depth=15, max_features=1.0, min_samples_leaf=1, min_samples_split=2, n_estimators=600;, score=0.986 total time= 1.4min\n",
      "[CV 2/5] END bootstrap=True, max_depth=16, max_features=0.9, min_samples_leaf=1, min_samples_split=2, n_estimators=599;, score=0.991 total time= 1.3min\n",
      "[CV 5/5] END bootstrap=True, max_depth=16, max_features=0.9, min_samples_leaf=1, min_samples_split=2, n_estimators=600;, score=0.987 total time= 1.3min\n",
      "[CV 3/5] END bootstrap=True, max_depth=16, max_features=1.0, min_samples_leaf=1, min_samples_split=2, n_estimators=599;, score=0.986 total time= 1.4min\n",
      "[CV 1/5] END bootstrap=True, max_depth=17, max_features=0.9, min_samples_leaf=1, min_samples_split=2, n_estimators=598;, score=0.990 total time= 1.3min\n",
      "[CV 5/5] END bootstrap=True, max_depth=17, max_features=0.9, min_samples_leaf=1, min_samples_split=2, n_estimators=598;, score=0.987 total time= 1.3min\n",
      "[CV 3/5] END bootstrap=True, max_depth=17, max_features=0.9, min_samples_leaf=1, min_samples_split=2, n_estimators=600;, score=0.986 total time= 1.3min\n",
      "[CV 1/5] END bootstrap=True, max_depth=17, max_features=1.0, min_samples_leaf=1, min_samples_split=2, n_estimators=599;, score=0.990 total time= 1.4min\n",
      "[CV 4/5] END bootstrap=True, max_depth=17, max_features=1.0, min_samples_leaf=1, min_samples_split=2, n_estimators=600;, score=0.988 total time= 1.4min\n",
      "[CV 3/5] END bootstrap=True, max_depth=18, max_features=0.9, min_samples_leaf=1, min_samples_split=2, n_estimators=599;, score=0.986 total time= 1.3min\n",
      "[CV 1/5] END bootstrap=True, max_depth=18, max_features=1.0, min_samples_leaf=1, min_samples_split=2, n_estimators=598;, score=0.990 total time= 1.4min\n",
      "[CV 4/5] END bootstrap=True, max_depth=18, max_features=1.0, min_samples_leaf=1, min_samples_split=2, n_estimators=599;, score=0.988 total time= 1.4min\n",
      "[CV 2/5] END bootstrap=True, max_depth=19, max_features=0.9, min_samples_leaf=1, min_samples_split=2, n_estimators=598;, score=0.991 total time= 1.3min\n",
      "[CV 5/5] END bootstrap=True, max_depth=19, max_features=0.9, min_samples_leaf=1, min_samples_split=2, n_estimators=599;, score=0.987 total time= 1.3min\n",
      "[CV 3/5] END bootstrap=True, max_depth=19, max_features=1.0, min_samples_leaf=1, min_samples_split=2, n_estimators=598;, score=0.986 total time= 1.5min\n",
      "[CV 1/5] END bootstrap=True, max_depth=19, max_features=1.0, min_samples_leaf=1, min_samples_split=2, n_estimators=600;, score=0.990 total time= 1.5min\n",
      "[CV 5/5] END bootstrap=True, max_depth=10, max_features=0.9, min_samples_leaf=1, min_samples_split=2, n_estimators=598;, score=0.986 total time= 1.0min\n",
      "[CV 3/5] END bootstrap=True, max_depth=10, max_features=0.9, min_samples_leaf=1, min_samples_split=2, n_estimators=600;, score=0.985 total time= 1.0min\n",
      "[CV 1/5] END bootstrap=True, max_depth=10, max_features=1.0, min_samples_leaf=1, min_samples_split=2, n_estimators=599;, score=0.989 total time= 1.1min\n",
      "[CV 4/5] END bootstrap=True, max_depth=10, max_features=1.0, min_samples_leaf=1, min_samples_split=2, n_estimators=600;, score=0.987 total time=  55.5s\n"
     ]
    },
    {
     "name": "stdout",
     "output_type": "stream",
     "text": [
      "[CV 2/5] END bootstrap=True, max_depth=15, max_features=0.9, min_samples_leaf=1, min_samples_split=2, n_estimators=599;, score=0.991 total time= 1.3min\n",
      "[CV 2/5] END bootstrap=True, max_depth=15, max_features=0.9, min_samples_leaf=1, min_samples_split=2, n_estimators=600;, score=0.991 total time= 1.3min\n",
      "[CV 4/5] END bootstrap=True, max_depth=15, max_features=1.0, min_samples_leaf=1, min_samples_split=2, n_estimators=598;, score=0.988 total time= 1.4min\n",
      "[CV 2/5] END bootstrap=True, max_depth=15, max_features=1.0, min_samples_leaf=1, min_samples_split=2, n_estimators=600;, score=0.991 total time= 1.4min\n",
      "[CV 1/5] END bootstrap=True, max_depth=16, max_features=0.9, min_samples_leaf=1, min_samples_split=2, n_estimators=599;, score=0.990 total time= 1.3min\n",
      "[CV 4/5] END bootstrap=True, max_depth=16, max_features=0.9, min_samples_leaf=1, min_samples_split=2, n_estimators=600;, score=0.988 total time= 1.3min\n",
      "[CV 2/5] END bootstrap=True, max_depth=16, max_features=1.0, min_samples_leaf=1, min_samples_split=2, n_estimators=599;, score=0.991 total time= 1.4min\n",
      "[CV 5/5] END bootstrap=True, max_depth=16, max_features=1.0, min_samples_leaf=1, min_samples_split=2, n_estimators=600;, score=0.987 total time= 1.4min\n",
      "[CV 3/5] END bootstrap=True, max_depth=17, max_features=0.9, min_samples_leaf=1, min_samples_split=2, n_estimators=599;, score=0.986 total time= 1.3min\n",
      "[CV 1/5] END bootstrap=True, max_depth=17, max_features=1.0, min_samples_leaf=1, min_samples_split=2, n_estimators=598;, score=0.990 total time= 1.4min\n",
      "[CV 4/5] END bootstrap=True, max_depth=17, max_features=1.0, min_samples_leaf=1, min_samples_split=2, n_estimators=599;, score=0.988 total time= 1.4min\n",
      "[CV 2/5] END bootstrap=True, max_depth=18, max_features=0.9, min_samples_leaf=1, min_samples_split=2, n_estimators=598;, score=0.991 total time= 1.3min\n",
      "[CV 5/5] END bootstrap=True, max_depth=18, max_features=0.9, min_samples_leaf=1, min_samples_split=2, n_estimators=599;, score=0.987 total time= 1.3min\n",
      "[CV 3/5] END bootstrap=True, max_depth=18, max_features=1.0, min_samples_leaf=1, min_samples_split=2, n_estimators=598;, score=0.986 total time= 1.4min\n",
      "[CV 5/5] END bootstrap=True, max_depth=18, max_features=1.0, min_samples_leaf=1, min_samples_split=2, n_estimators=599;, score=0.987 total time= 1.4min\n",
      "[CV 3/5] END bootstrap=True, max_depth=19, max_features=0.9, min_samples_leaf=1, min_samples_split=2, n_estimators=598;, score=0.986 total time= 1.3min\n",
      "[CV 1/5] END bootstrap=True, max_depth=19, max_features=0.9, min_samples_leaf=1, min_samples_split=2, n_estimators=600;, score=0.990 total time= 1.3min\n",
      "[CV 4/5] END bootstrap=True, max_depth=19, max_features=1.0, min_samples_leaf=1, min_samples_split=2, n_estimators=598;, score=0.988 total time= 1.5min\n",
      "[CV 2/5] END bootstrap=True, max_depth=19, max_features=1.0, min_samples_leaf=1, min_samples_split=2, n_estimators=600;, score=0.991 total time= 1.5min\n",
      "[CV 1/5] END bootstrap=True, max_depth=10, max_features=0.9, min_samples_leaf=1, min_samples_split=2, n_estimators=599;, score=0.989 total time= 1.0min\n",
      "[CV 4/5] END bootstrap=True, max_depth=10, max_features=0.9, min_samples_leaf=1, min_samples_split=2, n_estimators=600;, score=0.987 total time= 1.0min\n",
      "[CV 2/5] END bootstrap=True, max_depth=10, max_features=1.0, min_samples_leaf=1, min_samples_split=2, n_estimators=599;, score=0.990 total time= 1.1min\n",
      "[CV 5/5] END bootstrap=True, max_depth=10, max_features=1.0, min_samples_leaf=1, min_samples_split=2, n_estimators=600;, score=0.986 total time=  54.5s\n"
     ]
    }
   ],
   "source": [
    "#display improvement from base hyper parameter values to specific hyper parameter values models\n",
    "print('Improvement of {:0.2f}%.'.format( 100 * (grid_accuracy - base_accuracy) / base_accuracy))"
   ]
  },
  {
   "cell_type": "code",
   "execution_count": 55,
   "id": "67ef79d6",
   "metadata": {},
   "outputs": [],
   "source": [
    "#fit training data using optimized random forest hyper parameter values\n",
    "best_rf = RandomForestRegressor(n_estimators = 599,\n",
    "                                min_samples_split = 2,\n",
    "                                min_samples_leaf = 1,\n",
    "                               max_features = 1.0,\n",
    "                                max_depth = 18,\n",
    "                                bootstrap = True)"
   ]
  },
  {
   "cell_type": "code",
   "execution_count": 56,
   "id": "3cb6fac0",
   "metadata": {},
   "outputs": [
    {
     "data": {
      "text/html": [
       "<style>#sk-container-id-9 {color: black;background-color: white;}#sk-container-id-9 pre{padding: 0;}#sk-container-id-9 div.sk-toggleable {background-color: white;}#sk-container-id-9 label.sk-toggleable__label {cursor: pointer;display: block;width: 100%;margin-bottom: 0;padding: 0.3em;box-sizing: border-box;text-align: center;}#sk-container-id-9 label.sk-toggleable__label-arrow:before {content: \"▸\";float: left;margin-right: 0.25em;color: #696969;}#sk-container-id-9 label.sk-toggleable__label-arrow:hover:before {color: black;}#sk-container-id-9 div.sk-estimator:hover label.sk-toggleable__label-arrow:before {color: black;}#sk-container-id-9 div.sk-toggleable__content {max-height: 0;max-width: 0;overflow: hidden;text-align: left;background-color: #f0f8ff;}#sk-container-id-9 div.sk-toggleable__content pre {margin: 0.2em;color: black;border-radius: 0.25em;background-color: #f0f8ff;}#sk-container-id-9 input.sk-toggleable__control:checked~div.sk-toggleable__content {max-height: 200px;max-width: 100%;overflow: auto;}#sk-container-id-9 input.sk-toggleable__control:checked~label.sk-toggleable__label-arrow:before {content: \"▾\";}#sk-container-id-9 div.sk-estimator input.sk-toggleable__control:checked~label.sk-toggleable__label {background-color: #d4ebff;}#sk-container-id-9 div.sk-label input.sk-toggleable__control:checked~label.sk-toggleable__label {background-color: #d4ebff;}#sk-container-id-9 input.sk-hidden--visually {border: 0;clip: rect(1px 1px 1px 1px);clip: rect(1px, 1px, 1px, 1px);height: 1px;margin: -1px;overflow: hidden;padding: 0;position: absolute;width: 1px;}#sk-container-id-9 div.sk-estimator {font-family: monospace;background-color: #f0f8ff;border: 1px dotted black;border-radius: 0.25em;box-sizing: border-box;margin-bottom: 0.5em;}#sk-container-id-9 div.sk-estimator:hover {background-color: #d4ebff;}#sk-container-id-9 div.sk-parallel-item::after {content: \"\";width: 100%;border-bottom: 1px solid gray;flex-grow: 1;}#sk-container-id-9 div.sk-label:hover label.sk-toggleable__label {background-color: #d4ebff;}#sk-container-id-9 div.sk-serial::before {content: \"\";position: absolute;border-left: 1px solid gray;box-sizing: border-box;top: 0;bottom: 0;left: 50%;z-index: 0;}#sk-container-id-9 div.sk-serial {display: flex;flex-direction: column;align-items: center;background-color: white;padding-right: 0.2em;padding-left: 0.2em;position: relative;}#sk-container-id-9 div.sk-item {position: relative;z-index: 1;}#sk-container-id-9 div.sk-parallel {display: flex;align-items: stretch;justify-content: center;background-color: white;position: relative;}#sk-container-id-9 div.sk-item::before, #sk-container-id-9 div.sk-parallel-item::before {content: \"\";position: absolute;border-left: 1px solid gray;box-sizing: border-box;top: 0;bottom: 0;left: 50%;z-index: -1;}#sk-container-id-9 div.sk-parallel-item {display: flex;flex-direction: column;z-index: 1;position: relative;background-color: white;}#sk-container-id-9 div.sk-parallel-item:first-child::after {align-self: flex-end;width: 50%;}#sk-container-id-9 div.sk-parallel-item:last-child::after {align-self: flex-start;width: 50%;}#sk-container-id-9 div.sk-parallel-item:only-child::after {width: 0;}#sk-container-id-9 div.sk-dashed-wrapped {border: 1px dashed gray;margin: 0 0.4em 0.5em 0.4em;box-sizing: border-box;padding-bottom: 0.4em;background-color: white;}#sk-container-id-9 div.sk-label label {font-family: monospace;font-weight: bold;display: inline-block;line-height: 1.2em;}#sk-container-id-9 div.sk-label-container {text-align: center;}#sk-container-id-9 div.sk-container {/* jupyter's `normalize.less` sets `[hidden] { display: none; }` but bootstrap.min.css set `[hidden] { display: none !important; }` so we also need the `!important` here to be able to override the default hidden behavior on the sphinx rendered scikit-learn.org. See: https://github.com/scikit-learn/scikit-learn/issues/21755 */display: inline-block !important;position: relative;}#sk-container-id-9 div.sk-text-repr-fallback {display: none;}</style><div id=\"sk-container-id-9\" class=\"sk-top-container\"><div class=\"sk-text-repr-fallback\"><pre>RandomForestRegressor(max_depth=18, n_estimators=599)</pre><b>In a Jupyter environment, please rerun this cell to show the HTML representation or trust the notebook. <br />On GitHub, the HTML representation is unable to render, please try loading this page with nbviewer.org.</b></div><div class=\"sk-container\" hidden><div class=\"sk-item\"><div class=\"sk-estimator sk-toggleable\"><input class=\"sk-toggleable__control sk-hidden--visually\" id=\"sk-estimator-id-21\" type=\"checkbox\" checked><label for=\"sk-estimator-id-21\" class=\"sk-toggleable__label sk-toggleable__label-arrow\">RandomForestRegressor</label><div class=\"sk-toggleable__content\"><pre>RandomForestRegressor(max_depth=18, n_estimators=599)</pre></div></div></div></div></div>"
      ],
      "text/plain": [
       "RandomForestRegressor(max_depth=18, n_estimators=599)"
      ]
     },
     "execution_count": 56,
     "metadata": {},
     "output_type": "execute_result"
    }
   ],
   "source": [
    "best_rf.fit(X_train, y_train)"
   ]
  },
  {
   "cell_type": "code",
   "execution_count": 57,
   "id": "a480286f",
   "metadata": {},
   "outputs": [
    {
     "name": "stdout",
     "output_type": "stream",
     "text": [
      "Model Performance\n",
      "Average Error: 0.2223 degrees.\n",
      "Accuracy = 99.68%.\n",
      "R^2 = 1.00%.\n"
     ]
    },
    {
     "data": {
      "text/plain": [
       "99.67545144384903"
      ]
     },
     "execution_count": 57,
     "metadata": {},
     "output_type": "execute_result"
    }
   ],
   "source": [
    "#evaluate fit\n",
    "evaluate(best_rf, X_train, y_train)"
   ]
  },
  {
   "cell_type": "code",
   "execution_count": 58,
   "id": "6fdc23bf",
   "metadata": {},
   "outputs": [],
   "source": [
    "#fit a base Gradient Boosted model to training data\n",
    "gbr = MultiOutputRegressor(GradientBoostingRegressor(random_state = 42))\n"
   ]
  },
  {
   "cell_type": "code",
   "execution_count": 59,
   "id": "e660b53e",
   "metadata": {},
   "outputs": [
    {
     "data": {
      "text/html": [
       "<style>#sk-container-id-10 {color: black;background-color: white;}#sk-container-id-10 pre{padding: 0;}#sk-container-id-10 div.sk-toggleable {background-color: white;}#sk-container-id-10 label.sk-toggleable__label {cursor: pointer;display: block;width: 100%;margin-bottom: 0;padding: 0.3em;box-sizing: border-box;text-align: center;}#sk-container-id-10 label.sk-toggleable__label-arrow:before {content: \"▸\";float: left;margin-right: 0.25em;color: #696969;}#sk-container-id-10 label.sk-toggleable__label-arrow:hover:before {color: black;}#sk-container-id-10 div.sk-estimator:hover label.sk-toggleable__label-arrow:before {color: black;}#sk-container-id-10 div.sk-toggleable__content {max-height: 0;max-width: 0;overflow: hidden;text-align: left;background-color: #f0f8ff;}#sk-container-id-10 div.sk-toggleable__content pre {margin: 0.2em;color: black;border-radius: 0.25em;background-color: #f0f8ff;}#sk-container-id-10 input.sk-toggleable__control:checked~div.sk-toggleable__content {max-height: 200px;max-width: 100%;overflow: auto;}#sk-container-id-10 input.sk-toggleable__control:checked~label.sk-toggleable__label-arrow:before {content: \"▾\";}#sk-container-id-10 div.sk-estimator input.sk-toggleable__control:checked~label.sk-toggleable__label {background-color: #d4ebff;}#sk-container-id-10 div.sk-label input.sk-toggleable__control:checked~label.sk-toggleable__label {background-color: #d4ebff;}#sk-container-id-10 input.sk-hidden--visually {border: 0;clip: rect(1px 1px 1px 1px);clip: rect(1px, 1px, 1px, 1px);height: 1px;margin: -1px;overflow: hidden;padding: 0;position: absolute;width: 1px;}#sk-container-id-10 div.sk-estimator {font-family: monospace;background-color: #f0f8ff;border: 1px dotted black;border-radius: 0.25em;box-sizing: border-box;margin-bottom: 0.5em;}#sk-container-id-10 div.sk-estimator:hover {background-color: #d4ebff;}#sk-container-id-10 div.sk-parallel-item::after {content: \"\";width: 100%;border-bottom: 1px solid gray;flex-grow: 1;}#sk-container-id-10 div.sk-label:hover label.sk-toggleable__label {background-color: #d4ebff;}#sk-container-id-10 div.sk-serial::before {content: \"\";position: absolute;border-left: 1px solid gray;box-sizing: border-box;top: 0;bottom: 0;left: 50%;z-index: 0;}#sk-container-id-10 div.sk-serial {display: flex;flex-direction: column;align-items: center;background-color: white;padding-right: 0.2em;padding-left: 0.2em;position: relative;}#sk-container-id-10 div.sk-item {position: relative;z-index: 1;}#sk-container-id-10 div.sk-parallel {display: flex;align-items: stretch;justify-content: center;background-color: white;position: relative;}#sk-container-id-10 div.sk-item::before, #sk-container-id-10 div.sk-parallel-item::before {content: \"\";position: absolute;border-left: 1px solid gray;box-sizing: border-box;top: 0;bottom: 0;left: 50%;z-index: -1;}#sk-container-id-10 div.sk-parallel-item {display: flex;flex-direction: column;z-index: 1;position: relative;background-color: white;}#sk-container-id-10 div.sk-parallel-item:first-child::after {align-self: flex-end;width: 50%;}#sk-container-id-10 div.sk-parallel-item:last-child::after {align-self: flex-start;width: 50%;}#sk-container-id-10 div.sk-parallel-item:only-child::after {width: 0;}#sk-container-id-10 div.sk-dashed-wrapped {border: 1px dashed gray;margin: 0 0.4em 0.5em 0.4em;box-sizing: border-box;padding-bottom: 0.4em;background-color: white;}#sk-container-id-10 div.sk-label label {font-family: monospace;font-weight: bold;display: inline-block;line-height: 1.2em;}#sk-container-id-10 div.sk-label-container {text-align: center;}#sk-container-id-10 div.sk-container {/* jupyter's `normalize.less` sets `[hidden] { display: none; }` but bootstrap.min.css set `[hidden] { display: none !important; }` so we also need the `!important` here to be able to override the default hidden behavior on the sphinx rendered scikit-learn.org. See: https://github.com/scikit-learn/scikit-learn/issues/21755 */display: inline-block !important;position: relative;}#sk-container-id-10 div.sk-text-repr-fallback {display: none;}</style><div id=\"sk-container-id-10\" class=\"sk-top-container\"><div class=\"sk-text-repr-fallback\"><pre>MultiOutputRegressor(estimator=GradientBoostingRegressor(random_state=42))</pre><b>In a Jupyter environment, please rerun this cell to show the HTML representation or trust the notebook. <br />On GitHub, the HTML representation is unable to render, please try loading this page with nbviewer.org.</b></div><div class=\"sk-container\" hidden><div class=\"sk-item sk-dashed-wrapped\"><div class=\"sk-label-container\"><div class=\"sk-label sk-toggleable\"><input class=\"sk-toggleable__control sk-hidden--visually\" id=\"sk-estimator-id-22\" type=\"checkbox\" ><label for=\"sk-estimator-id-22\" class=\"sk-toggleable__label sk-toggleable__label-arrow\">MultiOutputRegressor</label><div class=\"sk-toggleable__content\"><pre>MultiOutputRegressor(estimator=GradientBoostingRegressor(random_state=42))</pre></div></div></div><div class=\"sk-parallel\"><div class=\"sk-parallel-item\"><div class=\"sk-item\"><div class=\"sk-label-container\"><div class=\"sk-label sk-toggleable\"><input class=\"sk-toggleable__control sk-hidden--visually\" id=\"sk-estimator-id-23\" type=\"checkbox\" ><label for=\"sk-estimator-id-23\" class=\"sk-toggleable__label sk-toggleable__label-arrow\">estimator: GradientBoostingRegressor</label><div class=\"sk-toggleable__content\"><pre>GradientBoostingRegressor(random_state=42)</pre></div></div></div><div class=\"sk-serial\"><div class=\"sk-item\"><div class=\"sk-estimator sk-toggleable\"><input class=\"sk-toggleable__control sk-hidden--visually\" id=\"sk-estimator-id-24\" type=\"checkbox\" ><label for=\"sk-estimator-id-24\" class=\"sk-toggleable__label sk-toggleable__label-arrow\">GradientBoostingRegressor</label><div class=\"sk-toggleable__content\"><pre>GradientBoostingRegressor(random_state=42)</pre></div></div></div></div></div></div></div></div></div></div>"
      ],
      "text/plain": [
       "MultiOutputRegressor(estimator=GradientBoostingRegressor(random_state=42))"
      ]
     },
     "execution_count": 59,
     "metadata": {},
     "output_type": "execute_result"
    }
   ],
   "source": [
    "gbr.fit(X_train,y_train)"
   ]
  },
  {
   "cell_type": "code",
   "execution_count": 60,
   "id": "df864355",
   "metadata": {},
   "outputs": [
    {
     "name": "stdout",
     "output_type": "stream",
     "text": [
      "Model Performance\n",
      "Average Error: 0.4331 degrees.\n",
      "Accuracy = 99.38%.\n",
      "R^2 = 1.00%.\n",
      "Model Performance\n",
      "Average Error: 0.4331 degrees.\n",
      "Accuracy = 99.38%.\n",
      "R^2 = 1.00%.\n"
     ]
    },
    {
     "data": {
      "text/plain": [
       "99.38150870949605"
      ]
     },
     "execution_count": 60,
     "metadata": {},
     "output_type": "execute_result"
    }
   ],
   "source": [
    "#investigate its performance\n",
    "base_gbr_accuracy = evaluate(gbr, X_train, y_train)\n",
    "evaluate(gbr, X_train, y_train)"
   ]
  },
  {
   "cell_type": "code",
   "execution_count": 374,
   "id": "9a3bd698",
   "metadata": {},
   "outputs": [
    {
     "name": "stdout",
     "output_type": "stream",
     "text": [
      "Parameters currently in use:\n",
      "\n",
      "{'estimator': GradientBoostingRegressor(random_state=42),\n",
      " 'estimator__alpha': 0.9,\n",
      " 'estimator__ccp_alpha': 0.0,\n",
      " 'estimator__criterion': 'friedman_mse',\n",
      " 'estimator__init': None,\n",
      " 'estimator__learning_rate': 0.1,\n",
      " 'estimator__loss': 'squared_error',\n",
      " 'estimator__max_depth': 3,\n",
      " 'estimator__max_features': None,\n",
      " 'estimator__max_leaf_nodes': None,\n",
      " 'estimator__min_impurity_decrease': 0.0,\n",
      " 'estimator__min_samples_leaf': 1,\n",
      " 'estimator__min_samples_split': 2,\n",
      " 'estimator__min_weight_fraction_leaf': 0.0,\n",
      " 'estimator__n_estimators': 100,\n",
      " 'estimator__n_iter_no_change': None,\n",
      " 'estimator__random_state': 42,\n",
      " 'estimator__subsample': 1.0,\n",
      " 'estimator__tol': 0.0001,\n",
      " 'estimator__validation_fraction': 0.1,\n",
      " 'estimator__verbose': 0,\n",
      " 'estimator__warm_start': False,\n",
      " 'n_jobs': None}\n"
     ]
    }
   ],
   "source": [
    "#investigate gradient boosted default hyper parameter values\n",
    "print('Parameters currently in use:\\n')\n",
    "pprint(gbr.get_params())"
   ]
  },
  {
   "cell_type": "code",
   "execution_count": 393,
   "id": "ce62e53b",
   "metadata": {},
   "outputs": [
    {
     "data": {
      "text/html": [
       "<style>#sk-container-id-33 {color: black;background-color: white;}#sk-container-id-33 pre{padding: 0;}#sk-container-id-33 div.sk-toggleable {background-color: white;}#sk-container-id-33 label.sk-toggleable__label {cursor: pointer;display: block;width: 100%;margin-bottom: 0;padding: 0.3em;box-sizing: border-box;text-align: center;}#sk-container-id-33 label.sk-toggleable__label-arrow:before {content: \"▸\";float: left;margin-right: 0.25em;color: #696969;}#sk-container-id-33 label.sk-toggleable__label-arrow:hover:before {color: black;}#sk-container-id-33 div.sk-estimator:hover label.sk-toggleable__label-arrow:before {color: black;}#sk-container-id-33 div.sk-toggleable__content {max-height: 0;max-width: 0;overflow: hidden;text-align: left;background-color: #f0f8ff;}#sk-container-id-33 div.sk-toggleable__content pre {margin: 0.2em;color: black;border-radius: 0.25em;background-color: #f0f8ff;}#sk-container-id-33 input.sk-toggleable__control:checked~div.sk-toggleable__content {max-height: 200px;max-width: 100%;overflow: auto;}#sk-container-id-33 input.sk-toggleable__control:checked~label.sk-toggleable__label-arrow:before {content: \"▾\";}#sk-container-id-33 div.sk-estimator input.sk-toggleable__control:checked~label.sk-toggleable__label {background-color: #d4ebff;}#sk-container-id-33 div.sk-label input.sk-toggleable__control:checked~label.sk-toggleable__label {background-color: #d4ebff;}#sk-container-id-33 input.sk-hidden--visually {border: 0;clip: rect(1px 1px 1px 1px);clip: rect(1px, 1px, 1px, 1px);height: 1px;margin: -1px;overflow: hidden;padding: 0;position: absolute;width: 1px;}#sk-container-id-33 div.sk-estimator {font-family: monospace;background-color: #f0f8ff;border: 1px dotted black;border-radius: 0.25em;box-sizing: border-box;margin-bottom: 0.5em;}#sk-container-id-33 div.sk-estimator:hover {background-color: #d4ebff;}#sk-container-id-33 div.sk-parallel-item::after {content: \"\";width: 100%;border-bottom: 1px solid gray;flex-grow: 1;}#sk-container-id-33 div.sk-label:hover label.sk-toggleable__label {background-color: #d4ebff;}#sk-container-id-33 div.sk-serial::before {content: \"\";position: absolute;border-left: 1px solid gray;box-sizing: border-box;top: 0;bottom: 0;left: 50%;z-index: 0;}#sk-container-id-33 div.sk-serial {display: flex;flex-direction: column;align-items: center;background-color: white;padding-right: 0.2em;padding-left: 0.2em;position: relative;}#sk-container-id-33 div.sk-item {position: relative;z-index: 1;}#sk-container-id-33 div.sk-parallel {display: flex;align-items: stretch;justify-content: center;background-color: white;position: relative;}#sk-container-id-33 div.sk-item::before, #sk-container-id-33 div.sk-parallel-item::before {content: \"\";position: absolute;border-left: 1px solid gray;box-sizing: border-box;top: 0;bottom: 0;left: 50%;z-index: -1;}#sk-container-id-33 div.sk-parallel-item {display: flex;flex-direction: column;z-index: 1;position: relative;background-color: white;}#sk-container-id-33 div.sk-parallel-item:first-child::after {align-self: flex-end;width: 50%;}#sk-container-id-33 div.sk-parallel-item:last-child::after {align-self: flex-start;width: 50%;}#sk-container-id-33 div.sk-parallel-item:only-child::after {width: 0;}#sk-container-id-33 div.sk-dashed-wrapped {border: 1px dashed gray;margin: 0 0.4em 0.5em 0.4em;box-sizing: border-box;padding-bottom: 0.4em;background-color: white;}#sk-container-id-33 div.sk-label label {font-family: monospace;font-weight: bold;display: inline-block;line-height: 1.2em;}#sk-container-id-33 div.sk-label-container {text-align: center;}#sk-container-id-33 div.sk-container {/* jupyter's `normalize.less` sets `[hidden] { display: none; }` but bootstrap.min.css set `[hidden] { display: none !important; }` so we also need the `!important` here to be able to override the default hidden behavior on the sphinx rendered scikit-learn.org. See: https://github.com/scikit-learn/scikit-learn/issues/21755 */display: inline-block !important;position: relative;}#sk-container-id-33 div.sk-text-repr-fallback {display: none;}</style><div id=\"sk-container-id-33\" class=\"sk-top-container\"><div class=\"sk-text-repr-fallback\"><pre>GridSearchCV(cv=5,\n",
       "             estimator=MultiOutputRegressor(estimator=GradientBoostingRegressor(max_depth=8,\n",
       "                                                                                max_features=&#x27;sqrt&#x27;,\n",
       "                                                                                min_samples_leaf=50,\n",
       "                                                                                min_samples_split=500,\n",
       "                                                                                random_state=42)),\n",
       "             n_jobs=-1,\n",
       "             param_grid={&#x27;estimator__n_estimators&#x27;: range(455, 466)})</pre><b>In a Jupyter environment, please rerun this cell to show the HTML representation or trust the notebook. <br />On GitHub, the HTML representation is unable to render, please try loading this page with nbviewer.org.</b></div><div class=\"sk-container\" hidden><div class=\"sk-item sk-dashed-wrapped\"><div class=\"sk-label-container\"><div class=\"sk-label sk-toggleable\"><input class=\"sk-toggleable__control sk-hidden--visually\" id=\"sk-estimator-id-90\" type=\"checkbox\" ><label for=\"sk-estimator-id-90\" class=\"sk-toggleable__label sk-toggleable__label-arrow\">GridSearchCV</label><div class=\"sk-toggleable__content\"><pre>GridSearchCV(cv=5,\n",
       "             estimator=MultiOutputRegressor(estimator=GradientBoostingRegressor(max_depth=8,\n",
       "                                                                                max_features=&#x27;sqrt&#x27;,\n",
       "                                                                                min_samples_leaf=50,\n",
       "                                                                                min_samples_split=500,\n",
       "                                                                                random_state=42)),\n",
       "             n_jobs=-1,\n",
       "             param_grid={&#x27;estimator__n_estimators&#x27;: range(455, 466)})</pre></div></div></div><div class=\"sk-parallel\"><div class=\"sk-parallel-item\"><div class=\"sk-item\"><div class=\"sk-label-container\"><div class=\"sk-label sk-toggleable\"><input class=\"sk-toggleable__control sk-hidden--visually\" id=\"sk-estimator-id-91\" type=\"checkbox\" ><label for=\"sk-estimator-id-91\" class=\"sk-toggleable__label sk-toggleable__label-arrow\">estimator: MultiOutputRegressor</label><div class=\"sk-toggleable__content\"><pre>MultiOutputRegressor(estimator=GradientBoostingRegressor(max_depth=8,\n",
       "                                                         max_features=&#x27;sqrt&#x27;,\n",
       "                                                         min_samples_leaf=50,\n",
       "                                                         min_samples_split=500,\n",
       "                                                         random_state=42))</pre></div></div></div><div class=\"sk-serial\"><div class=\"sk-item sk-dashed-wrapped\"><div class=\"sk-parallel\"><div class=\"sk-parallel-item\"><div class=\"sk-item\"><div class=\"sk-label-container\"><div class=\"sk-label sk-toggleable\"><input class=\"sk-toggleable__control sk-hidden--visually\" id=\"sk-estimator-id-92\" type=\"checkbox\" ><label for=\"sk-estimator-id-92\" class=\"sk-toggleable__label sk-toggleable__label-arrow\">estimator: GradientBoostingRegressor</label><div class=\"sk-toggleable__content\"><pre>GradientBoostingRegressor(max_depth=8, max_features=&#x27;sqrt&#x27;, min_samples_leaf=50,\n",
       "                          min_samples_split=500, random_state=42)</pre></div></div></div><div class=\"sk-serial\"><div class=\"sk-item\"><div class=\"sk-estimator sk-toggleable\"><input class=\"sk-toggleable__control sk-hidden--visually\" id=\"sk-estimator-id-93\" type=\"checkbox\" ><label for=\"sk-estimator-id-93\" class=\"sk-toggleable__label sk-toggleable__label-arrow\">GradientBoostingRegressor</label><div class=\"sk-toggleable__content\"><pre>GradientBoostingRegressor(max_depth=8, max_features=&#x27;sqrt&#x27;, min_samples_leaf=50,\n",
       "                          min_samples_split=500, random_state=42)</pre></div></div></div></div></div></div></div></div></div></div></div></div></div></div></div>"
      ],
      "text/plain": [
       "GridSearchCV(cv=5,\n",
       "             estimator=MultiOutputRegressor(estimator=GradientBoostingRegressor(max_depth=8,\n",
       "                                                                                max_features='sqrt',\n",
       "                                                                                min_samples_leaf=50,\n",
       "                                                                                min_samples_split=500,\n",
       "                                                                                random_state=42)),\n",
       "             n_jobs=-1,\n",
       "             param_grid={'estimator__n_estimators': range(455, 466)})"
      ]
     },
     "execution_count": 393,
     "metadata": {},
     "output_type": "execute_result"
    }
   ],
   "source": [
    "#optimize the number of estimators first\n",
    "param_test1 = {'estimator__n_estimators':range(455,466,1)}\n",
    "gsearch1 = GridSearchCV(estimator = MultiOutputRegressor(GradientBoostingRegressor(learning_rate=0.1,\n",
    "                                                                                   min_samples_split=500,\n",
    "                                                                                   min_samples_leaf=50,\n",
    "                                                                                   max_depth=8,\n",
    "                                                                                   max_features='sqrt',\n",
    "                                                                                   random_state=42)), \n",
    "param_grid = param_test1,n_jobs=-1, cv=5)\n",
    "gsearch1.fit(X_train,y_train)"
   ]
  },
  {
   "cell_type": "code",
   "execution_count": 394,
   "id": "9f1dd8e6",
   "metadata": {},
   "outputs": [
    {
     "data": {
      "text/plain": [
       "{'estimator__n_estimators': 461}"
      ]
     },
     "execution_count": 394,
     "metadata": {},
     "output_type": "execute_result"
    }
   ],
   "source": [
    "#display number of estimators resulting in best fit\n",
    "gsearch1_best = gsearch1.best_params_\n",
    "gsearch1_best"
   ]
  },
  {
   "cell_type": "code",
   "execution_count": 416,
   "id": "af64ce06",
   "metadata": {},
   "outputs": [
    {
     "name": "stdout",
     "output_type": "stream",
     "text": [
      "Fitting 5 folds for each of 126 candidates, totalling 630 fits\n"
     ]
    },
    {
     "data": {
      "text/html": [
       "<style>#sk-container-id-44 {color: black;background-color: white;}#sk-container-id-44 pre{padding: 0;}#sk-container-id-44 div.sk-toggleable {background-color: white;}#sk-container-id-44 label.sk-toggleable__label {cursor: pointer;display: block;width: 100%;margin-bottom: 0;padding: 0.3em;box-sizing: border-box;text-align: center;}#sk-container-id-44 label.sk-toggleable__label-arrow:before {content: \"▸\";float: left;margin-right: 0.25em;color: #696969;}#sk-container-id-44 label.sk-toggleable__label-arrow:hover:before {color: black;}#sk-container-id-44 div.sk-estimator:hover label.sk-toggleable__label-arrow:before {color: black;}#sk-container-id-44 div.sk-toggleable__content {max-height: 0;max-width: 0;overflow: hidden;text-align: left;background-color: #f0f8ff;}#sk-container-id-44 div.sk-toggleable__content pre {margin: 0.2em;color: black;border-radius: 0.25em;background-color: #f0f8ff;}#sk-container-id-44 input.sk-toggleable__control:checked~div.sk-toggleable__content {max-height: 200px;max-width: 100%;overflow: auto;}#sk-container-id-44 input.sk-toggleable__control:checked~label.sk-toggleable__label-arrow:before {content: \"▾\";}#sk-container-id-44 div.sk-estimator input.sk-toggleable__control:checked~label.sk-toggleable__label {background-color: #d4ebff;}#sk-container-id-44 div.sk-label input.sk-toggleable__control:checked~label.sk-toggleable__label {background-color: #d4ebff;}#sk-container-id-44 input.sk-hidden--visually {border: 0;clip: rect(1px 1px 1px 1px);clip: rect(1px, 1px, 1px, 1px);height: 1px;margin: -1px;overflow: hidden;padding: 0;position: absolute;width: 1px;}#sk-container-id-44 div.sk-estimator {font-family: monospace;background-color: #f0f8ff;border: 1px dotted black;border-radius: 0.25em;box-sizing: border-box;margin-bottom: 0.5em;}#sk-container-id-44 div.sk-estimator:hover {background-color: #d4ebff;}#sk-container-id-44 div.sk-parallel-item::after {content: \"\";width: 100%;border-bottom: 1px solid gray;flex-grow: 1;}#sk-container-id-44 div.sk-label:hover label.sk-toggleable__label {background-color: #d4ebff;}#sk-container-id-44 div.sk-serial::before {content: \"\";position: absolute;border-left: 1px solid gray;box-sizing: border-box;top: 0;bottom: 0;left: 50%;z-index: 0;}#sk-container-id-44 div.sk-serial {display: flex;flex-direction: column;align-items: center;background-color: white;padding-right: 0.2em;padding-left: 0.2em;position: relative;}#sk-container-id-44 div.sk-item {position: relative;z-index: 1;}#sk-container-id-44 div.sk-parallel {display: flex;align-items: stretch;justify-content: center;background-color: white;position: relative;}#sk-container-id-44 div.sk-item::before, #sk-container-id-44 div.sk-parallel-item::before {content: \"\";position: absolute;border-left: 1px solid gray;box-sizing: border-box;top: 0;bottom: 0;left: 50%;z-index: -1;}#sk-container-id-44 div.sk-parallel-item {display: flex;flex-direction: column;z-index: 1;position: relative;background-color: white;}#sk-container-id-44 div.sk-parallel-item:first-child::after {align-self: flex-end;width: 50%;}#sk-container-id-44 div.sk-parallel-item:last-child::after {align-self: flex-start;width: 50%;}#sk-container-id-44 div.sk-parallel-item:only-child::after {width: 0;}#sk-container-id-44 div.sk-dashed-wrapped {border: 1px dashed gray;margin: 0 0.4em 0.5em 0.4em;box-sizing: border-box;padding-bottom: 0.4em;background-color: white;}#sk-container-id-44 div.sk-label label {font-family: monospace;font-weight: bold;display: inline-block;line-height: 1.2em;}#sk-container-id-44 div.sk-label-container {text-align: center;}#sk-container-id-44 div.sk-container {/* jupyter's `normalize.less` sets `[hidden] { display: none; }` but bootstrap.min.css set `[hidden] { display: none !important; }` so we also need the `!important` here to be able to override the default hidden behavior on the sphinx rendered scikit-learn.org. See: https://github.com/scikit-learn/scikit-learn/issues/21755 */display: inline-block !important;position: relative;}#sk-container-id-44 div.sk-text-repr-fallback {display: none;}</style><div id=\"sk-container-id-44\" class=\"sk-top-container\"><div class=\"sk-text-repr-fallback\"><pre>GridSearchCV(cv=5,\n",
       "             estimator=MultiOutputRegressor(estimator=GradientBoostingRegressor(max_features=&#x27;sqrt&#x27;,\n",
       "                                                                                n_estimators=461,\n",
       "                                                                                random_state=42)),\n",
       "             n_jobs=-1,\n",
       "             param_grid={&#x27;estimator__max_depth&#x27;: range(5, 7),\n",
       "                         &#x27;estimator__min_samples_leaf&#x27;: range(15, 18),\n",
       "                         &#x27;estimator__min_samples_split&#x27;: range(790, 811)},\n",
       "             verbose=3)</pre><b>In a Jupyter environment, please rerun this cell to show the HTML representation or trust the notebook. <br />On GitHub, the HTML representation is unable to render, please try loading this page with nbviewer.org.</b></div><div class=\"sk-container\" hidden><div class=\"sk-item sk-dashed-wrapped\"><div class=\"sk-label-container\"><div class=\"sk-label sk-toggleable\"><input class=\"sk-toggleable__control sk-hidden--visually\" id=\"sk-estimator-id-134\" type=\"checkbox\" ><label for=\"sk-estimator-id-134\" class=\"sk-toggleable__label sk-toggleable__label-arrow\">GridSearchCV</label><div class=\"sk-toggleable__content\"><pre>GridSearchCV(cv=5,\n",
       "             estimator=MultiOutputRegressor(estimator=GradientBoostingRegressor(max_features=&#x27;sqrt&#x27;,\n",
       "                                                                                n_estimators=461,\n",
       "                                                                                random_state=42)),\n",
       "             n_jobs=-1,\n",
       "             param_grid={&#x27;estimator__max_depth&#x27;: range(5, 7),\n",
       "                         &#x27;estimator__min_samples_leaf&#x27;: range(15, 18),\n",
       "                         &#x27;estimator__min_samples_split&#x27;: range(790, 811)},\n",
       "             verbose=3)</pre></div></div></div><div class=\"sk-parallel\"><div class=\"sk-parallel-item\"><div class=\"sk-item\"><div class=\"sk-label-container\"><div class=\"sk-label sk-toggleable\"><input class=\"sk-toggleable__control sk-hidden--visually\" id=\"sk-estimator-id-135\" type=\"checkbox\" ><label for=\"sk-estimator-id-135\" class=\"sk-toggleable__label sk-toggleable__label-arrow\">estimator: MultiOutputRegressor</label><div class=\"sk-toggleable__content\"><pre>MultiOutputRegressor(estimator=GradientBoostingRegressor(max_features=&#x27;sqrt&#x27;,\n",
       "                                                         n_estimators=461,\n",
       "                                                         random_state=42))</pre></div></div></div><div class=\"sk-serial\"><div class=\"sk-item sk-dashed-wrapped\"><div class=\"sk-parallel\"><div class=\"sk-parallel-item\"><div class=\"sk-item\"><div class=\"sk-label-container\"><div class=\"sk-label sk-toggleable\"><input class=\"sk-toggleable__control sk-hidden--visually\" id=\"sk-estimator-id-136\" type=\"checkbox\" ><label for=\"sk-estimator-id-136\" class=\"sk-toggleable__label sk-toggleable__label-arrow\">estimator: GradientBoostingRegressor</label><div class=\"sk-toggleable__content\"><pre>GradientBoostingRegressor(max_features=&#x27;sqrt&#x27;, n_estimators=461,\n",
       "                          random_state=42)</pre></div></div></div><div class=\"sk-serial\"><div class=\"sk-item\"><div class=\"sk-estimator sk-toggleable\"><input class=\"sk-toggleable__control sk-hidden--visually\" id=\"sk-estimator-id-137\" type=\"checkbox\" ><label for=\"sk-estimator-id-137\" class=\"sk-toggleable__label sk-toggleable__label-arrow\">GradientBoostingRegressor</label><div class=\"sk-toggleable__content\"><pre>GradientBoostingRegressor(max_features=&#x27;sqrt&#x27;, n_estimators=461,\n",
       "                          random_state=42)</pre></div></div></div></div></div></div></div></div></div></div></div></div></div></div></div>"
      ],
      "text/plain": [
       "GridSearchCV(cv=5,\n",
       "             estimator=MultiOutputRegressor(estimator=GradientBoostingRegressor(max_features='sqrt',\n",
       "                                                                                n_estimators=461,\n",
       "                                                                                random_state=42)),\n",
       "             n_jobs=-1,\n",
       "             param_grid={'estimator__max_depth': range(5, 7),\n",
       "                         'estimator__min_samples_leaf': range(15, 18),\n",
       "                         'estimator__min_samples_split': range(790, 811)},\n",
       "             verbose=3)"
      ]
     },
     "execution_count": 416,
     "metadata": {},
     "output_type": "execute_result"
    }
   ],
   "source": [
    "#optimize 'max depth', 'min_samples_split', and 'min_samples_leaf' next while inserting best 'n_estimators' value\n",
    "param_test2 = {'estimator__max_depth':range(5,7,1),\n",
    "               'estimator__min_samples_split':range(790,811,1),\n",
    "              'estimator__min_samples_leaf': range(15,18,1)}\n",
    "gsearch2 = GridSearchCV(estimator = MultiOutputRegressor(GradientBoostingRegressor(learning_rate=0.1,\n",
    "                                                                                   n_estimators=461,\n",
    "                                                                                   max_features='sqrt',\n",
    "                                                                                   random_state=42)), \n",
    "param_grid = param_test2,n_jobs=-1, cv=5, verbose = 3)\n",
    "gsearch2.fit(X_train,y_train)"
   ]
  },
  {
   "cell_type": "code",
   "execution_count": 417,
   "id": "c7b0c94e",
   "metadata": {},
   "outputs": [
    {
     "data": {
      "text/plain": [
       "{'estimator__max_depth': 6,\n",
       " 'estimator__min_samples_leaf': 15,\n",
       " 'estimator__min_samples_split': 800}"
      ]
     },
     "execution_count": 417,
     "metadata": {},
     "output_type": "execute_result"
    }
   ],
   "source": [
    "#obtain best fitting values\n",
    "gsearch2_best = gsearch2.best_params_\n",
    "gsearch2_best"
   ]
  },
  {
   "cell_type": "code",
   "execution_count": 420,
   "id": "c359bb4e",
   "metadata": {},
   "outputs": [
    {
     "name": "stdout",
     "output_type": "stream",
     "text": [
      "Fitting 5 folds for each of 20 candidates, totalling 100 fits\n"
     ]
    },
    {
     "data": {
      "text/html": [
       "<style>#sk-container-id-46 {color: black;background-color: white;}#sk-container-id-46 pre{padding: 0;}#sk-container-id-46 div.sk-toggleable {background-color: white;}#sk-container-id-46 label.sk-toggleable__label {cursor: pointer;display: block;width: 100%;margin-bottom: 0;padding: 0.3em;box-sizing: border-box;text-align: center;}#sk-container-id-46 label.sk-toggleable__label-arrow:before {content: \"▸\";float: left;margin-right: 0.25em;color: #696969;}#sk-container-id-46 label.sk-toggleable__label-arrow:hover:before {color: black;}#sk-container-id-46 div.sk-estimator:hover label.sk-toggleable__label-arrow:before {color: black;}#sk-container-id-46 div.sk-toggleable__content {max-height: 0;max-width: 0;overflow: hidden;text-align: left;background-color: #f0f8ff;}#sk-container-id-46 div.sk-toggleable__content pre {margin: 0.2em;color: black;border-radius: 0.25em;background-color: #f0f8ff;}#sk-container-id-46 input.sk-toggleable__control:checked~div.sk-toggleable__content {max-height: 200px;max-width: 100%;overflow: auto;}#sk-container-id-46 input.sk-toggleable__control:checked~label.sk-toggleable__label-arrow:before {content: \"▾\";}#sk-container-id-46 div.sk-estimator input.sk-toggleable__control:checked~label.sk-toggleable__label {background-color: #d4ebff;}#sk-container-id-46 div.sk-label input.sk-toggleable__control:checked~label.sk-toggleable__label {background-color: #d4ebff;}#sk-container-id-46 input.sk-hidden--visually {border: 0;clip: rect(1px 1px 1px 1px);clip: rect(1px, 1px, 1px, 1px);height: 1px;margin: -1px;overflow: hidden;padding: 0;position: absolute;width: 1px;}#sk-container-id-46 div.sk-estimator {font-family: monospace;background-color: #f0f8ff;border: 1px dotted black;border-radius: 0.25em;box-sizing: border-box;margin-bottom: 0.5em;}#sk-container-id-46 div.sk-estimator:hover {background-color: #d4ebff;}#sk-container-id-46 div.sk-parallel-item::after {content: \"\";width: 100%;border-bottom: 1px solid gray;flex-grow: 1;}#sk-container-id-46 div.sk-label:hover label.sk-toggleable__label {background-color: #d4ebff;}#sk-container-id-46 div.sk-serial::before {content: \"\";position: absolute;border-left: 1px solid gray;box-sizing: border-box;top: 0;bottom: 0;left: 50%;z-index: 0;}#sk-container-id-46 div.sk-serial {display: flex;flex-direction: column;align-items: center;background-color: white;padding-right: 0.2em;padding-left: 0.2em;position: relative;}#sk-container-id-46 div.sk-item {position: relative;z-index: 1;}#sk-container-id-46 div.sk-parallel {display: flex;align-items: stretch;justify-content: center;background-color: white;position: relative;}#sk-container-id-46 div.sk-item::before, #sk-container-id-46 div.sk-parallel-item::before {content: \"\";position: absolute;border-left: 1px solid gray;box-sizing: border-box;top: 0;bottom: 0;left: 50%;z-index: -1;}#sk-container-id-46 div.sk-parallel-item {display: flex;flex-direction: column;z-index: 1;position: relative;background-color: white;}#sk-container-id-46 div.sk-parallel-item:first-child::after {align-self: flex-end;width: 50%;}#sk-container-id-46 div.sk-parallel-item:last-child::after {align-self: flex-start;width: 50%;}#sk-container-id-46 div.sk-parallel-item:only-child::after {width: 0;}#sk-container-id-46 div.sk-dashed-wrapped {border: 1px dashed gray;margin: 0 0.4em 0.5em 0.4em;box-sizing: border-box;padding-bottom: 0.4em;background-color: white;}#sk-container-id-46 div.sk-label label {font-family: monospace;font-weight: bold;display: inline-block;line-height: 1.2em;}#sk-container-id-46 div.sk-label-container {text-align: center;}#sk-container-id-46 div.sk-container {/* jupyter's `normalize.less` sets `[hidden] { display: none; }` but bootstrap.min.css set `[hidden] { display: none !important; }` so we also need the `!important` here to be able to override the default hidden behavior on the sphinx rendered scikit-learn.org. See: https://github.com/scikit-learn/scikit-learn/issues/21755 */display: inline-block !important;position: relative;}#sk-container-id-46 div.sk-text-repr-fallback {display: none;}</style><div id=\"sk-container-id-46\" class=\"sk-top-container\"><div class=\"sk-text-repr-fallback\"><pre>GridSearchCV(cv=5,\n",
       "             estimator=MultiOutputRegressor(estimator=GradientBoostingRegressor(max_depth=6,\n",
       "                                                                                min_samples_leaf=15,\n",
       "                                                                                min_samples_split=800,\n",
       "                                                                                n_estimators=461,\n",
       "                                                                                random_state=42)),\n",
       "             n_jobs=-1, param_grid={&#x27;estimator__max_features&#x27;: range(1, 21)},\n",
       "             verbose=3)</pre><b>In a Jupyter environment, please rerun this cell to show the HTML representation or trust the notebook. <br />On GitHub, the HTML representation is unable to render, please try loading this page with nbviewer.org.</b></div><div class=\"sk-container\" hidden><div class=\"sk-item sk-dashed-wrapped\"><div class=\"sk-label-container\"><div class=\"sk-label sk-toggleable\"><input class=\"sk-toggleable__control sk-hidden--visually\" id=\"sk-estimator-id-142\" type=\"checkbox\" ><label for=\"sk-estimator-id-142\" class=\"sk-toggleable__label sk-toggleable__label-arrow\">GridSearchCV</label><div class=\"sk-toggleable__content\"><pre>GridSearchCV(cv=5,\n",
       "             estimator=MultiOutputRegressor(estimator=GradientBoostingRegressor(max_depth=6,\n",
       "                                                                                min_samples_leaf=15,\n",
       "                                                                                min_samples_split=800,\n",
       "                                                                                n_estimators=461,\n",
       "                                                                                random_state=42)),\n",
       "             n_jobs=-1, param_grid={&#x27;estimator__max_features&#x27;: range(1, 21)},\n",
       "             verbose=3)</pre></div></div></div><div class=\"sk-parallel\"><div class=\"sk-parallel-item\"><div class=\"sk-item\"><div class=\"sk-label-container\"><div class=\"sk-label sk-toggleable\"><input class=\"sk-toggleable__control sk-hidden--visually\" id=\"sk-estimator-id-143\" type=\"checkbox\" ><label for=\"sk-estimator-id-143\" class=\"sk-toggleable__label sk-toggleable__label-arrow\">estimator: MultiOutputRegressor</label><div class=\"sk-toggleable__content\"><pre>MultiOutputRegressor(estimator=GradientBoostingRegressor(max_depth=6,\n",
       "                                                         min_samples_leaf=15,\n",
       "                                                         min_samples_split=800,\n",
       "                                                         n_estimators=461,\n",
       "                                                         random_state=42))</pre></div></div></div><div class=\"sk-serial\"><div class=\"sk-item sk-dashed-wrapped\"><div class=\"sk-parallel\"><div class=\"sk-parallel-item\"><div class=\"sk-item\"><div class=\"sk-label-container\"><div class=\"sk-label sk-toggleable\"><input class=\"sk-toggleable__control sk-hidden--visually\" id=\"sk-estimator-id-144\" type=\"checkbox\" ><label for=\"sk-estimator-id-144\" class=\"sk-toggleable__label sk-toggleable__label-arrow\">estimator: GradientBoostingRegressor</label><div class=\"sk-toggleable__content\"><pre>GradientBoostingRegressor(max_depth=6, min_samples_leaf=15,\n",
       "                          min_samples_split=800, n_estimators=461,\n",
       "                          random_state=42)</pre></div></div></div><div class=\"sk-serial\"><div class=\"sk-item\"><div class=\"sk-estimator sk-toggleable\"><input class=\"sk-toggleable__control sk-hidden--visually\" id=\"sk-estimator-id-145\" type=\"checkbox\" ><label for=\"sk-estimator-id-145\" class=\"sk-toggleable__label sk-toggleable__label-arrow\">GradientBoostingRegressor</label><div class=\"sk-toggleable__content\"><pre>GradientBoostingRegressor(max_depth=6, min_samples_leaf=15,\n",
       "                          min_samples_split=800, n_estimators=461,\n",
       "                          random_state=42)</pre></div></div></div></div></div></div></div></div></div></div></div></div></div></div></div>"
      ],
      "text/plain": [
       "GridSearchCV(cv=5,\n",
       "             estimator=MultiOutputRegressor(estimator=GradientBoostingRegressor(max_depth=6,\n",
       "                                                                                min_samples_leaf=15,\n",
       "                                                                                min_samples_split=800,\n",
       "                                                                                n_estimators=461,\n",
       "                                                                                random_state=42)),\n",
       "             n_jobs=-1, param_grid={'estimator__max_features': range(1, 21)},\n",
       "             verbose=3)"
      ]
     },
     "execution_count": 420,
     "metadata": {},
     "output_type": "execute_result"
    }
   ],
   "source": [
    "#optimize 'max_features' while inserting best fitting 'max_depth',' min_samples_leaf', and 'min_samples_split' values\n",
    "param_test3 = {'estimator__max_features':range(1,21,1)}\n",
    "gsearch3 = GridSearchCV(estimator = MultiOutputRegressor(GradientBoostingRegressor(learning_rate=0.1,\n",
    "                                                                                   n_estimators=461,\n",
    "                                                                                   max_depth = 6,\n",
    "                                                                                   min_samples_split = 800,\n",
    "                                                                                   min_samples_leaf=15,\n",
    "                                                                                   random_state=42)), \n",
    "param_grid = param_test3,n_jobs=-1, cv=5, verbose = 3)\n",
    "gsearch3.fit(X_train,y_train)"
   ]
  },
  {
   "cell_type": "code",
   "execution_count": 532,
   "id": "debb3dc8",
   "metadata": {},
   "outputs": [
    {
     "data": {
      "text/plain": [
       "{'estimator__max_features': 15}"
      ]
     },
     "execution_count": 532,
     "metadata": {},
     "output_type": "execute_result"
    }
   ],
   "source": [
    "#obtain values from best fitting model\n",
    "gsearch3_best = gsearch3.best_params_\n",
    "gsearch3_best"
   ]
  },
  {
   "cell_type": "code",
   "execution_count": 426,
   "id": "edfb5425",
   "metadata": {},
   "outputs": [
    {
     "name": "stdout",
     "output_type": "stream",
     "text": [
      "Fitting 5 folds for each of 9 candidates, totalling 45 fits\n"
     ]
    },
    {
     "data": {
      "text/html": [
       "<style>#sk-container-id-48 {color: black;background-color: white;}#sk-container-id-48 pre{padding: 0;}#sk-container-id-48 div.sk-toggleable {background-color: white;}#sk-container-id-48 label.sk-toggleable__label {cursor: pointer;display: block;width: 100%;margin-bottom: 0;padding: 0.3em;box-sizing: border-box;text-align: center;}#sk-container-id-48 label.sk-toggleable__label-arrow:before {content: \"▸\";float: left;margin-right: 0.25em;color: #696969;}#sk-container-id-48 label.sk-toggleable__label-arrow:hover:before {color: black;}#sk-container-id-48 div.sk-estimator:hover label.sk-toggleable__label-arrow:before {color: black;}#sk-container-id-48 div.sk-toggleable__content {max-height: 0;max-width: 0;overflow: hidden;text-align: left;background-color: #f0f8ff;}#sk-container-id-48 div.sk-toggleable__content pre {margin: 0.2em;color: black;border-radius: 0.25em;background-color: #f0f8ff;}#sk-container-id-48 input.sk-toggleable__control:checked~div.sk-toggleable__content {max-height: 200px;max-width: 100%;overflow: auto;}#sk-container-id-48 input.sk-toggleable__control:checked~label.sk-toggleable__label-arrow:before {content: \"▾\";}#sk-container-id-48 div.sk-estimator input.sk-toggleable__control:checked~label.sk-toggleable__label {background-color: #d4ebff;}#sk-container-id-48 div.sk-label input.sk-toggleable__control:checked~label.sk-toggleable__label {background-color: #d4ebff;}#sk-container-id-48 input.sk-hidden--visually {border: 0;clip: rect(1px 1px 1px 1px);clip: rect(1px, 1px, 1px, 1px);height: 1px;margin: -1px;overflow: hidden;padding: 0;position: absolute;width: 1px;}#sk-container-id-48 div.sk-estimator {font-family: monospace;background-color: #f0f8ff;border: 1px dotted black;border-radius: 0.25em;box-sizing: border-box;margin-bottom: 0.5em;}#sk-container-id-48 div.sk-estimator:hover {background-color: #d4ebff;}#sk-container-id-48 div.sk-parallel-item::after {content: \"\";width: 100%;border-bottom: 1px solid gray;flex-grow: 1;}#sk-container-id-48 div.sk-label:hover label.sk-toggleable__label {background-color: #d4ebff;}#sk-container-id-48 div.sk-serial::before {content: \"\";position: absolute;border-left: 1px solid gray;box-sizing: border-box;top: 0;bottom: 0;left: 50%;z-index: 0;}#sk-container-id-48 div.sk-serial {display: flex;flex-direction: column;align-items: center;background-color: white;padding-right: 0.2em;padding-left: 0.2em;position: relative;}#sk-container-id-48 div.sk-item {position: relative;z-index: 1;}#sk-container-id-48 div.sk-parallel {display: flex;align-items: stretch;justify-content: center;background-color: white;position: relative;}#sk-container-id-48 div.sk-item::before, #sk-container-id-48 div.sk-parallel-item::before {content: \"\";position: absolute;border-left: 1px solid gray;box-sizing: border-box;top: 0;bottom: 0;left: 50%;z-index: -1;}#sk-container-id-48 div.sk-parallel-item {display: flex;flex-direction: column;z-index: 1;position: relative;background-color: white;}#sk-container-id-48 div.sk-parallel-item:first-child::after {align-self: flex-end;width: 50%;}#sk-container-id-48 div.sk-parallel-item:last-child::after {align-self: flex-start;width: 50%;}#sk-container-id-48 div.sk-parallel-item:only-child::after {width: 0;}#sk-container-id-48 div.sk-dashed-wrapped {border: 1px dashed gray;margin: 0 0.4em 0.5em 0.4em;box-sizing: border-box;padding-bottom: 0.4em;background-color: white;}#sk-container-id-48 div.sk-label label {font-family: monospace;font-weight: bold;display: inline-block;line-height: 1.2em;}#sk-container-id-48 div.sk-label-container {text-align: center;}#sk-container-id-48 div.sk-container {/* jupyter's `normalize.less` sets `[hidden] { display: none; }` but bootstrap.min.css set `[hidden] { display: none !important; }` so we also need the `!important` here to be able to override the default hidden behavior on the sphinx rendered scikit-learn.org. See: https://github.com/scikit-learn/scikit-learn/issues/21755 */display: inline-block !important;position: relative;}#sk-container-id-48 div.sk-text-repr-fallback {display: none;}</style><div id=\"sk-container-id-48\" class=\"sk-top-container\"><div class=\"sk-text-repr-fallback\"><pre>GridSearchCV(cv=5,\n",
       "             estimator=MultiOutputRegressor(estimator=GradientBoostingRegressor(max_depth=6,\n",
       "                                                                                max_features=15,\n",
       "                                                                                min_samples_leaf=15,\n",
       "                                                                                min_samples_split=800,\n",
       "                                                                                n_estimators=461,\n",
       "                                                                                random_state=42)),\n",
       "             n_jobs=-1,\n",
       "             param_grid={&#x27;estimator__subsample&#x27;: [0.81, 0.82, 0.83, 0.84, 0.85,\n",
       "                                                  0.86, 0.87, 0.89, 0.9]},\n",
       "             verbose=3)</pre><b>In a Jupyter environment, please rerun this cell to show the HTML representation or trust the notebook. <br />On GitHub, the HTML representation is unable to render, please try loading this page with nbviewer.org.</b></div><div class=\"sk-container\" hidden><div class=\"sk-item sk-dashed-wrapped\"><div class=\"sk-label-container\"><div class=\"sk-label sk-toggleable\"><input class=\"sk-toggleable__control sk-hidden--visually\" id=\"sk-estimator-id-150\" type=\"checkbox\" ><label for=\"sk-estimator-id-150\" class=\"sk-toggleable__label sk-toggleable__label-arrow\">GridSearchCV</label><div class=\"sk-toggleable__content\"><pre>GridSearchCV(cv=5,\n",
       "             estimator=MultiOutputRegressor(estimator=GradientBoostingRegressor(max_depth=6,\n",
       "                                                                                max_features=15,\n",
       "                                                                                min_samples_leaf=15,\n",
       "                                                                                min_samples_split=800,\n",
       "                                                                                n_estimators=461,\n",
       "                                                                                random_state=42)),\n",
       "             n_jobs=-1,\n",
       "             param_grid={&#x27;estimator__subsample&#x27;: [0.81, 0.82, 0.83, 0.84, 0.85,\n",
       "                                                  0.86, 0.87, 0.89, 0.9]},\n",
       "             verbose=3)</pre></div></div></div><div class=\"sk-parallel\"><div class=\"sk-parallel-item\"><div class=\"sk-item\"><div class=\"sk-label-container\"><div class=\"sk-label sk-toggleable\"><input class=\"sk-toggleable__control sk-hidden--visually\" id=\"sk-estimator-id-151\" type=\"checkbox\" ><label for=\"sk-estimator-id-151\" class=\"sk-toggleable__label sk-toggleable__label-arrow\">estimator: MultiOutputRegressor</label><div class=\"sk-toggleable__content\"><pre>MultiOutputRegressor(estimator=GradientBoostingRegressor(max_depth=6,\n",
       "                                                         max_features=15,\n",
       "                                                         min_samples_leaf=15,\n",
       "                                                         min_samples_split=800,\n",
       "                                                         n_estimators=461,\n",
       "                                                         random_state=42))</pre></div></div></div><div class=\"sk-serial\"><div class=\"sk-item sk-dashed-wrapped\"><div class=\"sk-parallel\"><div class=\"sk-parallel-item\"><div class=\"sk-item\"><div class=\"sk-label-container\"><div class=\"sk-label sk-toggleable\"><input class=\"sk-toggleable__control sk-hidden--visually\" id=\"sk-estimator-id-152\" type=\"checkbox\" ><label for=\"sk-estimator-id-152\" class=\"sk-toggleable__label sk-toggleable__label-arrow\">estimator: GradientBoostingRegressor</label><div class=\"sk-toggleable__content\"><pre>GradientBoostingRegressor(max_depth=6, max_features=15, min_samples_leaf=15,\n",
       "                          min_samples_split=800, n_estimators=461,\n",
       "                          random_state=42)</pre></div></div></div><div class=\"sk-serial\"><div class=\"sk-item\"><div class=\"sk-estimator sk-toggleable\"><input class=\"sk-toggleable__control sk-hidden--visually\" id=\"sk-estimator-id-153\" type=\"checkbox\" ><label for=\"sk-estimator-id-153\" class=\"sk-toggleable__label sk-toggleable__label-arrow\">GradientBoostingRegressor</label><div class=\"sk-toggleable__content\"><pre>GradientBoostingRegressor(max_depth=6, max_features=15, min_samples_leaf=15,\n",
       "                          min_samples_split=800, n_estimators=461,\n",
       "                          random_state=42)</pre></div></div></div></div></div></div></div></div></div></div></div></div></div></div></div>"
      ],
      "text/plain": [
       "GridSearchCV(cv=5,\n",
       "             estimator=MultiOutputRegressor(estimator=GradientBoostingRegressor(max_depth=6,\n",
       "                                                                                max_features=15,\n",
       "                                                                                min_samples_leaf=15,\n",
       "                                                                                min_samples_split=800,\n",
       "                                                                                n_estimators=461,\n",
       "                                                                                random_state=42)),\n",
       "             n_jobs=-1,\n",
       "             param_grid={'estimator__subsample': [0.81, 0.82, 0.83, 0.84, 0.85,\n",
       "                                                  0.86, 0.87, 0.89, 0.9]},\n",
       "             verbose=3)"
      ]
     },
     "execution_count": 426,
     "metadata": {},
     "output_type": "execute_result"
    }
   ],
   "source": [
    "#optimize 'subsample' while inserting 'max_features' value\n",
    "param_test4 = {'estimator__subsample':[0.81,0.82,0.83,0.84,0.85,0.86,0.87,0.89,0.90]}\n",
    "gsearch4 = GridSearchCV(estimator = MultiOutputRegressor(GradientBoostingRegressor(learning_rate=0.1,\n",
    "                                                                                   n_estimators=461,\n",
    "                                                                                   max_depth = 6,\n",
    "                                                                                   min_samples_split = 800,\n",
    "                                                                                   min_samples_leaf=15,\n",
    "                                                                                   max_features = 15,\n",
    "                                                                                   random_state=42)), \n",
    "param_grid = param_test4,n_jobs=-1, cv=5, verbose = 3)\n",
    "gsearch4.fit(X_train,y_train)"
   ]
  },
  {
   "cell_type": "code",
   "execution_count": 427,
   "id": "1ecd61a1",
   "metadata": {},
   "outputs": [
    {
     "data": {
      "text/plain": [
       "{'estimator__subsample': 0.85}"
      ]
     },
     "execution_count": 427,
     "metadata": {},
     "output_type": "execute_result"
    }
   ],
   "source": [
    "#obtain value for best fitting model\n",
    "gsearch4_best = gsearch4.best_params_\n",
    "gsearch4_best"
   ]
  },
  {
   "cell_type": "code",
   "execution_count": 437,
   "id": "12bf23e3",
   "metadata": {},
   "outputs": [
    {
     "name": "stdout",
     "output_type": "stream",
     "text": [
      "Fitting 5 folds for each of 33 candidates, totalling 165 fits\n"
     ]
    },
    {
     "data": {
      "text/html": [
       "<style>#sk-container-id-53 {color: black;background-color: white;}#sk-container-id-53 pre{padding: 0;}#sk-container-id-53 div.sk-toggleable {background-color: white;}#sk-container-id-53 label.sk-toggleable__label {cursor: pointer;display: block;width: 100%;margin-bottom: 0;padding: 0.3em;box-sizing: border-box;text-align: center;}#sk-container-id-53 label.sk-toggleable__label-arrow:before {content: \"▸\";float: left;margin-right: 0.25em;color: #696969;}#sk-container-id-53 label.sk-toggleable__label-arrow:hover:before {color: black;}#sk-container-id-53 div.sk-estimator:hover label.sk-toggleable__label-arrow:before {color: black;}#sk-container-id-53 div.sk-toggleable__content {max-height: 0;max-width: 0;overflow: hidden;text-align: left;background-color: #f0f8ff;}#sk-container-id-53 div.sk-toggleable__content pre {margin: 0.2em;color: black;border-radius: 0.25em;background-color: #f0f8ff;}#sk-container-id-53 input.sk-toggleable__control:checked~div.sk-toggleable__content {max-height: 200px;max-width: 100%;overflow: auto;}#sk-container-id-53 input.sk-toggleable__control:checked~label.sk-toggleable__label-arrow:before {content: \"▾\";}#sk-container-id-53 div.sk-estimator input.sk-toggleable__control:checked~label.sk-toggleable__label {background-color: #d4ebff;}#sk-container-id-53 div.sk-label input.sk-toggleable__control:checked~label.sk-toggleable__label {background-color: #d4ebff;}#sk-container-id-53 input.sk-hidden--visually {border: 0;clip: rect(1px 1px 1px 1px);clip: rect(1px, 1px, 1px, 1px);height: 1px;margin: -1px;overflow: hidden;padding: 0;position: absolute;width: 1px;}#sk-container-id-53 div.sk-estimator {font-family: monospace;background-color: #f0f8ff;border: 1px dotted black;border-radius: 0.25em;box-sizing: border-box;margin-bottom: 0.5em;}#sk-container-id-53 div.sk-estimator:hover {background-color: #d4ebff;}#sk-container-id-53 div.sk-parallel-item::after {content: \"\";width: 100%;border-bottom: 1px solid gray;flex-grow: 1;}#sk-container-id-53 div.sk-label:hover label.sk-toggleable__label {background-color: #d4ebff;}#sk-container-id-53 div.sk-serial::before {content: \"\";position: absolute;border-left: 1px solid gray;box-sizing: border-box;top: 0;bottom: 0;left: 50%;z-index: 0;}#sk-container-id-53 div.sk-serial {display: flex;flex-direction: column;align-items: center;background-color: white;padding-right: 0.2em;padding-left: 0.2em;position: relative;}#sk-container-id-53 div.sk-item {position: relative;z-index: 1;}#sk-container-id-53 div.sk-parallel {display: flex;align-items: stretch;justify-content: center;background-color: white;position: relative;}#sk-container-id-53 div.sk-item::before, #sk-container-id-53 div.sk-parallel-item::before {content: \"\";position: absolute;border-left: 1px solid gray;box-sizing: border-box;top: 0;bottom: 0;left: 50%;z-index: -1;}#sk-container-id-53 div.sk-parallel-item {display: flex;flex-direction: column;z-index: 1;position: relative;background-color: white;}#sk-container-id-53 div.sk-parallel-item:first-child::after {align-self: flex-end;width: 50%;}#sk-container-id-53 div.sk-parallel-item:last-child::after {align-self: flex-start;width: 50%;}#sk-container-id-53 div.sk-parallel-item:only-child::after {width: 0;}#sk-container-id-53 div.sk-dashed-wrapped {border: 1px dashed gray;margin: 0 0.4em 0.5em 0.4em;box-sizing: border-box;padding-bottom: 0.4em;background-color: white;}#sk-container-id-53 div.sk-label label {font-family: monospace;font-weight: bold;display: inline-block;line-height: 1.2em;}#sk-container-id-53 div.sk-label-container {text-align: center;}#sk-container-id-53 div.sk-container {/* jupyter's `normalize.less` sets `[hidden] { display: none; }` but bootstrap.min.css set `[hidden] { display: none !important; }` so we also need the `!important` here to be able to override the default hidden behavior on the sphinx rendered scikit-learn.org. See: https://github.com/scikit-learn/scikit-learn/issues/21755 */display: inline-block !important;position: relative;}#sk-container-id-53 div.sk-text-repr-fallback {display: none;}</style><div id=\"sk-container-id-53\" class=\"sk-top-container\"><div class=\"sk-text-repr-fallback\"><pre>GridSearchCV(cv=5,\n",
       "             estimator=MultiOutputRegressor(estimator=GradientBoostingRegressor(max_depth=6,\n",
       "                                                                                max_features=15,\n",
       "                                                                                min_samples_leaf=15,\n",
       "                                                                                min_samples_split=800,\n",
       "                                                                                n_estimators=461,\n",
       "                                                                                random_state=42,\n",
       "                                                                                subsample=0.85)),\n",
       "             n_jobs=-1,\n",
       "             param_grid={&#x27;estimator__learning_rate&#x27;: [0.07, 0.06, 0.05],\n",
       "                         &#x27;estimator__n_estimators&#x27;: range(860, 871)},\n",
       "             verbose=3)</pre><b>In a Jupyter environment, please rerun this cell to show the HTML representation or trust the notebook. <br />On GitHub, the HTML representation is unable to render, please try loading this page with nbviewer.org.</b></div><div class=\"sk-container\" hidden><div class=\"sk-item sk-dashed-wrapped\"><div class=\"sk-label-container\"><div class=\"sk-label sk-toggleable\"><input class=\"sk-toggleable__control sk-hidden--visually\" id=\"sk-estimator-id-170\" type=\"checkbox\" ><label for=\"sk-estimator-id-170\" class=\"sk-toggleable__label sk-toggleable__label-arrow\">GridSearchCV</label><div class=\"sk-toggleable__content\"><pre>GridSearchCV(cv=5,\n",
       "             estimator=MultiOutputRegressor(estimator=GradientBoostingRegressor(max_depth=6,\n",
       "                                                                                max_features=15,\n",
       "                                                                                min_samples_leaf=15,\n",
       "                                                                                min_samples_split=800,\n",
       "                                                                                n_estimators=461,\n",
       "                                                                                random_state=42,\n",
       "                                                                                subsample=0.85)),\n",
       "             n_jobs=-1,\n",
       "             param_grid={&#x27;estimator__learning_rate&#x27;: [0.07, 0.06, 0.05],\n",
       "                         &#x27;estimator__n_estimators&#x27;: range(860, 871)},\n",
       "             verbose=3)</pre></div></div></div><div class=\"sk-parallel\"><div class=\"sk-parallel-item\"><div class=\"sk-item\"><div class=\"sk-label-container\"><div class=\"sk-label sk-toggleable\"><input class=\"sk-toggleable__control sk-hidden--visually\" id=\"sk-estimator-id-171\" type=\"checkbox\" ><label for=\"sk-estimator-id-171\" class=\"sk-toggleable__label sk-toggleable__label-arrow\">estimator: MultiOutputRegressor</label><div class=\"sk-toggleable__content\"><pre>MultiOutputRegressor(estimator=GradientBoostingRegressor(max_depth=6,\n",
       "                                                         max_features=15,\n",
       "                                                         min_samples_leaf=15,\n",
       "                                                         min_samples_split=800,\n",
       "                                                         n_estimators=461,\n",
       "                                                         random_state=42,\n",
       "                                                         subsample=0.85))</pre></div></div></div><div class=\"sk-serial\"><div class=\"sk-item sk-dashed-wrapped\"><div class=\"sk-parallel\"><div class=\"sk-parallel-item\"><div class=\"sk-item\"><div class=\"sk-label-container\"><div class=\"sk-label sk-toggleable\"><input class=\"sk-toggleable__control sk-hidden--visually\" id=\"sk-estimator-id-172\" type=\"checkbox\" ><label for=\"sk-estimator-id-172\" class=\"sk-toggleable__label sk-toggleable__label-arrow\">estimator: GradientBoostingRegressor</label><div class=\"sk-toggleable__content\"><pre>GradientBoostingRegressor(max_depth=6, max_features=15, min_samples_leaf=15,\n",
       "                          min_samples_split=800, n_estimators=461,\n",
       "                          random_state=42, subsample=0.85)</pre></div></div></div><div class=\"sk-serial\"><div class=\"sk-item\"><div class=\"sk-estimator sk-toggleable\"><input class=\"sk-toggleable__control sk-hidden--visually\" id=\"sk-estimator-id-173\" type=\"checkbox\" ><label for=\"sk-estimator-id-173\" class=\"sk-toggleable__label sk-toggleable__label-arrow\">GradientBoostingRegressor</label><div class=\"sk-toggleable__content\"><pre>GradientBoostingRegressor(max_depth=6, max_features=15, min_samples_leaf=15,\n",
       "                          min_samples_split=800, n_estimators=461,\n",
       "                          random_state=42, subsample=0.85)</pre></div></div></div></div></div></div></div></div></div></div></div></div></div></div></div>"
      ],
      "text/plain": [
       "GridSearchCV(cv=5,\n",
       "             estimator=MultiOutputRegressor(estimator=GradientBoostingRegressor(max_depth=6,\n",
       "                                                                                max_features=15,\n",
       "                                                                                min_samples_leaf=15,\n",
       "                                                                                min_samples_split=800,\n",
       "                                                                                n_estimators=461,\n",
       "                                                                                random_state=42,\n",
       "                                                                                subsample=0.85)),\n",
       "             n_jobs=-1,\n",
       "             param_grid={'estimator__learning_rate': [0.07, 0.06, 0.05],\n",
       "                         'estimator__n_estimators': range(860, 871)},\n",
       "             verbose=3)"
      ]
     },
     "execution_count": 437,
     "metadata": {},
     "output_type": "execute_result"
    }
   ],
   "source": [
    "#optimize 'learning_rate' and reoptimize 'n_estimators' as they are highly related while inserting\n",
    " #all other optimized values\n",
    "param_test5 = {'estimator__learning_rate':[0.07,0.06,0.05],\n",
    "              'estimator__n_estimators':range(860,871,1)}\n",
    "gsearch5 = GridSearchCV(estimator = MultiOutputRegressor(GradientBoostingRegressor(n_estimators=461,\n",
    "                                                                                   max_depth = 6,\n",
    "                                                                                   min_samples_split = 800,\n",
    "                                                                                   min_samples_leaf=15,\n",
    "                                                                                   max_features = 15,\n",
    "                                                                                   subsample = 0.85,\n",
    "                                                                                   random_state=42)), \n",
    "param_grid = param_test5,n_jobs=-1, cv=5, verbose = 3)\n",
    "gsearch5.fit(X_train,y_train)"
   ]
  },
  {
   "cell_type": "code",
   "execution_count": 533,
   "id": "9e8d5913",
   "metadata": {},
   "outputs": [
    {
     "data": {
      "text/plain": [
       "{'estimator__learning_rate': 0.06, 'estimator__n_estimators': 869}"
      ]
     },
     "execution_count": 533,
     "metadata": {},
     "output_type": "execute_result"
    }
   ],
   "source": [
    "#obtain values from best fitting model\n",
    "gsearch5_best = gsearch5.best_params_\n",
    "gsearch5_best"
   ]
  },
  {
   "cell_type": "code",
   "execution_count": 73,
   "id": "0a6dbb8b",
   "metadata": {},
   "outputs": [],
   "source": [
    "#creating Gradient Boosted model with all optimized parameters inserted\n",
    "gbr_opt = MultiOutputRegressor(GradientBoostingRegressor(n_estimators=869,\n",
    "                                               learning_rate = 0.06,\n",
    "                                               max_depth = 6,\n",
    "                                               min_samples_split = 800,\n",
    "                                               min_samples_leaf=15,\n",
    "                                               max_features = 15,\n",
    "                                               subsample = 0.85,\n",
    "                                               random_state=42))"
   ]
  },
  {
   "cell_type": "code",
   "execution_count": 74,
   "id": "e158b914",
   "metadata": {},
   "outputs": [
    {
     "data": {
      "text/html": [
       "<style>#sk-container-id-3 {color: black;background-color: white;}#sk-container-id-3 pre{padding: 0;}#sk-container-id-3 div.sk-toggleable {background-color: white;}#sk-container-id-3 label.sk-toggleable__label {cursor: pointer;display: block;width: 100%;margin-bottom: 0;padding: 0.3em;box-sizing: border-box;text-align: center;}#sk-container-id-3 label.sk-toggleable__label-arrow:before {content: \"▸\";float: left;margin-right: 0.25em;color: #696969;}#sk-container-id-3 label.sk-toggleable__label-arrow:hover:before {color: black;}#sk-container-id-3 div.sk-estimator:hover label.sk-toggleable__label-arrow:before {color: black;}#sk-container-id-3 div.sk-toggleable__content {max-height: 0;max-width: 0;overflow: hidden;text-align: left;background-color: #f0f8ff;}#sk-container-id-3 div.sk-toggleable__content pre {margin: 0.2em;color: black;border-radius: 0.25em;background-color: #f0f8ff;}#sk-container-id-3 input.sk-toggleable__control:checked~div.sk-toggleable__content {max-height: 200px;max-width: 100%;overflow: auto;}#sk-container-id-3 input.sk-toggleable__control:checked~label.sk-toggleable__label-arrow:before {content: \"▾\";}#sk-container-id-3 div.sk-estimator input.sk-toggleable__control:checked~label.sk-toggleable__label {background-color: #d4ebff;}#sk-container-id-3 div.sk-label input.sk-toggleable__control:checked~label.sk-toggleable__label {background-color: #d4ebff;}#sk-container-id-3 input.sk-hidden--visually {border: 0;clip: rect(1px 1px 1px 1px);clip: rect(1px, 1px, 1px, 1px);height: 1px;margin: -1px;overflow: hidden;padding: 0;position: absolute;width: 1px;}#sk-container-id-3 div.sk-estimator {font-family: monospace;background-color: #f0f8ff;border: 1px dotted black;border-radius: 0.25em;box-sizing: border-box;margin-bottom: 0.5em;}#sk-container-id-3 div.sk-estimator:hover {background-color: #d4ebff;}#sk-container-id-3 div.sk-parallel-item::after {content: \"\";width: 100%;border-bottom: 1px solid gray;flex-grow: 1;}#sk-container-id-3 div.sk-label:hover label.sk-toggleable__label {background-color: #d4ebff;}#sk-container-id-3 div.sk-serial::before {content: \"\";position: absolute;border-left: 1px solid gray;box-sizing: border-box;top: 0;bottom: 0;left: 50%;z-index: 0;}#sk-container-id-3 div.sk-serial {display: flex;flex-direction: column;align-items: center;background-color: white;padding-right: 0.2em;padding-left: 0.2em;position: relative;}#sk-container-id-3 div.sk-item {position: relative;z-index: 1;}#sk-container-id-3 div.sk-parallel {display: flex;align-items: stretch;justify-content: center;background-color: white;position: relative;}#sk-container-id-3 div.sk-item::before, #sk-container-id-3 div.sk-parallel-item::before {content: \"\";position: absolute;border-left: 1px solid gray;box-sizing: border-box;top: 0;bottom: 0;left: 50%;z-index: -1;}#sk-container-id-3 div.sk-parallel-item {display: flex;flex-direction: column;z-index: 1;position: relative;background-color: white;}#sk-container-id-3 div.sk-parallel-item:first-child::after {align-self: flex-end;width: 50%;}#sk-container-id-3 div.sk-parallel-item:last-child::after {align-self: flex-start;width: 50%;}#sk-container-id-3 div.sk-parallel-item:only-child::after {width: 0;}#sk-container-id-3 div.sk-dashed-wrapped {border: 1px dashed gray;margin: 0 0.4em 0.5em 0.4em;box-sizing: border-box;padding-bottom: 0.4em;background-color: white;}#sk-container-id-3 div.sk-label label {font-family: monospace;font-weight: bold;display: inline-block;line-height: 1.2em;}#sk-container-id-3 div.sk-label-container {text-align: center;}#sk-container-id-3 div.sk-container {/* jupyter's `normalize.less` sets `[hidden] { display: none; }` but bootstrap.min.css set `[hidden] { display: none !important; }` so we also need the `!important` here to be able to override the default hidden behavior on the sphinx rendered scikit-learn.org. See: https://github.com/scikit-learn/scikit-learn/issues/21755 */display: inline-block !important;position: relative;}#sk-container-id-3 div.sk-text-repr-fallback {display: none;}</style><div id=\"sk-container-id-3\" class=\"sk-top-container\"><div class=\"sk-text-repr-fallback\"><pre>MultiOutputRegressor(estimator=GradientBoostingRegressor(learning_rate=0.06,\n",
       "                                                         max_depth=6,\n",
       "                                                         max_features=15,\n",
       "                                                         min_samples_leaf=15,\n",
       "                                                         min_samples_split=800,\n",
       "                                                         n_estimators=869,\n",
       "                                                         random_state=42,\n",
       "                                                         subsample=0.85))</pre><b>In a Jupyter environment, please rerun this cell to show the HTML representation or trust the notebook. <br />On GitHub, the HTML representation is unable to render, please try loading this page with nbviewer.org.</b></div><div class=\"sk-container\" hidden><div class=\"sk-item sk-dashed-wrapped\"><div class=\"sk-label-container\"><div class=\"sk-label sk-toggleable\"><input class=\"sk-toggleable__control sk-hidden--visually\" id=\"sk-estimator-id-3\" type=\"checkbox\" ><label for=\"sk-estimator-id-3\" class=\"sk-toggleable__label sk-toggleable__label-arrow\">MultiOutputRegressor</label><div class=\"sk-toggleable__content\"><pre>MultiOutputRegressor(estimator=GradientBoostingRegressor(learning_rate=0.06,\n",
       "                                                         max_depth=6,\n",
       "                                                         max_features=15,\n",
       "                                                         min_samples_leaf=15,\n",
       "                                                         min_samples_split=800,\n",
       "                                                         n_estimators=869,\n",
       "                                                         random_state=42,\n",
       "                                                         subsample=0.85))</pre></div></div></div><div class=\"sk-parallel\"><div class=\"sk-parallel-item\"><div class=\"sk-item\"><div class=\"sk-label-container\"><div class=\"sk-label sk-toggleable\"><input class=\"sk-toggleable__control sk-hidden--visually\" id=\"sk-estimator-id-4\" type=\"checkbox\" ><label for=\"sk-estimator-id-4\" class=\"sk-toggleable__label sk-toggleable__label-arrow\">estimator: GradientBoostingRegressor</label><div class=\"sk-toggleable__content\"><pre>GradientBoostingRegressor(learning_rate=0.06, max_depth=6, max_features=15,\n",
       "                          min_samples_leaf=15, min_samples_split=800,\n",
       "                          n_estimators=869, random_state=42, subsample=0.85)</pre></div></div></div><div class=\"sk-serial\"><div class=\"sk-item\"><div class=\"sk-estimator sk-toggleable\"><input class=\"sk-toggleable__control sk-hidden--visually\" id=\"sk-estimator-id-5\" type=\"checkbox\" ><label for=\"sk-estimator-id-5\" class=\"sk-toggleable__label sk-toggleable__label-arrow\">GradientBoostingRegressor</label><div class=\"sk-toggleable__content\"><pre>GradientBoostingRegressor(learning_rate=0.06, max_depth=6, max_features=15,\n",
       "                          min_samples_leaf=15, min_samples_split=800,\n",
       "                          n_estimators=869, random_state=42, subsample=0.85)</pre></div></div></div></div></div></div></div></div></div></div>"
      ],
      "text/plain": [
       "MultiOutputRegressor(estimator=GradientBoostingRegressor(learning_rate=0.06,\n",
       "                                                         max_depth=6,\n",
       "                                                         max_features=15,\n",
       "                                                         min_samples_leaf=15,\n",
       "                                                         min_samples_split=800,\n",
       "                                                         n_estimators=869,\n",
       "                                                         random_state=42,\n",
       "                                                         subsample=0.85))"
      ]
     },
     "execution_count": 74,
     "metadata": {},
     "output_type": "execute_result"
    }
   ],
   "source": [
    "#fitting model to the training data\n",
    "gbr_opt.fit(X_train,y_train)"
   ]
  },
  {
   "cell_type": "code",
   "execution_count": 75,
   "id": "f91aa346",
   "metadata": {},
   "outputs": [
    {
     "name": "stdout",
     "output_type": "stream",
     "text": [
      "Model Performance\n",
      "Average Error: 2.1966 degrees.\n",
      "Accuracy = 96.85%.\n",
      "R^2 = 0.95%.\n"
     ]
    },
    {
     "data": {
      "text/plain": [
       "96.84579507919167"
      ]
     },
     "execution_count": 75,
     "metadata": {},
     "output_type": "execute_result"
    }
   ],
   "source": [
    "opt_gbr_accuracy = evaluate(gbr_opt, X_train, y_train)\n",
    "opt_gbr_accuracy"
   ]
  },
  {
   "cell_type": "code",
   "execution_count": 538,
   "id": "5ad28078",
   "metadata": {},
   "outputs": [
    {
     "name": "stdout",
     "output_type": "stream",
     "text": [
      "Improvement of 1.50%.\n"
     ]
    }
   ],
   "source": [
    "#display improvement from best random search hyper parameter values to specific hyper parameter values models\n",
    "print('Improvement of {:0.2f}%.'.format( 100 * (opt_gbr_accuracy - base_gbr_accuracy) / base_gbr_accuracy))"
   ]
  },
  {
   "cell_type": "code",
   "execution_count": null,
   "id": "8041c309",
   "metadata": {},
   "outputs": [],
   "source": [
    "#Review all three final models performance"
   ]
  },
  {
   "cell_type": "code",
   "execution_count": 461,
   "id": "1edcae8f",
   "metadata": {},
   "outputs": [
    {
     "name": "stdout",
     "output_type": "stream",
     "text": [
      "Model Performance\n",
      "Average Error: 3.1916 degrees.\n",
      "Accuracy = 95.40%.\n",
      "R^2 = 0.92%.\n"
     ]
    },
    {
     "data": {
      "text/plain": [
       "95.39591191919399"
      ]
     },
     "execution_count": 461,
     "metadata": {},
     "output_type": "execute_result"
    }
   ],
   "source": [
    "#Regression\n",
    "evaluate(reg, X_train,y_train)"
   ]
  },
  {
   "cell_type": "code",
   "execution_count": 462,
   "id": "546909a3",
   "metadata": {},
   "outputs": [
    {
     "name": "stdout",
     "output_type": "stream",
     "text": [
      "Model Performance\n",
      "Average Error: 1.7704 degrees.\n",
      "Accuracy = 97.42%.\n",
      "R^2 = 0.97%.\n"
     ]
    },
    {
     "data": {
      "text/plain": [
       "97.41639573185135"
      ]
     },
     "execution_count": 462,
     "metadata": {},
     "output_type": "execute_result"
    }
   ],
   "source": [
    "#Random Forest\n",
    "evaluate(best_rf, X_train, y_train)"
   ]
  },
  {
   "cell_type": "code",
   "execution_count": 489,
   "id": "1cd366f1",
   "metadata": {},
   "outputs": [
    {
     "name": "stdout",
     "output_type": "stream",
     "text": [
      "Model Performance\n",
      "Average Error: 2.0834 degrees.\n",
      "Accuracy = 97.00%.\n",
      "R^2 = 0.96%.\n"
     ]
    },
    {
     "data": {
      "text/plain": [
       "96.99549632247225"
      ]
     },
     "execution_count": 489,
     "metadata": {},
     "output_type": "execute_result"
    }
   ],
   "source": [
    "#Gradient Boosting\n",
    "evaluate(gbr_opt, X_train, y_train)"
   ]
  },
  {
   "cell_type": "code",
   "execution_count": null,
   "id": "94ba4222",
   "metadata": {},
   "outputs": [],
   "source": [
    "#predict test data outcomes for each model and calculate MSE for each"
   ]
  },
  {
   "cell_type": "code",
   "execution_count": 34,
   "id": "020097e3",
   "metadata": {},
   "outputs": [
    {
     "name": "stdout",
     "output_type": "stream",
     "text": [
      "MSE: 0.70637445747579 \n"
     ]
    }
   ],
   "source": [
    "#Regression\n",
    "reg_pred = reg.predict(X_test)\n",
    "reg_MSE = np.mean((reg_pred - y_test) ** 2)\n",
    "print(\"MSE: %r \" % reg_MSE)"
   ]
  },
  {
   "cell_type": "code",
   "execution_count": 35,
   "id": "1e2205c5",
   "metadata": {},
   "outputs": [
    {
     "name": "stdout",
     "output_type": "stream",
     "text": [
      "MSE: 1.6073913192071085 \n"
     ]
    }
   ],
   "source": [
    "#Random Forest\n",
    "rf_pred = rf.predict(X_test)\n",
    "rf_MSE = np.mean((rf_pred - y_test) ** 2)\n",
    "print(\"MSE: %r \" % rf_MSE)"
   ]
  },
  {
   "cell_type": "code",
   "execution_count": 91,
   "id": "af699cdc",
   "metadata": {},
   "outputs": [
    {
     "name": "stdout",
     "output_type": "stream",
     "text": [
      "MSE: 15.011084400855989 \n"
     ]
    }
   ],
   "source": [
    "#Gradient Boosting\n",
    "gbr_pred = gbr_opt.predict(X_test)\n",
    "gbr_MSE = np.mean((gbr_pred - y_test) ** 2)\n",
    "print(\"MSE: %r \" % gbr_MSE)"
   ]
  },
  {
   "cell_type": "code",
   "execution_count": 92,
   "id": "b29be252",
   "metadata": {},
   "outputs": [],
   "source": [
    "#Combine prediction values by taking weighted mean\n",
    "# with weights being the inverse of the model MSE"
   ]
  },
  {
   "cell_type": "code",
   "execution_count": 93,
   "id": "19b267a3",
   "metadata": {},
   "outputs": [],
   "source": [
    "#create weighted predicitons\n",
    "weighted_pred = ((reg_pred*(1/reg_MSE)) + (rf_pred*(1/rf_MSE)) + (gbr_pred*(1/gbr_MSE))) / ((1/reg_MSE) + (1/rf_MSE) + (1/gbr_MSE))\n",
    "weighted_pred = weighted_pred.round(0)"
   ]
  },
  {
   "cell_type": "code",
   "execution_count": 94,
   "id": "052baf5f",
   "metadata": {},
   "outputs": [
    {
     "name": "stdout",
     "output_type": "stream",
     "text": [
      "MSE: 15.642686261107313 \n"
     ]
    }
   ],
   "source": [
    "#calculate MSE for weighted predicitions\n",
    "weighted_MSE = np.mean((weighted_pred - y_test) ** 2)\n",
    "print(\"MSE: %r \" % weighted_MSE)"
   ]
  },
  {
   "cell_type": "code",
   "execution_count": 158,
   "id": "53e863b4",
   "metadata": {},
   "outputs": [],
   "source": [
    "#Create a function that looks up two user specified schools then calculates their predicted scores if they\n",
    " #played each other\n",
    "\n",
    "def predict_scores(first_team = \"wisconsin\", second_team = 'texas-christian'):\n",
    "    \n",
    "    teams1 = [first_team]\n",
    "    #pull data from school url pages\n",
    "    for name in teams1:\n",
    "\n",
    "\n",
    "        with open(\"College Data/Schools/{}.html\".format(name)) as f:\n",
    "            page2 = f.read()\n",
    "\n",
    "        soup = BeautifulSoup(page2, \"html.parser\")\n",
    "        soup.find('tr', class_=\"over_header\").decompose()\n",
    "        stats_table = soup.find(id=\"div_sgl-basic_NCAAM\")\n",
    "        data = pd.read_html(str(stats_table))[0]\n",
    "\n",
    "        data.drop(data[(data['FG%'] == \"School\") | (data['FG%'] == \"FG%\")].index, inplace=True)\n",
    "        data['Unnamed: 2'] = data['Unnamed: 2'].replace(\"@\",\"A\").fillna(\"H\")\n",
    "        data = data.drop(columns = [\"Unnamed: 23\"]).dropna()\n",
    "        data = data.drop(columns = [\"W/L\",\"G\",\"Date\",\"Unnamed: 2\", \"Opp\"])\n",
    "        \n",
    "\n",
    "        data = data.astype(float)\n",
    "\n",
    "        data['eFG'] = (data['FG'] + (0.5 * data['3P'])) / data['FGA']\n",
    "        data['eFG.1'] = (data[\"FG.1\"] + (0.5 * data['3P.1'])) / data['FGA.1']\n",
    "\n",
    "        data['TOV%'] = (data['TOV'] / (data['FGA'] + (0.44 * data['FTA']) + data['TOV'])) * 100\n",
    "        data['TOV%.1'] = (data['TOV.1'] / (data['FGA.1'] + (0.44 * data['FTA.1']) + data['TOV.1'])) * 100\n",
    "\n",
    "        data['ORB%'] = (data['ORB'])/((data['ORB']) + (data['TRB.1'] - data['ORB.1']))\n",
    "        data['ORB%.1'] = (data['ORB.1'])/((data['ORB.1']) + (data['TRB'] - data['ORB']))\n",
    "\n",
    "        data['FT/FGA'] = data['FT']/data['FGA']\n",
    "        data['FT/FGA.1'] = data['FT.1']/data['FGA.1']\n",
    "\n",
    "        data['DRB%'] = (data['TRB'] - data['ORB'])/((data['TRB'] - data['ORB']) + (data['ORB.1']))\n",
    "        data['DRB%.1'] = (data['TRB'] - data['ORB'])/((data['TRB'] - data['ORB']) + (data['ORB.1']))\n",
    "\n",
    "        data['AST%'] = data['AST'] / data['FG']\n",
    "        data['AST%.1'] = data['AST.1'] / data['FG.1']\n",
    "\n",
    "        data['TS%'] = 0.5 * (data['Tm'])/((data['FGA']) + 0.44 * (data['FTA']))\n",
    "        data['TS%.1'] = 0.5 * (data['Opp.1'])/((data['FGA.1']) + 0.44 * (data['FTA.1']))\n",
    "\n",
    "        data['3PAr'] = data['3PA'] / data['FGA']\n",
    "        data['3PAr.1'] = data['3PA.1'] / data['FGA.1']\n",
    "\n",
    "        data['DRB'] = data['TRB'] - data['ORB']\n",
    "        data['DRB.1'] = data['TRB.1'] - data['ORB.1']\n",
    "\n",
    "\n",
    "        data['POSS'] = (data['FGA'] - data['ORB']) + data['TOV'] + (0.44 * data['FTA'])\n",
    "        data['POSS.1'] = (data['FGA.1'] - data['ORB.1']) + data['TOV.1'] + (0.44 * data['FTA.1'])\n",
    "\n",
    "\n",
    "        data['3PAr'] = data['3PA'] / data['FGA']                           \n",
    "        data['3PAr.1'] = data['3PA.1'] / data['FGA.1']\n",
    "\n",
    "\n",
    "        data['OffRt'] = (data['Tm'] / data['POSS']) * 100\n",
    "        data['OffRt.1'] = (data['Opp.1'] / data['POSS.1']) * 100\n",
    "\n",
    "        data['DefRt'] = (data['Opp.1'] / data['POSS']) * 100\n",
    "        data['DefRt.1'] = (data['Tm'] / data['POSS.1']) * 100\n",
    "        \n",
    "        data = data[data.columns.drop(list(data.filter(regex='.1')))]       \n",
    "\n",
    "    #Creates a data frame with the means for each variable across all the games\n",
    "     #that school has played so far this season\n",
    "        team1 = pd.DataFrame(data)\n",
    "        team1 = team1.astype(float)\\\n",
    "        .mul((np.arange(1, len(team1)+1, 1))/(len(team1)), axis = 0)\\\n",
    "        .sum()\\\n",
    "        .div(sum((np.arange(1, len(team1)+1, 1))/(len(team1))))\\\n",
    "        .to_frame()\\\n",
    "        .T\n",
    "        \n",
    "        team1 = team1.drop(columns = [\"Tm\", \"FG\", \"FGA\", \"3P\", \"3PA\", \"FT\", \"FTA\"])\n",
    "        \n",
    "    teams2 = [second_team]\n",
    "\n",
    "    for name in teams2:\n",
    "\n",
    "\n",
    "        with open(\"College data/Schools/{}.html\".format(name)) as f:\n",
    "            page2 = f.read()\n",
    "\n",
    "        soup = BeautifulSoup(page2, \"html.parser\")\n",
    "        soup.find('tr', class_=\"over_header\").decompose()\n",
    "        stats_table = soup.find(id=\"div_sgl-basic_NCAAM\")\n",
    "        data2 = pd.read_html(str(stats_table))[0]\n",
    "\n",
    "        data2.drop(data2[(data2['FG%'] == \"School\") | (data2['FG%'] == \"FG%\")].index, inplace=True)\n",
    "        data2['Unnamed: 2'] = data2['Unnamed: 2'].replace(\"@\",\"A\").fillna(\"H\")\n",
    "#        data2 = data2[data2.columns.drop(list(data2.filter(regex='.1')))]\n",
    "        data2 = data2.drop(columns = [\"Unnamed: 23\"]).dropna()\n",
    "        data2 = data2.drop(columns = [\"W/L\",\"G\",\"Date\",\"Unnamed: 2\", \"Opp\"])\n",
    "        \n",
    "\n",
    "        data2 = data2.astype(float)\n",
    "\n",
    "        data2['eFG'] = (data2['FG'] + (0.5 * data2['3P'])) / data2['FGA']\n",
    "        data2['eFG.1'] = (data2[\"FG.1\"] + (0.5 * data2['3P.1'])) / data2['FGA.1']\n",
    "\n",
    "        data2['TOV%'] = (data2['TOV'] / (data2['FGA'] + (0.44 * data2['FTA']) + data2['TOV'])) * 100\n",
    "        data2['TOV%.1'] = (data2['TOV.1'] / (data2['FGA.1'] + (0.44 * data2['FTA.1']) + data2['TOV.1'])) * 100\n",
    "\n",
    "        data2['ORB%'] = (data2['ORB'])/((data2['ORB']) + (data2['TRB.1'] - data2['ORB.1']))\n",
    "        data2['ORB%.1'] = (data2['ORB.1'])/((data2['ORB.1']) + (data2['TRB'] - data2['ORB']))\n",
    "\n",
    "        data2['FT/FGA'] = data2['FT']/data2['FGA']\n",
    "        data2['FT/FGA.1'] = data2['FT.1']/data2['FGA.1']\n",
    "\n",
    "        data2['DRB%'] = (data2['TRB'] - data2['ORB'])/((data2['TRB'] - data2['ORB']) + (data2['ORB.1']))\n",
    "        data2['DRB%.1'] = (data2['TRB'] - data2['ORB'])/((data2['TRB'] - data2['ORB']) + (data2['ORB.1']))\n",
    "\n",
    "        data2['AST%'] = data2['AST'] / data2['FG']\n",
    "        data2['AST%.1'] = data2['AST.1'] / data2['FG.1']\n",
    "\n",
    "        data2['TS%'] = 0.5 * (data2['Tm'])/((data2['FGA']) + 0.44 * (data2['FTA']))\n",
    "        data2['TS%.1'] = 0.5 * (data2['Opp.1'])/((data2['FGA.1']) + 0.44 * (data2['FTA.1']))\n",
    "\n",
    "        data2['3PAr'] = data2['3PA'] / data2['FGA']\n",
    "        data2['3PAr.1'] = data2['3PA.1'] / data2['FGA.1']\n",
    "\n",
    "        data2['DRB'] = data2['TRB'] - data2['ORB']\n",
    "        data2['DRB.1'] = data2['TRB.1'] - data2['ORB.1']\n",
    "\n",
    "\n",
    "        data2['POSS'] = (data2['FGA'] - data2['ORB']) + data2['TOV'] + (0.44 * data2['FTA'])\n",
    "        data2['POSS.1'] = (data2['FGA.1'] - data2['ORB.1']) + data2['TOV.1'] + (0.44 * data2['FTA.1'])\n",
    "\n",
    "\n",
    "        data2['3PAr'] = data2['3PA'] / data2['FGA']                           \n",
    "        data2['3PAr.1'] = data2['3PA.1'] / data2['FGA.1']\n",
    "\n",
    "\n",
    "        data2['OffRt'] = (data2['Tm'] / data2['POSS']) * 100\n",
    "        data2['OffRt.1'] = (data2['Opp.1'] / data2['POSS.1']) * 100\n",
    "\n",
    "        data2['DefRt'] = (data2['Opp.1'] / data2['POSS']) * 100\n",
    "        data2['DefRt.1'] = (data2['Tm'] / data2['POSS.1']) * 100\n",
    "        \n",
    "        data2 = data2[data2.columns.drop(list(data2.filter(regex='.1')))]       \n",
    "\n",
    "    #Creates a data2 frame with the means for each variable across all the games\n",
    "     #that school has played so far this season\n",
    "        team2 = pd.DataFrame(data2)\n",
    "        team2 = team2.astype(float)\\\n",
    "        .mul((np.arange(1, len(team2)+1, 1))/(len(team2)), axis = 0)\\\n",
    "        .sum()\\\n",
    "        .div(sum((np.arange(1, len(team2)+1, 1))/(len(team2))))\\\n",
    "        .to_frame()\\\n",
    "        .T\n",
    "        \n",
    "        team2 = team2.drop(columns = [\"Tm\", \"FG\", \"FGA\", \"3P\", \"3PA\", \"FT\", \"FTA\"])\n",
    "        \n",
    "        team2.columns = team2.columns + \".1\"\n",
    "        \n",
    "    #combine school data into a single row\n",
    "    X_team_data = pd.concat([team1,team2], axis = 1)\n",
    "    \n",
    "    X_team_data = X_team_data[X_train.columns.tolist()]\n",
    "    \n",
    "    \n",
    "    #predict scores for each school using all three models\n",
    "    reg_pred = reg.predict(X_team_data)\n",
    "    rf_pred = best_rf.predict(X_team_data)\n",
    "    gbr_pred = gbr.predict(X_team_data)\n",
    "    \n",
    "    #create MSE scores\n",
    "    reg_MSE = np.mean((reg_pred - y_test) ** 2)\n",
    "    rf_MSE = np.mean((rf_pred - y_test) ** 2)\n",
    "    gbr_MSE = np.mean((gbr_pred - y_test) ** 2)\n",
    "    \n",
    "    #weight and combine results for all three models\n",
    "    weighted_pred = ((reg_pred*(1/reg_MSE)) + (rf_pred*(1/rf_MSE)) + (gbr_pred*(1/gbr_MSE))) / ((1/reg_MSE) + (1/rf_MSE) + (1/gbr_MSE))\n",
    "    weighted_pred = weighted_pred.round(0).astype(int)\n",
    "    \n",
    "    #create data frame with column labels for output\n",
    "    result = pd.DataFrame(weighted_pred, columns = [first_team,second_team])\n",
    "    #output results\n",
    "    return(result)\n",
    "    "
   ]
  },
  {
   "cell_type": "code",
   "execution_count": 183,
   "id": "553b20d3",
   "metadata": {},
   "outputs": [
    {
     "data": {
      "text/html": [
       "<div>\n",
       "<style scoped>\n",
       "    .dataframe tbody tr th:only-of-type {\n",
       "        vertical-align: middle;\n",
       "    }\n",
       "\n",
       "    .dataframe tbody tr th {\n",
       "        vertical-align: top;\n",
       "    }\n",
       "\n",
       "    .dataframe thead th {\n",
       "        text-align: right;\n",
       "    }\n",
       "</style>\n",
       "<table border=\"1\" class=\"dataframe\">\n",
       "  <thead>\n",
       "    <tr style=\"text-align: right;\">\n",
       "      <th></th>\n",
       "      <th>kansas</th>\n",
       "      <th>howard</th>\n",
       "    </tr>\n",
       "  </thead>\n",
       "  <tbody>\n",
       "    <tr>\n",
       "      <th>0</th>\n",
       "      <td>72</td>\n",
       "      <td>72</td>\n",
       "    </tr>\n",
       "  </tbody>\n",
       "</table>\n",
       "</div>"
      ],
      "text/plain": [
       "   kansas  howard\n",
       "0      72      72"
      ]
     },
     "execution_count": 183,
     "metadata": {},
     "output_type": "execute_result"
    }
   ],
   "source": [
    "predict_scores(\"kansas\", \"howard\")"
   ]
  },
  {
   "cell_type": "code",
   "execution_count": null,
   "id": "4fc1e060",
   "metadata": {},
   "outputs": [],
   "source": []
  }
 ],
 "metadata": {
  "kernelspec": {
   "display_name": "Python 3 (ipykernel)",
   "language": "python",
   "name": "python3"
  },
  "language_info": {
   "codemirror_mode": {
    "name": "ipython",
    "version": 3
   },
   "file_extension": ".py",
   "mimetype": "text/x-python",
   "name": "python",
   "nbconvert_exporter": "python",
   "pygments_lexer": "ipython3",
   "version": "3.8.8"
  }
 },
 "nbformat": 4,
 "nbformat_minor": 5
}
