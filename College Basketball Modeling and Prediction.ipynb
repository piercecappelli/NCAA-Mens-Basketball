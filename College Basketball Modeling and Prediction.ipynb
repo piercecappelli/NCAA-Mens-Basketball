{
 "cells": [
  {
   "cell_type": "markdown",
   "id": "4dc34d4d",
   "metadata": {},
   "source": [
    "## This code takes the college basketball data and models it. It goes through the process of optimizing each model and then creates a function that outputs predicted basketball scores for a set of two schools playing each other"
   ]
  },
  {
   "cell_type": "code",
   "execution_count": 833,
   "id": "481a4dce",
   "metadata": {},
   "outputs": [],
   "source": [
    "#import packages\n",
    "\n",
    "import pandas as pd\n",
    "import numpy as np\n",
    "import time\n",
    "from sklearn.ensemble import RandomForestRegressor\n",
    "from sklearn.linear_model import LogisticRegression\n",
    "from sklearn import linear_model\n",
    "from sklearn.ensemble import GradientBoostingRegressor\n",
    "from sklearn.multioutput import MultiOutputRegressor\n",
    "from sklearn.model_selection import train_test_split\n",
    "from pprint import pprint\n",
    "from sklearn.model_selection import RandomizedSearchCV\n",
    "from sklearn.model_selection import GridSearchCV\n",
    "from matplotlib import pyplot as plt\n",
    "from sklearn import preprocessing\n",
    "from sklearn.metrics import confusion_matrix\n",
    "from sklearn.metrics import classification_report\n",
    "import seaborn as sns\n",
    "from sklearn.metrics import roc_auc_score\n",
    "from bs4 import BeautifulSoup\n",
    "import requests\n",
    "\n",
    "from sklearn.feature_selection import SelectKBest\n",
    "from sklearn.feature_selection import f_classif"
   ]
  },
  {
   "cell_type": "code",
   "execution_count": 834,
   "id": "87c60685",
   "metadata": {},
   "outputs": [],
   "source": [
    "# #create function for evaluating training models\n",
    "# def evaluate(model, test_features, test_labels):\n",
    "\n",
    "#     predictions = model.predict(test_features)\n",
    "#     errors = abs(predictions - test_labels)\n",
    "#     mape = 100 * np.mean(errors / test_labels)\n",
    "#     accuracy = 100 - mape\n",
    "#     r2 = model.score(test_features,test_labels)\n",
    "#     print('Model Performance')\n",
    "#     print('Average Error: {:0.4f} degrees.'.format(np.mean(errors)))\n",
    "#     print('Accuracy = {:0.2f}%.'.format(accuracy))\n",
    "#     print('R^2 = {:0.2f}%.'.format(r2))\n",
    "    \n",
    "#     return(accuracy)\n",
    "    "
   ]
  },
  {
   "cell_type": "code",
   "execution_count": 835,
   "id": "763348d5",
   "metadata": {},
   "outputs": [],
   "source": [
    "#creating functions\n",
    "\n",
    "#calculates advanced stats for a data set\n",
    "def calculate_advanced_stats(data):\n",
    "    \n",
    "\n",
    "    data['eFG'] = (data[\"FG\"] + (0.5 * data['3P'])) / data['FGA']\n",
    "    data['eFG.1'] = (data[\"FG.1\"] + (0.5 * data['3P.1'])) / data['FGA.1']\n",
    "\n",
    "    data['TOV%'] = (data['TOV'] / (data['FGA'] + (0.44 * data['FTA']) + data['TOV'])) * 100\n",
    "    data['TOV%.1'] = (data['TOV.1'] / (data['FGA.1'] + (0.44 * data['FTA.1']) + data['TOV.1'])) * 100\n",
    "\n",
    "    data['ORB%'] = (data['ORB'])/((data['ORB']) + (data['TRB.1'] - data['ORB.1']))\n",
    "    data['ORB%.1'] = (data['ORB.1'])/((data['ORB.1']) + (data['TRB'] - data['ORB']))\n",
    "\n",
    "    data['FT/FGA'] = data['FT']/data['FGA']\n",
    "    data['FT/FGA.1'] = data['FT.1']/data['FGA.1']\n",
    "\n",
    "    data['DRB%'] = (data['TRB'] - data['ORB'])/((data['TRB'] - data['ORB']) + (data['ORB.1']))\n",
    "    data['DRB%.1'] = (data['TRB'] - data['ORB'])/((data['TRB'] - data['ORB']) + (data['ORB.1']))\n",
    "\n",
    "    data['AST%'] = data['AST'] / data['FG']\n",
    "    data['AST%.1'] = data['AST.1'] / data['FG.1']\n",
    "\n",
    "    data['TS%'] = 0.5 * (data['Tm'])/((data['FGA']) + 0.44 * (data['FTA']))\n",
    "    data['TS%.1'] = 0.5 * (data['Opp.1'])/((data['FGA.1']) + 0.44 * (data['FTA.1']))\n",
    "\n",
    "    data['3PAr'] = data['3PA'] / data['FGA']\n",
    "    data['3PAr.1'] = data['3PA.1'] / data['FGA.1']\n",
    "\n",
    "    data['DRB'] = data['TRB'] - data['ORB']\n",
    "    data['DRB.1'] = data['TRB.1'] - data['ORB.1']\n",
    "\n",
    "\n",
    "    data['POSS'] = (data['FGA'] - data['ORB']) + data['TOV'] + (0.44 * data['FTA'])\n",
    "    data['POSS.1'] = (data['FGA.1'] - data['ORB.1']) + data['TOV.1'] + (0.44 * data['FTA.1'])\n",
    "\n",
    "\n",
    "    data['3PAr'] = data['3PA'] / data['FGA']                           \n",
    "    data['3PAr.1'] = data['3PA.1'] / data['FGA.1']\n",
    "\n",
    "\n",
    "    data['OffRt'] = (data['Tm'] / data['POSS']) * 100\n",
    "    data['OffRt.1'] = (data['Opp.1'] / data['POSS.1']) * 100\n",
    "\n",
    "    data['DefRt'] = (data['Opp.1'] / data['POSS']) * 100\n",
    "    data['DefRt.1'] = (data['Tm'] / data['POSS.1']) * 100\n",
    "\n",
    "    \n",
    "    return(data)\n",
    "\n",
    "\n",
    "def get_preds(threshold, probabilities):\n",
    "    return [1 if prob > threshold else 0 for prob in probabilities]\n",
    "\n",
    "\n",
    "def evaluate_classification(model, test_features, test_labels, extra = False):\n",
    "    \n",
    "    predictions = model.predict(test_features)\n",
    "    \n",
    "    accuracy = sum(predictions == test_labels)/len(test_labels)\n",
    "    \n",
    "    class_rep = classification_report(test_labels, predictions, digits = 4)\n",
    "    \n",
    "    cf_matrix = confusion_matrix(test_labels, predictions)\n",
    "\n",
    "    group_names = ['True Neg','False Pos','False Neg','True Pos']\n",
    "    group_counts = [\"{0:0.0f}\".format(value) for value in\n",
    "                cf_matrix.flatten()]\n",
    "    group_percentages = [\"{0:.2%}\".format(value) for value in\n",
    "                     cf_matrix.flatten()/np.sum(cf_matrix)]\n",
    "    labels = [f\"{v1}\\n{v2}\\n{v3}\" for v1, v2, v3 in\n",
    "          zip(group_names,group_counts,group_percentages)]\n",
    "    labels = np.asarray(labels).reshape(2,2)\n",
    "    sns.heatmap(cf_matrix, annot=labels, fmt='', cmap='Blues', xticklabels = ['Predicted Loss', 'Predicted Win'],\n",
    "               yticklabels = ['Actual Loss', 'Actual Win'])\n",
    "    \n",
    "    \n",
    "\n",
    "    print('Model Performance\\n')\n",
    "    print('Accuracy = ',(accuracy),'\\n')\n",
    "    print('Classification Report\\n')\n",
    "    print(class_rep)\n",
    "    plt.show()\n",
    "    \n",
    "    print('Area Under the Curve =', roc_auc_score(test_labels, predictions))\n",
    "    \n",
    "    if extra == True:\n",
    "        \n",
    "        probas = model.predict_proba(test_features)[:, 1]\n",
    "        \n",
    "        roc_values = []\n",
    "        for thresh in np.linspace(0, 1, 100):\n",
    "            preds = get_preds(thresh, probas)\n",
    "            tn, fp, fn, tp = confusion_matrix(y_test, preds).ravel()\n",
    "            tpr = tp/(tp+fn)\n",
    "            fpr = fp/(fp+tn)\n",
    "            roc_values.append([tpr, fpr])\n",
    "            \n",
    "        tpr_values, fpr_values = zip(*roc_values)\n",
    "        \n",
    "        fig, ax = plt.subplots(figsize=(10,7))\n",
    "        ax.plot(fpr_values, tpr_values)\n",
    "        ax.plot(np.linspace(0, 1, 100),\n",
    "        np.linspace(0, 1, 100),\n",
    "        label='baseline',\n",
    "        linestyle='--')\n",
    "        plt.title('Receiver Operating Characteristic Curve', fontsize=18)\n",
    "        plt.ylabel('TPR', fontsize=16)\n",
    "        plt.xlabel('FPR', fontsize=16)\n",
    "        plt.legend(fontsize=12)\n",
    "        \n",
    "        plt.show()\n",
    "        \n"
   ]
  },
  {
   "cell_type": "code",
   "execution_count": 836,
   "id": "f376fd5e",
   "metadata": {},
   "outputs": [],
   "source": [
    "#import data\n",
    "full_data = pd.read_csv(\"College Data/All Teams Data.csv\")"
   ]
  },
  {
   "cell_type": "code",
   "execution_count": 837,
   "id": "60c2f8b6",
   "metadata": {},
   "outputs": [
    {
     "data": {
      "text/plain": [
       "Index(['G', 'Date', 'Opp', 'W/L', 'Tm', 'Opp.1', 'FG', 'FGA', 'FG%', '3P',\n",
       "       '3PA', '3P%', 'FT', 'FTA', 'FT%', 'ORB', 'TRB', 'AST', 'STL', 'BLK',\n",
       "       'TOV', 'PF', 'FG.1', 'FGA.1', 'FG%.1', '3P.1', '3PA.1', '3P%.1', 'FT.1',\n",
       "       'FTA.1', 'FT%.1', 'ORB.1', 'TRB.1', 'AST.1', 'STL.1', 'BLK.1', 'TOV.1',\n",
       "       'PF.1', 'Location', 'Team'],\n",
       "      dtype='object')"
      ]
     },
     "execution_count": 837,
     "metadata": {},
     "output_type": "execute_result"
    }
   ],
   "source": [
    "#inspect data columns\n",
    "full_data.columns"
   ]
  },
  {
   "cell_type": "code",
   "execution_count": 838,
   "id": "fa5cec88",
   "metadata": {},
   "outputs": [
    {
     "data": {
      "text/html": [
       "<div>\n",
       "<style scoped>\n",
       "    .dataframe tbody tr th:only-of-type {\n",
       "        vertical-align: middle;\n",
       "    }\n",
       "\n",
       "    .dataframe tbody tr th {\n",
       "        vertical-align: top;\n",
       "    }\n",
       "\n",
       "    .dataframe thead th {\n",
       "        text-align: right;\n",
       "    }\n",
       "</style>\n",
       "<table border=\"1\" class=\"dataframe\">\n",
       "  <thead>\n",
       "    <tr style=\"text-align: right;\">\n",
       "      <th></th>\n",
       "      <th>G</th>\n",
       "      <th>Date</th>\n",
       "      <th>Opp</th>\n",
       "      <th>W/L</th>\n",
       "      <th>Tm</th>\n",
       "      <th>Opp.1</th>\n",
       "      <th>FG</th>\n",
       "      <th>FGA</th>\n",
       "      <th>FG%</th>\n",
       "      <th>3P</th>\n",
       "      <th>...</th>\n",
       "      <th>FT%.1</th>\n",
       "      <th>ORB.1</th>\n",
       "      <th>TRB.1</th>\n",
       "      <th>AST.1</th>\n",
       "      <th>STL.1</th>\n",
       "      <th>BLK.1</th>\n",
       "      <th>TOV.1</th>\n",
       "      <th>PF.1</th>\n",
       "      <th>Location</th>\n",
       "      <th>Team</th>\n",
       "    </tr>\n",
       "  </thead>\n",
       "  <tbody>\n",
       "    <tr>\n",
       "      <th>0</th>\n",
       "      <td>1</td>\n",
       "      <td>2022-11-07</td>\n",
       "      <td>jackson-state</td>\n",
       "      <td>W</td>\n",
       "      <td>65</td>\n",
       "      <td>56</td>\n",
       "      <td>23</td>\n",
       "      <td>57</td>\n",
       "      <td>0.404</td>\n",
       "      <td>8</td>\n",
       "      <td>...</td>\n",
       "      <td>0.714</td>\n",
       "      <td>7</td>\n",
       "      <td>40</td>\n",
       "      <td>9</td>\n",
       "      <td>6</td>\n",
       "      <td>1</td>\n",
       "      <td>21</td>\n",
       "      <td>21</td>\n",
       "      <td>H</td>\n",
       "      <td>abilene-christian</td>\n",
       "    </tr>\n",
       "    <tr>\n",
       "      <th>1</th>\n",
       "      <td>2</td>\n",
       "      <td>2022-11-11</td>\n",
       "      <td>texas-am</td>\n",
       "      <td>L</td>\n",
       "      <td>58</td>\n",
       "      <td>77</td>\n",
       "      <td>20</td>\n",
       "      <td>52</td>\n",
       "      <td>0.385</td>\n",
       "      <td>8</td>\n",
       "      <td>...</td>\n",
       "      <td>0.714</td>\n",
       "      <td>10</td>\n",
       "      <td>33</td>\n",
       "      <td>7</td>\n",
       "      <td>11</td>\n",
       "      <td>3</td>\n",
       "      <td>19</td>\n",
       "      <td>17</td>\n",
       "      <td>A</td>\n",
       "      <td>abilene-christian</td>\n",
       "    </tr>\n",
       "    <tr>\n",
       "      <th>2</th>\n",
       "      <td>3</td>\n",
       "      <td>2022-11-15</td>\n",
       "      <td>mcmurry</td>\n",
       "      <td>W</td>\n",
       "      <td>104</td>\n",
       "      <td>46</td>\n",
       "      <td>41</td>\n",
       "      <td>68</td>\n",
       "      <td>0.603</td>\n",
       "      <td>5</td>\n",
       "      <td>...</td>\n",
       "      <td>0.667</td>\n",
       "      <td>4</td>\n",
       "      <td>17</td>\n",
       "      <td>7</td>\n",
       "      <td>9</td>\n",
       "      <td>2</td>\n",
       "      <td>27</td>\n",
       "      <td>18</td>\n",
       "      <td>H</td>\n",
       "      <td>abilene-christian</td>\n",
       "    </tr>\n",
       "    <tr>\n",
       "      <th>3</th>\n",
       "      <td>4</td>\n",
       "      <td>2022-11-21</td>\n",
       "      <td>wright-state</td>\n",
       "      <td>L</td>\n",
       "      <td>61</td>\n",
       "      <td>77</td>\n",
       "      <td>25</td>\n",
       "      <td>58</td>\n",
       "      <td>0.431</td>\n",
       "      <td>7</td>\n",
       "      <td>...</td>\n",
       "      <td>0.632</td>\n",
       "      <td>1</td>\n",
       "      <td>24</td>\n",
       "      <td>18</td>\n",
       "      <td>12</td>\n",
       "      <td>5</td>\n",
       "      <td>18</td>\n",
       "      <td>14</td>\n",
       "      <td>N</td>\n",
       "      <td>abilene-christian</td>\n",
       "    </tr>\n",
       "    <tr>\n",
       "      <th>4</th>\n",
       "      <td>5</td>\n",
       "      <td>2022-11-22</td>\n",
       "      <td>weber-state</td>\n",
       "      <td>L</td>\n",
       "      <td>67</td>\n",
       "      <td>77</td>\n",
       "      <td>26</td>\n",
       "      <td>53</td>\n",
       "      <td>0.491</td>\n",
       "      <td>9</td>\n",
       "      <td>...</td>\n",
       "      <td>0.920</td>\n",
       "      <td>8</td>\n",
       "      <td>29</td>\n",
       "      <td>10</td>\n",
       "      <td>4</td>\n",
       "      <td>0</td>\n",
       "      <td>18</td>\n",
       "      <td>13</td>\n",
       "      <td>N</td>\n",
       "      <td>abilene-christian</td>\n",
       "    </tr>\n",
       "    <tr>\n",
       "      <th>...</th>\n",
       "      <td>...</td>\n",
       "      <td>...</td>\n",
       "      <td>...</td>\n",
       "      <td>...</td>\n",
       "      <td>...</td>\n",
       "      <td>...</td>\n",
       "      <td>...</td>\n",
       "      <td>...</td>\n",
       "      <td>...</td>\n",
       "      <td>...</td>\n",
       "      <td>...</td>\n",
       "      <td>...</td>\n",
       "      <td>...</td>\n",
       "      <td>...</td>\n",
       "      <td>...</td>\n",
       "      <td>...</td>\n",
       "      <td>...</td>\n",
       "      <td>...</td>\n",
       "      <td>...</td>\n",
       "      <td>...</td>\n",
       "      <td>...</td>\n",
       "    </tr>\n",
       "    <tr>\n",
       "      <th>11924</th>\n",
       "      <td>30</td>\n",
       "      <td>2023-02-21</td>\n",
       "      <td>robert-morris</td>\n",
       "      <td>L</td>\n",
       "      <td>64</td>\n",
       "      <td>83</td>\n",
       "      <td>23</td>\n",
       "      <td>47</td>\n",
       "      <td>0.489</td>\n",
       "      <td>4</td>\n",
       "      <td>...</td>\n",
       "      <td>0.778</td>\n",
       "      <td>4</td>\n",
       "      <td>24</td>\n",
       "      <td>14</td>\n",
       "      <td>6</td>\n",
       "      <td>7</td>\n",
       "      <td>12</td>\n",
       "      <td>17</td>\n",
       "      <td>A</td>\n",
       "      <td>youngstown-state</td>\n",
       "    </tr>\n",
       "    <tr>\n",
       "      <th>11925</th>\n",
       "      <td>31</td>\n",
       "      <td>2023-02-25</td>\n",
       "      <td>iupui</td>\n",
       "      <td>W</td>\n",
       "      <td>93</td>\n",
       "      <td>79</td>\n",
       "      <td>34</td>\n",
       "      <td>59</td>\n",
       "      <td>0.576</td>\n",
       "      <td>8</td>\n",
       "      <td>...</td>\n",
       "      <td>0.636</td>\n",
       "      <td>8</td>\n",
       "      <td>25</td>\n",
       "      <td>15</td>\n",
       "      <td>4</td>\n",
       "      <td>4</td>\n",
       "      <td>12</td>\n",
       "      <td>18</td>\n",
       "      <td>A</td>\n",
       "      <td>youngstown-state</td>\n",
       "    </tr>\n",
       "    <tr>\n",
       "      <th>11926</th>\n",
       "      <td>32</td>\n",
       "      <td>2023-03-02</td>\n",
       "      <td>detroit-mercy</td>\n",
       "      <td>W</td>\n",
       "      <td>71</td>\n",
       "      <td>66</td>\n",
       "      <td>24</td>\n",
       "      <td>55</td>\n",
       "      <td>0.436</td>\n",
       "      <td>5</td>\n",
       "      <td>...</td>\n",
       "      <td>0.857</td>\n",
       "      <td>13</td>\n",
       "      <td>36</td>\n",
       "      <td>11</td>\n",
       "      <td>5</td>\n",
       "      <td>3</td>\n",
       "      <td>13</td>\n",
       "      <td>21</td>\n",
       "      <td>H</td>\n",
       "      <td>youngstown-state</td>\n",
       "    </tr>\n",
       "    <tr>\n",
       "      <th>11927</th>\n",
       "      <td>33</td>\n",
       "      <td>2023-03-06</td>\n",
       "      <td>northern-kentucky</td>\n",
       "      <td>L</td>\n",
       "      <td>63</td>\n",
       "      <td>75</td>\n",
       "      <td>24</td>\n",
       "      <td>53</td>\n",
       "      <td>0.453</td>\n",
       "      <td>4</td>\n",
       "      <td>...</td>\n",
       "      <td>0.737</td>\n",
       "      <td>16</td>\n",
       "      <td>32</td>\n",
       "      <td>6</td>\n",
       "      <td>6</td>\n",
       "      <td>2</td>\n",
       "      <td>2</td>\n",
       "      <td>18</td>\n",
       "      <td>N</td>\n",
       "      <td>youngstown-state</td>\n",
       "    </tr>\n",
       "    <tr>\n",
       "      <th>11928</th>\n",
       "      <td>34</td>\n",
       "      <td>2023-03-15</td>\n",
       "      <td>oklahoma-state</td>\n",
       "      <td>L</td>\n",
       "      <td>64</td>\n",
       "      <td>69</td>\n",
       "      <td>22</td>\n",
       "      <td>62</td>\n",
       "      <td>0.355</td>\n",
       "      <td>8</td>\n",
       "      <td>...</td>\n",
       "      <td>0.867</td>\n",
       "      <td>15</td>\n",
       "      <td>45</td>\n",
       "      <td>13</td>\n",
       "      <td>3</td>\n",
       "      <td>6</td>\n",
       "      <td>9</td>\n",
       "      <td>15</td>\n",
       "      <td>H</td>\n",
       "      <td>youngstown-state</td>\n",
       "    </tr>\n",
       "  </tbody>\n",
       "</table>\n",
       "<p>11929 rows × 40 columns</p>\n",
       "</div>"
      ],
      "text/plain": [
       "        G        Date                Opp W/L   Tm  Opp.1  FG  FGA    FG%  3P  \\\n",
       "0       1  2022-11-07      jackson-state   W   65     56  23   57  0.404   8   \n",
       "1       2  2022-11-11           texas-am   L   58     77  20   52  0.385   8   \n",
       "2       3  2022-11-15            mcmurry   W  104     46  41   68  0.603   5   \n",
       "3       4  2022-11-21       wright-state   L   61     77  25   58  0.431   7   \n",
       "4       5  2022-11-22        weber-state   L   67     77  26   53  0.491   9   \n",
       "...    ..         ...                ...  ..  ...    ...  ..  ...    ...  ..   \n",
       "11924  30  2023-02-21      robert-morris   L   64     83  23   47  0.489   4   \n",
       "11925  31  2023-02-25              iupui   W   93     79  34   59  0.576   8   \n",
       "11926  32  2023-03-02      detroit-mercy   W   71     66  24   55  0.436   5   \n",
       "11927  33  2023-03-06  northern-kentucky   L   63     75  24   53  0.453   4   \n",
       "11928  34  2023-03-15     oklahoma-state   L   64     69  22   62  0.355   8   \n",
       "\n",
       "       ...  FT%.1  ORB.1  TRB.1  AST.1  STL.1  BLK.1  TOV.1  PF.1  Location  \\\n",
       "0      ...  0.714      7     40      9      6      1     21    21         H   \n",
       "1      ...  0.714     10     33      7     11      3     19    17         A   \n",
       "2      ...  0.667      4     17      7      9      2     27    18         H   \n",
       "3      ...  0.632      1     24     18     12      5     18    14         N   \n",
       "4      ...  0.920      8     29     10      4      0     18    13         N   \n",
       "...    ...    ...    ...    ...    ...    ...    ...    ...   ...       ...   \n",
       "11924  ...  0.778      4     24     14      6      7     12    17         A   \n",
       "11925  ...  0.636      8     25     15      4      4     12    18         A   \n",
       "11926  ...  0.857     13     36     11      5      3     13    21         H   \n",
       "11927  ...  0.737     16     32      6      6      2      2    18         N   \n",
       "11928  ...  0.867     15     45     13      3      6      9    15         H   \n",
       "\n",
       "                    Team  \n",
       "0      abilene-christian  \n",
       "1      abilene-christian  \n",
       "2      abilene-christian  \n",
       "3      abilene-christian  \n",
       "4      abilene-christian  \n",
       "...                  ...  \n",
       "11924   youngstown-state  \n",
       "11925   youngstown-state  \n",
       "11926   youngstown-state  \n",
       "11927   youngstown-state  \n",
       "11928   youngstown-state  \n",
       "\n",
       "[11929 rows x 40 columns]"
      ]
     },
     "execution_count": 838,
     "metadata": {},
     "output_type": "execute_result"
    }
   ],
   "source": [
    "full_data"
   ]
  },
  {
   "cell_type": "code",
   "execution_count": 839,
   "id": "20b32299",
   "metadata": {},
   "outputs": [
    {
     "data": {
      "text/html": [
       "<div>\n",
       "<style scoped>\n",
       "    .dataframe tbody tr th:only-of-type {\n",
       "        vertical-align: middle;\n",
       "    }\n",
       "\n",
       "    .dataframe tbody tr th {\n",
       "        vertical-align: top;\n",
       "    }\n",
       "\n",
       "    .dataframe thead th {\n",
       "        text-align: right;\n",
       "    }\n",
       "</style>\n",
       "<table border=\"1\" class=\"dataframe\">\n",
       "  <thead>\n",
       "    <tr style=\"text-align: right;\">\n",
       "      <th></th>\n",
       "      <th>G</th>\n",
       "      <th>Date</th>\n",
       "      <th>Opp</th>\n",
       "      <th>W/L</th>\n",
       "      <th>Tm</th>\n",
       "      <th>Opp.1</th>\n",
       "      <th>FG</th>\n",
       "      <th>FGA</th>\n",
       "      <th>FG%</th>\n",
       "      <th>3P</th>\n",
       "      <th>...</th>\n",
       "      <th>DRB.1</th>\n",
       "      <th>POSS</th>\n",
       "      <th>POSS.1</th>\n",
       "      <th>OffRt</th>\n",
       "      <th>OffRt.1</th>\n",
       "      <th>DefRt</th>\n",
       "      <th>DefRt.1</th>\n",
       "      <th>Location_A</th>\n",
       "      <th>Location_H</th>\n",
       "      <th>Location_N</th>\n",
       "    </tr>\n",
       "  </thead>\n",
       "  <tbody>\n",
       "    <tr>\n",
       "      <th>0</th>\n",
       "      <td>1</td>\n",
       "      <td>2022-11-07</td>\n",
       "      <td>jackson-state</td>\n",
       "      <td>W</td>\n",
       "      <td>65</td>\n",
       "      <td>56</td>\n",
       "      <td>23</td>\n",
       "      <td>57</td>\n",
       "      <td>0.404</td>\n",
       "      <td>8</td>\n",
       "      <td>...</td>\n",
       "      <td>33</td>\n",
       "      <td>76.80</td>\n",
       "      <td>75.16</td>\n",
       "      <td>84.635417</td>\n",
       "      <td>74.507717</td>\n",
       "      <td>72.916667</td>\n",
       "      <td>86.482171</td>\n",
       "      <td>0</td>\n",
       "      <td>1</td>\n",
       "      <td>0</td>\n",
       "    </tr>\n",
       "    <tr>\n",
       "      <th>1</th>\n",
       "      <td>2</td>\n",
       "      <td>2022-11-11</td>\n",
       "      <td>texas-am</td>\n",
       "      <td>L</td>\n",
       "      <td>58</td>\n",
       "      <td>77</td>\n",
       "      <td>20</td>\n",
       "      <td>52</td>\n",
       "      <td>0.385</td>\n",
       "      <td>8</td>\n",
       "      <td>...</td>\n",
       "      <td>23</td>\n",
       "      <td>68.28</td>\n",
       "      <td>68.40</td>\n",
       "      <td>84.944347</td>\n",
       "      <td>112.573099</td>\n",
       "      <td>112.770943</td>\n",
       "      <td>84.795322</td>\n",
       "      <td>1</td>\n",
       "      <td>0</td>\n",
       "      <td>0</td>\n",
       "    </tr>\n",
       "    <tr>\n",
       "      <th>2</th>\n",
       "      <td>3</td>\n",
       "      <td>2022-11-15</td>\n",
       "      <td>mcmurry</td>\n",
       "      <td>W</td>\n",
       "      <td>104</td>\n",
       "      <td>46</td>\n",
       "      <td>41</td>\n",
       "      <td>68</td>\n",
       "      <td>0.603</td>\n",
       "      <td>5</td>\n",
       "      <td>...</td>\n",
       "      <td>13</td>\n",
       "      <td>80.68</td>\n",
       "      <td>78.60</td>\n",
       "      <td>128.904313</td>\n",
       "      <td>58.524173</td>\n",
       "      <td>57.015369</td>\n",
       "      <td>132.315522</td>\n",
       "      <td>0</td>\n",
       "      <td>1</td>\n",
       "      <td>0</td>\n",
       "    </tr>\n",
       "    <tr>\n",
       "      <th>3</th>\n",
       "      <td>4</td>\n",
       "      <td>2022-11-21</td>\n",
       "      <td>wright-state</td>\n",
       "      <td>L</td>\n",
       "      <td>61</td>\n",
       "      <td>77</td>\n",
       "      <td>25</td>\n",
       "      <td>58</td>\n",
       "      <td>0.431</td>\n",
       "      <td>7</td>\n",
       "      <td>...</td>\n",
       "      <td>23</td>\n",
       "      <td>79.40</td>\n",
       "      <td>75.36</td>\n",
       "      <td>76.826196</td>\n",
       "      <td>102.176221</td>\n",
       "      <td>96.977330</td>\n",
       "      <td>80.944798</td>\n",
       "      <td>0</td>\n",
       "      <td>0</td>\n",
       "      <td>1</td>\n",
       "    </tr>\n",
       "    <tr>\n",
       "      <th>4</th>\n",
       "      <td>5</td>\n",
       "      <td>2022-11-22</td>\n",
       "      <td>weber-state</td>\n",
       "      <td>L</td>\n",
       "      <td>67</td>\n",
       "      <td>77</td>\n",
       "      <td>26</td>\n",
       "      <td>53</td>\n",
       "      <td>0.491</td>\n",
       "      <td>9</td>\n",
       "      <td>...</td>\n",
       "      <td>21</td>\n",
       "      <td>70.84</td>\n",
       "      <td>72.00</td>\n",
       "      <td>94.579334</td>\n",
       "      <td>106.944444</td>\n",
       "      <td>108.695652</td>\n",
       "      <td>93.055556</td>\n",
       "      <td>0</td>\n",
       "      <td>0</td>\n",
       "      <td>1</td>\n",
       "    </tr>\n",
       "  </tbody>\n",
       "</table>\n",
       "<p>5 rows × 66 columns</p>\n",
       "</div>"
      ],
      "text/plain": [
       "   G        Date            Opp W/L   Tm  Opp.1  FG  FGA    FG%  3P  ...  \\\n",
       "0  1  2022-11-07  jackson-state   W   65     56  23   57  0.404   8  ...   \n",
       "1  2  2022-11-11       texas-am   L   58     77  20   52  0.385   8  ...   \n",
       "2  3  2022-11-15        mcmurry   W  104     46  41   68  0.603   5  ...   \n",
       "3  4  2022-11-21   wright-state   L   61     77  25   58  0.431   7  ...   \n",
       "4  5  2022-11-22    weber-state   L   67     77  26   53  0.491   9  ...   \n",
       "\n",
       "   DRB.1   POSS  POSS.1       OffRt     OffRt.1       DefRt     DefRt.1  \\\n",
       "0     33  76.80   75.16   84.635417   74.507717   72.916667   86.482171   \n",
       "1     23  68.28   68.40   84.944347  112.573099  112.770943   84.795322   \n",
       "2     13  80.68   78.60  128.904313   58.524173   57.015369  132.315522   \n",
       "3     23  79.40   75.36   76.826196  102.176221   96.977330   80.944798   \n",
       "4     21  70.84   72.00   94.579334  106.944444  108.695652   93.055556   \n",
       "\n",
       "   Location_A  Location_H  Location_N  \n",
       "0           0           1           0  \n",
       "1           1           0           0  \n",
       "2           0           1           0  \n",
       "3           0           0           1  \n",
       "4           0           0           1  \n",
       "\n",
       "[5 rows x 66 columns]"
      ]
     },
     "execution_count": 839,
     "metadata": {},
     "output_type": "execute_result"
    }
   ],
   "source": [
    "#calculating and adding advanced basketball statistics for both teams\n",
    "full_data_adv = calculate_advanced_stats(full_data)\n",
    "full_data_adv = pd.get_dummies(full_data_adv, columns = ['Location'])\n",
    "\n",
    "full_data_adv.head()"
   ]
  },
  {
   "cell_type": "code",
   "execution_count": 840,
   "id": "cbef7e57",
   "metadata": {},
   "outputs": [
    {
     "data": {
      "text/plain": [
       "Index(['G', 'Date', 'Opp', 'W/L', 'Tm', 'Opp.1', 'FG', 'FGA', 'FG%', '3P',\n",
       "       '3PA', '3P%', 'FT', 'FTA', 'FT%', 'ORB', 'TRB', 'AST', 'STL', 'BLK',\n",
       "       'TOV', 'PF', 'FG.1', 'FGA.1', 'FG%.1', '3P.1', '3PA.1', '3P%.1', 'FT.1',\n",
       "       'FTA.1', 'FT%.1', 'ORB.1', 'TRB.1', 'AST.1', 'STL.1', 'BLK.1', 'TOV.1',\n",
       "       'PF.1', 'Team', 'eFG', 'eFG.1', 'TOV%', 'TOV%.1', 'ORB%', 'ORB%.1',\n",
       "       'FT/FGA', 'FT/FGA.1', 'DRB%', 'DRB%.1', 'AST%', 'AST%.1', 'TS%',\n",
       "       'TS%.1', '3PAr', '3PAr.1', 'DRB', 'DRB.1', 'POSS', 'POSS.1', 'OffRt',\n",
       "       'OffRt.1', 'DefRt', 'DefRt.1', 'Location_A', 'Location_H',\n",
       "       'Location_N'],\n",
       "      dtype='object')"
      ]
     },
     "execution_count": 840,
     "metadata": {},
     "output_type": "execute_result"
    }
   ],
   "source": [
    "full_data_adv.columns"
   ]
  },
  {
   "cell_type": "code",
   "execution_count": 841,
   "id": "6f0f63c3",
   "metadata": {},
   "outputs": [],
   "source": [
    "#creating overtime variable\n",
    "\n",
    "full_data_adv['OT'] = full_data_adv['W/L'].str.split().str[2].str[0:2]\n",
    "full_data_adv['OT'].fillna(0, inplace = True)\n",
    "full_data_adv['OT'].replace('OT', 1, inplace = True)"
   ]
  },
  {
   "cell_type": "code",
   "execution_count": 842,
   "id": "0fc4142a",
   "metadata": {},
   "outputs": [
    {
     "data": {
      "text/plain": [
       "array(['W', 'L', 'L\\xa0(2 OT)', 'L\\xa0(1 OT)', 'W\\xa0(1 OT)',\n",
       "       'W\\xa0(4 OT)', 'W\\xa0(2 OT)', 'W\\xa0(3 OT)', 'L\\xa0(3 OT)',\n",
       "       'L\\xa0(4 OT)'], dtype=object)"
      ]
     },
     "execution_count": 842,
     "metadata": {},
     "output_type": "execute_result"
    }
   ],
   "source": [
    "#examining outcome variable values\n",
    "full_data_adv['W/L'].unique()"
   ]
  },
  {
   "cell_type": "code",
   "execution_count": 843,
   "id": "f789424f",
   "metadata": {},
   "outputs": [
    {
     "data": {
      "text/plain": [
       "array(['W', 'L'], dtype=object)"
      ]
     },
     "execution_count": 843,
     "metadata": {},
     "output_type": "execute_result"
    }
   ],
   "source": [
    "#removing extra text in win loss variable\n",
    "full_data_adv['W/L'] = full_data_adv['W/L'].str.split().str[0]\n",
    "full_data_adv['W/L'].unique()"
   ]
  },
  {
   "cell_type": "code",
   "execution_count": 844,
   "id": "2b74e269",
   "metadata": {},
   "outputs": [],
   "source": [
    "#Converting outcome variable from string to numeric\n",
    "full_data_adv.replace({\"W/L\": {\"W\":1, \"L\":0}}, inplace = True)"
   ]
  },
  {
   "cell_type": "code",
   "execution_count": 845,
   "id": "5cb38d1d",
   "metadata": {},
   "outputs": [
    {
     "data": {
      "text/html": [
       "<div>\n",
       "<style scoped>\n",
       "    .dataframe tbody tr th:only-of-type {\n",
       "        vertical-align: middle;\n",
       "    }\n",
       "\n",
       "    .dataframe tbody tr th {\n",
       "        vertical-align: top;\n",
       "    }\n",
       "\n",
       "    .dataframe thead th {\n",
       "        text-align: right;\n",
       "    }\n",
       "</style>\n",
       "<table border=\"1\" class=\"dataframe\">\n",
       "  <thead>\n",
       "    <tr style=\"text-align: right;\">\n",
       "      <th></th>\n",
       "      <th>G</th>\n",
       "      <th>Date</th>\n",
       "      <th>Opp</th>\n",
       "      <th>W/L</th>\n",
       "      <th>Tm</th>\n",
       "      <th>Opp.1</th>\n",
       "      <th>FG</th>\n",
       "      <th>FGA</th>\n",
       "      <th>FG%</th>\n",
       "      <th>3P</th>\n",
       "      <th>...</th>\n",
       "      <th>POSS</th>\n",
       "      <th>POSS.1</th>\n",
       "      <th>OffRt</th>\n",
       "      <th>OffRt.1</th>\n",
       "      <th>DefRt</th>\n",
       "      <th>DefRt.1</th>\n",
       "      <th>Location_A</th>\n",
       "      <th>Location_H</th>\n",
       "      <th>Location_N</th>\n",
       "      <th>OT</th>\n",
       "    </tr>\n",
       "  </thead>\n",
       "  <tbody>\n",
       "    <tr>\n",
       "      <th>0</th>\n",
       "      <td>1</td>\n",
       "      <td>2022-11-07</td>\n",
       "      <td>jackson-state</td>\n",
       "      <td>1</td>\n",
       "      <td>65</td>\n",
       "      <td>56</td>\n",
       "      <td>23</td>\n",
       "      <td>57</td>\n",
       "      <td>0.404</td>\n",
       "      <td>8</td>\n",
       "      <td>...</td>\n",
       "      <td>76.80</td>\n",
       "      <td>75.16</td>\n",
       "      <td>84.635417</td>\n",
       "      <td>74.507717</td>\n",
       "      <td>72.916667</td>\n",
       "      <td>86.482171</td>\n",
       "      <td>0</td>\n",
       "      <td>1</td>\n",
       "      <td>0</td>\n",
       "      <td>0</td>\n",
       "    </tr>\n",
       "    <tr>\n",
       "      <th>1</th>\n",
       "      <td>2</td>\n",
       "      <td>2022-11-11</td>\n",
       "      <td>texas-am</td>\n",
       "      <td>0</td>\n",
       "      <td>58</td>\n",
       "      <td>77</td>\n",
       "      <td>20</td>\n",
       "      <td>52</td>\n",
       "      <td>0.385</td>\n",
       "      <td>8</td>\n",
       "      <td>...</td>\n",
       "      <td>68.28</td>\n",
       "      <td>68.40</td>\n",
       "      <td>84.944347</td>\n",
       "      <td>112.573099</td>\n",
       "      <td>112.770943</td>\n",
       "      <td>84.795322</td>\n",
       "      <td>1</td>\n",
       "      <td>0</td>\n",
       "      <td>0</td>\n",
       "      <td>0</td>\n",
       "    </tr>\n",
       "    <tr>\n",
       "      <th>2</th>\n",
       "      <td>3</td>\n",
       "      <td>2022-11-15</td>\n",
       "      <td>mcmurry</td>\n",
       "      <td>1</td>\n",
       "      <td>104</td>\n",
       "      <td>46</td>\n",
       "      <td>41</td>\n",
       "      <td>68</td>\n",
       "      <td>0.603</td>\n",
       "      <td>5</td>\n",
       "      <td>...</td>\n",
       "      <td>80.68</td>\n",
       "      <td>78.60</td>\n",
       "      <td>128.904313</td>\n",
       "      <td>58.524173</td>\n",
       "      <td>57.015369</td>\n",
       "      <td>132.315522</td>\n",
       "      <td>0</td>\n",
       "      <td>1</td>\n",
       "      <td>0</td>\n",
       "      <td>0</td>\n",
       "    </tr>\n",
       "    <tr>\n",
       "      <th>3</th>\n",
       "      <td>4</td>\n",
       "      <td>2022-11-21</td>\n",
       "      <td>wright-state</td>\n",
       "      <td>0</td>\n",
       "      <td>61</td>\n",
       "      <td>77</td>\n",
       "      <td>25</td>\n",
       "      <td>58</td>\n",
       "      <td>0.431</td>\n",
       "      <td>7</td>\n",
       "      <td>...</td>\n",
       "      <td>79.40</td>\n",
       "      <td>75.36</td>\n",
       "      <td>76.826196</td>\n",
       "      <td>102.176221</td>\n",
       "      <td>96.977330</td>\n",
       "      <td>80.944798</td>\n",
       "      <td>0</td>\n",
       "      <td>0</td>\n",
       "      <td>1</td>\n",
       "      <td>0</td>\n",
       "    </tr>\n",
       "    <tr>\n",
       "      <th>4</th>\n",
       "      <td>5</td>\n",
       "      <td>2022-11-22</td>\n",
       "      <td>weber-state</td>\n",
       "      <td>0</td>\n",
       "      <td>67</td>\n",
       "      <td>77</td>\n",
       "      <td>26</td>\n",
       "      <td>53</td>\n",
       "      <td>0.491</td>\n",
       "      <td>9</td>\n",
       "      <td>...</td>\n",
       "      <td>70.84</td>\n",
       "      <td>72.00</td>\n",
       "      <td>94.579334</td>\n",
       "      <td>106.944444</td>\n",
       "      <td>108.695652</td>\n",
       "      <td>93.055556</td>\n",
       "      <td>0</td>\n",
       "      <td>0</td>\n",
       "      <td>1</td>\n",
       "      <td>0</td>\n",
       "    </tr>\n",
       "  </tbody>\n",
       "</table>\n",
       "<p>5 rows × 67 columns</p>\n",
       "</div>"
      ],
      "text/plain": [
       "   G        Date            Opp  W/L   Tm  Opp.1  FG  FGA    FG%  3P  ...  \\\n",
       "0  1  2022-11-07  jackson-state    1   65     56  23   57  0.404   8  ...   \n",
       "1  2  2022-11-11       texas-am    0   58     77  20   52  0.385   8  ...   \n",
       "2  3  2022-11-15        mcmurry    1  104     46  41   68  0.603   5  ...   \n",
       "3  4  2022-11-21   wright-state    0   61     77  25   58  0.431   7  ...   \n",
       "4  5  2022-11-22    weber-state    0   67     77  26   53  0.491   9  ...   \n",
       "\n",
       "    POSS  POSS.1       OffRt     OffRt.1       DefRt     DefRt.1  Location_A  \\\n",
       "0  76.80   75.16   84.635417   74.507717   72.916667   86.482171           0   \n",
       "1  68.28   68.40   84.944347  112.573099  112.770943   84.795322           1   \n",
       "2  80.68   78.60  128.904313   58.524173   57.015369  132.315522           0   \n",
       "3  79.40   75.36   76.826196  102.176221   96.977330   80.944798           0   \n",
       "4  70.84   72.00   94.579334  106.944444  108.695652   93.055556           0   \n",
       "\n",
       "   Location_H  Location_N  OT  \n",
       "0           1           0   0  \n",
       "1           0           0   0  \n",
       "2           1           0   0  \n",
       "3           0           1   0  \n",
       "4           0           1   0  \n",
       "\n",
       "[5 rows x 67 columns]"
      ]
     },
     "execution_count": 845,
     "metadata": {},
     "output_type": "execute_result"
    }
   ],
   "source": [
    "#looking at cleaned data\n",
    "full_data_adv.head()"
   ]
  },
  {
   "cell_type": "code",
   "execution_count": 846,
   "id": "df063e5e",
   "metadata": {},
   "outputs": [
    {
     "data": {
      "text/plain": [
       "(11929, 67)"
      ]
     },
     "execution_count": 846,
     "metadata": {},
     "output_type": "execute_result"
    }
   ],
   "source": [
    "#examining number of rows and columns of cleaned data\n",
    "full_data_adv.shape"
   ]
  },
  {
   "cell_type": "code",
   "execution_count": 847,
   "id": "0f0e9752",
   "metadata": {},
   "outputs": [
    {
     "name": "stdout",
     "output_type": "stream",
     "text": [
      "G               int64\n",
      "Date           object\n",
      "Opp            object\n",
      "W/L             int64\n",
      "Tm              int64\n",
      "Opp.1           int64\n",
      "FG              int64\n",
      "FGA             int64\n",
      "FG%           float64\n",
      "3P              int64\n",
      "3PA             int64\n",
      "3P%           float64\n",
      "FT              int64\n",
      "FTA             int64\n",
      "FT%           float64\n",
      "ORB             int64\n",
      "TRB             int64\n",
      "AST             int64\n",
      "STL             int64\n",
      "BLK             int64\n",
      "TOV             int64\n",
      "PF              int64\n",
      "FG.1            int64\n",
      "FGA.1           int64\n",
      "FG%.1         float64\n",
      "3P.1            int64\n",
      "3PA.1           int64\n",
      "3P%.1         float64\n",
      "FT.1            int64\n",
      "FTA.1           int64\n",
      "FT%.1         float64\n",
      "ORB.1           int64\n",
      "TRB.1           int64\n",
      "AST.1           int64\n",
      "STL.1           int64\n",
      "BLK.1           int64\n",
      "TOV.1           int64\n",
      "PF.1            int64\n",
      "Team           object\n",
      "eFG           float64\n",
      "eFG.1         float64\n",
      "TOV%          float64\n",
      "TOV%.1        float64\n",
      "ORB%          float64\n",
      "ORB%.1        float64\n",
      "FT/FGA        float64\n",
      "FT/FGA.1      float64\n",
      "DRB%          float64\n",
      "DRB%.1        float64\n",
      "AST%          float64\n",
      "AST%.1        float64\n",
      "TS%           float64\n",
      "TS%.1         float64\n",
      "3PAr          float64\n",
      "3PAr.1        float64\n",
      "DRB             int64\n",
      "DRB.1           int64\n",
      "POSS          float64\n",
      "POSS.1        float64\n",
      "OffRt         float64\n",
      "OffRt.1       float64\n",
      "DefRt         float64\n",
      "DefRt.1       float64\n",
      "Location_A      uint8\n",
      "Location_H      uint8\n",
      "Location_N      uint8\n",
      "OT              int64\n",
      "dtype: object\n"
     ]
    }
   ],
   "source": [
    "#examining all variable types\n",
    "pd.options.display.max_rows = 70\n",
    "print(full_data_adv.dtypes)\n",
    "pd.options.display.max_rows = 10"
   ]
  },
  {
   "cell_type": "code",
   "execution_count": 848,
   "id": "7886c42b",
   "metadata": {},
   "outputs": [
    {
     "data": {
      "text/plain": [
       "(11929, 67)"
      ]
     },
     "execution_count": 848,
     "metadata": {},
     "output_type": "execute_result"
    }
   ],
   "source": [
    "full_data_adv.dropna().drop_duplicates()\n",
    "full_data_adv.shape"
   ]
  },
  {
   "cell_type": "code",
   "execution_count": 849,
   "id": "c63eaa0a",
   "metadata": {},
   "outputs": [],
   "source": [
    "#columns that will not be used as features\n",
    "\n",
    "\n",
    "\n",
    "fields_to_drop = ['G', 'Date', 'Opp','Team', 'W/L', 'Tm', 'Opp.1',\n",
    "                  'FG','FGA','3P','3PA','FT','FTA',\n",
    "                  'FG.1','FGA.1','3P.1','3PA.1','FT.1','FTA.1', 'OT',\n",
    "                 'OffRt', 'OffRt.1', 'DefRt', 'DefRt.1',\n",
    "                 'TS%', 'TS%.1']\n",
    "\n",
    "fields_to_keep = ['eFG', 'eFG.1', 'TOV%', 'TOV%.1', 'ORB%', 'DRB%', 'FT/FGA', 'FT/FGA.1']\n",
    "\n"
   ]
  },
  {
   "cell_type": "code",
   "execution_count": 850,
   "id": "17527469",
   "metadata": {},
   "outputs": [
    {
     "name": "stdout",
     "output_type": "stream",
     "text": [
      "(11929, 8)\n"
     ]
    },
    {
     "data": {
      "text/plain": [
       "Index(['eFG', 'eFG.1', 'TOV%', 'TOV%.1', 'ORB%', 'DRB%', 'FT/FGA', 'FT/FGA.1'], dtype='object')"
      ]
     },
     "execution_count": 850,
     "metadata": {},
     "output_type": "execute_result"
    }
   ],
   "source": [
    "#creating feature data and examining number of rows and columns\n",
    "\n",
    "#X = full_data_adv.drop(fields_to_drop, 1)\n",
    "X = full_data_adv[fields_to_keep]\n",
    "\n",
    "#convert all numeric variables to float\n",
    "#X[X.columns[X.dtypes == int]] = X[X.columns[X.dtypes == int]].astype(float)\n",
    "\n",
    "print(X.shape)\n",
    "X.columns"
   ]
  },
  {
   "cell_type": "code",
   "execution_count": 851,
   "id": "e57cb27d",
   "metadata": {},
   "outputs": [
    {
     "data": {
      "text/plain": [
       "(11929,)"
      ]
     },
     "execution_count": 851,
     "metadata": {},
     "output_type": "execute_result"
    }
   ],
   "source": [
    "#Create outcome data\n",
    "\n",
    "y = full_data_adv['W/L'].values\n",
    "#y = np.delete(y, 10081, axis = 0)\n",
    "#y = np.delete(y, 10244, axis = 0)\n",
    "\n",
    "y.shape"
   ]
  },
  {
   "cell_type": "code",
   "execution_count": 852,
   "id": "8567e5be",
   "metadata": {},
   "outputs": [],
   "source": [
    "#Create training and test data\n",
    "X_train, X_test, y_train, y_test = train_test_split(X, y, test_size = .25, random_state = 45)"
   ]
  },
  {
   "cell_type": "code",
   "execution_count": 853,
   "id": "0b664933",
   "metadata": {},
   "outputs": [],
   "source": [
    "#standardizing features based on training data means and standard deviations\n",
    "scaler = preprocessing.StandardScaler()\n",
    "\n",
    "#obtaining means and standard deviations then transforming all columns except dummy variables\n",
    "X_train_std = scaler.fit_transform(X_train.loc[:, ~X_train.columns.isin(['Location_A','Location_N','Location_H'])])\n",
    "#creating data set with just the dummy variables\n",
    "X_train_dummies = X_train.loc[:, X_train.columns.isin(['Location_N','Location_A','Location_H'])]\n",
    "#combining the dummy variables back into the now standardized X training data\n",
    "X_train_std = np.concatenate([X_train_std,X_train_dummies], axis = 1)\n",
    "\n",
    "\n",
    "#transforming test data using training means and standard deviations except dummy variables\n",
    "X_test_std = scaler.transform(X_test.loc[:, ~X_test.columns.isin(['Location_A', 'Location_N','Location_H'])])\n",
    "\n",
    "X_test_dummies = X_test.loc[:, X_test.columns.isin(['Location_N','Location_A','Location_H'])]\n",
    "\n",
    "X_test_std = np.concatenate([X_test_std,X_test_dummies], axis = 1)"
   ]
  },
  {
   "cell_type": "code",
   "execution_count": 854,
   "id": "cfd837d4",
   "metadata": {},
   "outputs": [],
   "source": [
    "scaler = preprocessing.StandardScaler()\n",
    "X_train_std = scaler.fit_transform(X_train)\n",
    "X_test_std = scaler.transform(X_test)"
   ]
  },
  {
   "cell_type": "code",
   "execution_count": 855,
   "id": "a91aa5e4",
   "metadata": {},
   "outputs": [],
   "source": [
    "#create basic logistic regression object\n",
    "logreg = LogisticRegression(random_state = 45, max_iter = 1000)"
   ]
  },
  {
   "cell_type": "code",
   "execution_count": 856,
   "id": "f8f5224a",
   "metadata": {},
   "outputs": [
    {
     "data": {
      "text/html": [
       "<style>#sk-container-id-14 {color: black;background-color: white;}#sk-container-id-14 pre{padding: 0;}#sk-container-id-14 div.sk-toggleable {background-color: white;}#sk-container-id-14 label.sk-toggleable__label {cursor: pointer;display: block;width: 100%;margin-bottom: 0;padding: 0.3em;box-sizing: border-box;text-align: center;}#sk-container-id-14 label.sk-toggleable__label-arrow:before {content: \"▸\";float: left;margin-right: 0.25em;color: #696969;}#sk-container-id-14 label.sk-toggleable__label-arrow:hover:before {color: black;}#sk-container-id-14 div.sk-estimator:hover label.sk-toggleable__label-arrow:before {color: black;}#sk-container-id-14 div.sk-toggleable__content {max-height: 0;max-width: 0;overflow: hidden;text-align: left;background-color: #f0f8ff;}#sk-container-id-14 div.sk-toggleable__content pre {margin: 0.2em;color: black;border-radius: 0.25em;background-color: #f0f8ff;}#sk-container-id-14 input.sk-toggleable__control:checked~div.sk-toggleable__content {max-height: 200px;max-width: 100%;overflow: auto;}#sk-container-id-14 input.sk-toggleable__control:checked~label.sk-toggleable__label-arrow:before {content: \"▾\";}#sk-container-id-14 div.sk-estimator input.sk-toggleable__control:checked~label.sk-toggleable__label {background-color: #d4ebff;}#sk-container-id-14 div.sk-label input.sk-toggleable__control:checked~label.sk-toggleable__label {background-color: #d4ebff;}#sk-container-id-14 input.sk-hidden--visually {border: 0;clip: rect(1px 1px 1px 1px);clip: rect(1px, 1px, 1px, 1px);height: 1px;margin: -1px;overflow: hidden;padding: 0;position: absolute;width: 1px;}#sk-container-id-14 div.sk-estimator {font-family: monospace;background-color: #f0f8ff;border: 1px dotted black;border-radius: 0.25em;box-sizing: border-box;margin-bottom: 0.5em;}#sk-container-id-14 div.sk-estimator:hover {background-color: #d4ebff;}#sk-container-id-14 div.sk-parallel-item::after {content: \"\";width: 100%;border-bottom: 1px solid gray;flex-grow: 1;}#sk-container-id-14 div.sk-label:hover label.sk-toggleable__label {background-color: #d4ebff;}#sk-container-id-14 div.sk-serial::before {content: \"\";position: absolute;border-left: 1px solid gray;box-sizing: border-box;top: 0;bottom: 0;left: 50%;z-index: 0;}#sk-container-id-14 div.sk-serial {display: flex;flex-direction: column;align-items: center;background-color: white;padding-right: 0.2em;padding-left: 0.2em;position: relative;}#sk-container-id-14 div.sk-item {position: relative;z-index: 1;}#sk-container-id-14 div.sk-parallel {display: flex;align-items: stretch;justify-content: center;background-color: white;position: relative;}#sk-container-id-14 div.sk-item::before, #sk-container-id-14 div.sk-parallel-item::before {content: \"\";position: absolute;border-left: 1px solid gray;box-sizing: border-box;top: 0;bottom: 0;left: 50%;z-index: -1;}#sk-container-id-14 div.sk-parallel-item {display: flex;flex-direction: column;z-index: 1;position: relative;background-color: white;}#sk-container-id-14 div.sk-parallel-item:first-child::after {align-self: flex-end;width: 50%;}#sk-container-id-14 div.sk-parallel-item:last-child::after {align-self: flex-start;width: 50%;}#sk-container-id-14 div.sk-parallel-item:only-child::after {width: 0;}#sk-container-id-14 div.sk-dashed-wrapped {border: 1px dashed gray;margin: 0 0.4em 0.5em 0.4em;box-sizing: border-box;padding-bottom: 0.4em;background-color: white;}#sk-container-id-14 div.sk-label label {font-family: monospace;font-weight: bold;display: inline-block;line-height: 1.2em;}#sk-container-id-14 div.sk-label-container {text-align: center;}#sk-container-id-14 div.sk-container {/* jupyter's `normalize.less` sets `[hidden] { display: none; }` but bootstrap.min.css set `[hidden] { display: none !important; }` so we also need the `!important` here to be able to override the default hidden behavior on the sphinx rendered scikit-learn.org. See: https://github.com/scikit-learn/scikit-learn/issues/21755 */display: inline-block !important;position: relative;}#sk-container-id-14 div.sk-text-repr-fallback {display: none;}</style><div id=\"sk-container-id-14\" class=\"sk-top-container\"><div class=\"sk-text-repr-fallback\"><pre>LogisticRegression(max_iter=1000, random_state=45)</pre><b>In a Jupyter environment, please rerun this cell to show the HTML representation or trust the notebook. <br />On GitHub, the HTML representation is unable to render, please try loading this page with nbviewer.org.</b></div><div class=\"sk-container\" hidden><div class=\"sk-item\"><div class=\"sk-estimator sk-toggleable\"><input class=\"sk-toggleable__control sk-hidden--visually\" id=\"sk-estimator-id-14\" type=\"checkbox\" checked><label for=\"sk-estimator-id-14\" class=\"sk-toggleable__label sk-toggleable__label-arrow\">LogisticRegression</label><div class=\"sk-toggleable__content\"><pre>LogisticRegression(max_iter=1000, random_state=45)</pre></div></div></div></div></div>"
      ],
      "text/plain": [
       "LogisticRegression(max_iter=1000, random_state=45)"
      ]
     },
     "execution_count": 856,
     "metadata": {},
     "output_type": "execute_result"
    }
   ],
   "source": [
    "#fit basic logistic regression model to training data\n",
    "logreg.fit(X_train_std,y_train)"
   ]
  },
  {
   "cell_type": "code",
   "execution_count": 857,
   "id": "c44ef598",
   "metadata": {},
   "outputs": [
    {
     "name": "stdout",
     "output_type": "stream",
     "text": [
      "Model Performance\n",
      "\n",
      "Accuracy =  0.9547435467650017 \n",
      "\n",
      "Classification Report\n",
      "\n",
      "              precision    recall  f1-score   support\n",
      "\n",
      "           0     0.9576    0.9476    0.9526      1431\n",
      "           1     0.9521    0.9613    0.9567      1552\n",
      "\n",
      "    accuracy                         0.9547      2983\n",
      "   macro avg     0.9549    0.9545    0.9546      2983\n",
      "weighted avg     0.9548    0.9547    0.9547      2983\n",
      "\n"
     ]
    },
    {
     "data": {
      "image/png": "[encoded data removed]",
      "text/plain": [
       "<Figure size 640x480 with 2 Axes>"
      ]
     },
     "metadata": {},
     "output_type": "display_data"
    },
    {
     "name": "stdout",
     "output_type": "stream",
     "text": [
      "Area Under the Curve = 0.9544646523590309\n"
     ]
    },
    {
     "data": {
      "image/png": "[encoded data removed]",
      "text/plain": [
       "<Figure size 1000x700 with 1 Axes>"
      ]
     },
     "metadata": {},
     "output_type": "display_data"
    }
   ],
   "source": [
    "#evaluate trained logistic regression model on test data\n",
    "\n",
    "evaluate_classification(logreg, X_test_std, y_test, extra = True)"
   ]
  },
  {
   "cell_type": "code",
   "execution_count": 858,
   "id": "dc782c95",
   "metadata": {},
   "outputs": [
    {
     "data": {
      "image/png": "[encoded data removed]",
      "text/plain": [
       "<Figure size 1000x800 with 1 Axes>"
      ]
     },
     "metadata": {},
     "output_type": "display_data"
    }
   ],
   "source": [
    "coefficients = logreg.coef_[0]\n",
    "feature_importance = pd.DataFrame({'Feature': X.columns, 'Importance':coefficients})\n",
    "feature_importance = feature_importance.sort_values('Importance', ascending=True)\n",
    "feature_importance.plot(x='Feature', y='Importance', kind='barh', figsize=(10, 8))\n",
    "plt.show()"
   ]
  },
  {
   "cell_type": "code",
   "execution_count": 859,
   "id": "fdaf6093",
   "metadata": {},
   "outputs": [
    {
     "name": "stdout",
     "output_type": "stream",
     "text": [
      "    Feature  Importance\n",
      "1     eFG.1   -5.564833\n",
      "2      TOV%   -2.911246\n",
      "7  FT/FGA.1   -1.807581\n",
      "5      DRB%    1.741022\n",
      "6    FT/FGA    1.770719\n",
      "4      ORB%    1.854557\n",
      "3    TOV%.1    3.073005\n",
      "0       eFG    5.545965\n"
     ]
    }
   ],
   "source": [
    "pd.options.display.max_rows = 70\n",
    "print(feature_importance)\n",
    "pd.options.display.max_rows = 10"
   ]
  },
  {
   "cell_type": "code",
   "execution_count": 860,
   "id": "61274465",
   "metadata": {},
   "outputs": [],
   "source": [
    "def create_matchup_data(primary_team, secondary_team, location = \"N\"):\n",
    "    \n",
    "    teams1 = [primary_team]\n",
    "        #pull data from school url pages\n",
    "    for name in teams1:\n",
    "\n",
    "\n",
    "        with open(\"College Data/Schools/{}.html\".format(name)) as f:\n",
    "            page2 = f.read()\n",
    "\n",
    "        soup = BeautifulSoup(page2, \"html.parser\")\n",
    "        soup.find('tr', class_=\"over_header\").decompose()\n",
    "        stats_table = soup.find(id=\"div_sgl-basic_NCAAM\")\n",
    "        data = pd.read_html(str(stats_table))[0]\n",
    "\n",
    "        #removing unneeded rows\n",
    "        data.drop(data[(data['FG%'] == \"School\") | (data['FG%'] == \"FG%\")].index, inplace=True)\n",
    "        #creating a playing location variable \n",
    "        data['Unnamed: 2'] = data['Unnamed: 2'].replace(\"@\",\"A\").replace(np.nan,\"H\")\n",
    "        data = data.drop(columns=['Unnamed: 23']).dropna()\n",
    "        data['Location'] = data['Unnamed: 2']\n",
    "        data = data.drop(columns=['W/L','G','Date','Unnamed: 2','Opp', 'Location'])\n",
    "\n",
    "        data = data.astype(float)\n",
    "\n",
    "        data = calculate_advanced_stats(data)\n",
    "\n",
    "        data = data[data.columns.drop(list(data.filter(regex='.1')))]\n",
    "\n",
    "        team1 = pd.DataFrame(data)\n",
    "        team1 = team1.astype(float)\\\n",
    "        .mul((np.arange(1, len(team1)+1, 1))/(len(team1)), axis = 0)\\\n",
    "        .sum()\\\n",
    "        .div(sum((np.arange(1, len(team1)+1, 1))/(len(team1))))\\\n",
    "        .to_frame()\\\n",
    "        .T\n",
    "\n",
    "        team1_keep = [var for var in team1.columns if var in fields_to_keep]\n",
    "        team1 = team1[team1_keep]\n",
    "\n",
    "    teams2 = [secondary_team]\n",
    "\n",
    "    for name in teams2:\n",
    "\n",
    "\n",
    "        with open(\"College data/Schools/{}.html\".format(name)) as f:\n",
    "            page2 = f.read()\n",
    "\n",
    "        soup = BeautifulSoup(page2, \"html.parser\")\n",
    "        soup.find('tr', class_=\"over_header\").decompose()\n",
    "        stats_table = soup.find(id=\"div_sgl-basic_NCAAM\")\n",
    "        data2 = pd.read_html(str(stats_table))[0]\n",
    "\n",
    "        #removing unneeded rows\n",
    "        data2.drop(data2[(data2['FG%'] == \"School\") | (data2['FG%'] == \"FG%\")].index, inplace=True)\n",
    "        #creating a playing location variable \n",
    "        data2['Unnamed: 2'] = data2['Unnamed: 2'].replace(\"@\",\"A\").replace(np.nan,\"H\")\n",
    "        data2 = data2.drop(columns=['Unnamed: 23']).dropna()\n",
    "        data2['Location'] = data2['Unnamed: 2']\n",
    "        data2 = data2.drop(columns=['W/L','G','Date','Unnamed: 2','Opp', 'Location'])\n",
    "\n",
    "\n",
    "        data2 = data2.astype(float)\n",
    "\n",
    "        data2['eFG'] = (data2['FG'] + (0.5 * data2['3P'])) / data2['FGA']\n",
    "        data2['eFG.1'] = (data2[\"FG.1\"] + (0.5 * data2['3P.1'])) / data2['FGA.1']\n",
    "\n",
    "        data2['TOV%'] = (data2['TOV'] / (data2['FGA'] + (0.44 * data2['FTA']) + data2['TOV'])) * 100\n",
    "        data2['TOV%.1'] = (data2['TOV.1'] / (data2['FGA.1'] + (0.44 * data2['FTA.1']) + data2['TOV.1'])) * 100\n",
    "\n",
    "        data2['ORB%'] = (data2['ORB'])/((data2['ORB']) + (data2['TRB.1'] - data2['ORB.1']))\n",
    "        data2['ORB%.1'] = (data2['ORB.1'])/((data2['ORB.1']) + (data2['TRB'] - data2['ORB']))\n",
    "\n",
    "        data2['FT/FGA'] = data2['FT']/data2['FGA']\n",
    "        data2['FT/FGA.1'] = data2['FT.1']/data2['FGA.1']\n",
    "\n",
    "        data2['DRB%'] = (data2['TRB'] - data2['ORB'])/((data2['TRB'] - data2['ORB']) + (data2['ORB.1']))\n",
    "        data2['DRB%.1'] = (data2['TRB'] - data2['ORB'])/((data2['TRB'] - data2['ORB']) + (data2['ORB.1']))\n",
    "\n",
    "        data2['AST%'] = data2['AST'] / data2['FG']\n",
    "        data2['AST%.1'] = data2['AST.1'] / data2['FG.1']\n",
    "\n",
    "        data2['TS%'] = 0.5 * (data2['Tm'])/((data2['FGA']) + 0.44 * (data2['FTA']))\n",
    "        data2['TS%.1'] = 0.5 * (data2['Opp.1'])/((data2['FGA.1']) + 0.44 * (data2['FTA.1']))\n",
    "\n",
    "        data2['3PAr'] = data2['3PA'] / data2['FGA']\n",
    "        data2['3PAr.1'] = data2['3PA.1'] / data2['FGA.1']\n",
    "\n",
    "        data2['DRB'] = data2['TRB'] - data2['ORB']\n",
    "        data2['DRB.1'] = data2['TRB.1'] - data2['ORB.1']\n",
    "\n",
    "\n",
    "        data2['POSS'] = (data2['FGA'] - data2['ORB']) + data2['TOV'] + (0.44 * data2['FTA'])\n",
    "        data2['POSS.1'] = (data2['FGA.1'] - data2['ORB.1']) + data2['TOV.1'] + (0.44 * data2['FTA.1'])\n",
    "\n",
    "\n",
    "        data2['3PAr'] = data2['3PA'] / data2['FGA']                           \n",
    "        data2['3PAr.1'] = data2['3PA.1'] / data2['FGA.1']\n",
    "\n",
    "\n",
    "        data2['OffRt'] = (data2['Tm'] / data2['POSS']) * 100\n",
    "        data2['OffRt.1'] = (data2['Opp.1'] / data2['POSS.1']) * 100\n",
    "\n",
    "        data2['DefRt'] = (data2['Opp.1'] / data2['POSS']) * 100\n",
    "        data2['DefRt.1'] = (data2['Tm'] / data2['POSS.1']) * 100\n",
    "\n",
    "        data2 = data2[data2.columns.drop(list(data2.filter(regex='.1')))]       \n",
    "\n",
    "    #Creates a data2 frame with the means for each variable across all the games\n",
    "     #that school has played so far this season\n",
    "        team2 = pd.DataFrame(data2)\n",
    "        team2 = team2.astype(float)\\\n",
    "        .mul((np.arange(1, len(team2)+1, 1))/(len(team2)), axis = 0)\\\n",
    "        .sum()\\\n",
    "        .div(sum((np.arange(1, len(team2)+1, 1))/(len(team2))))\\\n",
    "        .to_frame()\\\n",
    "        .T\n",
    "\n",
    "        team2_keep = [var for var in team2.columns if var in fields_to_keep]\n",
    "        team2 = team2[team2_keep]\n",
    "        team2.columns = team2.columns + \".1\"\n",
    "\n",
    "    X_team_data = pd.concat([team1,team2], axis = 1)\n",
    "    \n",
    "#     X_team_data['Location_A'] = [1 if location == 'A' else 0]\n",
    "#     X_team_data['Location_H'] = [1 if location == 'H' else 0]\n",
    "#     X_team_data['Location_N'] = [1 if location == 'N' else 0]\n",
    "    \n",
    "    return(X_team_data)"
   ]
  },
  {
   "cell_type": "code",
   "execution_count": 872,
   "id": "7a2fdb9f",
   "metadata": {},
   "outputs": [
    {
     "data": {
      "text/html": [
       "<div>\n",
       "<style scoped>\n",
       "    .dataframe tbody tr th:only-of-type {\n",
       "        vertical-align: middle;\n",
       "    }\n",
       "\n",
       "    .dataframe tbody tr th {\n",
       "        vertical-align: top;\n",
       "    }\n",
       "\n",
       "    .dataframe thead th {\n",
       "        text-align: right;\n",
       "    }\n",
       "</style>\n",
       "<table border=\"1\" class=\"dataframe\">\n",
       "  <thead>\n",
       "    <tr style=\"text-align: right;\">\n",
       "      <th></th>\n",
       "      <th>eFG</th>\n",
       "      <th>TOV%</th>\n",
       "      <th>ORB%</th>\n",
       "      <th>FT/FGA</th>\n",
       "      <th>DRB%</th>\n",
       "      <th>eFG.1</th>\n",
       "      <th>TOV%.1</th>\n",
       "      <th>ORB%.1</th>\n",
       "      <th>FT/FGA.1</th>\n",
       "      <th>DRB%.1</th>\n",
       "    </tr>\n",
       "  </thead>\n",
       "  <tbody>\n",
       "    <tr>\n",
       "      <th>0</th>\n",
       "      <td>0.518852</td>\n",
       "      <td>14.676971</td>\n",
       "      <td>0.322634</td>\n",
       "      <td>0.257633</td>\n",
       "      <td>0.755244</td>\n",
       "      <td>0.518852</td>\n",
       "      <td>14.676971</td>\n",
       "      <td>0.322634</td>\n",
       "      <td>0.257633</td>\n",
       "      <td>0.755244</td>\n",
       "    </tr>\n",
       "  </tbody>\n",
       "</table>\n",
       "</div>"
      ],
      "text/plain": [
       "        eFG       TOV%      ORB%    FT/FGA      DRB%     eFG.1     TOV%.1  \\\n",
       "0  0.518852  14.676971  0.322634  0.257633  0.755244  0.518852  14.676971   \n",
       "\n",
       "     ORB%.1  FT/FGA.1    DRB%.1  \n",
       "0  0.322634  0.257633  0.755244  "
      ]
     },
     "execution_count": 872,
     "metadata": {},
     "output_type": "execute_result"
    }
   ],
   "source": [
    "new_data = create_matchup_data('alabama','alabama')\n",
    "new_data.head()"
   ]
  },
  {
   "cell_type": "code",
   "execution_count": 868,
   "id": "16c2b8ee",
   "metadata": {},
   "outputs": [],
   "source": [
    "new_data = new_data[X.columns]"
   ]
  },
  {
   "cell_type": "code",
   "execution_count": 869,
   "id": "bc7d7591",
   "metadata": {},
   "outputs": [],
   "source": [
    "#transforming test data using training means and standard deviations except dummy variables\n",
    "new_data_std = scaler.transform(new_data)"
   ]
  },
  {
   "cell_type": "code",
   "execution_count": 870,
   "id": "ca30d1ae",
   "metadata": {},
   "outputs": [
    {
     "data": {
      "text/plain": [
       "array([[ 0.10425549,  0.19663547, -0.1280358 , -0.19581928,  0.54277256,\n",
       "         0.16611779,  0.23342965,  0.26454196]])"
      ]
     },
     "execution_count": 870,
     "metadata": {},
     "output_type": "execute_result"
    }
   ],
   "source": [
    "new_data_std"
   ]
  },
  {
   "cell_type": "code",
   "execution_count": 871,
   "id": "858100ff",
   "metadata": {},
   "outputs": [
    {
     "data": {
      "text/plain": [
       "array([[0.1890641, 0.8109359]])"
      ]
     },
     "execution_count": 871,
     "metadata": {},
     "output_type": "execute_result"
    }
   ],
   "source": [
    "logreg.predict_proba(new_data_std)"
   ]
  },
  {
   "cell_type": "code",
   "execution_count": 866,
   "id": "01602e0d",
   "metadata": {},
   "outputs": [],
   "source": [
    "houst_opp = full_data[full_data['Team'] == 'houston']['Opp'].reset_index(drop = True)"
   ]
  },
  {
   "cell_type": "code",
   "execution_count": 795,
   "id": "1b2f4dcd",
   "metadata": {},
   "outputs": [],
   "source": [
    "houst_opp[1] = 'saint-josephs'\n",
    "houst_opp[7] = 'saint-marys-ca'\n",
    "houst_opp[14] = 'central-florida'\n",
    "\n",
    "houst_opp[15] = 'southern-methodist'\n",
    "houst_opp[20] = 'central-florida'\n",
    "houst_opp[25] = 'southern-methodist'"
   ]
  },
  {
   "cell_type": "code",
   "execution_count": 796,
   "id": "252987b4",
   "metadata": {},
   "outputs": [
    {
     "data": {
      "text/plain": [
       "0     northern-colorado\n",
       "1         saint-josephs\n",
       "2          oral-roberts\n",
       "3        texas-southern\n",
       "4                oregon\n",
       "            ...        \n",
       "32           cincinnati\n",
       "33              memphis\n",
       "34    northern-kentucky\n",
       "35               auburn\n",
       "36             miami-fl\n",
       "Name: Opp, Length: 37, dtype: object"
      ]
     },
     "execution_count": 796,
     "metadata": {},
     "output_type": "execute_result"
    }
   ],
   "source": [
    "houst_opp"
   ]
  },
  {
   "cell_type": "code",
   "execution_count": 806,
   "id": "06c995b8",
   "metadata": {},
   "outputs": [
    {
     "name": "stdout",
     "output_type": "stream",
     "text": [
      "0 northern-colorado\n",
      "1 saint-josephs\n",
      "2 oral-roberts\n",
      "3 texas-southern\n",
      "4 oregon\n",
      "5 kent-state\n",
      "6 norfolk-state\n",
      "7 saint-marys-ca\n",
      "8 north-florida\n",
      "9 alabama\n",
      "10 north-carolina-at\n",
      "11 virginia\n",
      "12 mcneese-state\n",
      "13 tulsa\n",
      "14 central-florida\n",
      "15 southern-methodist\n",
      "16 cincinnati\n",
      "17 south-florida\n",
      "18 tulane\n",
      "19 temple\n",
      "20 central-florida\n",
      "21 cincinnati\n",
      "22 wichita-state\n",
      "23 temple\n",
      "24 tulsa\n",
      "25 southern-methodist\n",
      "26 memphis\n",
      "27 tulane\n",
      "28 east-carolina\n",
      "29 wichita-state\n",
      "30 memphis\n",
      "31 east-carolina\n",
      "32 cincinnati\n",
      "33 memphis\n",
      "34 northern-kentucky\n",
      "35 auburn\n",
      "36 miami-fl\n"
     ]
    }
   ],
   "source": [
    "houst_data = []\n",
    "\n",
    "for i,index in zip(houst_opp,houst_opp.index):\n",
    "    print(index,i)\n",
    "    new = create_matchup_data('houston',i)\n",
    "    new = new[X.columns]\n",
    "    #new = np.array(new)\n",
    "    houst_data.append(new)"
   ]
  },
  {
   "cell_type": "code",
   "execution_count": 811,
   "id": "b31b2930",
   "metadata": {},
   "outputs": [],
   "source": [
    "houst_data = pd.concat(houst_data).reset_index(drop = True)"
   ]
  },
  {
   "cell_type": "code",
   "execution_count": 814,
   "id": "74016539",
   "metadata": {},
   "outputs": [],
   "source": [
    "houst_data_std = scaler.transform(houst_data)"
   ]
  },
  {
   "cell_type": "code",
   "execution_count": 822,
   "id": "03015467",
   "metadata": {},
   "outputs": [
    {
     "data": {
      "text/plain": [
       "array([[ 6.25289421e-02,  3.35076735e-01, -6.23661526e-01,\n",
       "        -3.32654482e-01,  7.94888446e-01,  1.83340343e-01,\n",
       "         3.00195776e-02,  7.00033502e-02],\n",
       "       [ 6.25289421e-02,  3.10873341e-02, -6.23661526e-01,\n",
       "        -1.47406940e-01,  7.94888446e-01,  1.83340343e-01,\n",
       "         3.00195776e-02,  1.76678694e-01],\n",
       "       [ 6.25289421e-02,  6.26344718e-01, -6.23661526e-01,\n",
       "        -9.70133535e-01,  7.94888446e-01,  1.83340343e-01,\n",
       "         3.00195776e-02, -2.21177547e-01],\n",
       "       [ 6.25289421e-02, -3.19894952e-01, -6.23661526e-01,\n",
       "         2.52482109e-01,  7.94888446e-01,  1.83340343e-01,\n",
       "         3.00195776e-02,  2.02292333e-01],\n",
       "       [ 6.25289421e-02,  1.35674942e-01, -6.23661526e-01,\n",
       "        -1.82651977e-01,  7.94888446e-01,  1.83340343e-01,\n",
       "         3.00195776e-02, -4.62535460e-02],\n",
       "       [ 6.25289421e-02,  1.70266147e-01, -6.23661526e-01,\n",
       "        -4.72874878e-01,  7.94888446e-01,  1.83340343e-01,\n",
       "         3.00195776e-02,  4.84117567e-02],\n",
       "       [ 6.25289421e-02,  2.81221581e-01, -6.23661526e-01,\n",
       "         9.92877299e-02,  7.94888446e-01,  1.83340343e-01,\n",
       "         3.00195776e-02,  8.91943016e-01],\n",
       "       [ 6.25289421e-02,  1.47580623e-01, -6.23661526e-01,\n",
       "        -5.65999048e-01,  7.94888446e-01,  1.83340343e-01,\n",
       "         3.00195776e-02,  1.99343556e-01],\n",
       "       [ 6.25289421e-02,  7.05623149e-01, -6.23661526e-01,\n",
       "        -2.87725416e-01,  7.94888446e-01,  1.83340343e-01,\n",
       "         3.00195776e-02, -3.30324535e-01],\n",
       "       [ 6.25289421e-02,  1.96635473e-01, -6.23661526e-01,\n",
       "        -1.95819277e-01,  7.94888446e-01,  1.83340343e-01,\n",
       "         3.00195776e-02,  2.64541961e-01],\n",
       "       [ 6.25289421e-02, -3.60827153e-01, -6.23661526e-01,\n",
       "        -3.38797386e-01,  7.94888446e-01,  1.83340343e-01,\n",
       "         3.00195776e-02, -8.85600733e-02],\n",
       "       [ 6.25289421e-02, -3.70591133e-02, -6.23661526e-01,\n",
       "        -9.03110698e-01,  7.94888446e-01,  1.83340343e-01,\n",
       "         3.00195776e-02, -3.12117120e-02],\n",
       "       [ 6.25289421e-02, -1.00266729e-01, -6.23661526e-01,\n",
       "         1.86632993e-01,  7.94888446e-01,  1.83340343e-01,\n",
       "         3.00195776e-02, -3.48554286e-02],\n",
       "       [ 6.25289421e-02, -4.19222917e-01, -6.23661526e-01,\n",
       "         7.35794938e-02,  7.94888446e-01,  1.83340343e-01,\n",
       "         3.00195776e-02, -3.78978052e-01],\n",
       "       [ 6.25289421e-02, -7.11918513e-04, -6.23661526e-01,\n",
       "        -8.55781923e-02,  7.94888446e-01,  1.83340343e-01,\n",
       "         3.00195776e-02,  4.63295098e-03],\n",
       "       [ 6.25289421e-02, -2.69430997e-01, -6.23661526e-01,\n",
       "        -6.68277609e-02,  7.94888446e-01,  1.83340343e-01,\n",
       "         3.00195776e-02,  6.18032295e-02],\n",
       "       [ 6.25289421e-02,  1.05929788e-01, -6.23661526e-01,\n",
       "        -6.35378142e-01,  7.94888446e-01,  1.83340343e-01,\n",
       "         3.00195776e-02, -3.10036891e-01],\n",
       "       [ 6.25289421e-02,  1.72013261e-01, -6.23661526e-01,\n",
       "         2.19164341e-01,  7.94888446e-01,  1.83340343e-01,\n",
       "         3.00195776e-02, -1.26580184e-01],\n",
       "       [ 6.25289421e-02,  1.75255333e-01, -6.23661526e-01,\n",
       "        -2.87305834e-01,  7.94888446e-01,  1.83340343e-01,\n",
       "         3.00195776e-02,  4.23266984e-01],\n",
       "       [ 6.25289421e-02, -5.90044760e-02, -6.23661526e-01,\n",
       "         2.30406248e-01,  7.94888446e-01,  1.83340343e-01,\n",
       "         3.00195776e-02,  2.66977399e-01],\n",
       "       [ 6.25289421e-02, -7.11918513e-04, -6.23661526e-01,\n",
       "        -8.55781923e-02,  7.94888446e-01,  1.83340343e-01,\n",
       "         3.00195776e-02,  4.63295098e-03],\n",
       "       [ 6.25289421e-02,  1.05929788e-01, -6.23661526e-01,\n",
       "        -6.35378142e-01,  7.94888446e-01,  1.83340343e-01,\n",
       "         3.00195776e-02, -3.10036891e-01],\n",
       "       [ 6.25289421e-02,  3.34600516e-01, -6.23661526e-01,\n",
       "         5.70088953e-02,  7.94888446e-01,  1.83340343e-01,\n",
       "         3.00195776e-02,  1.17371633e-01],\n",
       "       [ 6.25289421e-02, -5.90044760e-02, -6.23661526e-01,\n",
       "         2.30406248e-01,  7.94888446e-01,  1.83340343e-01,\n",
       "         3.00195776e-02,  2.66977399e-01],\n",
       "       [ 6.25289421e-02, -4.19222917e-01, -6.23661526e-01,\n",
       "         7.35794938e-02,  7.94888446e-01,  1.83340343e-01,\n",
       "         3.00195776e-02, -3.78978052e-01],\n",
       "       [ 6.25289421e-02, -2.69430997e-01, -6.23661526e-01,\n",
       "        -6.68277609e-02,  7.94888446e-01,  1.83340343e-01,\n",
       "         3.00195776e-02,  6.18032295e-02],\n",
       "       [ 6.25289421e-02,  4.25959821e-01, -6.23661526e-01,\n",
       "         2.80093954e-02,  7.94888446e-01,  1.83340343e-01,\n",
       "         3.00195776e-02,  4.00697761e-01],\n",
       "       [ 6.25289421e-02,  1.75255333e-01, -6.23661526e-01,\n",
       "        -2.87305834e-01,  7.94888446e-01,  1.83340343e-01,\n",
       "         3.00195776e-02,  4.23266984e-01],\n",
       "       [ 6.25289421e-02, -4.77421207e-01, -6.23661526e-01,\n",
       "         1.53690967e-01,  7.94888446e-01,  1.83340343e-01,\n",
       "         3.00195776e-02,  2.39972046e-01],\n",
       "       [ 6.25289421e-02,  3.34600516e-01, -6.23661526e-01,\n",
       "         5.70088953e-02,  7.94888446e-01,  1.83340343e-01,\n",
       "         3.00195776e-02,  1.17371633e-01],\n",
       "       [ 6.25289421e-02,  4.25959821e-01, -6.23661526e-01,\n",
       "         2.80093954e-02,  7.94888446e-01,  1.83340343e-01,\n",
       "         3.00195776e-02,  4.00697761e-01],\n",
       "       [ 6.25289421e-02, -4.77421207e-01, -6.23661526e-01,\n",
       "         1.53690967e-01,  7.94888446e-01,  1.83340343e-01,\n",
       "         3.00195776e-02,  2.39972046e-01],\n",
       "       [ 6.25289421e-02,  1.05929788e-01, -6.23661526e-01,\n",
       "        -6.35378142e-01,  7.94888446e-01,  1.83340343e-01,\n",
       "         3.00195776e-02, -3.10036891e-01],\n",
       "       [ 6.25289421e-02,  4.25959821e-01, -6.23661526e-01,\n",
       "         2.80093954e-02,  7.94888446e-01,  1.83340343e-01,\n",
       "         3.00195776e-02,  4.00697761e-01],\n",
       "       [ 6.25289421e-02,  6.21594128e-02, -6.23661526e-01,\n",
       "        -4.23826602e-01,  7.94888446e-01,  1.83340343e-01,\n",
       "         3.00195776e-02, -2.36747727e-01],\n",
       "       [ 6.25289421e-02, -4.88531853e-02, -6.23661526e-01,\n",
       "        -3.64169732e-01,  7.94888446e-01,  1.83340343e-01,\n",
       "         3.00195776e-02,  2.82793863e-01],\n",
       "       [ 6.25289421e-02,  4.66437557e-01, -6.23661526e-01,\n",
       "        -4.67044960e-01,  7.94888446e-01,  1.83340343e-01,\n",
       "         3.00195776e-02,  2.83034908e-01]])"
      ]
     },
     "execution_count": 822,
     "metadata": {},
     "output_type": "execute_result"
    }
   ],
   "source": [
    "houst_data_std"
   ]
  },
  {
   "cell_type": "code",
   "execution_count": 821,
   "id": "0ca6a96a",
   "metadata": {},
   "outputs": [
    {
     "data": {
      "text/plain": [
       "array([[1.22852576e-01, 8.77147424e-01],\n",
       "       [1.73991359e-02, 9.82600864e-01],\n",
       "       [7.47969286e-01, 2.52030714e-01],\n",
       "       [7.69113537e-04, 9.99230886e-01],\n",
       "       [2.30576538e-02, 9.76942346e-01],\n",
       "       [7.64940792e-02, 9.23505921e-01],\n",
       "       [1.08416098e-01, 8.91583902e-01],\n",
       "       [1.13225185e-01, 8.86774815e-01],\n",
       "       [3.17485054e-01, 6.82514946e-01],\n",
       "       [5.70576258e-02, 9.42942374e-01],\n",
       "       [2.22445215e-03, 9.97775548e-01],\n",
       "       [7.82400521e-02, 9.21759948e-01],\n",
       "       [2.07935208e-03, 9.97920648e-01],\n",
       "       [2.68290801e-04, 9.99731709e-01],\n",
       "       [8.90915597e-03, 9.91090844e-01],\n",
       "       [2.10489282e-03, 9.97895107e-01],\n",
       "       [4.75372870e-02, 9.52462713e-01],\n",
       "       [7.21613269e-03, 9.92783867e-01],\n",
       "       [8.66000628e-02, 9.13399937e-01],\n",
       "       [3.93881806e-03, 9.96061182e-01],\n",
       "       [8.90915597e-03, 9.91090844e-01],\n",
       "       [4.75372870e-02, 9.52462713e-01],\n",
       "       [4.39332748e-02, 9.56066725e-01],\n",
       "       [3.93881806e-03, 9.96061182e-01],\n",
       "       [2.68290801e-04, 9.99731709e-01],\n",
       "       [2.10489282e-03, 9.97895107e-01],\n",
       "       [1.22334561e-01, 8.77665439e-01],\n",
       "       [8.66000628e-02, 9.13399937e-01],\n",
       "       [4.64346561e-04, 9.99535653e-01],\n",
       "       [4.39332748e-02, 9.56066725e-01],\n",
       "       [1.22334561e-01, 8.77665439e-01],\n",
       "       [4.64346561e-04, 9.99535653e-01],\n",
       "       [4.75372870e-02, 9.52462713e-01],\n",
       "       [1.22334561e-01, 8.77665439e-01],\n",
       "       [2.27821056e-02, 9.77217894e-01],\n",
       "       [2.60659668e-02, 9.73934033e-01],\n",
       "       [3.92543181e-01, 6.07456819e-01]])"
      ]
     },
     "execution_count": 821,
     "metadata": {},
     "output_type": "execute_result"
    }
   ],
   "source": [
    "logreg.predict_proba(houst_data_std)"
   ]
  },
  {
   "cell_type": "markdown",
   "id": "d9a9bbb6",
   "metadata": {},
   "source": [
    "## STOP HERE!!!"
   ]
  },
  {
   "cell_type": "code",
   "execution_count": null,
   "id": "27ea6e14",
   "metadata": {},
   "outputs": [],
   "source": []
  },
  {
   "cell_type": "code",
   "execution_count": null,
   "id": "81fd31db",
   "metadata": {},
   "outputs": [],
   "source": []
  },
  {
   "cell_type": "code",
   "execution_count": null,
   "id": "8eca1e5d",
   "metadata": {},
   "outputs": [],
   "source": []
  },
  {
   "cell_type": "code",
   "execution_count": null,
   "id": "bc60fb74",
   "metadata": {},
   "outputs": [],
   "source": []
  },
  {
   "cell_type": "code",
   "execution_count": null,
   "id": "ac452384",
   "metadata": {},
   "outputs": [],
   "source": []
  },
  {
   "cell_type": "code",
   "execution_count": null,
   "id": "19073254",
   "metadata": {},
   "outputs": [],
   "source": []
  },
  {
   "cell_type": "code",
   "execution_count": null,
   "id": "423d3b2f",
   "metadata": {},
   "outputs": [],
   "source": []
  },
  {
   "cell_type": "code",
   "execution_count": null,
   "id": "229f9e61",
   "metadata": {},
   "outputs": [],
   "source": []
  },
  {
   "cell_type": "code",
   "execution_count": null,
   "id": "1e86bfcc",
   "metadata": {},
   "outputs": [],
   "source": []
  },
  {
   "cell_type": "code",
   "execution_count": null,
   "id": "0ab9d0bf",
   "metadata": {},
   "outputs": [],
   "source": []
  },
  {
   "cell_type": "code",
   "execution_count": null,
   "id": "ea1b0ce2",
   "metadata": {},
   "outputs": [],
   "source": []
  },
  {
   "cell_type": "code",
   "execution_count": 634,
   "id": "eccf709a",
   "metadata": {},
   "outputs": [],
   "source": [
    "\n",
    "\n",
    "def predict_scores(first_team = \"wisconsin\", second_team = 'texas-christian'):\n",
    "    \n",
    "    teams1 = [first_team]\n",
    "    #pull data from school url pages\n",
    "    for name in teams1:\n",
    "\n",
    "\n",
    "        with open(\"College Data/Schools/{}.html\".format(name)) as f:\n",
    "            page2 = f.read()\n",
    "\n",
    "        soup = BeautifulSoup(page2, \"html.parser\")\n",
    "        soup.find('tr', class_=\"over_header\").decompose()\n",
    "        stats_table = soup.find(id=\"div_sgl-basic_NCAAM\")\n",
    "        data = pd.read_html(str(stats_table))[0]\n",
    "\n",
    "        data.drop(data[(data['FG%'] == \"School\") | (data['FG%'] == \"FG%\")].index, inplace=True)\n",
    "        data['Unnamed: 2'] = data['Unnamed: 2'].replace(\"@\",\"A\").fillna(\"H\")\n",
    "        data = data.drop(columns = [\"Unnamed: 23\"]).dropna()\n",
    "        data = data.drop(columns = [\"W/L\",\"G\",\"Date\",\"Unnamed: 2\", \"Opp\"])\n",
    "        \n",
    "\n",
    "        data = data.astype(float)\n",
    "\n",
    "        data['eFG'] = (data['FG'] + (0.5 * data['3P'])) / data['FGA']\n",
    "        data['eFG.1'] = (data[\"FG.1\"] + (0.5 * data['3P.1'])) / data['FGA.1']\n",
    "\n",
    "        data['TOV%'] = (data['TOV'] / (data['FGA'] + (0.44 * data['FTA']) + data['TOV'])) * 100\n",
    "        data['TOV%.1'] = (data['TOV.1'] / (data['FGA.1'] + (0.44 * data['FTA.1']) + data['TOV.1'])) * 100\n",
    "\n",
    "        data['ORB%'] = (data['ORB'])/((data['ORB']) + (data['TRB.1'] - data['ORB.1']))\n",
    "        data['ORB%.1'] = (data['ORB.1'])/((data['ORB.1']) + (data['TRB'] - data['ORB']))\n",
    "\n",
    "        data['FT/FGA'] = data['FT']/data['FGA']\n",
    "        data['FT/FGA.1'] = data['FT.1']/data['FGA.1']\n",
    "\n",
    "        data['DRB%'] = (data['TRB'] - data['ORB'])/((data['TRB'] - data['ORB']) + (data['ORB.1']))\n",
    "        data['DRB%.1'] = (data['TRB'] - data['ORB'])/((data['TRB'] - data['ORB']) + (data['ORB.1']))\n",
    "\n",
    "        data['AST%'] = data['AST'] / data['FG']\n",
    "        data['AST%.1'] = data['AST.1'] / data['FG.1']\n",
    "\n",
    "        data['TS%'] = 0.5 * (data['Tm'])/((data['FGA']) + 0.44 * (data['FTA']))\n",
    "        data['TS%.1'] = 0.5 * (data['Opp.1'])/((data['FGA.1']) + 0.44 * (data['FTA.1']))\n",
    "\n",
    "        data['3PAr'] = data['3PA'] / data['FGA']\n",
    "        data['3PAr.1'] = data['3PA.1'] / data['FGA.1']\n",
    "\n",
    "        data['DRB'] = data['TRB'] - data['ORB']\n",
    "        data['DRB.1'] = data['TRB.1'] - data['ORB.1']\n",
    "\n",
    "\n",
    "        data['POSS'] = (data['FGA'] - data['ORB']) + data['TOV'] + (0.44 * data['FTA'])\n",
    "        data['POSS.1'] = (data['FGA.1'] - data['ORB.1']) + data['TOV.1'] + (0.44 * data['FTA.1'])\n",
    "\n",
    "\n",
    "        data['3PAr'] = data['3PA'] / data['FGA']                           \n",
    "        data['3PAr.1'] = data['3PA.1'] / data['FGA.1']\n",
    "\n",
    "\n",
    "        data['OffRt'] = (data['Tm'] / data['POSS']) * 100\n",
    "        data['OffRt.1'] = (data['Opp.1'] / data['POSS.1']) * 100\n",
    "\n",
    "        data['DefRt'] = (data['Opp.1'] / data['POSS']) * 100\n",
    "        data['DefRt.1'] = (data['Tm'] / data['POSS.1']) * 100\n",
    "        \n",
    "        data = data[data.columns.drop(list(data.filter(regex='.1')))]       \n",
    "\n",
    "    #Creates a data frame with the means for each variable across all the games\n",
    "     #that school has played so far this season\n",
    "        team1 = pd.DataFrame(data)\n",
    "        team1 = team1.astype(float)\\\n",
    "        .mul((np.arange(1, len(team1)+1, 1))/(len(team1)), axis = 0)\\\n",
    "        .sum()\\\n",
    "        .div(sum((np.arange(1, len(team1)+1, 1))/(len(team1))))\\\n",
    "        .to_frame()\\\n",
    "        .T\n",
    "        \n",
    "        team1 = team1.drop(columns = [\"Tm\", \"FG\", \"FGA\", \"3P\", \"3PA\", \"FT\", \"FTA\"])\n",
    "        \n",
    "    teams2 = [second_team]\n",
    "\n",
    "    for name in teams2:\n",
    "\n",
    "\n",
    "        with open(\"College data/Schools/{}.html\".format(name)) as f:\n",
    "            page2 = f.read()\n",
    "\n",
    "        soup = BeautifulSoup(page2, \"html.parser\")\n",
    "        soup.find('tr', class_=\"over_header\").decompose()\n",
    "        stats_table = soup.find(id=\"div_sgl-basic_NCAAM\")\n",
    "        data2 = pd.read_html(str(stats_table))[0]\n",
    "\n",
    "        data2.drop(data2[(data2['FG%'] == \"School\") | (data2['FG%'] == \"FG%\")].index, inplace=True)\n",
    "        data2['Unnamed: 2'] = data2['Unnamed: 2'].replace(\"@\",\"A\").fillna(\"H\")\n",
    "#        data2 = data2[data2.columns.drop(list(data2.filter(regex='.1')))]\n",
    "        data2 = data2.drop(columns = [\"Unnamed: 23\"]).dropna()\n",
    "        data2 = data2.drop(columns = [\"W/L\",\"G\",\"Date\",\"Unnamed: 2\", \"Opp\"])\n",
    "        \n",
    "\n",
    "        data2 = data2.astype(float)\n",
    "\n",
    "        data2['eFG'] = (data2['FG'] + (0.5 * data2['3P'])) / data2['FGA']\n",
    "        data2['eFG.1'] = (data2[\"FG.1\"] + (0.5 * data2['3P.1'])) / data2['FGA.1']\n",
    "\n",
    "        data2['TOV%'] = (data2['TOV'] / (data2['FGA'] + (0.44 * data2['FTA']) + data2['TOV'])) * 100\n",
    "        data2['TOV%.1'] = (data2['TOV.1'] / (data2['FGA.1'] + (0.44 * data2['FTA.1']) + data2['TOV.1'])) * 100\n",
    "\n",
    "        data2['ORB%'] = (data2['ORB'])/((data2['ORB']) + (data2['TRB.1'] - data2['ORB.1']))\n",
    "        data2['ORB%.1'] = (data2['ORB.1'])/((data2['ORB.1']) + (data2['TRB'] - data2['ORB']))\n",
    "\n",
    "        data2['FT/FGA'] = data2['FT']/data2['FGA']\n",
    "        data2['FT/FGA.1'] = data2['FT.1']/data2['FGA.1']\n",
    "\n",
    "        data2['DRB%'] = (data2['TRB'] - data2['ORB'])/((data2['TRB'] - data2['ORB']) + (data2['ORB.1']))\n",
    "        data2['DRB%.1'] = (data2['TRB'] - data2['ORB'])/((data2['TRB'] - data2['ORB']) + (data2['ORB.1']))\n",
    "\n",
    "        data2['AST%'] = data2['AST'] / data2['FG']\n",
    "        data2['AST%.1'] = data2['AST.1'] / data2['FG.1']\n",
    "\n",
    "        data2['TS%'] = 0.5 * (data2['Tm'])/((data2['FGA']) + 0.44 * (data2['FTA']))\n",
    "        data2['TS%.1'] = 0.5 * (data2['Opp.1'])/((data2['FGA.1']) + 0.44 * (data2['FTA.1']))\n",
    "\n",
    "        data2['3PAr'] = data2['3PA'] / data2['FGA']\n",
    "        data2['3PAr.1'] = data2['3PA.1'] / data2['FGA.1']\n",
    "\n",
    "        data2['DRB'] = data2['TRB'] - data2['ORB']\n",
    "        data2['DRB.1'] = data2['TRB.1'] - data2['ORB.1']\n",
    "\n",
    "\n",
    "        data2['POSS'] = (data2['FGA'] - data2['ORB']) + data2['TOV'] + (0.44 * data2['FTA'])\n",
    "        data2['POSS.1'] = (data2['FGA.1'] - data2['ORB.1']) + data2['TOV.1'] + (0.44 * data2['FTA.1'])\n",
    "\n",
    "\n",
    "        data2['3PAr'] = data2['3PA'] / data2['FGA']                           \n",
    "        data2['3PAr.1'] = data2['3PA.1'] / data2['FGA.1']\n",
    "\n",
    "\n",
    "        data2['OffRt'] = (data2['Tm'] / data2['POSS']) * 100\n",
    "        data2['OffRt.1'] = (data2['Opp.1'] / data2['POSS.1']) * 100\n",
    "\n",
    "        data2['DefRt'] = (data2['Opp.1'] / data2['POSS']) * 100\n",
    "        data2['DefRt.1'] = (data2['Tm'] / data2['POSS.1']) * 100\n",
    "        \n",
    "        data2 = data2[data2.columns.drop(list(data2.filter(regex='.1')))]       \n",
    "\n",
    "    #Creates a data2 frame with the means for each variable across all the games\n",
    "     #that school has played so far this season\n",
    "        team2 = pd.DataFrame(data2)\n",
    "        team2 = team2.astype(float)\\\n",
    "        .mul((np.arange(1, len(team2)+1, 1))/(len(team2)), axis = 0)\\\n",
    "        .sum()\\\n",
    "        .div(sum((np.arange(1, len(team2)+1, 1))/(len(team2))))\\\n",
    "        .to_frame()\\\n",
    "        .T\n",
    "        \n",
    "        team2 = team2.drop(columns = [\"Tm\", \"FG\", \"FGA\", \"3P\", \"3PA\", \"FT\", \"FTA\"])\n",
    "        \n",
    "        team2.columns = team2.columns + \".1\"\n",
    "        \n",
    "    #combine school data into a single row\n",
    "    X_team_data = pd.concat([team1,team2], axis = 1)\n",
    "    \n",
    "    X_team_data = X_team_data[X_train.columns.tolist()]\n",
    "    \n",
    "    \n",
    "    #predict scores for each school using all three models\n",
    "    reg_pred = reg.predict(X_team_data)\n",
    "    rf_pred = best_rf.predict(X_team_data)\n",
    "    gbr_pred = gbr.predict(X_team_data)\n",
    "    \n",
    "    #create MSE scores\n",
    "    reg_MSE = np.mean((reg_pred - y_test) ** 2)\n",
    "    rf_MSE = np.mean((rf_pred - y_test) ** 2)\n",
    "    gbr_MSE = np.mean((gbr_pred - y_test) ** 2)\n",
    "    \n",
    "    #weight and combine results for all three models\n",
    "    weighted_pred = ((reg_pred*(1/reg_MSE)) + (rf_pred*(1/rf_MSE)) + (gbr_pred*(1/gbr_MSE))) / ((1/reg_MSE) + (1/rf_MSE) + (1/gbr_MSE))\n",
    "    weighted_pred = weighted_pred.round(0).astype(int)\n",
    "    \n",
    "    #create data frame with column labels for output\n",
    "    result = pd.DataFrame(weighted_pred, columns = [first_team,second_team])\n",
    "    #output results\n",
    "    return(result)\n",
    "    "
   ]
  },
  {
   "cell_type": "code",
   "execution_count": null,
   "id": "2f0fa959",
   "metadata": {},
   "outputs": [],
   "source": []
  },
  {
   "cell_type": "code",
   "execution_count": null,
   "id": "f3def10c",
   "metadata": {},
   "outputs": [],
   "source": []
  },
  {
   "cell_type": "code",
   "execution_count": null,
   "id": "63f325fa",
   "metadata": {},
   "outputs": [],
   "source": []
  },
  {
   "cell_type": "code",
   "execution_count": null,
   "id": "2386e619",
   "metadata": {},
   "outputs": [],
   "source": []
  },
  {
   "cell_type": "code",
   "execution_count": null,
   "id": "5444f4ff",
   "metadata": {},
   "outputs": [],
   "source": []
  },
  {
   "cell_type": "code",
   "execution_count": null,
   "id": "628eac28",
   "metadata": {},
   "outputs": [],
   "source": []
  },
  {
   "cell_type": "code",
   "execution_count": null,
   "id": "8b3696b3",
   "metadata": {},
   "outputs": [],
   "source": []
  },
  {
   "cell_type": "code",
   "execution_count": null,
   "id": "df2bb28d",
   "metadata": {},
   "outputs": [],
   "source": []
  },
  {
   "cell_type": "code",
   "execution_count": null,
   "id": "d87b9c6d",
   "metadata": {},
   "outputs": [],
   "source": []
  },
  {
   "cell_type": "code",
   "execution_count": null,
   "id": "3f11a770",
   "metadata": {},
   "outputs": [],
   "source": []
  },
  {
   "cell_type": "code",
   "execution_count": null,
   "id": "094a5b3d",
   "metadata": {},
   "outputs": [],
   "source": []
  },
  {
   "cell_type": "code",
   "execution_count": 3,
   "id": "39d73707",
   "metadata": {},
   "outputs": [
    {
     "ename": "NameError",
     "evalue": "name 'X_train' is not defined",
     "output_type": "error",
     "traceback": [
      "\u001b[0;31m---------------------------------------------------------------------------\u001b[0m",
      "\u001b[0;31mNameError\u001b[0m                                 Traceback (most recent call last)",
      "\u001b[0;32m/var/folders/9y/pc8nlck558b1pf4sh_3_bh1h0000gn/T/ipykernel_5727/3970158796.py\u001b[0m in \u001b[0;36m<module>\u001b[0;34m\u001b[0m\n\u001b[1;32m      1\u001b[0m \u001b[0;31m#create and fit a random forest regression model on training data\u001b[0m\u001b[0;34m\u001b[0m\u001b[0;34m\u001b[0m\u001b[0;34m\u001b[0m\u001b[0m\n\u001b[1;32m      2\u001b[0m \u001b[0mrf\u001b[0m \u001b[0;34m=\u001b[0m \u001b[0mRandomForestRegressor\u001b[0m\u001b[0;34m(\u001b[0m\u001b[0mrandom_state\u001b[0m \u001b[0;34m=\u001b[0m \u001b[0;36m42\u001b[0m\u001b[0;34m)\u001b[0m\u001b[0;34m\u001b[0m\u001b[0;34m\u001b[0m\u001b[0m\n\u001b[0;32m----> 3\u001b[0;31m \u001b[0mrf\u001b[0m\u001b[0;34m.\u001b[0m\u001b[0mfit\u001b[0m\u001b[0;34m(\u001b[0m\u001b[0mX_train\u001b[0m\u001b[0;34m,\u001b[0m \u001b[0my_train\u001b[0m\u001b[0;34m)\u001b[0m\u001b[0;34m\u001b[0m\u001b[0;34m\u001b[0m\u001b[0m\n\u001b[0m",
      "\u001b[0;31mNameError\u001b[0m: name 'X_train' is not defined"
     ]
    }
   ],
   "source": [
    "#create and fit a random forest regression model on training data\n",
    "rf = RandomForestRegressor(random_state = 42)\n",
    "rf.fit(X_train, y_train)"
   ]
  },
  {
   "cell_type": "code",
   "execution_count": null,
   "id": "edfaeee7",
   "metadata": {},
   "outputs": [],
   "source": [
    "# get importance\n",
    "importance = rf.feature_importances_\n",
    "# summarize feature importance\n",
    "for i,v in enumerate(importance):\n",
    " print('Feature: %0d, Score: %.5f' % (i,v))\n",
    "# plot feature importance\n",
    "plt.barh(X.columns, rf.feature_importances_)"
   ]
  },
  {
   "cell_type": "code",
   "execution_count": 4,
   "id": "24b9131b",
   "metadata": {},
   "outputs": [
    {
     "ename": "NameError",
     "evalue": "name 'X' is not defined",
     "output_type": "error",
     "traceback": [
      "\u001b[0;31m---------------------------------------------------------------------------\u001b[0m",
      "\u001b[0;31mNameError\u001b[0m                                 Traceback (most recent call last)",
      "\u001b[0;32m/var/folders/9y/pc8nlck558b1pf4sh_3_bh1h0000gn/T/ipykernel_5727/460773467.py\u001b[0m in \u001b[0;36m<module>\u001b[0;34m\u001b[0m\n\u001b[0;32m----> 1\u001b[0;31m \u001b[0mX\u001b[0m\u001b[0;34m.\u001b[0m\u001b[0mcolumns\u001b[0m\u001b[0;34m\u001b[0m\u001b[0;34m\u001b[0m\u001b[0m\n\u001b[0m",
      "\u001b[0;31mNameError\u001b[0m: name 'X' is not defined"
     ]
    }
   ],
   "source": [
    "X.columns"
   ]
  },
  {
   "cell_type": "code",
   "execution_count": 13,
   "id": "de3125fd",
   "metadata": {},
   "outputs": [
    {
     "name": "stdout",
     "output_type": "stream",
     "text": [
      "Parameters currently in use:\n",
      "\n",
      "{'bootstrap': True,\n",
      " 'ccp_alpha': 0.0,\n",
      " 'criterion': 'squared_error',\n",
      " 'max_depth': None,\n",
      " 'max_features': 1.0,\n",
      " 'max_leaf_nodes': None,\n",
      " 'max_samples': None,\n",
      " 'min_impurity_decrease': 0.0,\n",
      " 'min_samples_leaf': 1,\n",
      " 'min_samples_split': 2,\n",
      " 'min_weight_fraction_leaf': 0.0,\n",
      " 'n_estimators': 100,\n",
      " 'n_jobs': None,\n",
      " 'oob_score': False,\n",
      " 'random_state': 42,\n",
      " 'verbose': 0,\n",
      " 'warm_start': False}\n"
     ]
    }
   ],
   "source": [
    "#investigate random forest regressor function base arguments/hyperparamters\n",
    "print('Parameters currently in use:\\n')\n",
    "pprint(rf.get_params())"
   ]
  },
  {
   "cell_type": "code",
   "execution_count": 14,
   "id": "8246c377",
   "metadata": {},
   "outputs": [
    {
     "name": "stdout",
     "output_type": "stream",
     "text": [
      "{'bootstrap': [True, False],\n",
      " 'max_depth': [10, 20, 30, 40, 50, 60, 70, 80, 90, 100, 110, None],\n",
      " 'max_features': ['log2', 'sqrt', 1.0],\n",
      " 'min_samples_leaf': [1, 2, 4],\n",
      " 'min_samples_split': [2, 5, 10],\n",
      " 'n_estimators': [100, 200, 300, 400, 500, 600, 700, 800, 900, 1000]}\n"
     ]
    }
   ],
   "source": [
    "#create a grid of randomly sampled values for hyperparameters\n",
    "# Number of trees in random forest\n",
    "n_estimators = [int(x) for x in np.linspace(start = 100,\n",
    "                                            stop = 1000,\n",
    "                                            num = 10)]\n",
    "# Number of features to consider at every split\n",
    "max_features = ['log2','sqrt',1.0]\n",
    "# Maximum number of levels in tree\n",
    "max_depth = [int(x) for x in np.linspace(10,\n",
    "                                         110,\n",
    "                                         num = 11)]\n",
    "max_depth.append(None)\n",
    "# Minimum number of samples required to split a node\n",
    "min_samples_split = [2, 5, 10]\n",
    "# Minimum number of samples required at each leaf node\n",
    "min_samples_leaf = [1, 2, 4]\n",
    "# Method of selecting samples for training each tree\n",
    "bootstrap = [True, False]\n",
    "# Create the random grid\n",
    "random_grid = {'n_estimators': n_estimators,\n",
    "               'max_features': max_features,\n",
    "               'max_depth': max_depth,\n",
    "               'min_samples_split': min_samples_split,\n",
    "               'min_samples_leaf': min_samples_leaf,\n",
    "               'bootstrap': bootstrap}\n",
    "pprint(random_grid)"
   ]
  },
  {
   "cell_type": "code",
   "execution_count": 15,
   "id": "e859192e",
   "metadata": {},
   "outputs": [],
   "source": [
    "#create a model for each of the randomly selected sets of model hyperparameters\n",
    "rf_random = RandomizedSearchCV(estimator = rf, param_distributions = random_grid,\n",
    "                               n_iter = 100, cv = 5, verbose=3,\n",
    "                               random_state=42, n_jobs = -1)"
   ]
  },
  {
   "cell_type": "code",
   "execution_count": 16,
   "id": "a3e1acca",
   "metadata": {},
   "outputs": [
    {
     "name": "stdout",
     "output_type": "stream",
     "text": [
      "Fitting 5 folds for each of 100 candidates, totalling 500 fits\n",
      "[CV 3/5] END bootstrap=False, max_depth=20, max_features=log2, min_samples_leaf=2, min_samples_split=5, n_estimators=900;, score=0.953 total time=  32.1s\n",
      "[CV 4/5] END bootstrap=True, max_depth=80, max_features=1.0, min_samples_leaf=4, min_samples_split=2, n_estimators=200;, score=0.986 total time=  28.7s\n",
      "[CV 2/5] END bootstrap=False, max_depth=10, max_features=sqrt, min_samples_leaf=2, min_samples_split=2, n_estimators=200;, score=0.953 total time=   6.5s\n",
      "[CV 4/5] END bootstrap=False, max_depth=10, max_features=sqrt, min_samples_leaf=2, min_samples_split=2, n_estimators=200;, score=0.951 total time=   6.4s\n",
      "[CV 3/5] END bootstrap=True, max_depth=None, max_features=log2, min_samples_leaf=2, min_samples_split=10, n_estimators=600;, score=0.941 total time=  12.0s\n",
      "[CV 1/5] END bootstrap=True, max_depth=60, max_features=log2, min_samples_leaf=1, min_samples_split=2, n_estimators=800;, score=0.952 total time=  21.5s\n"
     ]
    },
    {
     "name": "stderr",
     "output_type": "stream",
     "text": [
      "/Users/piercecappelli/opt/anaconda3/lib/python3.8/site-packages/joblib/externals/loky/process_executor.py:700: UserWarning: A worker stopped while some jobs were given to the executor. This can be caused by a too short worker timeout or by a memory leak.\n",
      "  warnings.warn(\n"
     ]
    },
    {
     "name": "stdout",
     "output_type": "stream",
     "text": [
      "[CV 4/5] END bootstrap=False, max_depth=20, max_features=log2, min_samples_leaf=2, min_samples_split=5, n_estimators=900;, score=0.956 total time=  32.1s\n",
      "[CV 5/5] END bootstrap=True, max_depth=80, max_features=1.0, min_samples_leaf=4, min_samples_split=2, n_estimators=200;, score=0.985 total time=  28.9s\n",
      "[CV 3/5] END bootstrap=False, max_depth=10, max_features=sqrt, min_samples_leaf=2, min_samples_split=2, n_estimators=200;, score=0.948 total time=   6.6s\n",
      "[CV 1/5] END bootstrap=True, max_depth=None, max_features=log2, min_samples_leaf=2, min_samples_split=10, n_estimators=600;, score=0.945 total time=  11.6s\n",
      "[CV 4/5] END bootstrap=True, max_depth=None, max_features=log2, min_samples_leaf=2, min_samples_split=10, n_estimators=600;, score=0.942 total time=  12.4s\n",
      "[CV 2/5] END bootstrap=True, max_depth=60, max_features=log2, min_samples_leaf=1, min_samples_split=2, n_estimators=800;, score=0.953 total time=  21.5s\n",
      "[CV 2/5] END bootstrap=False, max_depth=20, max_features=log2, min_samples_leaf=2, min_samples_split=5, n_estimators=900;, score=0.959 total time=  31.9s\n",
      "[CV 3/5] END bootstrap=True, max_depth=80, max_features=1.0, min_samples_leaf=4, min_samples_split=2, n_estimators=200;, score=0.984 total time=  28.8s\n",
      "[CV 1/5] END bootstrap=False, max_depth=10, max_features=sqrt, min_samples_leaf=2, min_samples_split=2, n_estimators=200;, score=0.951 total time=   6.6s\n",
      "[CV 5/5] END bootstrap=False, max_depth=10, max_features=sqrt, min_samples_leaf=2, min_samples_split=2, n_estimators=200;, score=0.949 total time=   6.3s\n",
      "[CV 2/5] END bootstrap=True, max_depth=None, max_features=log2, min_samples_leaf=2, min_samples_split=10, n_estimators=600;, score=0.947 total time=  11.9s\n",
      "[CV 5/5] END bootstrap=True, max_depth=None, max_features=log2, min_samples_leaf=2, min_samples_split=10, n_estimators=600;, score=0.942 total time=  12.2s\n",
      "[CV 3/5] END bootstrap=True, max_depth=60, max_features=log2, min_samples_leaf=1, min_samples_split=2, n_estimators=800;, score=0.948 total time=  21.5s\n",
      "[CV 2/5] END bootstrap=False, max_depth=30, max_features=sqrt, min_samples_leaf=2, min_samples_split=2, n_estimators=400;, score=0.966 total time=  16.3s\n",
      "[CV 4/5] END bootstrap=False, max_depth=30, max_features=sqrt, min_samples_leaf=2, min_samples_split=2, n_estimators=400;, score=0.964 total time=  17.2s\n",
      "[CV 2/5] END bootstrap=True, max_depth=20, max_features=log2, min_samples_leaf=4, min_samples_split=10, n_estimators=200;, score=0.942 total time=   4.3s\n",
      "[CV 1/5] END bootstrap=False, max_depth=10, max_features=1.0, min_samples_leaf=1, min_samples_split=2, n_estimators=300;, score=0.957 total time= 1.1min\n",
      "[CV 4/5] END bootstrap=True, max_depth=60, max_features=log2, min_samples_leaf=1, min_samples_split=2, n_estimators=800;, score=0.950 total time=  21.0s\n",
      "[CV 1/5] END bootstrap=False, max_depth=20, max_features=log2, min_samples_leaf=2, min_samples_split=5, n_estimators=900;, score=0.958 total time=  32.4s\n",
      "[CV 1/5] END bootstrap=True, max_depth=20, max_features=log2, min_samples_leaf=4, min_samples_split=10, n_estimators=200;, score=0.941 total time=   4.1s\n",
      "[CV 4/5] END bootstrap=True, max_depth=20, max_features=log2, min_samples_leaf=4, min_samples_split=10, n_estimators=200;, score=0.938 total time=   4.9s\n",
      "[CV 2/5] END bootstrap=False, max_depth=10, max_features=1.0, min_samples_leaf=1, min_samples_split=2, n_estimators=300;, score=0.962 total time= 1.1min\n",
      "[CV 5/5] END bootstrap=True, max_depth=60, max_features=log2, min_samples_leaf=1, min_samples_split=2, n_estimators=800;, score=0.949 total time=  21.2s\n",
      "[CV 5/5] END bootstrap=False, max_depth=20, max_features=log2, min_samples_leaf=2, min_samples_split=5, n_estimators=900;, score=0.955 total time=  31.9s\n",
      "[CV 2/5] END bootstrap=True, max_depth=80, max_features=1.0, min_samples_leaf=4, min_samples_split=2, n_estimators=200;, score=0.990 total time=  28.6s\n",
      "[CV 5/5] END bootstrap=False, max_depth=10, max_features=1.0, min_samples_leaf=1, min_samples_split=2, n_estimators=300;, score=0.956 total time= 1.0min\n",
      "[CV 1/5] END bootstrap=True, max_depth=90, max_features=sqrt, min_samples_leaf=1, min_samples_split=2, n_estimators=1000;, score=0.960 total time=  29.3s\n",
      "[CV 1/5] END bootstrap=False, max_depth=30, max_features=sqrt, min_samples_leaf=2, min_samples_split=2, n_estimators=400;, score=0.966 total time=  16.5s\n",
      "[CV 5/5] END bootstrap=False, max_depth=30, max_features=sqrt, min_samples_leaf=2, min_samples_split=2, n_estimators=400;, score=0.963 total time=  17.2s\n",
      "[CV 3/5] END bootstrap=True, max_depth=20, max_features=log2, min_samples_leaf=4, min_samples_split=10, n_estimators=200;, score=0.936 total time=   4.2s\n",
      "[CV 5/5] END bootstrap=True, max_depth=20, max_features=log2, min_samples_leaf=4, min_samples_split=10, n_estimators=200;, score=0.936 total time=   4.5s\n",
      "[CV 3/5] END bootstrap=False, max_depth=10, max_features=1.0, min_samples_leaf=1, min_samples_split=2, n_estimators=300;, score=0.954 total time= 1.0min\n",
      "[CV 1/5] END bootstrap=False, max_depth=20, max_features=1.0, min_samples_leaf=2, min_samples_split=2, n_estimators=100;, score=0.963 total time=  24.3s\n",
      "[CV 4/5] END bootstrap=True, max_depth=90, max_features=sqrt, min_samples_leaf=1, min_samples_split=2, n_estimators=1000;, score=0.957 total time=  30.3s\n",
      "[CV 3/5] END bootstrap=False, max_depth=30, max_features=sqrt, min_samples_leaf=2, min_samples_split=2, n_estimators=400;, score=0.961 total time=  16.8s\n",
      "[CV 1/5] END bootstrap=True, max_depth=80, max_features=1.0, min_samples_leaf=4, min_samples_split=2, n_estimators=200;, score=0.988 total time=  28.4s\n",
      "[CV 4/5] END bootstrap=False, max_depth=10, max_features=1.0, min_samples_leaf=1, min_samples_split=2, n_estimators=300;, score=0.957 total time= 1.0min\n",
      "[CV 3/5] END bootstrap=False, max_depth=20, max_features=1.0, min_samples_leaf=2, min_samples_split=2, n_estimators=100;, score=0.959 total time=  23.8s\n",
      "[CV 5/5] END bootstrap=True, max_depth=90, max_features=sqrt, min_samples_leaf=1, min_samples_split=2, n_estimators=1000;, score=0.957 total time=  30.6s\n",
      "[CV 2/5] END bootstrap=False, max_depth=20, max_features=1.0, min_samples_leaf=2, min_samples_split=2, n_estimators=100;, score=0.967 total time=  24.0s\n",
      "[CV 1/5] END bootstrap=False, max_depth=20, max_features=1.0, min_samples_leaf=1, min_samples_split=2, n_estimators=400;, score=0.962 total time= 1.8min\n",
      "[CV 4/5] END bootstrap=False, max_depth=20, max_features=1.0, min_samples_leaf=2, min_samples_split=2, n_estimators=100;, score=0.965 total time=  23.4s\n",
      "[CV 2/5] END bootstrap=False, max_depth=20, max_features=1.0, min_samples_leaf=1, min_samples_split=2, n_estimators=400;, score=0.967 total time= 1.8min\n",
      "[CV 5/5] END bootstrap=False, max_depth=20, max_features=1.0, min_samples_leaf=2, min_samples_split=2, n_estimators=100;, score=0.961 total time=  22.8s\n",
      "[CV 3/5] END bootstrap=False, max_depth=20, max_features=1.0, min_samples_leaf=1, min_samples_split=2, n_estimators=400;, score=0.959 total time= 1.7min\n",
      "[CV 1/5] END bootstrap=True, max_depth=20, max_features=sqrt, min_samples_leaf=1, min_samples_split=10, n_estimators=200;, score=0.954 total time=   4.2s\n",
      "[CV 2/5] END bootstrap=True, max_depth=20, max_features=sqrt, min_samples_leaf=1, min_samples_split=10, n_estimators=200;, score=0.957 total time=   4.3s\n",
      "[CV 5/5] END bootstrap=True, max_depth=20, max_features=sqrt, min_samples_leaf=1, min_samples_split=10, n_estimators=200;, score=0.951 total time=   4.2s\n",
      "[CV 5/5] END bootstrap=True, max_depth=40, max_features=sqrt, min_samples_leaf=2, min_samples_split=10, n_estimators=800;, score=0.951 total time=  16.7s\n",
      "[CV 1/5] END bootstrap=False, max_depth=40, max_features=log2, min_samples_leaf=1, min_samples_split=2, n_estimators=500;, score=0.959 total time=  19.0s\n",
      "[CV 4/5] END bootstrap=True, max_depth=40, max_features=1.0, min_samples_leaf=2, min_samples_split=10, n_estimators=800;, score=0.986 total time= 1.6min\n",
      "[CV 4/5] END bootstrap=False, max_depth=40, max_features=log2, min_samples_leaf=1, min_samples_split=2, n_estimators=500;, score=0.958 total time=  19.0s\n",
      "[CV 3/5] END bootstrap=True, max_depth=60, max_features=1.0, min_samples_leaf=4, min_samples_split=5, n_estimators=100;, score=0.984 total time=  12.1s\n",
      "[CV 3/5] END bootstrap=False, max_depth=40, max_features=sqrt, min_samples_leaf=2, min_samples_split=10, n_estimators=100;, score=0.957 total time=   3.4s\n",
      "[CV 1/5] END bootstrap=False, max_depth=10, max_features=1.0, min_samples_leaf=1, min_samples_split=5, n_estimators=500;, score=0.957 total time= 1.6min\n",
      "[CV 4/5] END bootstrap=False, max_depth=80, max_features=1.0, min_samples_leaf=1, min_samples_split=10, n_estimators=600;, score=0.960 total time= 2.1min\n",
      "[CV 3/5] END bootstrap=False, max_depth=80, max_features=sqrt, min_samples_leaf=2, min_samples_split=5, n_estimators=600;, score=0.961 total time=  22.1s\n",
      "[CV 4/5] END bootstrap=False, max_depth=30, max_features=sqrt, min_samples_leaf=4, min_samples_split=2, n_estimators=200;, score=0.958 total time=   6.6s\n",
      "[CV 1/5] END bootstrap=True, max_depth=50, max_features=log2, min_samples_leaf=4, min_samples_split=2, n_estimators=1000;, score=0.943 total time=  17.7s\n",
      "[CV 2/5] END bootstrap=False, max_depth=70, max_features=sqrt, min_samples_leaf=1, min_samples_split=10, n_estimators=100;, score=0.964 total time=   3.5s\n",
      "[CV 3/5] END bootstrap=False, max_depth=None, max_features=log2, min_samples_leaf=4, min_samples_split=5, n_estimators=600;, score=0.949 total time=  17.0s\n",
      "[CV 1/5] END bootstrap=True, max_depth=40, max_features=1.0, min_samples_leaf=2, min_samples_split=10, n_estimators=1000;, score=0.989 total time= 2.1min\n",
      "[CV 4/5] END bootstrap=True, max_depth=20, max_features=1.0, min_samples_leaf=1, min_samples_split=5, n_estimators=1000;, score=0.988 total time= 2.3min\n"
     ]
    },
    {
     "name": "stdout",
     "output_type": "stream",
     "text": [
      "[CV 5/5] END bootstrap=True, max_depth=40, max_features=1.0, min_samples_leaf=2, min_samples_split=10, n_estimators=800;, score=0.986 total time= 1.6min\n",
      "[CV 1/5] END bootstrap=True, max_depth=60, max_features=1.0, min_samples_leaf=4, min_samples_split=5, n_estimators=100;, score=0.988 total time=  12.2s\n",
      "[CV 2/5] END bootstrap=True, max_depth=60, max_features=1.0, min_samples_leaf=4, min_samples_split=5, n_estimators=100;, score=0.989 total time=  12.3s\n",
      "[CV 1/5] END bootstrap=False, max_depth=40, max_features=sqrt, min_samples_leaf=2, min_samples_split=10, n_estimators=100;, score=0.962 total time=   3.3s\n",
      "[CV 4/5] END bootstrap=False, max_depth=40, max_features=sqrt, min_samples_leaf=2, min_samples_split=10, n_estimators=100;, score=0.959 total time=   3.3s\n",
      "[CV 2/5] END bootstrap=False, max_depth=10, max_features=1.0, min_samples_leaf=1, min_samples_split=5, n_estimators=500;, score=0.962 total time= 1.6min\n",
      "[CV 5/5] END bootstrap=False, max_depth=80, max_features=1.0, min_samples_leaf=1, min_samples_split=10, n_estimators=600;, score=0.959 total time= 2.1min\n",
      "[CV 2/5] END bootstrap=False, max_depth=80, max_features=sqrt, min_samples_leaf=2, min_samples_split=5, n_estimators=600;, score=0.966 total time=  22.1s\n",
      "[CV 2/5] END bootstrap=False, max_depth=30, max_features=sqrt, min_samples_leaf=4, min_samples_split=2, n_estimators=200;, score=0.961 total time=   6.5s\n",
      "[CV 4/5] END bootstrap=False, max_depth=40, max_features=sqrt, min_samples_leaf=2, min_samples_split=2, n_estimators=500;, score=0.964 total time=  18.7s\n",
      "[CV 4/5] END bootstrap=False, max_depth=70, max_features=sqrt, min_samples_leaf=1, min_samples_split=10, n_estimators=100;, score=0.962 total time=   3.5s\n",
      "[CV 5/5] END bootstrap=False, max_depth=None, max_features=log2, min_samples_leaf=4, min_samples_split=5, n_estimators=600;, score=0.950 total time=  16.7s\n",
      "[CV 2/5] END bootstrap=True, max_depth=40, max_features=1.0, min_samples_leaf=2, min_samples_split=10, n_estimators=1000;, score=0.990 total time= 2.1min\n",
      "[CV 5/5] END bootstrap=True, max_depth=20, max_features=1.0, min_samples_leaf=1, min_samples_split=5, n_estimators=1000;, score=0.987 total time= 2.3min\n",
      "[CV 3/5] END bootstrap=False, max_depth=100, max_features=log2, min_samples_leaf=4, min_samples_split=5, n_estimators=900;, score=0.949 total time=  27.9s\n",
      "[CV 5/5] END bootstrap=False, max_depth=30, max_features=sqrt, min_samples_leaf=4, min_samples_split=2, n_estimators=900;, score=0.958 total time=  30.2s\n",
      "[CV 1/5] END bootstrap=True, max_depth=100, max_features=log2, min_samples_leaf=1, min_samples_split=5, n_estimators=800;, score=0.951 total time=  16.6s\n",
      "[CV 5/5] END bootstrap=True, max_depth=100, max_features=log2, min_samples_leaf=1, min_samples_split=5, n_estimators=800;, score=0.948 total time=  16.9s\n",
      "[CV 3/5] END bootstrap=False, max_depth=90, max_features=1.0, min_samples_leaf=4, min_samples_split=2, n_estimators=200;, score=0.957 total time=  40.9s\n",
      "[CV 5/5] END bootstrap=False, max_depth=90, max_features=1.0, min_samples_leaf=4, min_samples_split=2, n_estimators=200;, score=0.957 total time=  40.5s\n",
      "[CV 1/5] END bootstrap=False, max_depth=None, max_features=1.0, min_samples_leaf=2, min_samples_split=10, n_estimators=500;, score=0.960 total time= 1.7min\n",
      "[CV 5/5] END bootstrap=False, max_depth=None, max_features=1.0, min_samples_leaf=2, min_samples_split=10, n_estimators=500;, score=0.959 total time= 1.7min\n",
      "[CV 3/5] END bootstrap=False, max_depth=30, max_features=log2, min_samples_leaf=4, min_samples_split=5, n_estimators=900;, score=0.949 total time=  25.1s\n",
      "[CV 1/5] END bootstrap=True, max_depth=110, max_features=1.0, min_samples_leaf=2, min_samples_split=10, n_estimators=300;, score=0.989 total time=  36.7s\n",
      "[CV 3/5] END bootstrap=False, max_depth=70, max_features=1.0, min_samples_leaf=1, min_samples_split=2, n_estimators=400;, score=0.959 total time= 1.7min\n",
      "[CV 3/5] END bootstrap=True, max_depth=40, max_features=1.0, min_samples_leaf=2, min_samples_split=10, n_estimators=800;, score=0.985 total time= 1.7min\n",
      "[CV 1/5] END bootstrap=False, max_depth=80, max_features=1.0, min_samples_leaf=4, min_samples_split=10, n_estimators=500;, score=0.959 total time= 1.7min\n",
      "[CV 5/5] END bootstrap=True, max_depth=60, max_features=1.0, min_samples_leaf=4, min_samples_split=5, n_estimators=100;, score=0.985 total time=  12.2s\n",
      "[CV 2/5] END bootstrap=False, max_depth=80, max_features=1.0, min_samples_leaf=1, min_samples_split=10, n_estimators=600;, score=0.965 total time= 2.1min\n",
      "[CV 1/5] END bootstrap=False, max_depth=110, max_features=log2, min_samples_leaf=2, min_samples_split=2, n_estimators=300;, score=0.958 total time=   9.8s\n",
      "[CV 2/5] END bootstrap=False, max_depth=110, max_features=log2, min_samples_leaf=2, min_samples_split=2, n_estimators=300;, score=0.958 total time=   9.7s\n",
      "[CV 3/5] END bootstrap=False, max_depth=110, max_features=log2, min_samples_leaf=2, min_samples_split=2, n_estimators=300;, score=0.954 total time=   9.8s\n",
      "[CV 4/5] END bootstrap=False, max_depth=110, max_features=log2, min_samples_leaf=2, min_samples_split=2, n_estimators=300;, score=0.956 total time=   9.7s\n",
      "[CV 5/5] END bootstrap=False, max_depth=110, max_features=log2, min_samples_leaf=2, min_samples_split=2, n_estimators=300;, score=0.954 total time=   9.8s\n",
      "[CV 1/5] END bootstrap=True, max_depth=100, max_features=log2, min_samples_leaf=1, min_samples_split=5, n_estimators=700;, score=0.951 total time=  14.7s\n",
      "[CV 2/5] END bootstrap=True, max_depth=100, max_features=log2, min_samples_leaf=1, min_samples_split=5, n_estimators=700;, score=0.951 total time=  14.5s\n",
      "[CV 1/5] END bootstrap=True, max_depth=80, max_features=sqrt, min_samples_leaf=1, min_samples_split=10, n_estimators=300;, score=0.954 total time=   6.5s\n",
      "[CV 5/5] END bootstrap=True, max_depth=80, max_features=sqrt, min_samples_leaf=1, min_samples_split=10, n_estimators=300;, score=0.951 total time=   6.5s\n",
      "[CV 1/5] END bootstrap=True, max_depth=80, max_features=sqrt, min_samples_leaf=2, min_samples_split=5, n_estimators=500;, score=0.958 total time=  11.7s\n",
      "[CV 4/5] END bootstrap=True, max_depth=80, max_features=sqrt, min_samples_leaf=2, min_samples_split=5, n_estimators=500;, score=0.955 total time=  11.5s\n",
      "[CV 2/5] END bootstrap=False, max_depth=40, max_features=sqrt, min_samples_leaf=2, min_samples_split=2, n_estimators=500;, score=0.966 total time=  19.0s\n",
      "[CV 5/5] END bootstrap=True, max_depth=50, max_features=log2, min_samples_leaf=4, min_samples_split=2, n_estimators=1000;, score=0.940 total time=  17.7s\n",
      "[CV 3/5] END bootstrap=True, max_depth=50, max_features=1.0, min_samples_leaf=4, min_samples_split=5, n_estimators=600;, score=0.984 total time= 1.2min\n",
      "[CV 1/5] END bootstrap=True, max_depth=50, max_features=sqrt, min_samples_leaf=2, min_samples_split=10, n_estimators=200;, score=0.954 total time=   4.4s\n",
      "[CV 4/5] END bootstrap=True, max_depth=50, max_features=sqrt, min_samples_leaf=2, min_samples_split=10, n_estimators=200;, score=0.950 total time=   4.2s\n",
      "[CV 2/5] END bootstrap=True, max_depth=20, max_features=1.0, min_samples_leaf=1, min_samples_split=5, n_estimators=1000;, score=0.991 total time= 2.4min\n",
      "[CV 4/5] END bootstrap=False, max_depth=90, max_features=sqrt, min_samples_leaf=4, min_samples_split=2, n_estimators=400;, score=0.959 total time=  13.5s\n",
      "[CV 5/5] END bootstrap=False, max_depth=20, max_features=1.0, min_samples_leaf=4, min_samples_split=10, n_estimators=100;, score=0.958 total time=  20.9s\n",
      "[CV 1/5] END bootstrap=False, max_depth=100, max_features=log2, min_samples_leaf=4, min_samples_split=5, n_estimators=900;, score=0.953 total time=  27.0s\n",
      "[CV 4/5] END bootstrap=False, max_depth=30, max_features=sqrt, min_samples_leaf=4, min_samples_split=2, n_estimators=900;, score=0.959 total time=  32.1s\n",
      "[CV 2/5] END bootstrap=True, max_depth=40, max_features=sqrt, min_samples_leaf=2, min_samples_split=2, n_estimators=300;, score=0.959 total time=   7.2s\n",
      "[CV 4/5] END bootstrap=True, max_depth=None, max_features=1.0, min_samples_leaf=1, min_samples_split=5, n_estimators=700;, score=0.987 total time= 1.6min\n",
      "[CV 2/5] END bootstrap=False, max_depth=70, max_features=sqrt, min_samples_leaf=2, min_samples_split=10, n_estimators=400;, score=0.964 total time=  13.4s\n",
      "[CV 4/5] END bootstrap=True, max_depth=60, max_features=1.0, min_samples_leaf=4, min_samples_split=5, n_estimators=900;, score=0.986 total time= 1.8min\n",
      "[CV 5/5] END bootstrap=True, max_depth=10, max_features=sqrt, min_samples_leaf=2, min_samples_split=5, n_estimators=300;, score=0.944 total time=   5.7s\n",
      "[CV 1/5] END bootstrap=False, max_depth=10, max_features=sqrt, min_samples_leaf=1, min_samples_split=5, n_estimators=700;, score=0.952 total time=  20.1s\n",
      "[CV 2/5] END bootstrap=False, max_depth=60, max_features=1.0, min_samples_leaf=1, min_samples_split=10, n_estimators=100;, score=0.965 total time=  21.1s\n",
      "[CV 3/5] END bootstrap=True, max_depth=70, max_features=sqrt, min_samples_leaf=1, min_samples_split=10, n_estimators=800;, score=0.951 total time=  17.5s\n",
      "[CV 4/5] END bootstrap=False, max_depth=20, max_features=log2, min_samples_leaf=4, min_samples_split=5, n_estimators=600;, score=0.950 total time=  16.9s\n",
      "[CV 5/5] END bootstrap=True, max_depth=20, max_features=1.0, min_samples_leaf=1, min_samples_split=10, n_estimators=700;, score=0.986 total time= 1.5min\n",
      "[CV 4/5] END bootstrap=False, max_depth=70, max_features=1.0, min_samples_leaf=1, min_samples_split=2, n_estimators=400;, score=0.963 total time= 1.7min\n"
     ]
    },
    {
     "name": "stdout",
     "output_type": "stream",
     "text": [
      "[CV 4/5] END bootstrap=False, max_depth=100, max_features=log2, min_samples_leaf=4, min_samples_split=5, n_estimators=900;, score=0.950 total time=  27.8s\n",
      "[CV 2/5] END bootstrap=False, max_depth=10, max_features=sqrt, min_samples_leaf=4, min_samples_split=10, n_estimators=400;, score=0.952 total time=  11.1s\n",
      "[CV 5/5] END bootstrap=False, max_depth=10, max_features=sqrt, min_samples_leaf=4, min_samples_split=10, n_estimators=400;, score=0.948 total time=  11.8s\n",
      "[CV 2/5] END bootstrap=True, max_depth=None, max_features=1.0, min_samples_leaf=1, min_samples_split=5, n_estimators=700;, score=0.991 total time= 1.6min\n",
      "[CV 3/5] END bootstrap=True, max_depth=20, max_features=log2, min_samples_leaf=4, min_samples_split=5, n_estimators=700;, score=0.940 total time=  12.3s\n",
      "[CV 5/5] END bootstrap=False, max_depth=70, max_features=sqrt, min_samples_leaf=2, min_samples_split=10, n_estimators=400;, score=0.959 total time=  13.3s\n",
      "[CV 3/5] END bootstrap=False, max_depth=None, max_features=1.0, min_samples_leaf=2, min_samples_split=10, n_estimators=500;, score=0.956 total time= 1.7min\n",
      "[CV 2/5] END bootstrap=True, max_depth=10, max_features=sqrt, min_samples_leaf=2, min_samples_split=5, n_estimators=300;, score=0.948 total time=   5.6s\n",
      "[CV 3/5] END bootstrap=False, max_depth=60, max_features=sqrt, min_samples_leaf=2, min_samples_split=2, n_estimators=300;, score=0.961 total time=  11.0s\n",
      "[CV 4/5] END bootstrap=False, max_depth=10, max_features=sqrt, min_samples_leaf=1, min_samples_split=5, n_estimators=700;, score=0.951 total time=  19.9s\n",
      "[CV 1/5] END bootstrap=True, max_depth=70, max_features=sqrt, min_samples_leaf=1, min_samples_split=10, n_estimators=800;, score=0.955 total time=  17.1s\n",
      "[CV 4/5] END bootstrap=True, max_depth=70, max_features=sqrt, min_samples_leaf=1, min_samples_split=10, n_estimators=800;, score=0.952 total time=  16.8s\n",
      "[CV 5/5] END bootstrap=False, max_depth=20, max_features=log2, min_samples_leaf=4, min_samples_split=5, n_estimators=600;, score=0.950 total time=  16.7s\n",
      "[CV 1/5] END bootstrap=False, max_depth=30, max_features=log2, min_samples_leaf=4, min_samples_split=5, n_estimators=900;, score=0.953 total time=  25.0s\n",
      "[CV 4/5] END bootstrap=False, max_depth=30, max_features=log2, min_samples_leaf=4, min_samples_split=5, n_estimators=900;, score=0.950 total time=  24.9s\n",
      "[CV 2/5] END bootstrap=True, max_depth=110, max_features=1.0, min_samples_leaf=2, min_samples_split=10, n_estimators=300;, score=0.990 total time=  37.7s\n",
      "[CV 5/5] END bootstrap=False, max_depth=70, max_features=1.0, min_samples_leaf=1, min_samples_split=2, n_estimators=400;, score=0.961 total time= 1.7min\n",
      "[CV 3/5] END bootstrap=False, max_depth=90, max_features=log2, min_samples_leaf=2, min_samples_split=10, n_estimators=200;, score=0.949 total time=   5.7s\n",
      "[CV 1/5] END bootstrap=False, max_depth=None, max_features=1.0, min_samples_leaf=1, min_samples_split=2, n_estimators=800;, score=0.962 total time= 3.3min\n",
      "[CV 1/5] END bootstrap=False, max_depth=90, max_features=log2, min_samples_leaf=2, min_samples_split=10, n_estimators=200;, score=0.953 total time=   5.7s\n",
      "[CV 2/5] END bootstrap=False, max_depth=90, max_features=log2, min_samples_leaf=2, min_samples_split=10, n_estimators=200;, score=0.955 total time=   5.7s\n",
      "[CV 5/5] END bootstrap=False, max_depth=90, max_features=log2, min_samples_leaf=2, min_samples_split=10, n_estimators=200;, score=0.950 total time=   5.6s\n",
      "[CV 2/5] END bootstrap=False, max_depth=None, max_features=1.0, min_samples_leaf=1, min_samples_split=2, n_estimators=800;, score=0.967 total time= 3.4min\n",
      "[CV 4/5] END bootstrap=False, max_depth=90, max_features=log2, min_samples_leaf=2, min_samples_split=10, n_estimators=200;, score=0.952 total time=   5.8s\n",
      "[CV 3/5] END bootstrap=False, max_depth=None, max_features=1.0, min_samples_leaf=1, min_samples_split=2, n_estimators=800;, score=0.959 total time= 3.4min\n",
      "[CV 2/5] END bootstrap=True, max_depth=40, max_features=1.0, min_samples_leaf=2, min_samples_split=10, n_estimators=800;, score=0.990 total time= 1.7min\n",
      "[CV 2/5] END bootstrap=True, max_depth=40, max_features=sqrt, min_samples_leaf=2, min_samples_split=10, n_estimators=800;, score=0.956 total time=  16.8s\n",
      "[CV 3/5] END bootstrap=False, max_depth=80, max_features=1.0, min_samples_leaf=4, min_samples_split=10, n_estimators=500;, score=0.956 total time= 1.6min\n",
      "[CV 3/5] END bootstrap=False, max_depth=10, max_features=1.0, min_samples_leaf=1, min_samples_split=5, n_estimators=500;, score=0.954 total time= 1.6min\n",
      "[CV 1/5] END bootstrap=False, max_depth=80, max_features=1.0, min_samples_leaf=4, min_samples_split=5, n_estimators=500;, score=0.960 total time= 1.7min\n",
      "[CV 3/5] END bootstrap=True, max_depth=100, max_features=log2, min_samples_leaf=1, min_samples_split=5, n_estimators=700;, score=0.947 total time=  14.5s\n",
      "[CV 2/5] END bootstrap=True, max_depth=80, max_features=sqrt, min_samples_leaf=1, min_samples_split=10, n_estimators=300;, score=0.957 total time=   6.3s\n",
      "[CV 1/5] END bootstrap=False, max_depth=80, max_features=sqrt, min_samples_leaf=2, min_samples_split=5, n_estimators=600;, score=0.965 total time=  21.9s\n",
      "[CV 1/5] END bootstrap=False, max_depth=30, max_features=sqrt, min_samples_leaf=4, min_samples_split=2, n_estimators=200;, score=0.961 total time=   6.5s\n",
      "[CV 3/5] END bootstrap=False, max_depth=40, max_features=sqrt, min_samples_leaf=2, min_samples_split=2, n_estimators=500;, score=0.961 total time=  18.7s\n",
      "[CV 1/5] END bootstrap=False, max_depth=70, max_features=sqrt, min_samples_leaf=1, min_samples_split=10, n_estimators=100;, score=0.963 total time=   3.4s\n",
      "[CV 1/5] END bootstrap=False, max_depth=None, max_features=log2, min_samples_leaf=4, min_samples_split=5, n_estimators=600;, score=0.953 total time=  16.6s\n",
      "[CV 4/5] END bootstrap=True, max_depth=50, max_features=1.0, min_samples_leaf=4, min_samples_split=5, n_estimators=600;, score=0.986 total time= 1.2min\n",
      "[CV 2/5] END bootstrap=True, max_depth=50, max_features=sqrt, min_samples_leaf=2, min_samples_split=10, n_estimators=200;, score=0.955 total time=   4.4s\n",
      "[CV 5/5] END bootstrap=True, max_depth=50, max_features=sqrt, min_samples_leaf=2, min_samples_split=10, n_estimators=200;, score=0.950 total time=   4.2s\n",
      "[CV 3/5] END bootstrap=True, max_depth=20, max_features=1.0, min_samples_leaf=1, min_samples_split=5, n_estimators=1000;, score=0.986 total time= 2.3min\n",
      "[CV 3/5] END bootstrap=False, max_depth=90, max_features=sqrt, min_samples_leaf=4, min_samples_split=2, n_estimators=400;, score=0.957 total time=  13.3s\n",
      "[CV 3/5] END bootstrap=False, max_depth=20, max_features=1.0, min_samples_leaf=4, min_samples_split=10, n_estimators=100;, score=0.956 total time=  20.6s\n",
      "[CV 4/5] END bootstrap=False, max_depth=10, max_features=log2, min_samples_leaf=4, min_samples_split=5, n_estimators=1000;, score=0.940 total time=  24.8s\n",
      "[CV 2/5] END bootstrap=False, max_depth=30, max_features=sqrt, min_samples_leaf=4, min_samples_split=2, n_estimators=900;, score=0.963 total time=  31.4s\n",
      "[CV 2/5] END bootstrap=True, max_depth=10, max_features=log2, min_samples_leaf=2, min_samples_split=2, n_estimators=200;, score=0.935 total time=   3.5s\n",
      "[CV 5/5] END bootstrap=True, max_depth=10, max_features=log2, min_samples_leaf=2, min_samples_split=2, n_estimators=200;, score=0.932 total time=   3.5s\n",
      "[CV 1/5] END bootstrap=True, max_depth=None, max_features=1.0, min_samples_leaf=1, min_samples_split=5, n_estimators=700;, score=0.990 total time= 1.6min\n",
      "[CV 2/5] END bootstrap=True, max_depth=20, max_features=log2, min_samples_leaf=4, min_samples_split=5, n_estimators=700;, score=0.945 total time=  12.3s\n",
      "[CV 4/5] END bootstrap=False, max_depth=70, max_features=sqrt, min_samples_leaf=2, min_samples_split=10, n_estimators=400;, score=0.960 total time=  13.3s\n",
      "[CV 2/5] END bootstrap=False, max_depth=None, max_features=1.0, min_samples_leaf=2, min_samples_split=10, n_estimators=500;, score=0.966 total time= 1.7min\n",
      "[CV 1/5] END bootstrap=True, max_depth=10, max_features=sqrt, min_samples_leaf=2, min_samples_split=5, n_estimators=300;, score=0.947 total time=   5.6s\n",
      "[CV 2/5] END bootstrap=False, max_depth=60, max_features=sqrt, min_samples_leaf=2, min_samples_split=2, n_estimators=300;, score=0.966 total time=  11.1s\n",
      "[CV 3/5] END bootstrap=False, max_depth=10, max_features=sqrt, min_samples_leaf=1, min_samples_split=5, n_estimators=700;, score=0.949 total time=  19.9s\n",
      "[CV 4/5] END bootstrap=False, max_depth=60, max_features=1.0, min_samples_leaf=1, min_samples_split=10, n_estimators=100;, score=0.960 total time=  20.6s\n",
      "[CV 2/5] END bootstrap=False, max_depth=20, max_features=log2, min_samples_leaf=4, min_samples_split=5, n_estimators=600;, score=0.954 total time=  16.7s\n",
      "[CV 2/5] END bootstrap=True, max_depth=20, max_features=1.0, min_samples_leaf=1, min_samples_split=10, n_estimators=700;, score=0.990 total time= 1.4min\n",
      "[CV 4/5] END bootstrap=True, max_depth=110, max_features=1.0, min_samples_leaf=2, min_samples_split=10, n_estimators=300;, score=0.986 total time=  37.5s\n",
      "[CV 4/5] END bootstrap=True, max_depth=30, max_features=log2, min_samples_leaf=1, min_samples_split=10, n_estimators=200;, score=0.942 total time=   3.6s\n",
      "[CV 2/5] END bootstrap=True, max_depth=10, max_features=1.0, min_samples_leaf=2, min_samples_split=10, n_estimators=1000;, score=0.989 total time= 1.9min\n",
      "[CV 5/5] END bootstrap=False, max_depth=None, max_features=1.0, min_samples_leaf=1, min_samples_split=2, n_estimators=800;, score=0.961 total time= 3.3min\n"
     ]
    },
    {
     "name": "stdout",
     "output_type": "stream",
     "text": [
      "[CV 4/5] END bootstrap=False, max_depth=80, max_features=1.0, min_samples_leaf=4, min_samples_split=2, n_estimators=900;, score=0.963 total time= 3.1min\n",
      "[CV 2/5] END bootstrap=False, max_depth=None, max_features=sqrt, min_samples_leaf=2, min_samples_split=2, n_estimators=700;, score=0.967 total time=  27.3s\n",
      "[CV 5/5] END bootstrap=False, max_depth=None, max_features=sqrt, min_samples_leaf=2, min_samples_split=2, n_estimators=700;, score=0.963 total time=  26.1s\n",
      "[CV 3/5] END bootstrap=True, max_depth=10, max_features=sqrt, min_samples_leaf=1, min_samples_split=2, n_estimators=700;, score=0.944 total time=  13.4s\n",
      "[CV 1/5] END bootstrap=False, max_depth=None, max_features=log2, min_samples_leaf=1, min_samples_split=2, n_estimators=500;, score=0.959 total time=  18.8s\n",
      "[CV 2/5] END bootstrap=False, max_depth=40, max_features=log2, min_samples_leaf=1, min_samples_split=2, n_estimators=500;, score=0.961 total time=  19.2s\n",
      "[CV 3/5] END bootstrap=False, max_depth=40, max_features=log2, min_samples_leaf=1, min_samples_split=2, n_estimators=500;, score=0.955 total time=  19.1s\n",
      "[CV 5/5] END bootstrap=False, max_depth=40, max_features=log2, min_samples_leaf=1, min_samples_split=2, n_estimators=500;, score=0.957 total time=  18.9s\n",
      "[CV 4/5] END bootstrap=True, max_depth=60, max_features=1.0, min_samples_leaf=4, min_samples_split=5, n_estimators=100;, score=0.986 total time=  12.2s\n",
      "[CV 2/5] END bootstrap=False, max_depth=40, max_features=sqrt, min_samples_leaf=2, min_samples_split=10, n_estimators=100;, score=0.963 total time=   3.4s\n",
      "[CV 5/5] END bootstrap=False, max_depth=40, max_features=sqrt, min_samples_leaf=2, min_samples_split=10, n_estimators=100;, score=0.958 total time=   3.3s\n",
      "[CV 5/5] END bootstrap=False, max_depth=10, max_features=1.0, min_samples_leaf=1, min_samples_split=5, n_estimators=500;, score=0.956 total time= 1.6min\n",
      "[CV 2/5] END bootstrap=False, max_depth=80, max_features=1.0, min_samples_leaf=4, min_samples_split=5, n_estimators=500;, score=0.964 total time= 1.7min\n",
      "[CV 5/5] END bootstrap=True, max_depth=100, max_features=log2, min_samples_leaf=1, min_samples_split=5, n_estimators=700;, score=0.948 total time=  14.5s\n",
      "[CV 4/5] END bootstrap=True, max_depth=80, max_features=sqrt, min_samples_leaf=1, min_samples_split=10, n_estimators=300;, score=0.953 total time=   6.4s\n",
      "[CV 5/5] END bootstrap=False, max_depth=80, max_features=sqrt, min_samples_leaf=2, min_samples_split=5, n_estimators=600;, score=0.963 total time=  21.8s\n",
      "[CV 1/5] END bootstrap=False, max_depth=40, max_features=sqrt, min_samples_leaf=2, min_samples_split=2, n_estimators=500;, score=0.966 total time=  18.7s\n",
      "[CV 4/5] END bootstrap=True, max_depth=50, max_features=log2, min_samples_leaf=4, min_samples_split=2, n_estimators=1000;, score=0.941 total time=  17.6s\n",
      "[CV 2/5] END bootstrap=True, max_depth=50, max_features=1.0, min_samples_leaf=4, min_samples_split=5, n_estimators=600;, score=0.990 total time= 1.2min\n",
      "[CV 5/5] END bootstrap=True, max_depth=40, max_features=1.0, min_samples_leaf=2, min_samples_split=10, n_estimators=1000;, score=0.986 total time= 2.1min\n",
      "[CV 4/5] END bootstrap=True, max_depth=60, max_features=1.0, min_samples_leaf=4, min_samples_split=10, n_estimators=300;, score=0.985 total time=  36.1s\n",
      "[CV 5/5] END bootstrap=False, max_depth=90, max_features=sqrt, min_samples_leaf=4, min_samples_split=2, n_estimators=400;, score=0.958 total time=  13.3s\n",
      "[CV 1/5] END bootstrap=False, max_depth=10, max_features=log2, min_samples_leaf=4, min_samples_split=5, n_estimators=1000;, score=0.940 total time=  24.6s\n",
      "[CV 2/5] END bootstrap=False, max_depth=100, max_features=log2, min_samples_leaf=4, min_samples_split=5, n_estimators=900;, score=0.954 total time=  28.2s\n",
      "[CV 1/5] END bootstrap=False, max_depth=10, max_features=sqrt, min_samples_leaf=4, min_samples_split=10, n_estimators=400;, score=0.951 total time=  11.2s\n",
      "[CV 4/5] END bootstrap=False, max_depth=10, max_features=sqrt, min_samples_leaf=4, min_samples_split=10, n_estimators=400;, score=0.950 total time=  11.9s\n",
      "[CV 5/5] END bootstrap=True, max_depth=40, max_features=sqrt, min_samples_leaf=2, min_samples_split=2, n_estimators=300;, score=0.955 total time=   6.9s\n",
      "[CV 2/5] END bootstrap=True, max_depth=100, max_features=log2, min_samples_leaf=1, min_samples_split=5, n_estimators=800;, score=0.952 total time=  16.5s\n",
      "[CV 4/5] END bootstrap=True, max_depth=100, max_features=log2, min_samples_leaf=1, min_samples_split=5, n_estimators=800;, score=0.948 total time=  16.9s\n",
      "[CV 2/5] END bootstrap=False, max_depth=90, max_features=1.0, min_samples_leaf=4, min_samples_split=2, n_estimators=200;, score=0.964 total time=  41.1s\n",
      "[CV 1/5] END bootstrap=True, max_depth=70, max_features=sqrt, min_samples_leaf=2, min_samples_split=10, n_estimators=100;, score=0.953 total time=   2.0s\n",
      "[CV 2/5] END bootstrap=True, max_depth=70, max_features=sqrt, min_samples_leaf=2, min_samples_split=10, n_estimators=100;, score=0.955 total time=   2.2s\n",
      "[CV 3/5] END bootstrap=True, max_depth=70, max_features=sqrt, min_samples_leaf=2, min_samples_split=10, n_estimators=100;, score=0.949 total time=   2.1s\n",
      "[CV 4/5] END bootstrap=True, max_depth=70, max_features=sqrt, min_samples_leaf=2, min_samples_split=10, n_estimators=100;, score=0.950 total time=   2.1s\n",
      "[CV 5/5] END bootstrap=True, max_depth=70, max_features=sqrt, min_samples_leaf=2, min_samples_split=10, n_estimators=100;, score=0.950 total time=   2.0s\n",
      "[CV 1/5] END bootstrap=True, max_depth=20, max_features=log2, min_samples_leaf=4, min_samples_split=5, n_estimators=700;, score=0.944 total time=  12.1s\n",
      "[CV 1/5] END bootstrap=False, max_depth=70, max_features=sqrt, min_samples_leaf=2, min_samples_split=10, n_estimators=400;, score=0.962 total time=  13.2s\n",
      "[CV 3/5] END bootstrap=True, max_depth=60, max_features=1.0, min_samples_leaf=4, min_samples_split=5, n_estimators=900;, score=0.984 total time= 1.8min\n",
      "[CV 4/5] END bootstrap=True, max_depth=10, max_features=sqrt, min_samples_leaf=2, min_samples_split=5, n_estimators=300;, score=0.945 total time=   5.6s\n",
      "[CV 5/5] END bootstrap=False, max_depth=60, max_features=sqrt, min_samples_leaf=2, min_samples_split=2, n_estimators=300;, score=0.962 total time=  11.0s\n",
      "[CV 1/5] END bootstrap=False, max_depth=60, max_features=1.0, min_samples_leaf=1, min_samples_split=10, n_estimators=100;, score=0.960 total time=  20.7s\n",
      "[CV 2/5] END bootstrap=True, max_depth=70, max_features=sqrt, min_samples_leaf=1, min_samples_split=10, n_estimators=800;, score=0.957 total time=  17.1s\n",
      "[CV 5/5] END bootstrap=True, max_depth=70, max_features=sqrt, min_samples_leaf=1, min_samples_split=10, n_estimators=800;, score=0.951 total time=  17.0s\n",
      "[CV 1/5] END bootstrap=True, max_depth=20, max_features=1.0, min_samples_leaf=1, min_samples_split=10, n_estimators=700;, score=0.989 total time= 1.4min\n",
      "[CV 5/5] END bootstrap=True, max_depth=110, max_features=1.0, min_samples_leaf=2, min_samples_split=10, n_estimators=300;, score=0.985 total time=  38.0s\n",
      "[CV 1/5] END bootstrap=True, max_depth=10, max_features=1.0, min_samples_leaf=2, min_samples_split=10, n_estimators=1000;, score=0.988 total time= 1.9min\n",
      "[CV 4/5] END bootstrap=False, max_depth=None, max_features=1.0, min_samples_leaf=1, min_samples_split=2, n_estimators=800;, score=0.963 total time= 3.3min\n",
      "[CV 3/5] END bootstrap=True, max_depth=100, max_features=1.0, min_samples_leaf=2, min_samples_split=2, n_estimators=100;, score=0.985 total time=  13.6s\n",
      "[CV 1/5] END bootstrap=False, max_depth=70, max_features=1.0, min_samples_leaf=1, min_samples_split=5, n_estimators=100;, score=0.962 total time=  22.5s\n",
      "[CV 4/5] END bootstrap=False, max_depth=70, max_features=1.0, min_samples_leaf=1, min_samples_split=5, n_estimators=100;, score=0.962 total time=  22.6s\n",
      "[CV 3/5] END bootstrap=False, max_depth=80, max_features=sqrt, min_samples_leaf=1, min_samples_split=10, n_estimators=500;, score=0.959 total time=  17.0s\n",
      "[CV 1/5] END bootstrap=False, max_depth=None, max_features=log2, min_samples_leaf=2, min_samples_split=2, n_estimators=500;, score=0.958 total time=  15.8s\n",
      "[CV 4/5] END bootstrap=False, max_depth=None, max_features=log2, min_samples_leaf=2, min_samples_split=2, n_estimators=500;, score=0.956 total time=  16.9s\n",
      "[CV 5/5] END bootstrap=True, max_depth=10, max_features=1.0, min_samples_leaf=2, min_samples_split=2, n_estimators=800;, score=0.986 total time= 1.7min\n",
      "[CV 1/5] END bootstrap=True, max_depth=10, max_features=sqrt, min_samples_leaf=1, min_samples_split=2, n_estimators=700;, score=0.947 total time=  13.4s\n",
      "[CV 4/5] END bootstrap=True, max_depth=10, max_features=sqrt, min_samples_leaf=1, min_samples_split=2, n_estimators=700;, score=0.946 total time=  13.4s\n",
      "[CV 2/5] END bootstrap=False, max_depth=None, max_features=log2, min_samples_leaf=1, min_samples_split=2, n_estimators=500;, score=0.961 total time=  19.0s\n",
      "[CV 5/5] END bootstrap=False, max_depth=None, max_features=log2, min_samples_leaf=1, min_samples_split=2, n_estimators=500;, score=0.957 total time=  18.9s\n"
     ]
    },
    {
     "name": "stdout",
     "output_type": "stream",
     "text": [
      "[CV 4/5] END bootstrap=False, max_depth=20, max_features=1.0, min_samples_leaf=1, min_samples_split=2, n_estimators=400;, score=0.963 total time= 1.7min\n",
      "[CV 4/5] END bootstrap=True, max_depth=20, max_features=sqrt, min_samples_leaf=1, min_samples_split=10, n_estimators=200;, score=0.952 total time=   4.2s\n",
      "[CV 4/5] END bootstrap=True, max_depth=40, max_features=sqrt, min_samples_leaf=2, min_samples_split=10, n_estimators=800;, score=0.951 total time=  16.6s\n",
      "[CV 5/5] END bootstrap=False, max_depth=80, max_features=1.0, min_samples_leaf=4, min_samples_split=10, n_estimators=500;, score=0.958 total time= 1.7min\n",
      "[CV 3/5] END bootstrap=False, max_depth=80, max_features=1.0, min_samples_leaf=1, min_samples_split=10, n_estimators=600;, score=0.956 total time= 2.1min\n",
      "[CV 5/5] END bootstrap=False, max_depth=80, max_features=1.0, min_samples_leaf=4, min_samples_split=5, n_estimators=500;, score=0.958 total time= 1.7min\n",
      "[CV 3/5] END bootstrap=True, max_depth=80, max_features=sqrt, min_samples_leaf=2, min_samples_split=5, n_estimators=500;, score=0.953 total time=  11.7s\n",
      "[CV 3/5] END bootstrap=False, max_depth=30, max_features=sqrt, min_samples_leaf=4, min_samples_split=2, n_estimators=200;, score=0.956 total time=   6.6s\n",
      "[CV 5/5] END bootstrap=False, max_depth=40, max_features=sqrt, min_samples_leaf=2, min_samples_split=2, n_estimators=500;, score=0.963 total time=  18.7s\n",
      "[CV 5/5] END bootstrap=False, max_depth=70, max_features=sqrt, min_samples_leaf=1, min_samples_split=10, n_estimators=100;, score=0.960 total time=   3.5s\n",
      "[CV 1/5] END bootstrap=True, max_depth=50, max_features=1.0, min_samples_leaf=4, min_samples_split=5, n_estimators=600;, score=0.988 total time= 1.2min\n",
      "[CV 4/5] END bootstrap=True, max_depth=40, max_features=1.0, min_samples_leaf=2, min_samples_split=10, n_estimators=1000;, score=0.986 total time= 2.1min\n",
      "[CV 3/5] END bootstrap=True, max_depth=60, max_features=1.0, min_samples_leaf=4, min_samples_split=10, n_estimators=300;, score=0.984 total time=  36.1s\n",
      "[CV 2/5] END bootstrap=False, max_depth=90, max_features=sqrt, min_samples_leaf=4, min_samples_split=2, n_estimators=400;, score=0.962 total time=  13.3s\n",
      "[CV 2/5] END bootstrap=False, max_depth=20, max_features=1.0, min_samples_leaf=4, min_samples_split=10, n_estimators=100;, score=0.964 total time=  21.0s\n",
      "[CV 3/5] END bootstrap=False, max_depth=10, max_features=log2, min_samples_leaf=4, min_samples_split=5, n_estimators=1000;, score=0.936 total time=  24.9s\n",
      "[CV 1/5] END bootstrap=False, max_depth=30, max_features=sqrt, min_samples_leaf=4, min_samples_split=2, n_estimators=900;, score=0.961 total time=  31.4s\n",
      "[CV 1/5] END bootstrap=True, max_depth=10, max_features=log2, min_samples_leaf=2, min_samples_split=2, n_estimators=200;, score=0.935 total time=   3.5s\n",
      "[CV 3/5] END bootstrap=True, max_depth=10, max_features=log2, min_samples_leaf=2, min_samples_split=2, n_estimators=200;, score=0.931 total time=   3.6s\n",
      "[CV 3/5] END bootstrap=True, max_depth=40, max_features=sqrt, min_samples_leaf=2, min_samples_split=2, n_estimators=300;, score=0.953 total time=   7.0s\n",
      "[CV 5/5] END bootstrap=True, max_depth=None, max_features=1.0, min_samples_leaf=1, min_samples_split=5, n_estimators=700;, score=0.987 total time= 1.6min\n",
      "[CV 5/5] END bootstrap=True, max_depth=20, max_features=log2, min_samples_leaf=4, min_samples_split=5, n_estimators=700;, score=0.940 total time=  12.4s\n",
      "[CV 2/5] END bootstrap=True, max_depth=60, max_features=1.0, min_samples_leaf=4, min_samples_split=5, n_estimators=900;, score=0.990 total time= 1.8min\n",
      "[CV 3/5] END bootstrap=True, max_depth=10, max_features=sqrt, min_samples_leaf=2, min_samples_split=5, n_estimators=300;, score=0.943 total time=   5.6s\n",
      "[CV 4/5] END bootstrap=False, max_depth=60, max_features=sqrt, min_samples_leaf=2, min_samples_split=2, n_estimators=300;, score=0.964 total time=  11.1s\n",
      "[CV 5/5] END bootstrap=False, max_depth=10, max_features=sqrt, min_samples_leaf=1, min_samples_split=5, n_estimators=700;, score=0.950 total time=  19.8s\n",
      "[CV 5/5] END bootstrap=False, max_depth=60, max_features=1.0, min_samples_leaf=1, min_samples_split=10, n_estimators=100;, score=0.959 total time=  20.7s\n",
      "[CV 3/5] END bootstrap=False, max_depth=20, max_features=log2, min_samples_leaf=4, min_samples_split=5, n_estimators=600;, score=0.949 total time=  16.9s\n",
      "[CV 4/5] END bootstrap=True, max_depth=20, max_features=1.0, min_samples_leaf=1, min_samples_split=10, n_estimators=700;, score=0.986 total time= 1.4min\n",
      "[CV 2/5] END bootstrap=False, max_depth=70, max_features=1.0, min_samples_leaf=1, min_samples_split=2, n_estimators=400;, score=0.967 total time= 1.7min\n",
      "[CV 5/5] END bootstrap=True, max_depth=10, max_features=1.0, min_samples_leaf=2, min_samples_split=10, n_estimators=1000;, score=0.985 total time= 1.9min\n",
      "[CV 2/5] END bootstrap=False, max_depth=50, max_features=log2, min_samples_leaf=1, min_samples_split=2, n_estimators=400;, score=0.961 total time=  15.1s\n",
      "[CV 5/5] END bootstrap=False, max_depth=50, max_features=log2, min_samples_leaf=1, min_samples_split=2, n_estimators=400;, score=0.957 total time=  15.0s\n",
      "[CV 3/5] END bootstrap=True, max_depth=40, max_features=sqrt, min_samples_leaf=1, min_samples_split=10, n_estimators=700;, score=0.951 total time=  16.0s\n",
      "[CV 1/5] END bootstrap=False, max_depth=80, max_features=1.0, min_samples_leaf=4, min_samples_split=2, n_estimators=900;, score=0.960 total time= 3.0min\n",
      "[CV 5/5] END bootstrap=False, max_depth=None, max_features=log2, min_samples_leaf=2, min_samples_split=2, n_estimators=500;, score=0.955 total time=  16.7s\n",
      "[CV 1/5] END bootstrap=True, max_depth=90, max_features=sqrt, min_samples_leaf=4, min_samples_split=5, n_estimators=400;, score=0.953 total time=   9.2s\n",
      "[CV 2/5] END bootstrap=True, max_depth=90, max_features=sqrt, min_samples_leaf=4, min_samples_split=5, n_estimators=400;, score=0.954 total time=  10.6s\n",
      "[CV 3/5] END bootstrap=True, max_depth=90, max_features=sqrt, min_samples_leaf=4, min_samples_split=5, n_estimators=400;, score=0.948 total time=  10.1s\n",
      "[CV 4/5] END bootstrap=True, max_depth=90, max_features=sqrt, min_samples_leaf=4, min_samples_split=5, n_estimators=400;, score=0.950 total time=   8.2s\n",
      "[CV 5/5] END bootstrap=True, max_depth=90, max_features=sqrt, min_samples_leaf=4, min_samples_split=5, n_estimators=400;, score=0.949 total time=   8.2s\n",
      "[CV 1/5] END bootstrap=False, max_depth=None, max_features=sqrt, min_samples_leaf=2, min_samples_split=2, n_estimators=700;, score=0.966 total time=  27.5s\n",
      "[CV 4/5] END bootstrap=False, max_depth=None, max_features=sqrt, min_samples_leaf=2, min_samples_split=2, n_estimators=700;, score=0.964 total time=  26.0s\n",
      "[CV 2/5] END bootstrap=True, max_depth=10, max_features=sqrt, min_samples_leaf=1, min_samples_split=2, n_estimators=700;, score=0.950 total time=  13.2s\n",
      "[CV 5/5] END bootstrap=True, max_depth=10, max_features=sqrt, min_samples_leaf=1, min_samples_split=2, n_estimators=700;, score=0.944 total time=  13.4s\n",
      "[CV 3/5] END bootstrap=False, max_depth=None, max_features=log2, min_samples_leaf=1, min_samples_split=2, n_estimators=500;, score=0.955 total time=  18.9s\n",
      "[CV 1/5] END bootstrap=True, max_depth=60, max_features=sqrt, min_samples_leaf=2, min_samples_split=5, n_estimators=800;, score=0.958 total time=  18.2s\n",
      "[CV 3/5] END bootstrap=True, max_depth=60, max_features=sqrt, min_samples_leaf=2, min_samples_split=5, n_estimators=800;, score=0.953 total time=  18.1s\n",
      "[CV 3/5] END bootstrap=True, max_depth=40, max_features=sqrt, min_samples_leaf=4, min_samples_split=10, n_estimators=300;, score=0.947 total time=   5.9s\n",
      "[CV 3/5] END bootstrap=True, max_depth=60, max_features=log2, min_samples_leaf=1, min_samples_split=10, n_estimators=600;, score=0.942 total time=  11.1s\n",
      "[CV 1/5] END bootstrap=True, max_depth=110, max_features=sqrt, min_samples_leaf=1, min_samples_split=2, n_estimators=600;, score=0.960 total time=  16.6s\n",
      "[CV 5/5] END bootstrap=False, max_depth=80, max_features=1.0, min_samples_leaf=4, min_samples_split=2, n_estimators=900;, score=0.957 total time= 3.1min\n",
      "[CV 3/5] END bootstrap=False, max_depth=None, max_features=sqrt, min_samples_leaf=2, min_samples_split=2, n_estimators=700;, score=0.961 total time=  27.7s\n",
      "[CV 1/5] END bootstrap=True, max_depth=30, max_features=1.0, min_samples_leaf=2, min_samples_split=2, n_estimators=700;, score=0.990 total time= 1.6min\n",
      "[CV 1/5] END bootstrap=True, max_depth=40, max_features=sqrt, min_samples_leaf=4, min_samples_split=10, n_estimators=300;, score=0.951 total time=   6.0s\n",
      "[CV 4/5] END bootstrap=True, max_depth=40, max_features=sqrt, min_samples_leaf=4, min_samples_split=10, n_estimators=300;, score=0.948 total time=   5.9s\n",
      "[CV 4/5] END bootstrap=True, max_depth=60, max_features=log2, min_samples_leaf=1, min_samples_split=10, n_estimators=600;, score=0.943 total time=  11.0s\n",
      "[CV 2/5] END bootstrap=True, max_depth=110, max_features=sqrt, min_samples_leaf=1, min_samples_split=2, n_estimators=600;, score=0.961 total time=  16.7s\n"
     ]
    },
    {
     "name": "stdout",
     "output_type": "stream",
     "text": [
      "[CV 1/5] END bootstrap=True, max_depth=100, max_features=1.0, min_samples_leaf=2, min_samples_split=2, n_estimators=100;, score=0.990 total time=  13.5s\n",
      "[CV 2/5] END bootstrap=True, max_depth=100, max_features=1.0, min_samples_leaf=2, min_samples_split=2, n_estimators=100;, score=0.991 total time=  13.4s\n",
      "[CV 5/5] END bootstrap=True, max_depth=100, max_features=1.0, min_samples_leaf=2, min_samples_split=2, n_estimators=100;, score=0.987 total time=  13.5s\n",
      "[CV 3/5] END bootstrap=False, max_depth=70, max_features=1.0, min_samples_leaf=1, min_samples_split=5, n_estimators=100;, score=0.959 total time=  22.4s\n",
      "[CV 1/5] END bootstrap=False, max_depth=80, max_features=sqrt, min_samples_leaf=1, min_samples_split=10, n_estimators=500;, score=0.964 total time=  17.2s\n",
      "[CV 2/5] END bootstrap=False, max_depth=80, max_features=sqrt, min_samples_leaf=1, min_samples_split=10, n_estimators=500;, score=0.964 total time=  17.0s\n",
      "[CV 5/5] END bootstrap=False, max_depth=80, max_features=sqrt, min_samples_leaf=1, min_samples_split=10, n_estimators=500;, score=0.960 total time=  16.9s\n",
      "[CV 3/5] END bootstrap=False, max_depth=None, max_features=log2, min_samples_leaf=2, min_samples_split=2, n_estimators=500;, score=0.954 total time=  16.8s\n",
      "[CV 4/5] END bootstrap=True, max_depth=10, max_features=1.0, min_samples_leaf=2, min_samples_split=2, n_estimators=800;, score=0.987 total time= 1.7min\n",
      "[CV 5/5] END bootstrap=True, max_depth=30, max_features=1.0, min_samples_leaf=2, min_samples_split=2, n_estimators=700;, score=0.987 total time= 1.6min\n",
      "[CV 2/5] END bootstrap=False, max_depth=None, max_features=log2, min_samples_leaf=1, min_samples_split=5, n_estimators=500;, score=0.960 total time=  16.4s\n",
      "[CV 5/5] END bootstrap=True, max_depth=110, max_features=sqrt, min_samples_leaf=1, min_samples_split=2, n_estimators=600;, score=0.957 total time=  16.8s\n"
     ]
    },
    {
     "data": {
      "text/html": [
       "<style>#sk-container-id-3 {color: black;background-color: white;}#sk-container-id-3 pre{padding: 0;}#sk-container-id-3 div.sk-toggleable {background-color: white;}#sk-container-id-3 label.sk-toggleable__label {cursor: pointer;display: block;width: 100%;margin-bottom: 0;padding: 0.3em;box-sizing: border-box;text-align: center;}#sk-container-id-3 label.sk-toggleable__label-arrow:before {content: \"▸\";float: left;margin-right: 0.25em;color: #696969;}#sk-container-id-3 label.sk-toggleable__label-arrow:hover:before {color: black;}#sk-container-id-3 div.sk-estimator:hover label.sk-toggleable__label-arrow:before {color: black;}#sk-container-id-3 div.sk-toggleable__content {max-height: 0;max-width: 0;overflow: hidden;text-align: left;background-color: #f0f8ff;}#sk-container-id-3 div.sk-toggleable__content pre {margin: 0.2em;color: black;border-radius: 0.25em;background-color: #f0f8ff;}#sk-container-id-3 input.sk-toggleable__control:checked~div.sk-toggleable__content {max-height: 200px;max-width: 100%;overflow: auto;}#sk-container-id-3 input.sk-toggleable__control:checked~label.sk-toggleable__label-arrow:before {content: \"▾\";}#sk-container-id-3 div.sk-estimator input.sk-toggleable__control:checked~label.sk-toggleable__label {background-color: #d4ebff;}#sk-container-id-3 div.sk-label input.sk-toggleable__control:checked~label.sk-toggleable__label {background-color: #d4ebff;}#sk-container-id-3 input.sk-hidden--visually {border: 0;clip: rect(1px 1px 1px 1px);clip: rect(1px, 1px, 1px, 1px);height: 1px;margin: -1px;overflow: hidden;padding: 0;position: absolute;width: 1px;}#sk-container-id-3 div.sk-estimator {font-family: monospace;background-color: #f0f8ff;border: 1px dotted black;border-radius: 0.25em;box-sizing: border-box;margin-bottom: 0.5em;}#sk-container-id-3 div.sk-estimator:hover {background-color: #d4ebff;}#sk-container-id-3 div.sk-parallel-item::after {content: \"\";width: 100%;border-bottom: 1px solid gray;flex-grow: 1;}#sk-container-id-3 div.sk-label:hover label.sk-toggleable__label {background-color: #d4ebff;}#sk-container-id-3 div.sk-serial::before {content: \"\";position: absolute;border-left: 1px solid gray;box-sizing: border-box;top: 0;bottom: 0;left: 50%;z-index: 0;}#sk-container-id-3 div.sk-serial {display: flex;flex-direction: column;align-items: center;background-color: white;padding-right: 0.2em;padding-left: 0.2em;position: relative;}#sk-container-id-3 div.sk-item {position: relative;z-index: 1;}#sk-container-id-3 div.sk-parallel {display: flex;align-items: stretch;justify-content: center;background-color: white;position: relative;}#sk-container-id-3 div.sk-item::before, #sk-container-id-3 div.sk-parallel-item::before {content: \"\";position: absolute;border-left: 1px solid gray;box-sizing: border-box;top: 0;bottom: 0;left: 50%;z-index: -1;}#sk-container-id-3 div.sk-parallel-item {display: flex;flex-direction: column;z-index: 1;position: relative;background-color: white;}#sk-container-id-3 div.sk-parallel-item:first-child::after {align-self: flex-end;width: 50%;}#sk-container-id-3 div.sk-parallel-item:last-child::after {align-self: flex-start;width: 50%;}#sk-container-id-3 div.sk-parallel-item:only-child::after {width: 0;}#sk-container-id-3 div.sk-dashed-wrapped {border: 1px dashed gray;margin: 0 0.4em 0.5em 0.4em;box-sizing: border-box;padding-bottom: 0.4em;background-color: white;}#sk-container-id-3 div.sk-label label {font-family: monospace;font-weight: bold;display: inline-block;line-height: 1.2em;}#sk-container-id-3 div.sk-label-container {text-align: center;}#sk-container-id-3 div.sk-container {/* jupyter's `normalize.less` sets `[hidden] { display: none; }` but bootstrap.min.css set `[hidden] { display: none !important; }` so we also need the `!important` here to be able to override the default hidden behavior on the sphinx rendered scikit-learn.org. See: https://github.com/scikit-learn/scikit-learn/issues/21755 */display: inline-block !important;position: relative;}#sk-container-id-3 div.sk-text-repr-fallback {display: none;}</style><div id=\"sk-container-id-3\" class=\"sk-top-container\"><div class=\"sk-text-repr-fallback\"><pre>RandomizedSearchCV(cv=5, estimator=RandomForestRegressor(random_state=42),\n",
       "                   n_iter=100, n_jobs=-1,\n",
       "                   param_distributions={&#x27;bootstrap&#x27;: [True, False],\n",
       "                                        &#x27;max_depth&#x27;: [10, 20, 30, 40, 50, 60,\n",
       "                                                      70, 80, 90, 100, 110,\n",
       "                                                      None],\n",
       "                                        &#x27;max_features&#x27;: [&#x27;log2&#x27;, &#x27;sqrt&#x27;, 1.0],\n",
       "                                        &#x27;min_samples_leaf&#x27;: [1, 2, 4],\n",
       "                                        &#x27;min_samples_split&#x27;: [2, 5, 10],\n",
       "                                        &#x27;n_estimators&#x27;: [100, 200, 300, 400,\n",
       "                                                         500, 600, 700, 800,\n",
       "                                                         900, 1000]},\n",
       "                   random_state=42, verbose=3)</pre><b>In a Jupyter environment, please rerun this cell to show the HTML representation or trust the notebook. <br />On GitHub, the HTML representation is unable to render, please try loading this page with nbviewer.org.</b></div><div class=\"sk-container\" hidden><div class=\"sk-item sk-dashed-wrapped\"><div class=\"sk-label-container\"><div class=\"sk-label sk-toggleable\"><input class=\"sk-toggleable__control sk-hidden--visually\" id=\"sk-estimator-id-3\" type=\"checkbox\" ><label for=\"sk-estimator-id-3\" class=\"sk-toggleable__label sk-toggleable__label-arrow\">RandomizedSearchCV</label><div class=\"sk-toggleable__content\"><pre>RandomizedSearchCV(cv=5, estimator=RandomForestRegressor(random_state=42),\n",
       "                   n_iter=100, n_jobs=-1,\n",
       "                   param_distributions={&#x27;bootstrap&#x27;: [True, False],\n",
       "                                        &#x27;max_depth&#x27;: [10, 20, 30, 40, 50, 60,\n",
       "                                                      70, 80, 90, 100, 110,\n",
       "                                                      None],\n",
       "                                        &#x27;max_features&#x27;: [&#x27;log2&#x27;, &#x27;sqrt&#x27;, 1.0],\n",
       "                                        &#x27;min_samples_leaf&#x27;: [1, 2, 4],\n",
       "                                        &#x27;min_samples_split&#x27;: [2, 5, 10],\n",
       "                                        &#x27;n_estimators&#x27;: [100, 200, 300, 400,\n",
       "                                                         500, 600, 700, 800,\n",
       "                                                         900, 1000]},\n",
       "                   random_state=42, verbose=3)</pre></div></div></div><div class=\"sk-parallel\"><div class=\"sk-parallel-item\"><div class=\"sk-item\"><div class=\"sk-label-container\"><div class=\"sk-label sk-toggleable\"><input class=\"sk-toggleable__control sk-hidden--visually\" id=\"sk-estimator-id-4\" type=\"checkbox\" ><label for=\"sk-estimator-id-4\" class=\"sk-toggleable__label sk-toggleable__label-arrow\">estimator: RandomForestRegressor</label><div class=\"sk-toggleable__content\"><pre>RandomForestRegressor(random_state=42)</pre></div></div></div><div class=\"sk-serial\"><div class=\"sk-item\"><div class=\"sk-estimator sk-toggleable\"><input class=\"sk-toggleable__control sk-hidden--visually\" id=\"sk-estimator-id-5\" type=\"checkbox\" ><label for=\"sk-estimator-id-5\" class=\"sk-toggleable__label sk-toggleable__label-arrow\">RandomForestRegressor</label><div class=\"sk-toggleable__content\"><pre>RandomForestRegressor(random_state=42)</pre></div></div></div></div></div></div></div></div></div></div>"
      ],
      "text/plain": [
       "RandomizedSearchCV(cv=5, estimator=RandomForestRegressor(random_state=42),\n",
       "                   n_iter=100, n_jobs=-1,\n",
       "                   param_distributions={'bootstrap': [True, False],\n",
       "                                        'max_depth': [10, 20, 30, 40, 50, 60,\n",
       "                                                      70, 80, 90, 100, 110,\n",
       "                                                      None],\n",
       "                                        'max_features': ['log2', 'sqrt', 1.0],\n",
       "                                        'min_samples_leaf': [1, 2, 4],\n",
       "                                        'min_samples_split': [2, 5, 10],\n",
       "                                        'n_estimators': [100, 200, 300, 400,\n",
       "                                                         500, 600, 700, 800,\n",
       "                                                         900, 1000]},\n",
       "                   random_state=42, verbose=3)"
      ]
     },
     "execution_count": 16,
     "metadata": {},
     "output_type": "execute_result"
    }
   ],
   "source": [
    "#fit each of the models and use cross validation to determine best fitting model\n",
    "rf_random.fit(X_train, y_train)"
   ]
  },
  {
   "cell_type": "code",
   "execution_count": 17,
   "id": "5eb1d6c9",
   "metadata": {},
   "outputs": [
    {
     "data": {
      "text/plain": [
       "{'n_estimators': 400,\n",
       " 'min_samples_split': 2,\n",
       " 'min_samples_leaf': 1,\n",
       " 'max_features': 1.0,\n",
       " 'max_depth': 110,\n",
       " 'bootstrap': True}"
      ]
     },
     "execution_count": 17,
     "metadata": {},
     "output_type": "execute_result"
    }
   ],
   "source": [
    "#obtain hyperparameters from best fitting model\n",
    "best_random_params = rf_random.best_params_\n",
    "best_random_params"
   ]
  },
  {
   "cell_type": "code",
   "execution_count": 18,
   "id": "f159d48a",
   "metadata": {},
   "outputs": [
    {
     "name": "stdout",
     "output_type": "stream",
     "text": [
      "Model Performance\n",
      "Average Error: 0.2281 degrees.\n",
      "Accuracy = 99.67%.\n",
      "R^2 = 1.00%.\n"
     ]
    }
   ],
   "source": [
    "best_random = rf_random.best_estimator_\n",
    "random_accuracy = evaluate(best_random, X_train, y_train)"
   ]
  },
  {
   "cell_type": "code",
   "execution_count": 19,
   "id": "ed229f2b",
   "metadata": {},
   "outputs": [
    {
     "name": "stdout",
     "output_type": "stream",
     "text": [
      "Model Performance\n",
      "Average Error: 0.2555 degrees.\n",
      "Accuracy = 99.63%.\n",
      "R^2 = 1.00%.\n",
      "Model Performance\n",
      "Average Error: 0.2281 degrees.\n",
      "Accuracy = 99.67%.\n",
      "R^2 = 1.00%.\n"
     ]
    }
   ],
   "source": [
    "#compare model performance from default hyperparameter random forest and\n",
    " #best fitting randomly selected hyperparamter random forest\n",
    "base_accuracy = evaluate(rf, X_train, y_train)\n",
    "random_accuracy = evaluate(best_random, X_train, y_train)"
   ]
  },
  {
   "cell_type": "code",
   "execution_count": 20,
   "id": "bbd4bd3a",
   "metadata": {},
   "outputs": [
    {
     "name": "stdout",
     "output_type": "stream",
     "text": [
      "Improvement of 0.04%.\n"
     ]
    }
   ],
   "source": [
    "#determine amount of improvement from base random forest\n",
    "print('Improvement of {:0.2f}%.'.format( 100 * (random_accuracy - base_accuracy) / base_accuracy))"
   ]
  },
  {
   "cell_type": "code",
   "execution_count": 48,
   "id": "bc820ed5",
   "metadata": {},
   "outputs": [],
   "source": [
    "#Create a narrowed down version hyperparameter values using the random search as a base for the values\n",
    "# Create the parameter grid based on the results of random search \n",
    "param_grid = {\n",
    "    'bootstrap': [True],\n",
    "    'max_depth': [17,18,19],\n",
    "    'max_features': [0.9,1.0],\n",
    "    'min_samples_leaf': [1],\n",
    "    'min_samples_split': [2],\n",
    "    'n_estimators': [598,599,600]\n",
    "}\n",
    "\n",
    "# create models from every combination of hyperparameter listed above\n",
    "grid_search = GridSearchCV(estimator = rf, param_grid = param_grid,\n",
    "                          cv = 5, n_jobs = -1, verbose = 3)"
   ]
  },
  {
   "cell_type": "code",
   "execution_count": 49,
   "id": "0f21dad9",
   "metadata": {},
   "outputs": [
    {
     "name": "stdout",
     "output_type": "stream",
     "text": [
      "Fitting 5 folds for each of 36 candidates, totalling 180 fits\n"
     ]
    },
    {
     "data": {
      "text/html": [
       "<style>#sk-container-id-8 {color: black;background-color: white;}#sk-container-id-8 pre{padding: 0;}#sk-container-id-8 div.sk-toggleable {background-color: white;}#sk-container-id-8 label.sk-toggleable__label {cursor: pointer;display: block;width: 100%;margin-bottom: 0;padding: 0.3em;box-sizing: border-box;text-align: center;}#sk-container-id-8 label.sk-toggleable__label-arrow:before {content: \"▸\";float: left;margin-right: 0.25em;color: #696969;}#sk-container-id-8 label.sk-toggleable__label-arrow:hover:before {color: black;}#sk-container-id-8 div.sk-estimator:hover label.sk-toggleable__label-arrow:before {color: black;}#sk-container-id-8 div.sk-toggleable__content {max-height: 0;max-width: 0;overflow: hidden;text-align: left;background-color: #f0f8ff;}#sk-container-id-8 div.sk-toggleable__content pre {margin: 0.2em;color: black;border-radius: 0.25em;background-color: #f0f8ff;}#sk-container-id-8 input.sk-toggleable__control:checked~div.sk-toggleable__content {max-height: 200px;max-width: 100%;overflow: auto;}#sk-container-id-8 input.sk-toggleable__control:checked~label.sk-toggleable__label-arrow:before {content: \"▾\";}#sk-container-id-8 div.sk-estimator input.sk-toggleable__control:checked~label.sk-toggleable__label {background-color: #d4ebff;}#sk-container-id-8 div.sk-label input.sk-toggleable__control:checked~label.sk-toggleable__label {background-color: #d4ebff;}#sk-container-id-8 input.sk-hidden--visually {border: 0;clip: rect(1px 1px 1px 1px);clip: rect(1px, 1px, 1px, 1px);height: 1px;margin: -1px;overflow: hidden;padding: 0;position: absolute;width: 1px;}#sk-container-id-8 div.sk-estimator {font-family: monospace;background-color: #f0f8ff;border: 1px dotted black;border-radius: 0.25em;box-sizing: border-box;margin-bottom: 0.5em;}#sk-container-id-8 div.sk-estimator:hover {background-color: #d4ebff;}#sk-container-id-8 div.sk-parallel-item::after {content: \"\";width: 100%;border-bottom: 1px solid gray;flex-grow: 1;}#sk-container-id-8 div.sk-label:hover label.sk-toggleable__label {background-color: #d4ebff;}#sk-container-id-8 div.sk-serial::before {content: \"\";position: absolute;border-left: 1px solid gray;box-sizing: border-box;top: 0;bottom: 0;left: 50%;z-index: 0;}#sk-container-id-8 div.sk-serial {display: flex;flex-direction: column;align-items: center;background-color: white;padding-right: 0.2em;padding-left: 0.2em;position: relative;}#sk-container-id-8 div.sk-item {position: relative;z-index: 1;}#sk-container-id-8 div.sk-parallel {display: flex;align-items: stretch;justify-content: center;background-color: white;position: relative;}#sk-container-id-8 div.sk-item::before, #sk-container-id-8 div.sk-parallel-item::before {content: \"\";position: absolute;border-left: 1px solid gray;box-sizing: border-box;top: 0;bottom: 0;left: 50%;z-index: -1;}#sk-container-id-8 div.sk-parallel-item {display: flex;flex-direction: column;z-index: 1;position: relative;background-color: white;}#sk-container-id-8 div.sk-parallel-item:first-child::after {align-self: flex-end;width: 50%;}#sk-container-id-8 div.sk-parallel-item:last-child::after {align-self: flex-start;width: 50%;}#sk-container-id-8 div.sk-parallel-item:only-child::after {width: 0;}#sk-container-id-8 div.sk-dashed-wrapped {border: 1px dashed gray;margin: 0 0.4em 0.5em 0.4em;box-sizing: border-box;padding-bottom: 0.4em;background-color: white;}#sk-container-id-8 div.sk-label label {font-family: monospace;font-weight: bold;display: inline-block;line-height: 1.2em;}#sk-container-id-8 div.sk-label-container {text-align: center;}#sk-container-id-8 div.sk-container {/* jupyter's `normalize.less` sets `[hidden] { display: none; }` but bootstrap.min.css set `[hidden] { display: none !important; }` so we also need the `!important` here to be able to override the default hidden behavior on the sphinx rendered scikit-learn.org. See: https://github.com/scikit-learn/scikit-learn/issues/21755 */display: inline-block !important;position: relative;}#sk-container-id-8 div.sk-text-repr-fallback {display: none;}</style><div id=\"sk-container-id-8\" class=\"sk-top-container\"><div class=\"sk-text-repr-fallback\"><pre>GridSearchCV(cv=5, estimator=RandomForestRegressor(random_state=42), n_jobs=-1,\n",
       "             param_grid={&#x27;bootstrap&#x27;: [True],\n",
       "                         &#x27;max_depth&#x27;: [15, 16, 17, 18, 19, 10],\n",
       "                         &#x27;max_features&#x27;: [0.9, 1.0], &#x27;min_samples_leaf&#x27;: [1],\n",
       "                         &#x27;min_samples_split&#x27;: [2],\n",
       "                         &#x27;n_estimators&#x27;: [598, 599, 600]},\n",
       "             verbose=3)</pre><b>In a Jupyter environment, please rerun this cell to show the HTML representation or trust the notebook. <br />On GitHub, the HTML representation is unable to render, please try loading this page with nbviewer.org.</b></div><div class=\"sk-container\" hidden><div class=\"sk-item sk-dashed-wrapped\"><div class=\"sk-label-container\"><div class=\"sk-label sk-toggleable\"><input class=\"sk-toggleable__control sk-hidden--visually\" id=\"sk-estimator-id-18\" type=\"checkbox\" ><label for=\"sk-estimator-id-18\" class=\"sk-toggleable__label sk-toggleable__label-arrow\">GridSearchCV</label><div class=\"sk-toggleable__content\"><pre>GridSearchCV(cv=5, estimator=RandomForestRegressor(random_state=42), n_jobs=-1,\n",
       "             param_grid={&#x27;bootstrap&#x27;: [True],\n",
       "                         &#x27;max_depth&#x27;: [15, 16, 17, 18, 19, 10],\n",
       "                         &#x27;max_features&#x27;: [0.9, 1.0], &#x27;min_samples_leaf&#x27;: [1],\n",
       "                         &#x27;min_samples_split&#x27;: [2],\n",
       "                         &#x27;n_estimators&#x27;: [598, 599, 600]},\n",
       "             verbose=3)</pre></div></div></div><div class=\"sk-parallel\"><div class=\"sk-parallel-item\"><div class=\"sk-item\"><div class=\"sk-label-container\"><div class=\"sk-label sk-toggleable\"><input class=\"sk-toggleable__control sk-hidden--visually\" id=\"sk-estimator-id-19\" type=\"checkbox\" ><label for=\"sk-estimator-id-19\" class=\"sk-toggleable__label sk-toggleable__label-arrow\">estimator: RandomForestRegressor</label><div class=\"sk-toggleable__content\"><pre>RandomForestRegressor(random_state=42)</pre></div></div></div><div class=\"sk-serial\"><div class=\"sk-item\"><div class=\"sk-estimator sk-toggleable\"><input class=\"sk-toggleable__control sk-hidden--visually\" id=\"sk-estimator-id-20\" type=\"checkbox\" ><label for=\"sk-estimator-id-20\" class=\"sk-toggleable__label sk-toggleable__label-arrow\">RandomForestRegressor</label><div class=\"sk-toggleable__content\"><pre>RandomForestRegressor(random_state=42)</pre></div></div></div></div></div></div></div></div></div></div>"
      ],
      "text/plain": [
       "GridSearchCV(cv=5, estimator=RandomForestRegressor(random_state=42), n_jobs=-1,\n",
       "             param_grid={'bootstrap': [True],\n",
       "                         'max_depth': [15, 16, 17, 18, 19, 10],\n",
       "                         'max_features': [0.9, 1.0], 'min_samples_leaf': [1],\n",
       "                         'min_samples_split': [2],\n",
       "                         'n_estimators': [598, 599, 600]},\n",
       "             verbose=3)"
      ]
     },
     "execution_count": 49,
     "metadata": {},
     "output_type": "execute_result"
    }
   ],
   "source": [
    "#fit models\n",
    "grid_search.fit(X_train, y_train)"
   ]
  },
  {
   "cell_type": "code",
   "execution_count": 50,
   "id": "8f85d583",
   "metadata": {},
   "outputs": [
    {
     "data": {
      "text/plain": [
       "{'bootstrap': True,\n",
       " 'max_depth': 18,\n",
       " 'max_features': 1.0,\n",
       " 'min_samples_leaf': 1,\n",
       " 'min_samples_split': 2,\n",
       " 'n_estimators': 599}"
      ]
     },
     "execution_count": 50,
     "metadata": {},
     "output_type": "execute_result"
    }
   ],
   "source": [
    "#investigate best fitting model hyperparamters\n",
    "best_grid_params = grid_search.best_params_\n",
    "best_grid_params"
   ]
  },
  {
   "cell_type": "code",
   "execution_count": 51,
   "id": "9d2d806d",
   "metadata": {},
   "outputs": [
    {
     "name": "stdout",
     "output_type": "stream",
     "text": [
      "Model Performance\n",
      "Average Error: 0.2236 degrees.\n",
      "Accuracy = 99.67%.\n",
      "R^2 = 1.00%.\n"
     ]
    }
   ],
   "source": [
    "#investigate new model fit\n",
    "best_grid = grid_search.best_estimator_\n",
    "grid_accuracy = evaluate(best_grid, X_train, y_train)"
   ]
  },
  {
   "cell_type": "code",
   "execution_count": null,
   "id": "58fa70f9",
   "metadata": {},
   "outputs": [],
   "source": []
  },
  {
   "cell_type": "code",
   "execution_count": 53,
   "id": "2afc4245",
   "metadata": {},
   "outputs": [
    {
     "name": "stdout",
     "output_type": "stream",
     "text": [
      "Improvement of 0.01%.\n"
     ]
    }
   ],
   "source": [
    "#display improvement from best random search hyper parameter values to specific hyper parameter values models\n",
    "print('Improvement of {:0.2f}%.'.format( 100 * (grid_accuracy - random_accuracy) / random_accuracy))"
   ]
  },
  {
   "cell_type": "code",
   "execution_count": 54,
   "id": "1e9e1694",
   "metadata": {},
   "outputs": [
    {
     "name": "stdout",
     "output_type": "stream",
     "text": [
      "Improvement of 0.05%.\n",
      "[CV 1/5] END bootstrap=True, max_depth=15, max_features=0.9, min_samples_leaf=1, min_samples_split=2, n_estimators=599;, score=0.990 total time= 1.3min\n",
      "[CV 3/5] END bootstrap=True, max_depth=15, max_features=0.9, min_samples_leaf=1, min_samples_split=2, n_estimators=600;, score=0.986 total time= 1.3min\n",
      "[CV 2/5] END bootstrap=True, max_depth=15, max_features=1.0, min_samples_leaf=1, min_samples_split=2, n_estimators=599;, score=0.991 total time= 1.4min\n",
      "[CV 5/5] END bootstrap=True, max_depth=15, max_features=1.0, min_samples_leaf=1, min_samples_split=2, n_estimators=600;, score=0.987 total time= 1.4min\n",
      "[CV 4/5] END bootstrap=True, max_depth=16, max_features=0.9, min_samples_leaf=1, min_samples_split=2, n_estimators=599;, score=0.988 total time= 1.3min\n",
      "[CV 2/5] END bootstrap=True, max_depth=16, max_features=1.0, min_samples_leaf=1, min_samples_split=2, n_estimators=598;, score=0.991 total time= 1.4min\n",
      "[CV 5/5] END bootstrap=True, max_depth=16, max_features=1.0, min_samples_leaf=1, min_samples_split=2, n_estimators=599;, score=0.987 total time= 1.4min\n",
      "[CV 2/5] END bootstrap=True, max_depth=17, max_features=0.9, min_samples_leaf=1, min_samples_split=2, n_estimators=598;, score=0.991 total time= 1.3min\n",
      "[CV 5/5] END bootstrap=True, max_depth=17, max_features=0.9, min_samples_leaf=1, min_samples_split=2, n_estimators=599;, score=0.987 total time= 1.3min\n",
      "[CV 3/5] END bootstrap=True, max_depth=17, max_features=1.0, min_samples_leaf=1, min_samples_split=2, n_estimators=598;, score=0.986 total time= 1.4min\n",
      "[CV 1/5] END bootstrap=True, max_depth=17, max_features=1.0, min_samples_leaf=1, min_samples_split=2, n_estimators=600;, score=0.990 total time= 1.5min\n",
      "[CV 4/5] END bootstrap=True, max_depth=18, max_features=0.9, min_samples_leaf=1, min_samples_split=2, n_estimators=598;, score=0.988 total time= 1.3min\n",
      "[CV 2/5] END bootstrap=True, max_depth=18, max_features=0.9, min_samples_leaf=1, min_samples_split=2, n_estimators=600;, score=0.991 total time= 1.3min\n",
      "[CV 1/5] END bootstrap=True, max_depth=18, max_features=1.0, min_samples_leaf=1, min_samples_split=2, n_estimators=599;, score=0.990 total time= 1.4min\n",
      "[CV 4/5] END bootstrap=True, max_depth=18, max_features=1.0, min_samples_leaf=1, min_samples_split=2, n_estimators=600;, score=0.988 total time= 1.5min\n",
      "[CV 5/5] END bootstrap=True, max_depth=19, max_features=0.9, min_samples_leaf=1, min_samples_split=2, n_estimators=598;, score=0.987 total time= 1.3min\n",
      "[CV 3/5] END bootstrap=True, max_depth=19, max_features=0.9, min_samples_leaf=1, min_samples_split=2, n_estimators=600;, score=0.986 total time= 1.3min\n",
      "[CV 1/5] END bootstrap=True, max_depth=19, max_features=1.0, min_samples_leaf=1, min_samples_split=2, n_estimators=599;, score=0.990 total time= 1.5min\n",
      "[CV 4/5] END bootstrap=True, max_depth=19, max_features=1.0, min_samples_leaf=1, min_samples_split=2, n_estimators=600;, score=0.988 total time= 1.5min\n",
      "[CV 3/5] END bootstrap=True, max_depth=10, max_features=0.9, min_samples_leaf=1, min_samples_split=2, n_estimators=599;, score=0.985 total time= 1.0min\n",
      "[CV 1/5] END bootstrap=True, max_depth=10, max_features=1.0, min_samples_leaf=1, min_samples_split=2, n_estimators=598;, score=0.989 total time= 1.1min\n",
      "[CV 4/5] END bootstrap=True, max_depth=10, max_features=1.0, min_samples_leaf=1, min_samples_split=2, n_estimators=599;, score=0.987 total time= 1.1min\n",
      "[CV 2/5] END bootstrap=True, max_depth=15, max_features=0.9, min_samples_leaf=1, min_samples_split=2, n_estimators=598;, score=0.991 total time= 1.3min\n",
      "[CV 4/5] END bootstrap=True, max_depth=15, max_features=0.9, min_samples_leaf=1, min_samples_split=2, n_estimators=600;, score=0.988 total time= 1.3min\n",
      "[CV 1/5] END bootstrap=True, max_depth=15, max_features=1.0, min_samples_leaf=1, min_samples_split=2, n_estimators=599;, score=0.990 total time= 1.4min\n",
      "[CV 4/5] END bootstrap=True, max_depth=15, max_features=1.0, min_samples_leaf=1, min_samples_split=2, n_estimators=600;, score=0.988 total time= 1.4min\n",
      "[CV 3/5] END bootstrap=True, max_depth=16, max_features=0.9, min_samples_leaf=1, min_samples_split=2, n_estimators=599;, score=0.986 total time= 1.3min\n",
      "[CV 1/5] END bootstrap=True, max_depth=16, max_features=1.0, min_samples_leaf=1, min_samples_split=2, n_estimators=598;, score=0.990 total time= 1.4min\n",
      "[CV 4/5] END bootstrap=True, max_depth=16, max_features=1.0, min_samples_leaf=1, min_samples_split=2, n_estimators=599;, score=0.988 total time= 1.4min\n",
      "[CV 3/5] END bootstrap=True, max_depth=17, max_features=0.9, min_samples_leaf=1, min_samples_split=2, n_estimators=598;, score=0.986 total time= 1.3min\n",
      "[CV 1/5] END bootstrap=True, max_depth=17, max_features=0.9, min_samples_leaf=1, min_samples_split=2, n_estimators=600;, score=0.990 total time= 1.3min\n",
      "[CV 4/5] END bootstrap=True, max_depth=17, max_features=1.0, min_samples_leaf=1, min_samples_split=2, n_estimators=598;, score=0.988 total time= 1.4min\n",
      "[CV 2/5] END bootstrap=True, max_depth=17, max_features=1.0, min_samples_leaf=1, min_samples_split=2, n_estimators=600;, score=0.991 total time= 1.5min\n",
      "[CV 5/5] END bootstrap=True, max_depth=18, max_features=0.9, min_samples_leaf=1, min_samples_split=2, n_estimators=598;, score=0.987 total time= 1.3min\n",
      "[CV 3/5] END bootstrap=True, max_depth=18, max_features=0.9, min_samples_leaf=1, min_samples_split=2, n_estimators=600;, score=0.986 total time= 1.3min\n",
      "[CV 5/5] END bootstrap=True, max_depth=18, max_features=1.0, min_samples_leaf=1, min_samples_split=2, n_estimators=598;, score=0.987 total time= 1.4min\n",
      "[CV 3/5] END bootstrap=True, max_depth=18, max_features=1.0, min_samples_leaf=1, min_samples_split=2, n_estimators=600;, score=0.986 total time= 1.5min\n",
      "[CV 2/5] END bootstrap=True, max_depth=19, max_features=0.9, min_samples_leaf=1, min_samples_split=2, n_estimators=599;, score=0.991 total time= 1.4min\n",
      "[CV 5/5] END bootstrap=True, max_depth=19, max_features=0.9, min_samples_leaf=1, min_samples_split=2, n_estimators=600;, score=0.987 total time= 1.3min\n",
      "[CV 2/5] END bootstrap=True, max_depth=19, max_features=1.0, min_samples_leaf=1, min_samples_split=2, n_estimators=599;, score=0.991 total time= 1.5min\n",
      "[CV 5/5] END bootstrap=True, max_depth=19, max_features=1.0, min_samples_leaf=1, min_samples_split=2, n_estimators=600;, score=0.987 total time= 1.5min\n",
      "[CV 5/5] END bootstrap=True, max_depth=10, max_features=0.9, min_samples_leaf=1, min_samples_split=2, n_estimators=599;, score=0.986 total time= 1.0min\n",
      "[CV 3/5] END bootstrap=True, max_depth=10, max_features=1.0, min_samples_leaf=1, min_samples_split=2, n_estimators=598;, score=0.985 total time= 1.1min\n",
      "[CV 1/5] END bootstrap=True, max_depth=10, max_features=1.0, min_samples_leaf=1, min_samples_split=2, n_estimators=600;, score=0.989 total time= 1.1min\n",
      "[CV 4/5] END bootstrap=True, max_depth=15, max_features=0.9, min_samples_leaf=1, min_samples_split=2, n_estimators=598;, score=0.988 total time= 1.3min\n",
      "[CV 1/5] END bootstrap=True, max_depth=15, max_features=1.0, min_samples_leaf=1, min_samples_split=2, n_estimators=598;, score=0.990 total time= 1.4min\n",
      "[CV 4/5] END bootstrap=True, max_depth=15, max_features=1.0, min_samples_leaf=1, min_samples_split=2, n_estimators=599;, score=0.988 total time= 1.4min\n",
      "[CV 2/5] END bootstrap=True, max_depth=16, max_features=0.9, min_samples_leaf=1, min_samples_split=2, n_estimators=598;, score=0.991 total time= 1.3min\n",
      "[CV 5/5] END bootstrap=True, max_depth=16, max_features=0.9, min_samples_leaf=1, min_samples_split=2, n_estimators=599;, score=0.987 total time= 1.3min\n",
      "[CV 3/5] END bootstrap=True, max_depth=16, max_features=1.0, min_samples_leaf=1, min_samples_split=2, n_estimators=598;, score=0.986 total time= 1.4min\n",
      "[CV 1/5] END bootstrap=True, max_depth=16, max_features=1.0, min_samples_leaf=1, min_samples_split=2, n_estimators=600;, score=0.990 total time= 1.4min\n",
      "[CV 4/5] END bootstrap=True, max_depth=17, max_features=0.9, min_samples_leaf=1, min_samples_split=2, n_estimators=598;, score=0.988 total time= 1.3min\n",
      "[CV 2/5] END bootstrap=True, max_depth=17, max_features=0.9, min_samples_leaf=1, min_samples_split=2, n_estimators=600;, score=0.991 total time= 1.3min\n",
      "[CV 5/5] END bootstrap=True, max_depth=17, max_features=1.0, min_samples_leaf=1, min_samples_split=2, n_estimators=598;, score=0.987 total time= 1.4min\n",
      "[CV 3/5] END bootstrap=True, max_depth=17, max_features=1.0, min_samples_leaf=1, min_samples_split=2, n_estimators=600;, score=0.986 total time= 1.5min\n",
      "[CV 1/5] END bootstrap=True, max_depth=18, max_features=0.9, min_samples_leaf=1, min_samples_split=2, n_estimators=599;, score=0.990 total time= 1.3min\n",
      "[CV 4/5] END bootstrap=True, max_depth=18, max_features=0.9, min_samples_leaf=1, min_samples_split=2, n_estimators=600;, score=0.988 total time= 1.3min\n",
      "[CV 2/5] END bootstrap=True, max_depth=18, max_features=1.0, min_samples_leaf=1, min_samples_split=2, n_estimators=599;, score=0.991 total time= 1.4min\n",
      "[CV 5/5] END bootstrap=True, max_depth=18, max_features=1.0, min_samples_leaf=1, min_samples_split=2, n_estimators=600;, score=0.987 total time= 1.5min\n",
      "[CV 3/5] END bootstrap=True, max_depth=19, max_features=0.9, min_samples_leaf=1, min_samples_split=2, n_estimators=599;, score=0.986 total time= 1.3min\n",
      "[CV 1/5] END bootstrap=True, max_depth=19, max_features=1.0, min_samples_leaf=1, min_samples_split=2, n_estimators=598;, score=0.990 total time= 1.5min\n",
      "[CV 4/5] END bootstrap=True, max_depth=19, max_features=1.0, min_samples_leaf=1, min_samples_split=2, n_estimators=599;, score=0.988 total time= 1.5min\n",
      "[CV 2/5] END bootstrap=True, max_depth=10, max_features=0.9, min_samples_leaf=1, min_samples_split=2, n_estimators=598;, score=0.990 total time= 1.0min\n",
      "[CV 4/5] END bootstrap=True, max_depth=10, max_features=0.9, min_samples_leaf=1, min_samples_split=2, n_estimators=599;, score=0.987 total time= 1.0min\n",
      "[CV 2/5] END bootstrap=True, max_depth=10, max_features=1.0, min_samples_leaf=1, min_samples_split=2, n_estimators=598;, score=0.990 total time= 1.2min\n",
      "[CV 5/5] END bootstrap=True, max_depth=10, max_features=1.0, min_samples_leaf=1, min_samples_split=2, n_estimators=599;, score=0.986 total time= 1.1min\n"
     ]
    },
    {
     "name": "stdout",
     "output_type": "stream",
     "text": [
      "[CV 1/5] END bootstrap=True, max_depth=15, max_features=0.9, min_samples_leaf=1, min_samples_split=2, n_estimators=598;, score=0.990 total time= 1.3min\n",
      "[CV 5/5] END bootstrap=True, max_depth=15, max_features=0.9, min_samples_leaf=1, min_samples_split=2, n_estimators=599;, score=0.987 total time= 1.3min\n",
      "[CV 3/5] END bootstrap=True, max_depth=15, max_features=1.0, min_samples_leaf=1, min_samples_split=2, n_estimators=598;, score=0.986 total time= 1.4min\n",
      "[CV 1/5] END bootstrap=True, max_depth=15, max_features=1.0, min_samples_leaf=1, min_samples_split=2, n_estimators=600;, score=0.990 total time= 1.4min\n",
      "[CV 5/5] END bootstrap=True, max_depth=16, max_features=0.9, min_samples_leaf=1, min_samples_split=2, n_estimators=598;, score=0.987 total time= 1.3min\n",
      "[CV 3/5] END bootstrap=True, max_depth=16, max_features=0.9, min_samples_leaf=1, min_samples_split=2, n_estimators=600;, score=0.986 total time= 1.3min\n",
      "[CV 1/5] END bootstrap=True, max_depth=16, max_features=1.0, min_samples_leaf=1, min_samples_split=2, n_estimators=599;, score=0.990 total time= 1.4min\n",
      "[CV 3/5] END bootstrap=True, max_depth=16, max_features=1.0, min_samples_leaf=1, min_samples_split=2, n_estimators=600;, score=0.986 total time= 1.4min\n",
      "[CV 2/5] END bootstrap=True, max_depth=17, max_features=0.9, min_samples_leaf=1, min_samples_split=2, n_estimators=599;, score=0.991 total time= 1.3min\n",
      "[CV 5/5] END bootstrap=True, max_depth=17, max_features=0.9, min_samples_leaf=1, min_samples_split=2, n_estimators=600;, score=0.987 total time= 1.3min\n",
      "[CV 3/5] END bootstrap=True, max_depth=17, max_features=1.0, min_samples_leaf=1, min_samples_split=2, n_estimators=599;, score=0.986 total time= 1.4min\n",
      "[CV 1/5] END bootstrap=True, max_depth=18, max_features=0.9, min_samples_leaf=1, min_samples_split=2, n_estimators=598;, score=0.990 total time= 1.3min\n",
      "[CV 2/5] END bootstrap=True, max_depth=18, max_features=0.9, min_samples_leaf=1, min_samples_split=2, n_estimators=599;, score=0.991 total time= 1.3min\n",
      "[CV 5/5] END bootstrap=True, max_depth=18, max_features=0.9, min_samples_leaf=1, min_samples_split=2, n_estimators=600;, score=0.987 total time= 1.3min\n",
      "[CV 3/5] END bootstrap=True, max_depth=18, max_features=1.0, min_samples_leaf=1, min_samples_split=2, n_estimators=599;, score=0.986 total time= 1.4min\n",
      "[CV 1/5] END bootstrap=True, max_depth=19, max_features=0.9, min_samples_leaf=1, min_samples_split=2, n_estimators=598;, score=0.990 total time= 1.3min\n",
      "[CV 4/5] END bootstrap=True, max_depth=19, max_features=0.9, min_samples_leaf=1, min_samples_split=2, n_estimators=599;, score=0.988 total time= 1.3min\n",
      "[CV 2/5] END bootstrap=True, max_depth=19, max_features=1.0, min_samples_leaf=1, min_samples_split=2, n_estimators=598;, score=0.991 total time= 1.5min\n",
      "[CV 5/5] END bootstrap=True, max_depth=19, max_features=1.0, min_samples_leaf=1, min_samples_split=2, n_estimators=599;, score=0.987 total time= 1.5min\n",
      "[CV 3/5] END bootstrap=True, max_depth=10, max_features=0.9, min_samples_leaf=1, min_samples_split=2, n_estimators=598;, score=0.985 total time= 1.0min\n",
      "[CV 1/5] END bootstrap=True, max_depth=10, max_features=0.9, min_samples_leaf=1, min_samples_split=2, n_estimators=600;, score=0.989 total time= 1.0min\n",
      "[CV 4/5] END bootstrap=True, max_depth=10, max_features=1.0, min_samples_leaf=1, min_samples_split=2, n_estimators=598;, score=0.987 total time= 1.1min\n",
      "[CV 2/5] END bootstrap=True, max_depth=10, max_features=1.0, min_samples_leaf=1, min_samples_split=2, n_estimators=600;, score=0.990 total time=  59.4s\n",
      "[CV 3/5] END bootstrap=True, max_depth=15, max_features=0.9, min_samples_leaf=1, min_samples_split=2, n_estimators=599;, score=0.986 total time= 1.3min\n",
      "[CV 5/5] END bootstrap=True, max_depth=15, max_features=0.9, min_samples_leaf=1, min_samples_split=2, n_estimators=600;, score=0.987 total time= 1.3min\n",
      "[CV 3/5] END bootstrap=True, max_depth=15, max_features=1.0, min_samples_leaf=1, min_samples_split=2, n_estimators=599;, score=0.986 total time= 1.4min\n",
      "[CV 1/5] END bootstrap=True, max_depth=16, max_features=0.9, min_samples_leaf=1, min_samples_split=2, n_estimators=598;, score=0.990 total time= 1.3min\n",
      "[CV 3/5] END bootstrap=True, max_depth=16, max_features=0.9, min_samples_leaf=1, min_samples_split=2, n_estimators=598;, score=0.986 total time= 1.3min\n",
      "[CV 1/5] END bootstrap=True, max_depth=16, max_features=0.9, min_samples_leaf=1, min_samples_split=2, n_estimators=600;, score=0.990 total time= 1.3min\n",
      "[CV 5/5] END bootstrap=True, max_depth=16, max_features=1.0, min_samples_leaf=1, min_samples_split=2, n_estimators=598;, score=0.987 total time= 1.4min\n",
      "[CV 4/5] END bootstrap=True, max_depth=16, max_features=1.0, min_samples_leaf=1, min_samples_split=2, n_estimators=600;, score=0.988 total time= 1.4min\n",
      "[CV 4/5] END bootstrap=True, max_depth=17, max_features=0.9, min_samples_leaf=1, min_samples_split=2, n_estimators=599;, score=0.988 total time= 1.3min\n",
      "[CV 2/5] END bootstrap=True, max_depth=17, max_features=1.0, min_samples_leaf=1, min_samples_split=2, n_estimators=598;, score=0.991 total time= 1.4min\n",
      "[CV 5/5] END bootstrap=True, max_depth=17, max_features=1.0, min_samples_leaf=1, min_samples_split=2, n_estimators=599;, score=0.987 total time= 1.5min\n",
      "[CV 3/5] END bootstrap=True, max_depth=18, max_features=0.9, min_samples_leaf=1, min_samples_split=2, n_estimators=598;, score=0.986 total time= 1.3min\n",
      "[CV 1/5] END bootstrap=True, max_depth=18, max_features=0.9, min_samples_leaf=1, min_samples_split=2, n_estimators=600;, score=0.990 total time= 1.3min\n",
      "[CV 4/5] END bootstrap=True, max_depth=18, max_features=1.0, min_samples_leaf=1, min_samples_split=2, n_estimators=598;, score=0.988 total time= 1.4min\n",
      "[CV 2/5] END bootstrap=True, max_depth=18, max_features=1.0, min_samples_leaf=1, min_samples_split=2, n_estimators=600;, score=0.991 total time= 1.5min\n",
      "[CV 1/5] END bootstrap=True, max_depth=19, max_features=0.9, min_samples_leaf=1, min_samples_split=2, n_estimators=599;, score=0.990 total time= 1.3min\n",
      "[CV 4/5] END bootstrap=True, max_depth=19, max_features=0.9, min_samples_leaf=1, min_samples_split=2, n_estimators=600;, score=0.988 total time= 1.3min\n",
      "[CV 3/5] END bootstrap=True, max_depth=19, max_features=1.0, min_samples_leaf=1, min_samples_split=2, n_estimators=599;, score=0.986 total time= 1.5min\n",
      "[CV 1/5] END bootstrap=True, max_depth=10, max_features=0.9, min_samples_leaf=1, min_samples_split=2, n_estimators=598;, score=0.989 total time= 1.0min\n",
      "[CV 4/5] END bootstrap=True, max_depth=10, max_features=0.9, min_samples_leaf=1, min_samples_split=2, n_estimators=598;, score=0.987 total time= 1.0min\n",
      "[CV 2/5] END bootstrap=True, max_depth=10, max_features=0.9, min_samples_leaf=1, min_samples_split=2, n_estimators=600;, score=0.990 total time= 1.0min\n",
      "[CV 5/5] END bootstrap=True, max_depth=10, max_features=1.0, min_samples_leaf=1, min_samples_split=2, n_estimators=598;, score=0.986 total time= 1.2min\n",
      "[CV 3/5] END bootstrap=True, max_depth=10, max_features=1.0, min_samples_leaf=1, min_samples_split=2, n_estimators=600;, score=0.985 total time=  57.4s\n",
      "[CV 5/5] END bootstrap=True, max_depth=15, max_features=0.9, min_samples_leaf=1, min_samples_split=2, n_estimators=598;, score=0.987 total time= 1.3min\n",
      "[CV 1/5] END bootstrap=True, max_depth=15, max_features=0.9, min_samples_leaf=1, min_samples_split=2, n_estimators=600;, score=0.990 total time= 1.3min\n",
      "[CV 5/5] END bootstrap=True, max_depth=15, max_features=1.0, min_samples_leaf=1, min_samples_split=2, n_estimators=598;, score=0.987 total time= 1.4min\n",
      "[CV 3/5] END bootstrap=True, max_depth=15, max_features=1.0, min_samples_leaf=1, min_samples_split=2, n_estimators=600;, score=0.986 total time= 1.4min\n",
      "[CV 2/5] END bootstrap=True, max_depth=16, max_features=0.9, min_samples_leaf=1, min_samples_split=2, n_estimators=599;, score=0.991 total time= 1.3min\n",
      "[CV 5/5] END bootstrap=True, max_depth=16, max_features=0.9, min_samples_leaf=1, min_samples_split=2, n_estimators=600;, score=0.987 total time= 1.3min\n",
      "[CV 3/5] END bootstrap=True, max_depth=16, max_features=1.0, min_samples_leaf=1, min_samples_split=2, n_estimators=599;, score=0.986 total time= 1.4min\n",
      "[CV 1/5] END bootstrap=True, max_depth=17, max_features=0.9, min_samples_leaf=1, min_samples_split=2, n_estimators=598;, score=0.990 total time= 1.3min\n",
      "[CV 5/5] END bootstrap=True, max_depth=17, max_features=0.9, min_samples_leaf=1, min_samples_split=2, n_estimators=598;, score=0.987 total time= 1.3min\n",
      "[CV 3/5] END bootstrap=True, max_depth=17, max_features=0.9, min_samples_leaf=1, min_samples_split=2, n_estimators=600;, score=0.986 total time= 1.3min\n",
      "[CV 1/5] END bootstrap=True, max_depth=17, max_features=1.0, min_samples_leaf=1, min_samples_split=2, n_estimators=599;, score=0.990 total time= 1.4min\n",
      "[CV 4/5] END bootstrap=True, max_depth=17, max_features=1.0, min_samples_leaf=1, min_samples_split=2, n_estimators=600;, score=0.988 total time= 1.4min\n",
      "[CV 3/5] END bootstrap=True, max_depth=18, max_features=0.9, min_samples_leaf=1, min_samples_split=2, n_estimators=599;, score=0.986 total time= 1.3min\n",
      "[CV 1/5] END bootstrap=True, max_depth=18, max_features=1.0, min_samples_leaf=1, min_samples_split=2, n_estimators=598;, score=0.990 total time= 1.4min\n",
      "[CV 4/5] END bootstrap=True, max_depth=18, max_features=1.0, min_samples_leaf=1, min_samples_split=2, n_estimators=599;, score=0.988 total time= 1.4min\n",
      "[CV 2/5] END bootstrap=True, max_depth=19, max_features=0.9, min_samples_leaf=1, min_samples_split=2, n_estimators=598;, score=0.991 total time= 1.3min\n",
      "[CV 5/5] END bootstrap=True, max_depth=19, max_features=0.9, min_samples_leaf=1, min_samples_split=2, n_estimators=599;, score=0.987 total time= 1.3min\n",
      "[CV 3/5] END bootstrap=True, max_depth=19, max_features=1.0, min_samples_leaf=1, min_samples_split=2, n_estimators=598;, score=0.986 total time= 1.5min\n",
      "[CV 1/5] END bootstrap=True, max_depth=19, max_features=1.0, min_samples_leaf=1, min_samples_split=2, n_estimators=600;, score=0.990 total time= 1.5min\n",
      "[CV 5/5] END bootstrap=True, max_depth=10, max_features=0.9, min_samples_leaf=1, min_samples_split=2, n_estimators=598;, score=0.986 total time= 1.0min\n",
      "[CV 3/5] END bootstrap=True, max_depth=10, max_features=0.9, min_samples_leaf=1, min_samples_split=2, n_estimators=600;, score=0.985 total time= 1.0min\n",
      "[CV 1/5] END bootstrap=True, max_depth=10, max_features=1.0, min_samples_leaf=1, min_samples_split=2, n_estimators=599;, score=0.989 total time= 1.1min\n",
      "[CV 4/5] END bootstrap=True, max_depth=10, max_features=1.0, min_samples_leaf=1, min_samples_split=2, n_estimators=600;, score=0.987 total time=  55.5s\n"
     ]
    },
    {
     "name": "stdout",
     "output_type": "stream",
     "text": [
      "[CV 2/5] END bootstrap=True, max_depth=15, max_features=0.9, min_samples_leaf=1, min_samples_split=2, n_estimators=599;, score=0.991 total time= 1.3min\n",
      "[CV 2/5] END bootstrap=True, max_depth=15, max_features=0.9, min_samples_leaf=1, min_samples_split=2, n_estimators=600;, score=0.991 total time= 1.3min\n",
      "[CV 4/5] END bootstrap=True, max_depth=15, max_features=1.0, min_samples_leaf=1, min_samples_split=2, n_estimators=598;, score=0.988 total time= 1.4min\n",
      "[CV 2/5] END bootstrap=True, max_depth=15, max_features=1.0, min_samples_leaf=1, min_samples_split=2, n_estimators=600;, score=0.991 total time= 1.4min\n",
      "[CV 1/5] END bootstrap=True, max_depth=16, max_features=0.9, min_samples_leaf=1, min_samples_split=2, n_estimators=599;, score=0.990 total time= 1.3min\n",
      "[CV 4/5] END bootstrap=True, max_depth=16, max_features=0.9, min_samples_leaf=1, min_samples_split=2, n_estimators=600;, score=0.988 total time= 1.3min\n",
      "[CV 2/5] END bootstrap=True, max_depth=16, max_features=1.0, min_samples_leaf=1, min_samples_split=2, n_estimators=599;, score=0.991 total time= 1.4min\n",
      "[CV 5/5] END bootstrap=True, max_depth=16, max_features=1.0, min_samples_leaf=1, min_samples_split=2, n_estimators=600;, score=0.987 total time= 1.4min\n",
      "[CV 3/5] END bootstrap=True, max_depth=17, max_features=0.9, min_samples_leaf=1, min_samples_split=2, n_estimators=599;, score=0.986 total time= 1.3min\n",
      "[CV 1/5] END bootstrap=True, max_depth=17, max_features=1.0, min_samples_leaf=1, min_samples_split=2, n_estimators=598;, score=0.990 total time= 1.4min\n",
      "[CV 4/5] END bootstrap=True, max_depth=17, max_features=1.0, min_samples_leaf=1, min_samples_split=2, n_estimators=599;, score=0.988 total time= 1.4min\n",
      "[CV 2/5] END bootstrap=True, max_depth=18, max_features=0.9, min_samples_leaf=1, min_samples_split=2, n_estimators=598;, score=0.991 total time= 1.3min\n",
      "[CV 5/5] END bootstrap=True, max_depth=18, max_features=0.9, min_samples_leaf=1, min_samples_split=2, n_estimators=599;, score=0.987 total time= 1.3min\n",
      "[CV 3/5] END bootstrap=True, max_depth=18, max_features=1.0, min_samples_leaf=1, min_samples_split=2, n_estimators=598;, score=0.986 total time= 1.4min\n",
      "[CV 5/5] END bootstrap=True, max_depth=18, max_features=1.0, min_samples_leaf=1, min_samples_split=2, n_estimators=599;, score=0.987 total time= 1.4min\n",
      "[CV 3/5] END bootstrap=True, max_depth=19, max_features=0.9, min_samples_leaf=1, min_samples_split=2, n_estimators=598;, score=0.986 total time= 1.3min\n",
      "[CV 1/5] END bootstrap=True, max_depth=19, max_features=0.9, min_samples_leaf=1, min_samples_split=2, n_estimators=600;, score=0.990 total time= 1.3min\n",
      "[CV 4/5] END bootstrap=True, max_depth=19, max_features=1.0, min_samples_leaf=1, min_samples_split=2, n_estimators=598;, score=0.988 total time= 1.5min\n",
      "[CV 2/5] END bootstrap=True, max_depth=19, max_features=1.0, min_samples_leaf=1, min_samples_split=2, n_estimators=600;, score=0.991 total time= 1.5min\n",
      "[CV 1/5] END bootstrap=True, max_depth=10, max_features=0.9, min_samples_leaf=1, min_samples_split=2, n_estimators=599;, score=0.989 total time= 1.0min\n",
      "[CV 4/5] END bootstrap=True, max_depth=10, max_features=0.9, min_samples_leaf=1, min_samples_split=2, n_estimators=600;, score=0.987 total time= 1.0min\n",
      "[CV 2/5] END bootstrap=True, max_depth=10, max_features=1.0, min_samples_leaf=1, min_samples_split=2, n_estimators=599;, score=0.990 total time= 1.1min\n",
      "[CV 5/5] END bootstrap=True, max_depth=10, max_features=1.0, min_samples_leaf=1, min_samples_split=2, n_estimators=600;, score=0.986 total time=  54.5s\n"
     ]
    }
   ],
   "source": [
    "#display improvement from base hyper parameter values to specific hyper parameter values models\n",
    "print('Improvement of {:0.2f}%.'.format( 100 * (grid_accuracy - base_accuracy) / base_accuracy))"
   ]
  },
  {
   "cell_type": "code",
   "execution_count": 55,
   "id": "67ef79d6",
   "metadata": {},
   "outputs": [],
   "source": [
    "#fit training data using optimized random forest hyper parameter values\n",
    "best_rf = RandomForestRegressor(n_estimators = 599,\n",
    "                                min_samples_split = 2,\n",
    "                                min_samples_leaf = 1,\n",
    "                               max_features = 1.0,\n",
    "                                max_depth = 18,\n",
    "                                bootstrap = True)"
   ]
  },
  {
   "cell_type": "code",
   "execution_count": 56,
   "id": "3cb6fac0",
   "metadata": {},
   "outputs": [
    {
     "data": {
      "text/html": [
       "<style>#sk-container-id-9 {color: black;background-color: white;}#sk-container-id-9 pre{padding: 0;}#sk-container-id-9 div.sk-toggleable {background-color: white;}#sk-container-id-9 label.sk-toggleable__label {cursor: pointer;display: block;width: 100%;margin-bottom: 0;padding: 0.3em;box-sizing: border-box;text-align: center;}#sk-container-id-9 label.sk-toggleable__label-arrow:before {content: \"▸\";float: left;margin-right: 0.25em;color: #696969;}#sk-container-id-9 label.sk-toggleable__label-arrow:hover:before {color: black;}#sk-container-id-9 div.sk-estimator:hover label.sk-toggleable__label-arrow:before {color: black;}#sk-container-id-9 div.sk-toggleable__content {max-height: 0;max-width: 0;overflow: hidden;text-align: left;background-color: #f0f8ff;}#sk-container-id-9 div.sk-toggleable__content pre {margin: 0.2em;color: black;border-radius: 0.25em;background-color: #f0f8ff;}#sk-container-id-9 input.sk-toggleable__control:checked~div.sk-toggleable__content {max-height: 200px;max-width: 100%;overflow: auto;}#sk-container-id-9 input.sk-toggleable__control:checked~label.sk-toggleable__label-arrow:before {content: \"▾\";}#sk-container-id-9 div.sk-estimator input.sk-toggleable__control:checked~label.sk-toggleable__label {background-color: #d4ebff;}#sk-container-id-9 div.sk-label input.sk-toggleable__control:checked~label.sk-toggleable__label {background-color: #d4ebff;}#sk-container-id-9 input.sk-hidden--visually {border: 0;clip: rect(1px 1px 1px 1px);clip: rect(1px, 1px, 1px, 1px);height: 1px;margin: -1px;overflow: hidden;padding: 0;position: absolute;width: 1px;}#sk-container-id-9 div.sk-estimator {font-family: monospace;background-color: #f0f8ff;border: 1px dotted black;border-radius: 0.25em;box-sizing: border-box;margin-bottom: 0.5em;}#sk-container-id-9 div.sk-estimator:hover {background-color: #d4ebff;}#sk-container-id-9 div.sk-parallel-item::after {content: \"\";width: 100%;border-bottom: 1px solid gray;flex-grow: 1;}#sk-container-id-9 div.sk-label:hover label.sk-toggleable__label {background-color: #d4ebff;}#sk-container-id-9 div.sk-serial::before {content: \"\";position: absolute;border-left: 1px solid gray;box-sizing: border-box;top: 0;bottom: 0;left: 50%;z-index: 0;}#sk-container-id-9 div.sk-serial {display: flex;flex-direction: column;align-items: center;background-color: white;padding-right: 0.2em;padding-left: 0.2em;position: relative;}#sk-container-id-9 div.sk-item {position: relative;z-index: 1;}#sk-container-id-9 div.sk-parallel {display: flex;align-items: stretch;justify-content: center;background-color: white;position: relative;}#sk-container-id-9 div.sk-item::before, #sk-container-id-9 div.sk-parallel-item::before {content: \"\";position: absolute;border-left: 1px solid gray;box-sizing: border-box;top: 0;bottom: 0;left: 50%;z-index: -1;}#sk-container-id-9 div.sk-parallel-item {display: flex;flex-direction: column;z-index: 1;position: relative;background-color: white;}#sk-container-id-9 div.sk-parallel-item:first-child::after {align-self: flex-end;width: 50%;}#sk-container-id-9 div.sk-parallel-item:last-child::after {align-self: flex-start;width: 50%;}#sk-container-id-9 div.sk-parallel-item:only-child::after {width: 0;}#sk-container-id-9 div.sk-dashed-wrapped {border: 1px dashed gray;margin: 0 0.4em 0.5em 0.4em;box-sizing: border-box;padding-bottom: 0.4em;background-color: white;}#sk-container-id-9 div.sk-label label {font-family: monospace;font-weight: bold;display: inline-block;line-height: 1.2em;}#sk-container-id-9 div.sk-label-container {text-align: center;}#sk-container-id-9 div.sk-container {/* jupyter's `normalize.less` sets `[hidden] { display: none; }` but bootstrap.min.css set `[hidden] { display: none !important; }` so we also need the `!important` here to be able to override the default hidden behavior on the sphinx rendered scikit-learn.org. See: https://github.com/scikit-learn/scikit-learn/issues/21755 */display: inline-block !important;position: relative;}#sk-container-id-9 div.sk-text-repr-fallback {display: none;}</style><div id=\"sk-container-id-9\" class=\"sk-top-container\"><div class=\"sk-text-repr-fallback\"><pre>RandomForestRegressor(max_depth=18, n_estimators=599)</pre><b>In a Jupyter environment, please rerun this cell to show the HTML representation or trust the notebook. <br />On GitHub, the HTML representation is unable to render, please try loading this page with nbviewer.org.</b></div><div class=\"sk-container\" hidden><div class=\"sk-item\"><div class=\"sk-estimator sk-toggleable\"><input class=\"sk-toggleable__control sk-hidden--visually\" id=\"sk-estimator-id-21\" type=\"checkbox\" checked><label for=\"sk-estimator-id-21\" class=\"sk-toggleable__label sk-toggleable__label-arrow\">RandomForestRegressor</label><div class=\"sk-toggleable__content\"><pre>RandomForestRegressor(max_depth=18, n_estimators=599)</pre></div></div></div></div></div>"
      ],
      "text/plain": [
       "RandomForestRegressor(max_depth=18, n_estimators=599)"
      ]
     },
     "execution_count": 56,
     "metadata": {},
     "output_type": "execute_result"
    }
   ],
   "source": [
    "best_rf.fit(X_train, y_train)"
   ]
  },
  {
   "cell_type": "code",
   "execution_count": 57,
   "id": "a480286f",
   "metadata": {},
   "outputs": [
    {
     "name": "stdout",
     "output_type": "stream",
     "text": [
      "Model Performance\n",
      "Average Error: 0.2223 degrees.\n",
      "Accuracy = 99.68%.\n",
      "R^2 = 1.00%.\n"
     ]
    },
    {
     "data": {
      "text/plain": [
       "99.67545144384903"
      ]
     },
     "execution_count": 57,
     "metadata": {},
     "output_type": "execute_result"
    }
   ],
   "source": [
    "#evaluate fit\n",
    "evaluate(best_rf, X_train, y_train)"
   ]
  },
  {
   "cell_type": "code",
   "execution_count": 58,
   "id": "6fdc23bf",
   "metadata": {},
   "outputs": [],
   "source": [
    "#fit a base Gradient Boosted model to training data\n",
    "gbr = MultiOutputRegressor(GradientBoostingRegressor(random_state = 42))\n"
   ]
  },
  {
   "cell_type": "code",
   "execution_count": 59,
   "id": "e660b53e",
   "metadata": {},
   "outputs": [
    {
     "data": {
      "text/html": [
       "<style>#sk-container-id-10 {color: black;background-color: white;}#sk-container-id-10 pre{padding: 0;}#sk-container-id-10 div.sk-toggleable {background-color: white;}#sk-container-id-10 label.sk-toggleable__label {cursor: pointer;display: block;width: 100%;margin-bottom: 0;padding: 0.3em;box-sizing: border-box;text-align: center;}#sk-container-id-10 label.sk-toggleable__label-arrow:before {content: \"▸\";float: left;margin-right: 0.25em;color: #696969;}#sk-container-id-10 label.sk-toggleable__label-arrow:hover:before {color: black;}#sk-container-id-10 div.sk-estimator:hover label.sk-toggleable__label-arrow:before {color: black;}#sk-container-id-10 div.sk-toggleable__content {max-height: 0;max-width: 0;overflow: hidden;text-align: left;background-color: #f0f8ff;}#sk-container-id-10 div.sk-toggleable__content pre {margin: 0.2em;color: black;border-radius: 0.25em;background-color: #f0f8ff;}#sk-container-id-10 input.sk-toggleable__control:checked~div.sk-toggleable__content {max-height: 200px;max-width: 100%;overflow: auto;}#sk-container-id-10 input.sk-toggleable__control:checked~label.sk-toggleable__label-arrow:before {content: \"▾\";}#sk-container-id-10 div.sk-estimator input.sk-toggleable__control:checked~label.sk-toggleable__label {background-color: #d4ebff;}#sk-container-id-10 div.sk-label input.sk-toggleable__control:checked~label.sk-toggleable__label {background-color: #d4ebff;}#sk-container-id-10 input.sk-hidden--visually {border: 0;clip: rect(1px 1px 1px 1px);clip: rect(1px, 1px, 1px, 1px);height: 1px;margin: -1px;overflow: hidden;padding: 0;position: absolute;width: 1px;}#sk-container-id-10 div.sk-estimator {font-family: monospace;background-color: #f0f8ff;border: 1px dotted black;border-radius: 0.25em;box-sizing: border-box;margin-bottom: 0.5em;}#sk-container-id-10 div.sk-estimator:hover {background-color: #d4ebff;}#sk-container-id-10 div.sk-parallel-item::after {content: \"\";width: 100%;border-bottom: 1px solid gray;flex-grow: 1;}#sk-container-id-10 div.sk-label:hover label.sk-toggleable__label {background-color: #d4ebff;}#sk-container-id-10 div.sk-serial::before {content: \"\";position: absolute;border-left: 1px solid gray;box-sizing: border-box;top: 0;bottom: 0;left: 50%;z-index: 0;}#sk-container-id-10 div.sk-serial {display: flex;flex-direction: column;align-items: center;background-color: white;padding-right: 0.2em;padding-left: 0.2em;position: relative;}#sk-container-id-10 div.sk-item {position: relative;z-index: 1;}#sk-container-id-10 div.sk-parallel {display: flex;align-items: stretch;justify-content: center;background-color: white;position: relative;}#sk-container-id-10 div.sk-item::before, #sk-container-id-10 div.sk-parallel-item::before {content: \"\";position: absolute;border-left: 1px solid gray;box-sizing: border-box;top: 0;bottom: 0;left: 50%;z-index: -1;}#sk-container-id-10 div.sk-parallel-item {display: flex;flex-direction: column;z-index: 1;position: relative;background-color: white;}#sk-container-id-10 div.sk-parallel-item:first-child::after {align-self: flex-end;width: 50%;}#sk-container-id-10 div.sk-parallel-item:last-child::after {align-self: flex-start;width: 50%;}#sk-container-id-10 div.sk-parallel-item:only-child::after {width: 0;}#sk-container-id-10 div.sk-dashed-wrapped {border: 1px dashed gray;margin: 0 0.4em 0.5em 0.4em;box-sizing: border-box;padding-bottom: 0.4em;background-color: white;}#sk-container-id-10 div.sk-label label {font-family: monospace;font-weight: bold;display: inline-block;line-height: 1.2em;}#sk-container-id-10 div.sk-label-container {text-align: center;}#sk-container-id-10 div.sk-container {/* jupyter's `normalize.less` sets `[hidden] { display: none; }` but bootstrap.min.css set `[hidden] { display: none !important; }` so we also need the `!important` here to be able to override the default hidden behavior on the sphinx rendered scikit-learn.org. See: https://github.com/scikit-learn/scikit-learn/issues/21755 */display: inline-block !important;position: relative;}#sk-container-id-10 div.sk-text-repr-fallback {display: none;}</style><div id=\"sk-container-id-10\" class=\"sk-top-container\"><div class=\"sk-text-repr-fallback\"><pre>MultiOutputRegressor(estimator=GradientBoostingRegressor(random_state=42))</pre><b>In a Jupyter environment, please rerun this cell to show the HTML representation or trust the notebook. <br />On GitHub, the HTML representation is unable to render, please try loading this page with nbviewer.org.</b></div><div class=\"sk-container\" hidden><div class=\"sk-item sk-dashed-wrapped\"><div class=\"sk-label-container\"><div class=\"sk-label sk-toggleable\"><input class=\"sk-toggleable__control sk-hidden--visually\" id=\"sk-estimator-id-22\" type=\"checkbox\" ><label for=\"sk-estimator-id-22\" class=\"sk-toggleable__label sk-toggleable__label-arrow\">MultiOutputRegressor</label><div class=\"sk-toggleable__content\"><pre>MultiOutputRegressor(estimator=GradientBoostingRegressor(random_state=42))</pre></div></div></div><div class=\"sk-parallel\"><div class=\"sk-parallel-item\"><div class=\"sk-item\"><div class=\"sk-label-container\"><div class=\"sk-label sk-toggleable\"><input class=\"sk-toggleable__control sk-hidden--visually\" id=\"sk-estimator-id-23\" type=\"checkbox\" ><label for=\"sk-estimator-id-23\" class=\"sk-toggleable__label sk-toggleable__label-arrow\">estimator: GradientBoostingRegressor</label><div class=\"sk-toggleable__content\"><pre>GradientBoostingRegressor(random_state=42)</pre></div></div></div><div class=\"sk-serial\"><div class=\"sk-item\"><div class=\"sk-estimator sk-toggleable\"><input class=\"sk-toggleable__control sk-hidden--visually\" id=\"sk-estimator-id-24\" type=\"checkbox\" ><label for=\"sk-estimator-id-24\" class=\"sk-toggleable__label sk-toggleable__label-arrow\">GradientBoostingRegressor</label><div class=\"sk-toggleable__content\"><pre>GradientBoostingRegressor(random_state=42)</pre></div></div></div></div></div></div></div></div></div></div>"
      ],
      "text/plain": [
       "MultiOutputRegressor(estimator=GradientBoostingRegressor(random_state=42))"
      ]
     },
     "execution_count": 59,
     "metadata": {},
     "output_type": "execute_result"
    }
   ],
   "source": [
    "gbr.fit(X_train,y_train)"
   ]
  },
  {
   "cell_type": "code",
   "execution_count": 60,
   "id": "df864355",
   "metadata": {},
   "outputs": [
    {
     "name": "stdout",
     "output_type": "stream",
     "text": [
      "Model Performance\n",
      "Average Error: 0.4331 degrees.\n",
      "Accuracy = 99.38%.\n",
      "R^2 = 1.00%.\n",
      "Model Performance\n",
      "Average Error: 0.4331 degrees.\n",
      "Accuracy = 99.38%.\n",
      "R^2 = 1.00%.\n"
     ]
    },
    {
     "data": {
      "text/plain": [
       "99.38150870949605"
      ]
     },
     "execution_count": 60,
     "metadata": {},
     "output_type": "execute_result"
    }
   ],
   "source": [
    "#investigate its performance\n",
    "base_gbr_accuracy = evaluate(gbr, X_train, y_train)\n",
    "evaluate(gbr, X_train, y_train)"
   ]
  },
  {
   "cell_type": "code",
   "execution_count": 374,
   "id": "9a3bd698",
   "metadata": {},
   "outputs": [
    {
     "name": "stdout",
     "output_type": "stream",
     "text": [
      "Parameters currently in use:\n",
      "\n",
      "{'estimator': GradientBoostingRegressor(random_state=42),\n",
      " 'estimator__alpha': 0.9,\n",
      " 'estimator__ccp_alpha': 0.0,\n",
      " 'estimator__criterion': 'friedman_mse',\n",
      " 'estimator__init': None,\n",
      " 'estimator__learning_rate': 0.1,\n",
      " 'estimator__loss': 'squared_error',\n",
      " 'estimator__max_depth': 3,\n",
      " 'estimator__max_features': None,\n",
      " 'estimator__max_leaf_nodes': None,\n",
      " 'estimator__min_impurity_decrease': 0.0,\n",
      " 'estimator__min_samples_leaf': 1,\n",
      " 'estimator__min_samples_split': 2,\n",
      " 'estimator__min_weight_fraction_leaf': 0.0,\n",
      " 'estimator__n_estimators': 100,\n",
      " 'estimator__n_iter_no_change': None,\n",
      " 'estimator__random_state': 42,\n",
      " 'estimator__subsample': 1.0,\n",
      " 'estimator__tol': 0.0001,\n",
      " 'estimator__validation_fraction': 0.1,\n",
      " 'estimator__verbose': 0,\n",
      " 'estimator__warm_start': False,\n",
      " 'n_jobs': None}\n"
     ]
    }
   ],
   "source": [
    "#investigate gradient boosted default hyper parameter values\n",
    "print('Parameters currently in use:\\n')\n",
    "pprint(gbr.get_params())"
   ]
  },
  {
   "cell_type": "code",
   "execution_count": 393,
   "id": "ce62e53b",
   "metadata": {},
   "outputs": [
    {
     "data": {
      "text/html": [
       "<style>#sk-container-id-33 {color: black;background-color: white;}#sk-container-id-33 pre{padding: 0;}#sk-container-id-33 div.sk-toggleable {background-color: white;}#sk-container-id-33 label.sk-toggleable__label {cursor: pointer;display: block;width: 100%;margin-bottom: 0;padding: 0.3em;box-sizing: border-box;text-align: center;}#sk-container-id-33 label.sk-toggleable__label-arrow:before {content: \"▸\";float: left;margin-right: 0.25em;color: #696969;}#sk-container-id-33 label.sk-toggleable__label-arrow:hover:before {color: black;}#sk-container-id-33 div.sk-estimator:hover label.sk-toggleable__label-arrow:before {color: black;}#sk-container-id-33 div.sk-toggleable__content {max-height: 0;max-width: 0;overflow: hidden;text-align: left;background-color: #f0f8ff;}#sk-container-id-33 div.sk-toggleable__content pre {margin: 0.2em;color: black;border-radius: 0.25em;background-color: #f0f8ff;}#sk-container-id-33 input.sk-toggleable__control:checked~div.sk-toggleable__content {max-height: 200px;max-width: 100%;overflow: auto;}#sk-container-id-33 input.sk-toggleable__control:checked~label.sk-toggleable__label-arrow:before {content: \"▾\";}#sk-container-id-33 div.sk-estimator input.sk-toggleable__control:checked~label.sk-toggleable__label {background-color: #d4ebff;}#sk-container-id-33 div.sk-label input.sk-toggleable__control:checked~label.sk-toggleable__label {background-color: #d4ebff;}#sk-container-id-33 input.sk-hidden--visually {border: 0;clip: rect(1px 1px 1px 1px);clip: rect(1px, 1px, 1px, 1px);height: 1px;margin: -1px;overflow: hidden;padding: 0;position: absolute;width: 1px;}#sk-container-id-33 div.sk-estimator {font-family: monospace;background-color: #f0f8ff;border: 1px dotted black;border-radius: 0.25em;box-sizing: border-box;margin-bottom: 0.5em;}#sk-container-id-33 div.sk-estimator:hover {background-color: #d4ebff;}#sk-container-id-33 div.sk-parallel-item::after {content: \"\";width: 100%;border-bottom: 1px solid gray;flex-grow: 1;}#sk-container-id-33 div.sk-label:hover label.sk-toggleable__label {background-color: #d4ebff;}#sk-container-id-33 div.sk-serial::before {content: \"\";position: absolute;border-left: 1px solid gray;box-sizing: border-box;top: 0;bottom: 0;left: 50%;z-index: 0;}#sk-container-id-33 div.sk-serial {display: flex;flex-direction: column;align-items: center;background-color: white;padding-right: 0.2em;padding-left: 0.2em;position: relative;}#sk-container-id-33 div.sk-item {position: relative;z-index: 1;}#sk-container-id-33 div.sk-parallel {display: flex;align-items: stretch;justify-content: center;background-color: white;position: relative;}#sk-container-id-33 div.sk-item::before, #sk-container-id-33 div.sk-parallel-item::before {content: \"\";position: absolute;border-left: 1px solid gray;box-sizing: border-box;top: 0;bottom: 0;left: 50%;z-index: -1;}#sk-container-id-33 div.sk-parallel-item {display: flex;flex-direction: column;z-index: 1;position: relative;background-color: white;}#sk-container-id-33 div.sk-parallel-item:first-child::after {align-self: flex-end;width: 50%;}#sk-container-id-33 div.sk-parallel-item:last-child::after {align-self: flex-start;width: 50%;}#sk-container-id-33 div.sk-parallel-item:only-child::after {width: 0;}#sk-container-id-33 div.sk-dashed-wrapped {border: 1px dashed gray;margin: 0 0.4em 0.5em 0.4em;box-sizing: border-box;padding-bottom: 0.4em;background-color: white;}#sk-container-id-33 div.sk-label label {font-family: monospace;font-weight: bold;display: inline-block;line-height: 1.2em;}#sk-container-id-33 div.sk-label-container {text-align: center;}#sk-container-id-33 div.sk-container {/* jupyter's `normalize.less` sets `[hidden] { display: none; }` but bootstrap.min.css set `[hidden] { display: none !important; }` so we also need the `!important` here to be able to override the default hidden behavior on the sphinx rendered scikit-learn.org. See: https://github.com/scikit-learn/scikit-learn/issues/21755 */display: inline-block !important;position: relative;}#sk-container-id-33 div.sk-text-repr-fallback {display: none;}</style><div id=\"sk-container-id-33\" class=\"sk-top-container\"><div class=\"sk-text-repr-fallback\"><pre>GridSearchCV(cv=5,\n",
       "             estimator=MultiOutputRegressor(estimator=GradientBoostingRegressor(max_depth=8,\n",
       "                                                                                max_features=&#x27;sqrt&#x27;,\n",
       "                                                                                min_samples_leaf=50,\n",
       "                                                                                min_samples_split=500,\n",
       "                                                                                random_state=42)),\n",
       "             n_jobs=-1,\n",
       "             param_grid={&#x27;estimator__n_estimators&#x27;: range(455, 466)})</pre><b>In a Jupyter environment, please rerun this cell to show the HTML representation or trust the notebook. <br />On GitHub, the HTML representation is unable to render, please try loading this page with nbviewer.org.</b></div><div class=\"sk-container\" hidden><div class=\"sk-item sk-dashed-wrapped\"><div class=\"sk-label-container\"><div class=\"sk-label sk-toggleable\"><input class=\"sk-toggleable__control sk-hidden--visually\" id=\"sk-estimator-id-90\" type=\"checkbox\" ><label for=\"sk-estimator-id-90\" class=\"sk-toggleable__label sk-toggleable__label-arrow\">GridSearchCV</label><div class=\"sk-toggleable__content\"><pre>GridSearchCV(cv=5,\n",
       "             estimator=MultiOutputRegressor(estimator=GradientBoostingRegressor(max_depth=8,\n",
       "                                                                                max_features=&#x27;sqrt&#x27;,\n",
       "                                                                                min_samples_leaf=50,\n",
       "                                                                                min_samples_split=500,\n",
       "                                                                                random_state=42)),\n",
       "             n_jobs=-1,\n",
       "             param_grid={&#x27;estimator__n_estimators&#x27;: range(455, 466)})</pre></div></div></div><div class=\"sk-parallel\"><div class=\"sk-parallel-item\"><div class=\"sk-item\"><div class=\"sk-label-container\"><div class=\"sk-label sk-toggleable\"><input class=\"sk-toggleable__control sk-hidden--visually\" id=\"sk-estimator-id-91\" type=\"checkbox\" ><label for=\"sk-estimator-id-91\" class=\"sk-toggleable__label sk-toggleable__label-arrow\">estimator: MultiOutputRegressor</label><div class=\"sk-toggleable__content\"><pre>MultiOutputRegressor(estimator=GradientBoostingRegressor(max_depth=8,\n",
       "                                                         max_features=&#x27;sqrt&#x27;,\n",
       "                                                         min_samples_leaf=50,\n",
       "                                                         min_samples_split=500,\n",
       "                                                         random_state=42))</pre></div></div></div><div class=\"sk-serial\"><div class=\"sk-item sk-dashed-wrapped\"><div class=\"sk-parallel\"><div class=\"sk-parallel-item\"><div class=\"sk-item\"><div class=\"sk-label-container\"><div class=\"sk-label sk-toggleable\"><input class=\"sk-toggleable__control sk-hidden--visually\" id=\"sk-estimator-id-92\" type=\"checkbox\" ><label for=\"sk-estimator-id-92\" class=\"sk-toggleable__label sk-toggleable__label-arrow\">estimator: GradientBoostingRegressor</label><div class=\"sk-toggleable__content\"><pre>GradientBoostingRegressor(max_depth=8, max_features=&#x27;sqrt&#x27;, min_samples_leaf=50,\n",
       "                          min_samples_split=500, random_state=42)</pre></div></div></div><div class=\"sk-serial\"><div class=\"sk-item\"><div class=\"sk-estimator sk-toggleable\"><input class=\"sk-toggleable__control sk-hidden--visually\" id=\"sk-estimator-id-93\" type=\"checkbox\" ><label for=\"sk-estimator-id-93\" class=\"sk-toggleable__label sk-toggleable__label-arrow\">GradientBoostingRegressor</label><div class=\"sk-toggleable__content\"><pre>GradientBoostingRegressor(max_depth=8, max_features=&#x27;sqrt&#x27;, min_samples_leaf=50,\n",
       "                          min_samples_split=500, random_state=42)</pre></div></div></div></div></div></div></div></div></div></div></div></div></div></div></div>"
      ],
      "text/plain": [
       "GridSearchCV(cv=5,\n",
       "             estimator=MultiOutputRegressor(estimator=GradientBoostingRegressor(max_depth=8,\n",
       "                                                                                max_features='sqrt',\n",
       "                                                                                min_samples_leaf=50,\n",
       "                                                                                min_samples_split=500,\n",
       "                                                                                random_state=42)),\n",
       "             n_jobs=-1,\n",
       "             param_grid={'estimator__n_estimators': range(455, 466)})"
      ]
     },
     "execution_count": 393,
     "metadata": {},
     "output_type": "execute_result"
    }
   ],
   "source": [
    "#optimize the number of estimators first\n",
    "param_test1 = {'estimator__n_estimators':range(455,466,1)}\n",
    "gsearch1 = GridSearchCV(estimator = MultiOutputRegressor(GradientBoostingRegressor(learning_rate=0.1,\n",
    "                                                                                   min_samples_split=500,\n",
    "                                                                                   min_samples_leaf=50,\n",
    "                                                                                   max_depth=8,\n",
    "                                                                                   max_features='sqrt',\n",
    "                                                                                   random_state=42)), \n",
    "param_grid = param_test1,n_jobs=-1, cv=5)\n",
    "gsearch1.fit(X_train,y_train)"
   ]
  },
  {
   "cell_type": "code",
   "execution_count": 394,
   "id": "9f1dd8e6",
   "metadata": {},
   "outputs": [
    {
     "data": {
      "text/plain": [
       "{'estimator__n_estimators': 461}"
      ]
     },
     "execution_count": 394,
     "metadata": {},
     "output_type": "execute_result"
    }
   ],
   "source": [
    "#display number of estimators resulting in best fit\n",
    "gsearch1_best = gsearch1.best_params_\n",
    "gsearch1_best"
   ]
  },
  {
   "cell_type": "code",
   "execution_count": 416,
   "id": "af64ce06",
   "metadata": {},
   "outputs": [
    {
     "name": "stdout",
     "output_type": "stream",
     "text": [
      "Fitting 5 folds for each of 126 candidates, totalling 630 fits\n"
     ]
    },
    {
     "data": {
      "text/html": [
       "<style>#sk-container-id-44 {color: black;background-color: white;}#sk-container-id-44 pre{padding: 0;}#sk-container-id-44 div.sk-toggleable {background-color: white;}#sk-container-id-44 label.sk-toggleable__label {cursor: pointer;display: block;width: 100%;margin-bottom: 0;padding: 0.3em;box-sizing: border-box;text-align: center;}#sk-container-id-44 label.sk-toggleable__label-arrow:before {content: \"▸\";float: left;margin-right: 0.25em;color: #696969;}#sk-container-id-44 label.sk-toggleable__label-arrow:hover:before {color: black;}#sk-container-id-44 div.sk-estimator:hover label.sk-toggleable__label-arrow:before {color: black;}#sk-container-id-44 div.sk-toggleable__content {max-height: 0;max-width: 0;overflow: hidden;text-align: left;background-color: #f0f8ff;}#sk-container-id-44 div.sk-toggleable__content pre {margin: 0.2em;color: black;border-radius: 0.25em;background-color: #f0f8ff;}#sk-container-id-44 input.sk-toggleable__control:checked~div.sk-toggleable__content {max-height: 200px;max-width: 100%;overflow: auto;}#sk-container-id-44 input.sk-toggleable__control:checked~label.sk-toggleable__label-arrow:before {content: \"▾\";}#sk-container-id-44 div.sk-estimator input.sk-toggleable__control:checked~label.sk-toggleable__label {background-color: #d4ebff;}#sk-container-id-44 div.sk-label input.sk-toggleable__control:checked~label.sk-toggleable__label {background-color: #d4ebff;}#sk-container-id-44 input.sk-hidden--visually {border: 0;clip: rect(1px 1px 1px 1px);clip: rect(1px, 1px, 1px, 1px);height: 1px;margin: -1px;overflow: hidden;padding: 0;position: absolute;width: 1px;}#sk-container-id-44 div.sk-estimator {font-family: monospace;background-color: #f0f8ff;border: 1px dotted black;border-radius: 0.25em;box-sizing: border-box;margin-bottom: 0.5em;}#sk-container-id-44 div.sk-estimator:hover {background-color: #d4ebff;}#sk-container-id-44 div.sk-parallel-item::after {content: \"\";width: 100%;border-bottom: 1px solid gray;flex-grow: 1;}#sk-container-id-44 div.sk-label:hover label.sk-toggleable__label {background-color: #d4ebff;}#sk-container-id-44 div.sk-serial::before {content: \"\";position: absolute;border-left: 1px solid gray;box-sizing: border-box;top: 0;bottom: 0;left: 50%;z-index: 0;}#sk-container-id-44 div.sk-serial {display: flex;flex-direction: column;align-items: center;background-color: white;padding-right: 0.2em;padding-left: 0.2em;position: relative;}#sk-container-id-44 div.sk-item {position: relative;z-index: 1;}#sk-container-id-44 div.sk-parallel {display: flex;align-items: stretch;justify-content: center;background-color: white;position: relative;}#sk-container-id-44 div.sk-item::before, #sk-container-id-44 div.sk-parallel-item::before {content: \"\";position: absolute;border-left: 1px solid gray;box-sizing: border-box;top: 0;bottom: 0;left: 50%;z-index: -1;}#sk-container-id-44 div.sk-parallel-item {display: flex;flex-direction: column;z-index: 1;position: relative;background-color: white;}#sk-container-id-44 div.sk-parallel-item:first-child::after {align-self: flex-end;width: 50%;}#sk-container-id-44 div.sk-parallel-item:last-child::after {align-self: flex-start;width: 50%;}#sk-container-id-44 div.sk-parallel-item:only-child::after {width: 0;}#sk-container-id-44 div.sk-dashed-wrapped {border: 1px dashed gray;margin: 0 0.4em 0.5em 0.4em;box-sizing: border-box;padding-bottom: 0.4em;background-color: white;}#sk-container-id-44 div.sk-label label {font-family: monospace;font-weight: bold;display: inline-block;line-height: 1.2em;}#sk-container-id-44 div.sk-label-container {text-align: center;}#sk-container-id-44 div.sk-container {/* jupyter's `normalize.less` sets `[hidden] { display: none; }` but bootstrap.min.css set `[hidden] { display: none !important; }` so we also need the `!important` here to be able to override the default hidden behavior on the sphinx rendered scikit-learn.org. See: https://github.com/scikit-learn/scikit-learn/issues/21755 */display: inline-block !important;position: relative;}#sk-container-id-44 div.sk-text-repr-fallback {display: none;}</style><div id=\"sk-container-id-44\" class=\"sk-top-container\"><div class=\"sk-text-repr-fallback\"><pre>GridSearchCV(cv=5,\n",
       "             estimator=MultiOutputRegressor(estimator=GradientBoostingRegressor(max_features=&#x27;sqrt&#x27;,\n",
       "                                                                                n_estimators=461,\n",
       "                                                                                random_state=42)),\n",
       "             n_jobs=-1,\n",
       "             param_grid={&#x27;estimator__max_depth&#x27;: range(5, 7),\n",
       "                         &#x27;estimator__min_samples_leaf&#x27;: range(15, 18),\n",
       "                         &#x27;estimator__min_samples_split&#x27;: range(790, 811)},\n",
       "             verbose=3)</pre><b>In a Jupyter environment, please rerun this cell to show the HTML representation or trust the notebook. <br />On GitHub, the HTML representation is unable to render, please try loading this page with nbviewer.org.</b></div><div class=\"sk-container\" hidden><div class=\"sk-item sk-dashed-wrapped\"><div class=\"sk-label-container\"><div class=\"sk-label sk-toggleable\"><input class=\"sk-toggleable__control sk-hidden--visually\" id=\"sk-estimator-id-134\" type=\"checkbox\" ><label for=\"sk-estimator-id-134\" class=\"sk-toggleable__label sk-toggleable__label-arrow\">GridSearchCV</label><div class=\"sk-toggleable__content\"><pre>GridSearchCV(cv=5,\n",
       "             estimator=MultiOutputRegressor(estimator=GradientBoostingRegressor(max_features=&#x27;sqrt&#x27;,\n",
       "                                                                                n_estimators=461,\n",
       "                                                                                random_state=42)),\n",
       "             n_jobs=-1,\n",
       "             param_grid={&#x27;estimator__max_depth&#x27;: range(5, 7),\n",
       "                         &#x27;estimator__min_samples_leaf&#x27;: range(15, 18),\n",
       "                         &#x27;estimator__min_samples_split&#x27;: range(790, 811)},\n",
       "             verbose=3)</pre></div></div></div><div class=\"sk-parallel\"><div class=\"sk-parallel-item\"><div class=\"sk-item\"><div class=\"sk-label-container\"><div class=\"sk-label sk-toggleable\"><input class=\"sk-toggleable__control sk-hidden--visually\" id=\"sk-estimator-id-135\" type=\"checkbox\" ><label for=\"sk-estimator-id-135\" class=\"sk-toggleable__label sk-toggleable__label-arrow\">estimator: MultiOutputRegressor</label><div class=\"sk-toggleable__content\"><pre>MultiOutputRegressor(estimator=GradientBoostingRegressor(max_features=&#x27;sqrt&#x27;,\n",
       "                                                         n_estimators=461,\n",
       "                                                         random_state=42))</pre></div></div></div><div class=\"sk-serial\"><div class=\"sk-item sk-dashed-wrapped\"><div class=\"sk-parallel\"><div class=\"sk-parallel-item\"><div class=\"sk-item\"><div class=\"sk-label-container\"><div class=\"sk-label sk-toggleable\"><input class=\"sk-toggleable__control sk-hidden--visually\" id=\"sk-estimator-id-136\" type=\"checkbox\" ><label for=\"sk-estimator-id-136\" class=\"sk-toggleable__label sk-toggleable__label-arrow\">estimator: GradientBoostingRegressor</label><div class=\"sk-toggleable__content\"><pre>GradientBoostingRegressor(max_features=&#x27;sqrt&#x27;, n_estimators=461,\n",
       "                          random_state=42)</pre></div></div></div><div class=\"sk-serial\"><div class=\"sk-item\"><div class=\"sk-estimator sk-toggleable\"><input class=\"sk-toggleable__control sk-hidden--visually\" id=\"sk-estimator-id-137\" type=\"checkbox\" ><label for=\"sk-estimator-id-137\" class=\"sk-toggleable__label sk-toggleable__label-arrow\">GradientBoostingRegressor</label><div class=\"sk-toggleable__content\"><pre>GradientBoostingRegressor(max_features=&#x27;sqrt&#x27;, n_estimators=461,\n",
       "                          random_state=42)</pre></div></div></div></div></div></div></div></div></div></div></div></div></div></div></div>"
      ],
      "text/plain": [
       "GridSearchCV(cv=5,\n",
       "             estimator=MultiOutputRegressor(estimator=GradientBoostingRegressor(max_features='sqrt',\n",
       "                                                                                n_estimators=461,\n",
       "                                                                                random_state=42)),\n",
       "             n_jobs=-1,\n",
       "             param_grid={'estimator__max_depth': range(5, 7),\n",
       "                         'estimator__min_samples_leaf': range(15, 18),\n",
       "                         'estimator__min_samples_split': range(790, 811)},\n",
       "             verbose=3)"
      ]
     },
     "execution_count": 416,
     "metadata": {},
     "output_type": "execute_result"
    }
   ],
   "source": [
    "#optimize 'max depth', 'min_samples_split', and 'min_samples_leaf' next while inserting best 'n_estimators' value\n",
    "param_test2 = {'estimator__max_depth':range(5,7,1),\n",
    "               'estimator__min_samples_split':range(790,811,1),\n",
    "              'estimator__min_samples_leaf': range(15,18,1)}\n",
    "gsearch2 = GridSearchCV(estimator = MultiOutputRegressor(GradientBoostingRegressor(learning_rate=0.1,\n",
    "                                                                                   n_estimators=461,\n",
    "                                                                                   max_features='sqrt',\n",
    "                                                                                   random_state=42)), \n",
    "param_grid = param_test2,n_jobs=-1, cv=5, verbose = 3)\n",
    "gsearch2.fit(X_train,y_train)"
   ]
  },
  {
   "cell_type": "code",
   "execution_count": 417,
   "id": "c7b0c94e",
   "metadata": {},
   "outputs": [
    {
     "data": {
      "text/plain": [
       "{'estimator__max_depth': 6,\n",
       " 'estimator__min_samples_leaf': 15,\n",
       " 'estimator__min_samples_split': 800}"
      ]
     },
     "execution_count": 417,
     "metadata": {},
     "output_type": "execute_result"
    }
   ],
   "source": [
    "#obtain best fitting values\n",
    "gsearch2_best = gsearch2.best_params_\n",
    "gsearch2_best"
   ]
  },
  {
   "cell_type": "code",
   "execution_count": 420,
   "id": "c359bb4e",
   "metadata": {},
   "outputs": [
    {
     "name": "stdout",
     "output_type": "stream",
     "text": [
      "Fitting 5 folds for each of 20 candidates, totalling 100 fits\n"
     ]
    },
    {
     "data": {
      "text/html": [
       "<style>#sk-container-id-46 {color: black;background-color: white;}#sk-container-id-46 pre{padding: 0;}#sk-container-id-46 div.sk-toggleable {background-color: white;}#sk-container-id-46 label.sk-toggleable__label {cursor: pointer;display: block;width: 100%;margin-bottom: 0;padding: 0.3em;box-sizing: border-box;text-align: center;}#sk-container-id-46 label.sk-toggleable__label-arrow:before {content: \"▸\";float: left;margin-right: 0.25em;color: #696969;}#sk-container-id-46 label.sk-toggleable__label-arrow:hover:before {color: black;}#sk-container-id-46 div.sk-estimator:hover label.sk-toggleable__label-arrow:before {color: black;}#sk-container-id-46 div.sk-toggleable__content {max-height: 0;max-width: 0;overflow: hidden;text-align: left;background-color: #f0f8ff;}#sk-container-id-46 div.sk-toggleable__content pre {margin: 0.2em;color: black;border-radius: 0.25em;background-color: #f0f8ff;}#sk-container-id-46 input.sk-toggleable__control:checked~div.sk-toggleable__content {max-height: 200px;max-width: 100%;overflow: auto;}#sk-container-id-46 input.sk-toggleable__control:checked~label.sk-toggleable__label-arrow:before {content: \"▾\";}#sk-container-id-46 div.sk-estimator input.sk-toggleable__control:checked~label.sk-toggleable__label {background-color: #d4ebff;}#sk-container-id-46 div.sk-label input.sk-toggleable__control:checked~label.sk-toggleable__label {background-color: #d4ebff;}#sk-container-id-46 input.sk-hidden--visually {border: 0;clip: rect(1px 1px 1px 1px);clip: rect(1px, 1px, 1px, 1px);height: 1px;margin: -1px;overflow: hidden;padding: 0;position: absolute;width: 1px;}#sk-container-id-46 div.sk-estimator {font-family: monospace;background-color: #f0f8ff;border: 1px dotted black;border-radius: 0.25em;box-sizing: border-box;margin-bottom: 0.5em;}#sk-container-id-46 div.sk-estimator:hover {background-color: #d4ebff;}#sk-container-id-46 div.sk-parallel-item::after {content: \"\";width: 100%;border-bottom: 1px solid gray;flex-grow: 1;}#sk-container-id-46 div.sk-label:hover label.sk-toggleable__label {background-color: #d4ebff;}#sk-container-id-46 div.sk-serial::before {content: \"\";position: absolute;border-left: 1px solid gray;box-sizing: border-box;top: 0;bottom: 0;left: 50%;z-index: 0;}#sk-container-id-46 div.sk-serial {display: flex;flex-direction: column;align-items: center;background-color: white;padding-right: 0.2em;padding-left: 0.2em;position: relative;}#sk-container-id-46 div.sk-item {position: relative;z-index: 1;}#sk-container-id-46 div.sk-parallel {display: flex;align-items: stretch;justify-content: center;background-color: white;position: relative;}#sk-container-id-46 div.sk-item::before, #sk-container-id-46 div.sk-parallel-item::before {content: \"\";position: absolute;border-left: 1px solid gray;box-sizing: border-box;top: 0;bottom: 0;left: 50%;z-index: -1;}#sk-container-id-46 div.sk-parallel-item {display: flex;flex-direction: column;z-index: 1;position: relative;background-color: white;}#sk-container-id-46 div.sk-parallel-item:first-child::after {align-self: flex-end;width: 50%;}#sk-container-id-46 div.sk-parallel-item:last-child::after {align-self: flex-start;width: 50%;}#sk-container-id-46 div.sk-parallel-item:only-child::after {width: 0;}#sk-container-id-46 div.sk-dashed-wrapped {border: 1px dashed gray;margin: 0 0.4em 0.5em 0.4em;box-sizing: border-box;padding-bottom: 0.4em;background-color: white;}#sk-container-id-46 div.sk-label label {font-family: monospace;font-weight: bold;display: inline-block;line-height: 1.2em;}#sk-container-id-46 div.sk-label-container {text-align: center;}#sk-container-id-46 div.sk-container {/* jupyter's `normalize.less` sets `[hidden] { display: none; }` but bootstrap.min.css set `[hidden] { display: none !important; }` so we also need the `!important` here to be able to override the default hidden behavior on the sphinx rendered scikit-learn.org. See: https://github.com/scikit-learn/scikit-learn/issues/21755 */display: inline-block !important;position: relative;}#sk-container-id-46 div.sk-text-repr-fallback {display: none;}</style><div id=\"sk-container-id-46\" class=\"sk-top-container\"><div class=\"sk-text-repr-fallback\"><pre>GridSearchCV(cv=5,\n",
       "             estimator=MultiOutputRegressor(estimator=GradientBoostingRegressor(max_depth=6,\n",
       "                                                                                min_samples_leaf=15,\n",
       "                                                                                min_samples_split=800,\n",
       "                                                                                n_estimators=461,\n",
       "                                                                                random_state=42)),\n",
       "             n_jobs=-1, param_grid={&#x27;estimator__max_features&#x27;: range(1, 21)},\n",
       "             verbose=3)</pre><b>In a Jupyter environment, please rerun this cell to show the HTML representation or trust the notebook. <br />On GitHub, the HTML representation is unable to render, please try loading this page with nbviewer.org.</b></div><div class=\"sk-container\" hidden><div class=\"sk-item sk-dashed-wrapped\"><div class=\"sk-label-container\"><div class=\"sk-label sk-toggleable\"><input class=\"sk-toggleable__control sk-hidden--visually\" id=\"sk-estimator-id-142\" type=\"checkbox\" ><label for=\"sk-estimator-id-142\" class=\"sk-toggleable__label sk-toggleable__label-arrow\">GridSearchCV</label><div class=\"sk-toggleable__content\"><pre>GridSearchCV(cv=5,\n",
       "             estimator=MultiOutputRegressor(estimator=GradientBoostingRegressor(max_depth=6,\n",
       "                                                                                min_samples_leaf=15,\n",
       "                                                                                min_samples_split=800,\n",
       "                                                                                n_estimators=461,\n",
       "                                                                                random_state=42)),\n",
       "             n_jobs=-1, param_grid={&#x27;estimator__max_features&#x27;: range(1, 21)},\n",
       "             verbose=3)</pre></div></div></div><div class=\"sk-parallel\"><div class=\"sk-parallel-item\"><div class=\"sk-item\"><div class=\"sk-label-container\"><div class=\"sk-label sk-toggleable\"><input class=\"sk-toggleable__control sk-hidden--visually\" id=\"sk-estimator-id-143\" type=\"checkbox\" ><label for=\"sk-estimator-id-143\" class=\"sk-toggleable__label sk-toggleable__label-arrow\">estimator: MultiOutputRegressor</label><div class=\"sk-toggleable__content\"><pre>MultiOutputRegressor(estimator=GradientBoostingRegressor(max_depth=6,\n",
       "                                                         min_samples_leaf=15,\n",
       "                                                         min_samples_split=800,\n",
       "                                                         n_estimators=461,\n",
       "                                                         random_state=42))</pre></div></div></div><div class=\"sk-serial\"><div class=\"sk-item sk-dashed-wrapped\"><div class=\"sk-parallel\"><div class=\"sk-parallel-item\"><div class=\"sk-item\"><div class=\"sk-label-container\"><div class=\"sk-label sk-toggleable\"><input class=\"sk-toggleable__control sk-hidden--visually\" id=\"sk-estimator-id-144\" type=\"checkbox\" ><label for=\"sk-estimator-id-144\" class=\"sk-toggleable__label sk-toggleable__label-arrow\">estimator: GradientBoostingRegressor</label><div class=\"sk-toggleable__content\"><pre>GradientBoostingRegressor(max_depth=6, min_samples_leaf=15,\n",
       "                          min_samples_split=800, n_estimators=461,\n",
       "                          random_state=42)</pre></div></div></div><div class=\"sk-serial\"><div class=\"sk-item\"><div class=\"sk-estimator sk-toggleable\"><input class=\"sk-toggleable__control sk-hidden--visually\" id=\"sk-estimator-id-145\" type=\"checkbox\" ><label for=\"sk-estimator-id-145\" class=\"sk-toggleable__label sk-toggleable__label-arrow\">GradientBoostingRegressor</label><div class=\"sk-toggleable__content\"><pre>GradientBoostingRegressor(max_depth=6, min_samples_leaf=15,\n",
       "                          min_samples_split=800, n_estimators=461,\n",
       "                          random_state=42)</pre></div></div></div></div></div></div></div></div></div></div></div></div></div></div></div>"
      ],
      "text/plain": [
       "GridSearchCV(cv=5,\n",
       "             estimator=MultiOutputRegressor(estimator=GradientBoostingRegressor(max_depth=6,\n",
       "                                                                                min_samples_leaf=15,\n",
       "                                                                                min_samples_split=800,\n",
       "                                                                                n_estimators=461,\n",
       "                                                                                random_state=42)),\n",
       "             n_jobs=-1, param_grid={'estimator__max_features': range(1, 21)},\n",
       "             verbose=3)"
      ]
     },
     "execution_count": 420,
     "metadata": {},
     "output_type": "execute_result"
    }
   ],
   "source": [
    "#optimize 'max_features' while inserting best fitting 'max_depth',' min_samples_leaf', and 'min_samples_split' values\n",
    "param_test3 = {'estimator__max_features':range(1,21,1)}\n",
    "gsearch3 = GridSearchCV(estimator = MultiOutputRegressor(GradientBoostingRegressor(learning_rate=0.1,\n",
    "                                                                                   n_estimators=461,\n",
    "                                                                                   max_depth = 6,\n",
    "                                                                                   min_samples_split = 800,\n",
    "                                                                                   min_samples_leaf=15,\n",
    "                                                                                   random_state=42)), \n",
    "param_grid = param_test3,n_jobs=-1, cv=5, verbose = 3)\n",
    "gsearch3.fit(X_train,y_train)"
   ]
  },
  {
   "cell_type": "code",
   "execution_count": 532,
   "id": "debb3dc8",
   "metadata": {},
   "outputs": [
    {
     "data": {
      "text/plain": [
       "{'estimator__max_features': 15}"
      ]
     },
     "execution_count": 532,
     "metadata": {},
     "output_type": "execute_result"
    }
   ],
   "source": [
    "#obtain values from best fitting model\n",
    "gsearch3_best = gsearch3.best_params_\n",
    "gsearch3_best"
   ]
  },
  {
   "cell_type": "code",
   "execution_count": 426,
   "id": "edfb5425",
   "metadata": {},
   "outputs": [
    {
     "name": "stdout",
     "output_type": "stream",
     "text": [
      "Fitting 5 folds for each of 9 candidates, totalling 45 fits\n"
     ]
    },
    {
     "data": {
      "text/html": [
       "<style>#sk-container-id-48 {color: black;background-color: white;}#sk-container-id-48 pre{padding: 0;}#sk-container-id-48 div.sk-toggleable {background-color: white;}#sk-container-id-48 label.sk-toggleable__label {cursor: pointer;display: block;width: 100%;margin-bottom: 0;padding: 0.3em;box-sizing: border-box;text-align: center;}#sk-container-id-48 label.sk-toggleable__label-arrow:before {content: \"▸\";float: left;margin-right: 0.25em;color: #696969;}#sk-container-id-48 label.sk-toggleable__label-arrow:hover:before {color: black;}#sk-container-id-48 div.sk-estimator:hover label.sk-toggleable__label-arrow:before {color: black;}#sk-container-id-48 div.sk-toggleable__content {max-height: 0;max-width: 0;overflow: hidden;text-align: left;background-color: #f0f8ff;}#sk-container-id-48 div.sk-toggleable__content pre {margin: 0.2em;color: black;border-radius: 0.25em;background-color: #f0f8ff;}#sk-container-id-48 input.sk-toggleable__control:checked~div.sk-toggleable__content {max-height: 200px;max-width: 100%;overflow: auto;}#sk-container-id-48 input.sk-toggleable__control:checked~label.sk-toggleable__label-arrow:before {content: \"▾\";}#sk-container-id-48 div.sk-estimator input.sk-toggleable__control:checked~label.sk-toggleable__label {background-color: #d4ebff;}#sk-container-id-48 div.sk-label input.sk-toggleable__control:checked~label.sk-toggleable__label {background-color: #d4ebff;}#sk-container-id-48 input.sk-hidden--visually {border: 0;clip: rect(1px 1px 1px 1px);clip: rect(1px, 1px, 1px, 1px);height: 1px;margin: -1px;overflow: hidden;padding: 0;position: absolute;width: 1px;}#sk-container-id-48 div.sk-estimator {font-family: monospace;background-color: #f0f8ff;border: 1px dotted black;border-radius: 0.25em;box-sizing: border-box;margin-bottom: 0.5em;}#sk-container-id-48 div.sk-estimator:hover {background-color: #d4ebff;}#sk-container-id-48 div.sk-parallel-item::after {content: \"\";width: 100%;border-bottom: 1px solid gray;flex-grow: 1;}#sk-container-id-48 div.sk-label:hover label.sk-toggleable__label {background-color: #d4ebff;}#sk-container-id-48 div.sk-serial::before {content: \"\";position: absolute;border-left: 1px solid gray;box-sizing: border-box;top: 0;bottom: 0;left: 50%;z-index: 0;}#sk-container-id-48 div.sk-serial {display: flex;flex-direction: column;align-items: center;background-color: white;padding-right: 0.2em;padding-left: 0.2em;position: relative;}#sk-container-id-48 div.sk-item {position: relative;z-index: 1;}#sk-container-id-48 div.sk-parallel {display: flex;align-items: stretch;justify-content: center;background-color: white;position: relative;}#sk-container-id-48 div.sk-item::before, #sk-container-id-48 div.sk-parallel-item::before {content: \"\";position: absolute;border-left: 1px solid gray;box-sizing: border-box;top: 0;bottom: 0;left: 50%;z-index: -1;}#sk-container-id-48 div.sk-parallel-item {display: flex;flex-direction: column;z-index: 1;position: relative;background-color: white;}#sk-container-id-48 div.sk-parallel-item:first-child::after {align-self: flex-end;width: 50%;}#sk-container-id-48 div.sk-parallel-item:last-child::after {align-self: flex-start;width: 50%;}#sk-container-id-48 div.sk-parallel-item:only-child::after {width: 0;}#sk-container-id-48 div.sk-dashed-wrapped {border: 1px dashed gray;margin: 0 0.4em 0.5em 0.4em;box-sizing: border-box;padding-bottom: 0.4em;background-color: white;}#sk-container-id-48 div.sk-label label {font-family: monospace;font-weight: bold;display: inline-block;line-height: 1.2em;}#sk-container-id-48 div.sk-label-container {text-align: center;}#sk-container-id-48 div.sk-container {/* jupyter's `normalize.less` sets `[hidden] { display: none; }` but bootstrap.min.css set `[hidden] { display: none !important; }` so we also need the `!important` here to be able to override the default hidden behavior on the sphinx rendered scikit-learn.org. See: https://github.com/scikit-learn/scikit-learn/issues/21755 */display: inline-block !important;position: relative;}#sk-container-id-48 div.sk-text-repr-fallback {display: none;}</style><div id=\"sk-container-id-48\" class=\"sk-top-container\"><div class=\"sk-text-repr-fallback\"><pre>GridSearchCV(cv=5,\n",
       "             estimator=MultiOutputRegressor(estimator=GradientBoostingRegressor(max_depth=6,\n",
       "                                                                                max_features=15,\n",
       "                                                                                min_samples_leaf=15,\n",
       "                                                                                min_samples_split=800,\n",
       "                                                                                n_estimators=461,\n",
       "                                                                                random_state=42)),\n",
       "             n_jobs=-1,\n",
       "             param_grid={&#x27;estimator__subsample&#x27;: [0.81, 0.82, 0.83, 0.84, 0.85,\n",
       "                                                  0.86, 0.87, 0.89, 0.9]},\n",
       "             verbose=3)</pre><b>In a Jupyter environment, please rerun this cell to show the HTML representation or trust the notebook. <br />On GitHub, the HTML representation is unable to render, please try loading this page with nbviewer.org.</b></div><div class=\"sk-container\" hidden><div class=\"sk-item sk-dashed-wrapped\"><div class=\"sk-label-container\"><div class=\"sk-label sk-toggleable\"><input class=\"sk-toggleable__control sk-hidden--visually\" id=\"sk-estimator-id-150\" type=\"checkbox\" ><label for=\"sk-estimator-id-150\" class=\"sk-toggleable__label sk-toggleable__label-arrow\">GridSearchCV</label><div class=\"sk-toggleable__content\"><pre>GridSearchCV(cv=5,\n",
       "             estimator=MultiOutputRegressor(estimator=GradientBoostingRegressor(max_depth=6,\n",
       "                                                                                max_features=15,\n",
       "                                                                                min_samples_leaf=15,\n",
       "                                                                                min_samples_split=800,\n",
       "                                                                                n_estimators=461,\n",
       "                                                                                random_state=42)),\n",
       "             n_jobs=-1,\n",
       "             param_grid={&#x27;estimator__subsample&#x27;: [0.81, 0.82, 0.83, 0.84, 0.85,\n",
       "                                                  0.86, 0.87, 0.89, 0.9]},\n",
       "             verbose=3)</pre></div></div></div><div class=\"sk-parallel\"><div class=\"sk-parallel-item\"><div class=\"sk-item\"><div class=\"sk-label-container\"><div class=\"sk-label sk-toggleable\"><input class=\"sk-toggleable__control sk-hidden--visually\" id=\"sk-estimator-id-151\" type=\"checkbox\" ><label for=\"sk-estimator-id-151\" class=\"sk-toggleable__label sk-toggleable__label-arrow\">estimator: MultiOutputRegressor</label><div class=\"sk-toggleable__content\"><pre>MultiOutputRegressor(estimator=GradientBoostingRegressor(max_depth=6,\n",
       "                                                         max_features=15,\n",
       "                                                         min_samples_leaf=15,\n",
       "                                                         min_samples_split=800,\n",
       "                                                         n_estimators=461,\n",
       "                                                         random_state=42))</pre></div></div></div><div class=\"sk-serial\"><div class=\"sk-item sk-dashed-wrapped\"><div class=\"sk-parallel\"><div class=\"sk-parallel-item\"><div class=\"sk-item\"><div class=\"sk-label-container\"><div class=\"sk-label sk-toggleable\"><input class=\"sk-toggleable__control sk-hidden--visually\" id=\"sk-estimator-id-152\" type=\"checkbox\" ><label for=\"sk-estimator-id-152\" class=\"sk-toggleable__label sk-toggleable__label-arrow\">estimator: GradientBoostingRegressor</label><div class=\"sk-toggleable__content\"><pre>GradientBoostingRegressor(max_depth=6, max_features=15, min_samples_leaf=15,\n",
       "                          min_samples_split=800, n_estimators=461,\n",
       "                          random_state=42)</pre></div></div></div><div class=\"sk-serial\"><div class=\"sk-item\"><div class=\"sk-estimator sk-toggleable\"><input class=\"sk-toggleable__control sk-hidden--visually\" id=\"sk-estimator-id-153\" type=\"checkbox\" ><label for=\"sk-estimator-id-153\" class=\"sk-toggleable__label sk-toggleable__label-arrow\">GradientBoostingRegressor</label><div class=\"sk-toggleable__content\"><pre>GradientBoostingRegressor(max_depth=6, max_features=15, min_samples_leaf=15,\n",
       "                          min_samples_split=800, n_estimators=461,\n",
       "                          random_state=42)</pre></div></div></div></div></div></div></div></div></div></div></div></div></div></div></div>"
      ],
      "text/plain": [
       "GridSearchCV(cv=5,\n",
       "             estimator=MultiOutputRegressor(estimator=GradientBoostingRegressor(max_depth=6,\n",
       "                                                                                max_features=15,\n",
       "                                                                                min_samples_leaf=15,\n",
       "                                                                                min_samples_split=800,\n",
       "                                                                                n_estimators=461,\n",
       "                                                                                random_state=42)),\n",
       "             n_jobs=-1,\n",
       "             param_grid={'estimator__subsample': [0.81, 0.82, 0.83, 0.84, 0.85,\n",
       "                                                  0.86, 0.87, 0.89, 0.9]},\n",
       "             verbose=3)"
      ]
     },
     "execution_count": 426,
     "metadata": {},
     "output_type": "execute_result"
    }
   ],
   "source": [
    "#optimize 'subsample' while inserting 'max_features' value\n",
    "param_test4 = {'estimator__subsample':[0.81,0.82,0.83,0.84,0.85,0.86,0.87,0.89,0.90]}\n",
    "gsearch4 = GridSearchCV(estimator = MultiOutputRegressor(GradientBoostingRegressor(learning_rate=0.1,\n",
    "                                                                                   n_estimators=461,\n",
    "                                                                                   max_depth = 6,\n",
    "                                                                                   min_samples_split = 800,\n",
    "                                                                                   min_samples_leaf=15,\n",
    "                                                                                   max_features = 15,\n",
    "                                                                                   random_state=42)), \n",
    "param_grid = param_test4,n_jobs=-1, cv=5, verbose = 3)\n",
    "gsearch4.fit(X_train,y_train)"
   ]
  },
  {
   "cell_type": "code",
   "execution_count": 427,
   "id": "1ecd61a1",
   "metadata": {},
   "outputs": [
    {
     "data": {
      "text/plain": [
       "{'estimator__subsample': 0.85}"
      ]
     },
     "execution_count": 427,
     "metadata": {},
     "output_type": "execute_result"
    }
   ],
   "source": [
    "#obtain value for best fitting model\n",
    "gsearch4_best = gsearch4.best_params_\n",
    "gsearch4_best"
   ]
  },
  {
   "cell_type": "code",
   "execution_count": 437,
   "id": "12bf23e3",
   "metadata": {},
   "outputs": [
    {
     "name": "stdout",
     "output_type": "stream",
     "text": [
      "Fitting 5 folds for each of 33 candidates, totalling 165 fits\n"
     ]
    },
    {
     "data": {
      "text/html": [
       "<style>#sk-container-id-53 {color: black;background-color: white;}#sk-container-id-53 pre{padding: 0;}#sk-container-id-53 div.sk-toggleable {background-color: white;}#sk-container-id-53 label.sk-toggleable__label {cursor: pointer;display: block;width: 100%;margin-bottom: 0;padding: 0.3em;box-sizing: border-box;text-align: center;}#sk-container-id-53 label.sk-toggleable__label-arrow:before {content: \"▸\";float: left;margin-right: 0.25em;color: #696969;}#sk-container-id-53 label.sk-toggleable__label-arrow:hover:before {color: black;}#sk-container-id-53 div.sk-estimator:hover label.sk-toggleable__label-arrow:before {color: black;}#sk-container-id-53 div.sk-toggleable__content {max-height: 0;max-width: 0;overflow: hidden;text-align: left;background-color: #f0f8ff;}#sk-container-id-53 div.sk-toggleable__content pre {margin: 0.2em;color: black;border-radius: 0.25em;background-color: #f0f8ff;}#sk-container-id-53 input.sk-toggleable__control:checked~div.sk-toggleable__content {max-height: 200px;max-width: 100%;overflow: auto;}#sk-container-id-53 input.sk-toggleable__control:checked~label.sk-toggleable__label-arrow:before {content: \"▾\";}#sk-container-id-53 div.sk-estimator input.sk-toggleable__control:checked~label.sk-toggleable__label {background-color: #d4ebff;}#sk-container-id-53 div.sk-label input.sk-toggleable__control:checked~label.sk-toggleable__label {background-color: #d4ebff;}#sk-container-id-53 input.sk-hidden--visually {border: 0;clip: rect(1px 1px 1px 1px);clip: rect(1px, 1px, 1px, 1px);height: 1px;margin: -1px;overflow: hidden;padding: 0;position: absolute;width: 1px;}#sk-container-id-53 div.sk-estimator {font-family: monospace;background-color: #f0f8ff;border: 1px dotted black;border-radius: 0.25em;box-sizing: border-box;margin-bottom: 0.5em;}#sk-container-id-53 div.sk-estimator:hover {background-color: #d4ebff;}#sk-container-id-53 div.sk-parallel-item::after {content: \"\";width: 100%;border-bottom: 1px solid gray;flex-grow: 1;}#sk-container-id-53 div.sk-label:hover label.sk-toggleable__label {background-color: #d4ebff;}#sk-container-id-53 div.sk-serial::before {content: \"\";position: absolute;border-left: 1px solid gray;box-sizing: border-box;top: 0;bottom: 0;left: 50%;z-index: 0;}#sk-container-id-53 div.sk-serial {display: flex;flex-direction: column;align-items: center;background-color: white;padding-right: 0.2em;padding-left: 0.2em;position: relative;}#sk-container-id-53 div.sk-item {position: relative;z-index: 1;}#sk-container-id-53 div.sk-parallel {display: flex;align-items: stretch;justify-content: center;background-color: white;position: relative;}#sk-container-id-53 div.sk-item::before, #sk-container-id-53 div.sk-parallel-item::before {content: \"\";position: absolute;border-left: 1px solid gray;box-sizing: border-box;top: 0;bottom: 0;left: 50%;z-index: -1;}#sk-container-id-53 div.sk-parallel-item {display: flex;flex-direction: column;z-index: 1;position: relative;background-color: white;}#sk-container-id-53 div.sk-parallel-item:first-child::after {align-self: flex-end;width: 50%;}#sk-container-id-53 div.sk-parallel-item:last-child::after {align-self: flex-start;width: 50%;}#sk-container-id-53 div.sk-parallel-item:only-child::after {width: 0;}#sk-container-id-53 div.sk-dashed-wrapped {border: 1px dashed gray;margin: 0 0.4em 0.5em 0.4em;box-sizing: border-box;padding-bottom: 0.4em;background-color: white;}#sk-container-id-53 div.sk-label label {font-family: monospace;font-weight: bold;display: inline-block;line-height: 1.2em;}#sk-container-id-53 div.sk-label-container {text-align: center;}#sk-container-id-53 div.sk-container {/* jupyter's `normalize.less` sets `[hidden] { display: none; }` but bootstrap.min.css set `[hidden] { display: none !important; }` so we also need the `!important` here to be able to override the default hidden behavior on the sphinx rendered scikit-learn.org. See: https://github.com/scikit-learn/scikit-learn/issues/21755 */display: inline-block !important;position: relative;}#sk-container-id-53 div.sk-text-repr-fallback {display: none;}</style><div id=\"sk-container-id-53\" class=\"sk-top-container\"><div class=\"sk-text-repr-fallback\"><pre>GridSearchCV(cv=5,\n",
       "             estimator=MultiOutputRegressor(estimator=GradientBoostingRegressor(max_depth=6,\n",
       "                                                                                max_features=15,\n",
       "                                                                                min_samples_leaf=15,\n",
       "                                                                                min_samples_split=800,\n",
       "                                                                                n_estimators=461,\n",
       "                                                                                random_state=42,\n",
       "                                                                                subsample=0.85)),\n",
       "             n_jobs=-1,\n",
       "             param_grid={&#x27;estimator__learning_rate&#x27;: [0.07, 0.06, 0.05],\n",
       "                         &#x27;estimator__n_estimators&#x27;: range(860, 871)},\n",
       "             verbose=3)</pre><b>In a Jupyter environment, please rerun this cell to show the HTML representation or trust the notebook. <br />On GitHub, the HTML representation is unable to render, please try loading this page with nbviewer.org.</b></div><div class=\"sk-container\" hidden><div class=\"sk-item sk-dashed-wrapped\"><div class=\"sk-label-container\"><div class=\"sk-label sk-toggleable\"><input class=\"sk-toggleable__control sk-hidden--visually\" id=\"sk-estimator-id-170\" type=\"checkbox\" ><label for=\"sk-estimator-id-170\" class=\"sk-toggleable__label sk-toggleable__label-arrow\">GridSearchCV</label><div class=\"sk-toggleable__content\"><pre>GridSearchCV(cv=5,\n",
       "             estimator=MultiOutputRegressor(estimator=GradientBoostingRegressor(max_depth=6,\n",
       "                                                                                max_features=15,\n",
       "                                                                                min_samples_leaf=15,\n",
       "                                                                                min_samples_split=800,\n",
       "                                                                                n_estimators=461,\n",
       "                                                                                random_state=42,\n",
       "                                                                                subsample=0.85)),\n",
       "             n_jobs=-1,\n",
       "             param_grid={&#x27;estimator__learning_rate&#x27;: [0.07, 0.06, 0.05],\n",
       "                         &#x27;estimator__n_estimators&#x27;: range(860, 871)},\n",
       "             verbose=3)</pre></div></div></div><div class=\"sk-parallel\"><div class=\"sk-parallel-item\"><div class=\"sk-item\"><div class=\"sk-label-container\"><div class=\"sk-label sk-toggleable\"><input class=\"sk-toggleable__control sk-hidden--visually\" id=\"sk-estimator-id-171\" type=\"checkbox\" ><label for=\"sk-estimator-id-171\" class=\"sk-toggleable__label sk-toggleable__label-arrow\">estimator: MultiOutputRegressor</label><div class=\"sk-toggleable__content\"><pre>MultiOutputRegressor(estimator=GradientBoostingRegressor(max_depth=6,\n",
       "                                                         max_features=15,\n",
       "                                                         min_samples_leaf=15,\n",
       "                                                         min_samples_split=800,\n",
       "                                                         n_estimators=461,\n",
       "                                                         random_state=42,\n",
       "                                                         subsample=0.85))</pre></div></div></div><div class=\"sk-serial\"><div class=\"sk-item sk-dashed-wrapped\"><div class=\"sk-parallel\"><div class=\"sk-parallel-item\"><div class=\"sk-item\"><div class=\"sk-label-container\"><div class=\"sk-label sk-toggleable\"><input class=\"sk-toggleable__control sk-hidden--visually\" id=\"sk-estimator-id-172\" type=\"checkbox\" ><label for=\"sk-estimator-id-172\" class=\"sk-toggleable__label sk-toggleable__label-arrow\">estimator: GradientBoostingRegressor</label><div class=\"sk-toggleable__content\"><pre>GradientBoostingRegressor(max_depth=6, max_features=15, min_samples_leaf=15,\n",
       "                          min_samples_split=800, n_estimators=461,\n",
       "                          random_state=42, subsample=0.85)</pre></div></div></div><div class=\"sk-serial\"><div class=\"sk-item\"><div class=\"sk-estimator sk-toggleable\"><input class=\"sk-toggleable__control sk-hidden--visually\" id=\"sk-estimator-id-173\" type=\"checkbox\" ><label for=\"sk-estimator-id-173\" class=\"sk-toggleable__label sk-toggleable__label-arrow\">GradientBoostingRegressor</label><div class=\"sk-toggleable__content\"><pre>GradientBoostingRegressor(max_depth=6, max_features=15, min_samples_leaf=15,\n",
       "                          min_samples_split=800, n_estimators=461,\n",
       "                          random_state=42, subsample=0.85)</pre></div></div></div></div></div></div></div></div></div></div></div></div></div></div></div>"
      ],
      "text/plain": [
       "GridSearchCV(cv=5,\n",
       "             estimator=MultiOutputRegressor(estimator=GradientBoostingRegressor(max_depth=6,\n",
       "                                                                                max_features=15,\n",
       "                                                                                min_samples_leaf=15,\n",
       "                                                                                min_samples_split=800,\n",
       "                                                                                n_estimators=461,\n",
       "                                                                                random_state=42,\n",
       "                                                                                subsample=0.85)),\n",
       "             n_jobs=-1,\n",
       "             param_grid={'estimator__learning_rate': [0.07, 0.06, 0.05],\n",
       "                         'estimator__n_estimators': range(860, 871)},\n",
       "             verbose=3)"
      ]
     },
     "execution_count": 437,
     "metadata": {},
     "output_type": "execute_result"
    }
   ],
   "source": [
    "#optimize 'learning_rate' and reoptimize 'n_estimators' as they are highly related while inserting\n",
    " #all other optimized values\n",
    "param_test5 = {'estimator__learning_rate':[0.07,0.06,0.05],\n",
    "              'estimator__n_estimators':range(860,871,1)}\n",
    "gsearch5 = GridSearchCV(estimator = MultiOutputRegressor(GradientBoostingRegressor(n_estimators=461,\n",
    "                                                                                   max_depth = 6,\n",
    "                                                                                   min_samples_split = 800,\n",
    "                                                                                   min_samples_leaf=15,\n",
    "                                                                                   max_features = 15,\n",
    "                                                                                   subsample = 0.85,\n",
    "                                                                                   random_state=42)), \n",
    "param_grid = param_test5,n_jobs=-1, cv=5, verbose = 3)\n",
    "gsearch5.fit(X_train,y_train)"
   ]
  },
  {
   "cell_type": "code",
   "execution_count": 533,
   "id": "9e8d5913",
   "metadata": {},
   "outputs": [
    {
     "data": {
      "text/plain": [
       "{'estimator__learning_rate': 0.06, 'estimator__n_estimators': 869}"
      ]
     },
     "execution_count": 533,
     "metadata": {},
     "output_type": "execute_result"
    }
   ],
   "source": [
    "#obtain values from best fitting model\n",
    "gsearch5_best = gsearch5.best_params_\n",
    "gsearch5_best"
   ]
  },
  {
   "cell_type": "code",
   "execution_count": 73,
   "id": "0a6dbb8b",
   "metadata": {},
   "outputs": [],
   "source": [
    "#creating Gradient Boosted model with all optimized parameters inserted\n",
    "gbr_opt = MultiOutputRegressor(GradientBoostingRegressor(n_estimators=869,\n",
    "                                               learning_rate = 0.06,\n",
    "                                               max_depth = 6,\n",
    "                                               min_samples_split = 800,\n",
    "                                               min_samples_leaf=15,\n",
    "                                               max_features = 15,\n",
    "                                               subsample = 0.85,\n",
    "                                               random_state=42))"
   ]
  },
  {
   "cell_type": "code",
   "execution_count": 74,
   "id": "e158b914",
   "metadata": {},
   "outputs": [
    {
     "data": {
      "text/html": [
       "<style>#sk-container-id-3 {color: black;background-color: white;}#sk-container-id-3 pre{padding: 0;}#sk-container-id-3 div.sk-toggleable {background-color: white;}#sk-container-id-3 label.sk-toggleable__label {cursor: pointer;display: block;width: 100%;margin-bottom: 0;padding: 0.3em;box-sizing: border-box;text-align: center;}#sk-container-id-3 label.sk-toggleable__label-arrow:before {content: \"▸\";float: left;margin-right: 0.25em;color: #696969;}#sk-container-id-3 label.sk-toggleable__label-arrow:hover:before {color: black;}#sk-container-id-3 div.sk-estimator:hover label.sk-toggleable__label-arrow:before {color: black;}#sk-container-id-3 div.sk-toggleable__content {max-height: 0;max-width: 0;overflow: hidden;text-align: left;background-color: #f0f8ff;}#sk-container-id-3 div.sk-toggleable__content pre {margin: 0.2em;color: black;border-radius: 0.25em;background-color: #f0f8ff;}#sk-container-id-3 input.sk-toggleable__control:checked~div.sk-toggleable__content {max-height: 200px;max-width: 100%;overflow: auto;}#sk-container-id-3 input.sk-toggleable__control:checked~label.sk-toggleable__label-arrow:before {content: \"▾\";}#sk-container-id-3 div.sk-estimator input.sk-toggleable__control:checked~label.sk-toggleable__label {background-color: #d4ebff;}#sk-container-id-3 div.sk-label input.sk-toggleable__control:checked~label.sk-toggleable__label {background-color: #d4ebff;}#sk-container-id-3 input.sk-hidden--visually {border: 0;clip: rect(1px 1px 1px 1px);clip: rect(1px, 1px, 1px, 1px);height: 1px;margin: -1px;overflow: hidden;padding: 0;position: absolute;width: 1px;}#sk-container-id-3 div.sk-estimator {font-family: monospace;background-color: #f0f8ff;border: 1px dotted black;border-radius: 0.25em;box-sizing: border-box;margin-bottom: 0.5em;}#sk-container-id-3 div.sk-estimator:hover {background-color: #d4ebff;}#sk-container-id-3 div.sk-parallel-item::after {content: \"\";width: 100%;border-bottom: 1px solid gray;flex-grow: 1;}#sk-container-id-3 div.sk-label:hover label.sk-toggleable__label {background-color: #d4ebff;}#sk-container-id-3 div.sk-serial::before {content: \"\";position: absolute;border-left: 1px solid gray;box-sizing: border-box;top: 0;bottom: 0;left: 50%;z-index: 0;}#sk-container-id-3 div.sk-serial {display: flex;flex-direction: column;align-items: center;background-color: white;padding-right: 0.2em;padding-left: 0.2em;position: relative;}#sk-container-id-3 div.sk-item {position: relative;z-index: 1;}#sk-container-id-3 div.sk-parallel {display: flex;align-items: stretch;justify-content: center;background-color: white;position: relative;}#sk-container-id-3 div.sk-item::before, #sk-container-id-3 div.sk-parallel-item::before {content: \"\";position: absolute;border-left: 1px solid gray;box-sizing: border-box;top: 0;bottom: 0;left: 50%;z-index: -1;}#sk-container-id-3 div.sk-parallel-item {display: flex;flex-direction: column;z-index: 1;position: relative;background-color: white;}#sk-container-id-3 div.sk-parallel-item:first-child::after {align-self: flex-end;width: 50%;}#sk-container-id-3 div.sk-parallel-item:last-child::after {align-self: flex-start;width: 50%;}#sk-container-id-3 div.sk-parallel-item:only-child::after {width: 0;}#sk-container-id-3 div.sk-dashed-wrapped {border: 1px dashed gray;margin: 0 0.4em 0.5em 0.4em;box-sizing: border-box;padding-bottom: 0.4em;background-color: white;}#sk-container-id-3 div.sk-label label {font-family: monospace;font-weight: bold;display: inline-block;line-height: 1.2em;}#sk-container-id-3 div.sk-label-container {text-align: center;}#sk-container-id-3 div.sk-container {/* jupyter's `normalize.less` sets `[hidden] { display: none; }` but bootstrap.min.css set `[hidden] { display: none !important; }` so we also need the `!important` here to be able to override the default hidden behavior on the sphinx rendered scikit-learn.org. See: https://github.com/scikit-learn/scikit-learn/issues/21755 */display: inline-block !important;position: relative;}#sk-container-id-3 div.sk-text-repr-fallback {display: none;}</style><div id=\"sk-container-id-3\" class=\"sk-top-container\"><div class=\"sk-text-repr-fallback\"><pre>MultiOutputRegressor(estimator=GradientBoostingRegressor(learning_rate=0.06,\n",
       "                                                         max_depth=6,\n",
       "                                                         max_features=15,\n",
       "                                                         min_samples_leaf=15,\n",
       "                                                         min_samples_split=800,\n",
       "                                                         n_estimators=869,\n",
       "                                                         random_state=42,\n",
       "                                                         subsample=0.85))</pre><b>In a Jupyter environment, please rerun this cell to show the HTML representation or trust the notebook. <br />On GitHub, the HTML representation is unable to render, please try loading this page with nbviewer.org.</b></div><div class=\"sk-container\" hidden><div class=\"sk-item sk-dashed-wrapped\"><div class=\"sk-label-container\"><div class=\"sk-label sk-toggleable\"><input class=\"sk-toggleable__control sk-hidden--visually\" id=\"sk-estimator-id-3\" type=\"checkbox\" ><label for=\"sk-estimator-id-3\" class=\"sk-toggleable__label sk-toggleable__label-arrow\">MultiOutputRegressor</label><div class=\"sk-toggleable__content\"><pre>MultiOutputRegressor(estimator=GradientBoostingRegressor(learning_rate=0.06,\n",
       "                                                         max_depth=6,\n",
       "                                                         max_features=15,\n",
       "                                                         min_samples_leaf=15,\n",
       "                                                         min_samples_split=800,\n",
       "                                                         n_estimators=869,\n",
       "                                                         random_state=42,\n",
       "                                                         subsample=0.85))</pre></div></div></div><div class=\"sk-parallel\"><div class=\"sk-parallel-item\"><div class=\"sk-item\"><div class=\"sk-label-container\"><div class=\"sk-label sk-toggleable\"><input class=\"sk-toggleable__control sk-hidden--visually\" id=\"sk-estimator-id-4\" type=\"checkbox\" ><label for=\"sk-estimator-id-4\" class=\"sk-toggleable__label sk-toggleable__label-arrow\">estimator: GradientBoostingRegressor</label><div class=\"sk-toggleable__content\"><pre>GradientBoostingRegressor(learning_rate=0.06, max_depth=6, max_features=15,\n",
       "                          min_samples_leaf=15, min_samples_split=800,\n",
       "                          n_estimators=869, random_state=42, subsample=0.85)</pre></div></div></div><div class=\"sk-serial\"><div class=\"sk-item\"><div class=\"sk-estimator sk-toggleable\"><input class=\"sk-toggleable__control sk-hidden--visually\" id=\"sk-estimator-id-5\" type=\"checkbox\" ><label for=\"sk-estimator-id-5\" class=\"sk-toggleable__label sk-toggleable__label-arrow\">GradientBoostingRegressor</label><div class=\"sk-toggleable__content\"><pre>GradientBoostingRegressor(learning_rate=0.06, max_depth=6, max_features=15,\n",
       "                          min_samples_leaf=15, min_samples_split=800,\n",
       "                          n_estimators=869, random_state=42, subsample=0.85)</pre></div></div></div></div></div></div></div></div></div></div>"
      ],
      "text/plain": [
       "MultiOutputRegressor(estimator=GradientBoostingRegressor(learning_rate=0.06,\n",
       "                                                         max_depth=6,\n",
       "                                                         max_features=15,\n",
       "                                                         min_samples_leaf=15,\n",
       "                                                         min_samples_split=800,\n",
       "                                                         n_estimators=869,\n",
       "                                                         random_state=42,\n",
       "                                                         subsample=0.85))"
      ]
     },
     "execution_count": 74,
     "metadata": {},
     "output_type": "execute_result"
    }
   ],
   "source": [
    "#fitting model to the training data\n",
    "gbr_opt.fit(X_train,y_train)"
   ]
  },
  {
   "cell_type": "code",
   "execution_count": 75,
   "id": "f91aa346",
   "metadata": {},
   "outputs": [
    {
     "name": "stdout",
     "output_type": "stream",
     "text": [
      "Model Performance\n",
      "Average Error: 2.1966 degrees.\n",
      "Accuracy = 96.85%.\n",
      "R^2 = 0.95%.\n"
     ]
    },
    {
     "data": {
      "text/plain": [
       "96.84579507919167"
      ]
     },
     "execution_count": 75,
     "metadata": {},
     "output_type": "execute_result"
    }
   ],
   "source": [
    "opt_gbr_accuracy = evaluate(gbr_opt, X_train, y_train)\n",
    "opt_gbr_accuracy"
   ]
  },
  {
   "cell_type": "code",
   "execution_count": 538,
   "id": "5ad28078",
   "metadata": {},
   "outputs": [
    {
     "name": "stdout",
     "output_type": "stream",
     "text": [
      "Improvement of 1.50%.\n"
     ]
    }
   ],
   "source": [
    "#display improvement from best random search hyper parameter values to specific hyper parameter values models\n",
    "print('Improvement of {:0.2f}%.'.format( 100 * (opt_gbr_accuracy - base_gbr_accuracy) / base_gbr_accuracy))"
   ]
  },
  {
   "cell_type": "code",
   "execution_count": null,
   "id": "8041c309",
   "metadata": {},
   "outputs": [],
   "source": [
    "#Review all three final models performance"
   ]
  },
  {
   "cell_type": "code",
   "execution_count": 461,
   "id": "1edcae8f",
   "metadata": {},
   "outputs": [
    {
     "name": "stdout",
     "output_type": "stream",
     "text": [
      "Model Performance\n",
      "Average Error: 3.1916 degrees.\n",
      "Accuracy = 95.40%.\n",
      "R^2 = 0.92%.\n"
     ]
    },
    {
     "data": {
      "text/plain": [
       "95.39591191919399"
      ]
     },
     "execution_count": 461,
     "metadata": {},
     "output_type": "execute_result"
    }
   ],
   "source": [
    "#Regression\n",
    "evaluate(reg, X_train,y_train)"
   ]
  },
  {
   "cell_type": "code",
   "execution_count": 462,
   "id": "546909a3",
   "metadata": {},
   "outputs": [
    {
     "name": "stdout",
     "output_type": "stream",
     "text": [
      "Model Performance\n",
      "Average Error: 1.7704 degrees.\n",
      "Accuracy = 97.42%.\n",
      "R^2 = 0.97%.\n"
     ]
    },
    {
     "data": {
      "text/plain": [
       "97.41639573185135"
      ]
     },
     "execution_count": 462,
     "metadata": {},
     "output_type": "execute_result"
    }
   ],
   "source": [
    "#Random Forest\n",
    "evaluate(best_rf, X_train, y_train)"
   ]
  },
  {
   "cell_type": "code",
   "execution_count": 489,
   "id": "1cd366f1",
   "metadata": {},
   "outputs": [
    {
     "name": "stdout",
     "output_type": "stream",
     "text": [
      "Model Performance\n",
      "Average Error: 2.0834 degrees.\n",
      "Accuracy = 97.00%.\n",
      "R^2 = 0.96%.\n"
     ]
    },
    {
     "data": {
      "text/plain": [
       "96.99549632247225"
      ]
     },
     "execution_count": 489,
     "metadata": {},
     "output_type": "execute_result"
    }
   ],
   "source": [
    "#Gradient Boosting\n",
    "evaluate(gbr_opt, X_train, y_train)"
   ]
  },
  {
   "cell_type": "code",
   "execution_count": null,
   "id": "94ba4222",
   "metadata": {},
   "outputs": [],
   "source": [
    "#predict test data outcomes for each model and calculate MSE for each"
   ]
  },
  {
   "cell_type": "code",
   "execution_count": 34,
   "id": "020097e3",
   "metadata": {},
   "outputs": [
    {
     "name": "stdout",
     "output_type": "stream",
     "text": [
      "MSE: 0.70637445747579 \n"
     ]
    }
   ],
   "source": [
    "#Regression\n",
    "reg_pred = reg.predict(X_test)\n",
    "reg_MSE = np.mean((reg_pred - y_test) ** 2)\n",
    "print(\"MSE: %r \" % reg_MSE)"
   ]
  },
  {
   "cell_type": "code",
   "execution_count": 35,
   "id": "1e2205c5",
   "metadata": {},
   "outputs": [
    {
     "name": "stdout",
     "output_type": "stream",
     "text": [
      "MSE: 1.6073913192071085 \n"
     ]
    }
   ],
   "source": [
    "#Random Forest\n",
    "rf_pred = rf.predict(X_test)\n",
    "rf_MSE = np.mean((rf_pred - y_test) ** 2)\n",
    "print(\"MSE: %r \" % rf_MSE)"
   ]
  },
  {
   "cell_type": "code",
   "execution_count": 91,
   "id": "af699cdc",
   "metadata": {},
   "outputs": [
    {
     "name": "stdout",
     "output_type": "stream",
     "text": [
      "MSE: 15.011084400855989 \n"
     ]
    }
   ],
   "source": [
    "#Gradient Boosting\n",
    "gbr_pred = gbr_opt.predict(X_test)\n",
    "gbr_MSE = np.mean((gbr_pred - y_test) ** 2)\n",
    "print(\"MSE: %r \" % gbr_MSE)"
   ]
  },
  {
   "cell_type": "code",
   "execution_count": 92,
   "id": "b29be252",
   "metadata": {},
   "outputs": [],
   "source": [
    "#Combine prediction values by taking weighted mean\n",
    "# with weights being the inverse of the model MSE"
   ]
  },
  {
   "cell_type": "code",
   "execution_count": 93,
   "id": "19b267a3",
   "metadata": {},
   "outputs": [],
   "source": [
    "#create weighted predicitons\n",
    "weighted_pred = ((reg_pred*(1/reg_MSE)) + (rf_pred*(1/rf_MSE)) + (gbr_pred*(1/gbr_MSE))) / ((1/reg_MSE) + (1/rf_MSE) + (1/gbr_MSE))\n",
    "weighted_pred = weighted_pred.round(0)"
   ]
  },
  {
   "cell_type": "code",
   "execution_count": 94,
   "id": "052baf5f",
   "metadata": {},
   "outputs": [
    {
     "name": "stdout",
     "output_type": "stream",
     "text": [
      "MSE: 15.642686261107313 \n"
     ]
    }
   ],
   "source": [
    "#calculate MSE for weighted predicitions\n",
    "weighted_MSE = np.mean((weighted_pred - y_test) ** 2)\n",
    "print(\"MSE: %r \" % weighted_MSE)"
   ]
  },
  {
   "cell_type": "code",
   "execution_count": 158,
   "id": "53e863b4",
   "metadata": {},
   "outputs": [],
   "source": [
    "#Create a function that looks up two user specified schools then calculates their predicted scores if they\n",
    " #played each other\n",
    "\n",
    "def predict_scores(first_team = \"wisconsin\", second_team = 'texas-christian'):\n",
    "    \n",
    "    teams1 = [first_team]\n",
    "    #pull data from school url pages\n",
    "    for name in teams1:\n",
    "\n",
    "\n",
    "        with open(\"College Data/Schools/{}.html\".format(name)) as f:\n",
    "            page2 = f.read()\n",
    "\n",
    "        soup = BeautifulSoup(page2, \"html.parser\")\n",
    "        soup.find('tr', class_=\"over_header\").decompose()\n",
    "        stats_table = soup.find(id=\"div_sgl-basic_NCAAM\")\n",
    "        data = pd.read_html(str(stats_table))[0]\n",
    "\n",
    "        data.drop(data[(data['FG%'] == \"School\") | (data['FG%'] == \"FG%\")].index, inplace=True)\n",
    "        data['Unnamed: 2'] = data['Unnamed: 2'].replace(\"@\",\"A\").fillna(\"H\")\n",
    "        data = data.drop(columns = [\"Unnamed: 23\"]).dropna()\n",
    "        data = data.drop(columns = [\"W/L\",\"G\",\"Date\",\"Unnamed: 2\", \"Opp\"])\n",
    "        \n",
    "\n",
    "        data = data.astype(float)\n",
    "\n",
    "        data['eFG'] = (data['FG'] + (0.5 * data['3P'])) / data['FGA']\n",
    "        data['eFG.1'] = (data[\"FG.1\"] + (0.5 * data['3P.1'])) / data['FGA.1']\n",
    "\n",
    "        data['TOV%'] = (data['TOV'] / (data['FGA'] + (0.44 * data['FTA']) + data['TOV'])) * 100\n",
    "        data['TOV%.1'] = (data['TOV.1'] / (data['FGA.1'] + (0.44 * data['FTA.1']) + data['TOV.1'])) * 100\n",
    "\n",
    "        data['ORB%'] = (data['ORB'])/((data['ORB']) + (data['TRB.1'] - data['ORB.1']))\n",
    "        data['ORB%.1'] = (data['ORB.1'])/((data['ORB.1']) + (data['TRB'] - data['ORB']))\n",
    "\n",
    "        data['FT/FGA'] = data['FT']/data['FGA']\n",
    "        data['FT/FGA.1'] = data['FT.1']/data['FGA.1']\n",
    "\n",
    "        data['DRB%'] = (data['TRB'] - data['ORB'])/((data['TRB'] - data['ORB']) + (data['ORB.1']))\n",
    "        data['DRB%.1'] = (data['TRB'] - data['ORB'])/((data['TRB'] - data['ORB']) + (data['ORB.1']))\n",
    "\n",
    "        data['AST%'] = data['AST'] / data['FG']\n",
    "        data['AST%.1'] = data['AST.1'] / data['FG.1']\n",
    "\n",
    "        data['TS%'] = 0.5 * (data['Tm'])/((data['FGA']) + 0.44 * (data['FTA']))\n",
    "        data['TS%.1'] = 0.5 * (data['Opp.1'])/((data['FGA.1']) + 0.44 * (data['FTA.1']))\n",
    "\n",
    "        data['3PAr'] = data['3PA'] / data['FGA']\n",
    "        data['3PAr.1'] = data['3PA.1'] / data['FGA.1']\n",
    "\n",
    "        data['DRB'] = data['TRB'] - data['ORB']\n",
    "        data['DRB.1'] = data['TRB.1'] - data['ORB.1']\n",
    "\n",
    "\n",
    "        data['POSS'] = (data['FGA'] - data['ORB']) + data['TOV'] + (0.44 * data['FTA'])\n",
    "        data['POSS.1'] = (data['FGA.1'] - data['ORB.1']) + data['TOV.1'] + (0.44 * data['FTA.1'])\n",
    "\n",
    "\n",
    "        data['3PAr'] = data['3PA'] / data['FGA']                           \n",
    "        data['3PAr.1'] = data['3PA.1'] / data['FGA.1']\n",
    "\n",
    "\n",
    "        data['OffRt'] = (data['Tm'] / data['POSS']) * 100\n",
    "        data['OffRt.1'] = (data['Opp.1'] / data['POSS.1']) * 100\n",
    "\n",
    "        data['DefRt'] = (data['Opp.1'] / data['POSS']) * 100\n",
    "        data['DefRt.1'] = (data['Tm'] / data['POSS.1']) * 100\n",
    "        \n",
    "        data = data[data.columns.drop(list(data.filter(regex='.1')))]       \n",
    "\n",
    "    #Creates a data frame with the means for each variable across all the games\n",
    "     #that school has played so far this season\n",
    "        team1 = pd.DataFrame(data)\n",
    "        team1 = team1.astype(float)\\\n",
    "        .mul((np.arange(1, len(team1)+1, 1))/(len(team1)), axis = 0)\\\n",
    "        .sum()\\\n",
    "        .div(sum((np.arange(1, len(team1)+1, 1))/(len(team1))))\\\n",
    "        .to_frame()\\\n",
    "        .T\n",
    "        \n",
    "        team1 = team1.drop(columns = [\"Tm\", \"FG\", \"FGA\", \"3P\", \"3PA\", \"FT\", \"FTA\"])\n",
    "        \n",
    "    teams2 = [second_team]\n",
    "\n",
    "    for name in teams2:\n",
    "\n",
    "\n",
    "        with open(\"College data/Schools/{}.html\".format(name)) as f:\n",
    "            page2 = f.read()\n",
    "\n",
    "        soup = BeautifulSoup(page2, \"html.parser\")\n",
    "        soup.find('tr', class_=\"over_header\").decompose()\n",
    "        stats_table = soup.find(id=\"div_sgl-basic_NCAAM\")\n",
    "        data2 = pd.read_html(str(stats_table))[0]\n",
    "\n",
    "        data2.drop(data2[(data2['FG%'] == \"School\") | (data2['FG%'] == \"FG%\")].index, inplace=True)\n",
    "        data2['Unnamed: 2'] = data2['Unnamed: 2'].replace(\"@\",\"A\").fillna(\"H\")\n",
    "#        data2 = data2[data2.columns.drop(list(data2.filter(regex='.1')))]\n",
    "        data2 = data2.drop(columns = [\"Unnamed: 23\"]).dropna()\n",
    "        data2 = data2.drop(columns = [\"W/L\",\"G\",\"Date\",\"Unnamed: 2\", \"Opp\"])\n",
    "        \n",
    "\n",
    "        data2 = data2.astype(float)\n",
    "\n",
    "        data2['eFG'] = (data2['FG'] + (0.5 * data2['3P'])) / data2['FGA']\n",
    "        data2['eFG.1'] = (data2[\"FG.1\"] + (0.5 * data2['3P.1'])) / data2['FGA.1']\n",
    "\n",
    "        data2['TOV%'] = (data2['TOV'] / (data2['FGA'] + (0.44 * data2['FTA']) + data2['TOV'])) * 100\n",
    "        data2['TOV%.1'] = (data2['TOV.1'] / (data2['FGA.1'] + (0.44 * data2['FTA.1']) + data2['TOV.1'])) * 100\n",
    "\n",
    "        data2['ORB%'] = (data2['ORB'])/((data2['ORB']) + (data2['TRB.1'] - data2['ORB.1']))\n",
    "        data2['ORB%.1'] = (data2['ORB.1'])/((data2['ORB.1']) + (data2['TRB'] - data2['ORB']))\n",
    "\n",
    "        data2['FT/FGA'] = data2['FT']/data2['FGA']\n",
    "        data2['FT/FGA.1'] = data2['FT.1']/data2['FGA.1']\n",
    "\n",
    "        data2['DRB%'] = (data2['TRB'] - data2['ORB'])/((data2['TRB'] - data2['ORB']) + (data2['ORB.1']))\n",
    "        data2['DRB%.1'] = (data2['TRB'] - data2['ORB'])/((data2['TRB'] - data2['ORB']) + (data2['ORB.1']))\n",
    "\n",
    "        data2['AST%'] = data2['AST'] / data2['FG']\n",
    "        data2['AST%.1'] = data2['AST.1'] / data2['FG.1']\n",
    "\n",
    "        data2['TS%'] = 0.5 * (data2['Tm'])/((data2['FGA']) + 0.44 * (data2['FTA']))\n",
    "        data2['TS%.1'] = 0.5 * (data2['Opp.1'])/((data2['FGA.1']) + 0.44 * (data2['FTA.1']))\n",
    "\n",
    "        data2['3PAr'] = data2['3PA'] / data2['FGA']\n",
    "        data2['3PAr.1'] = data2['3PA.1'] / data2['FGA.1']\n",
    "\n",
    "        data2['DRB'] = data2['TRB'] - data2['ORB']\n",
    "        data2['DRB.1'] = data2['TRB.1'] - data2['ORB.1']\n",
    "\n",
    "\n",
    "        data2['POSS'] = (data2['FGA'] - data2['ORB']) + data2['TOV'] + (0.44 * data2['FTA'])\n",
    "        data2['POSS.1'] = (data2['FGA.1'] - data2['ORB.1']) + data2['TOV.1'] + (0.44 * data2['FTA.1'])\n",
    "\n",
    "\n",
    "        data2['3PAr'] = data2['3PA'] / data2['FGA']                           \n",
    "        data2['3PAr.1'] = data2['3PA.1'] / data2['FGA.1']\n",
    "\n",
    "\n",
    "        data2['OffRt'] = (data2['Tm'] / data2['POSS']) * 100\n",
    "        data2['OffRt.1'] = (data2['Opp.1'] / data2['POSS.1']) * 100\n",
    "\n",
    "        data2['DefRt'] = (data2['Opp.1'] / data2['POSS']) * 100\n",
    "        data2['DefRt.1'] = (data2['Tm'] / data2['POSS.1']) * 100\n",
    "        \n",
    "        data2 = data2[data2.columns.drop(list(data2.filter(regex='.1')))]       \n",
    "\n",
    "    #Creates a data2 frame with the means for each variable across all the games\n",
    "     #that school has played so far this season\n",
    "        team2 = pd.DataFrame(data2)\n",
    "        team2 = team2.astype(float)\\\n",
    "        .mul((np.arange(1, len(team2)+1, 1))/(len(team2)), axis = 0)\\\n",
    "        .sum()\\\n",
    "        .div(sum((np.arange(1, len(team2)+1, 1))/(len(team2))))\\\n",
    "        .to_frame()\\\n",
    "        .T\n",
    "        \n",
    "        team2 = team2.drop(columns = [\"Tm\", \"FG\", \"FGA\", \"3P\", \"3PA\", \"FT\", \"FTA\"])\n",
    "        \n",
    "        team2.columns = team2.columns + \".1\"\n",
    "        \n",
    "    #combine school data into a single row\n",
    "    X_team_data = pd.concat([team1,team2], axis = 1)\n",
    "    \n",
    "    X_team_data = X_team_data[X_train.columns.tolist()]\n",
    "    \n",
    "    \n",
    "    #predict scores for each school using all three models\n",
    "    reg_pred = reg.predict(X_team_data)\n",
    "    rf_pred = best_rf.predict(X_team_data)\n",
    "    gbr_pred = gbr.predict(X_team_data)\n",
    "    \n",
    "    #create MSE scores\n",
    "    reg_MSE = np.mean((reg_pred - y_test) ** 2)\n",
    "    rf_MSE = np.mean((rf_pred - y_test) ** 2)\n",
    "    gbr_MSE = np.mean((gbr_pred - y_test) ** 2)\n",
    "    \n",
    "    #weight and combine results for all three models\n",
    "    weighted_pred = ((reg_pred*(1/reg_MSE)) + (rf_pred*(1/rf_MSE)) + (gbr_pred*(1/gbr_MSE))) / ((1/reg_MSE) + (1/rf_MSE) + (1/gbr_MSE))\n",
    "    weighted_pred = weighted_pred.round(0).astype(int)\n",
    "    \n",
    "    #create data frame with column labels for output\n",
    "    result = pd.DataFrame(weighted_pred, columns = [first_team,second_team])\n",
    "    #output results\n",
    "    return(result)\n",
    "    "
   ]
  },
  {
   "cell_type": "code",
   "execution_count": 183,
   "id": "553b20d3",
   "metadata": {},
   "outputs": [
    {
     "data": {
      "text/html": [
       "<div>\n",
       "<style scoped>\n",
       "    .dataframe tbody tr th:only-of-type {\n",
       "        vertical-align: middle;\n",
       "    }\n",
       "\n",
       "    .dataframe tbody tr th {\n",
       "        vertical-align: top;\n",
       "    }\n",
       "\n",
       "    .dataframe thead th {\n",
       "        text-align: right;\n",
       "    }\n",
       "</style>\n",
       "<table border=\"1\" class=\"dataframe\">\n",
       "  <thead>\n",
       "    <tr style=\"text-align: right;\">\n",
       "      <th></th>\n",
       "      <th>kansas</th>\n",
       "      <th>howard</th>\n",
       "    </tr>\n",
       "  </thead>\n",
       "  <tbody>\n",
       "    <tr>\n",
       "      <th>0</th>\n",
       "      <td>72</td>\n",
       "      <td>72</td>\n",
       "    </tr>\n",
       "  </tbody>\n",
       "</table>\n",
       "</div>"
      ],
      "text/plain": [
       "   kansas  howard\n",
       "0      72      72"
      ]
     },
     "execution_count": 183,
     "metadata": {},
     "output_type": "execute_result"
    }
   ],
   "source": [
    "predict_scores(\"kansas\", \"howard\")"
   ]
  },
  {
   "cell_type": "code",
   "execution_count": null,
   "id": "4fc1e060",
   "metadata": {},
   "outputs": [],
   "source": []
  }
 ],
 "metadata": {
  "kernelspec": {
   "display_name": "Python 3 (ipykernel)",
   "language": "python",
   "name": "python3"
  },
  "language_info": {
   "codemirror_mode": {
    "name": "ipython",
    "version": 3
   },
   "file_extension": ".py",
   "mimetype": "text/x-python",
   "name": "python",
   "nbconvert_exporter": "python",
   "pygments_lexer": "ipython3",
   "version": "3.8.8"
  }
 },
 "nbformat": 4,
 "nbformat_minor": 5
}
